{
 "cells": [
  {
   "cell_type": "code",
   "execution_count": 19,
   "metadata": {},
   "outputs": [],
   "source": [
    "import pandas as pd\n",
    "import numpy as np\n",
    "import cv2\n",
    "import math\n",
    "import glob\n",
    "import config\n",
    "import dataset"
   ]
  },
  {
   "cell_type": "code",
   "execution_count": 8,
   "metadata": {},
   "outputs": [],
   "source": [
    "train_image_files = glob.glob(\n",
    "        os.path.join(config.DATA_DIR, \"GCD/train/**/*.jpg\"), recursive=True\n",
    "    )\n",
    "    \n",
    "train_targets = [x.split(\"\\\\\")[-1][0] for x in train_image_files]\n",
    "train_targets = list(map(int, train_targets))  # parse to int\n",
    "train_targets = [i - 1 for i in train_targets]"
   ]
  },
  {
   "cell_type": "code",
   "execution_count": 12,
   "metadata": {},
   "outputs": [
    {
     "data": {
      "text/plain": [
       "10000"
      ]
     },
     "execution_count": 12,
     "metadata": {},
     "output_type": "execute_result"
    }
   ],
   "source": [
    "len(train_targets)"
   ]
  },
  {
   "cell_type": "code",
   "execution_count": 21,
   "metadata": {},
   "outputs": [],
   "source": [
    "def read_image(path):\n",
    "    img = cv2.imread(path)\n",
    "    img = cv2.resize(img, (config.IMAGE_WIDTH, config.IMAGE_HEIGHT))\n",
    "    return np.array(img)"
   ]
  },
  {
   "cell_type": "code",
   "execution_count": 31,
   "metadata": {},
   "outputs": [],
   "source": [
    "bs = 128\n",
    "nb = math.ceil(len(train_targets)/bs)\n",
    "\n",
    "means = []\n",
    "stds = []\n",
    "\n",
    "for i in range(nb):\n",
    "    images = [read_image(path) for path in train_image_files[i:i+bs]]\n",
    "    means.append(np.mean(images))\n",
    "    stds.append(np.std(images))"
   ]
  },
  {
   "cell_type": "code",
   "execution_count": 39,
   "metadata": {},
   "outputs": [
    {
     "data": {
      "text/plain": [
       "(155.56729979806812, 70.59825960721501)"
      ]
     },
     "execution_count": 39,
     "metadata": {},
     "output_type": "execute_result"
    }
   ],
   "source": [
    "np.mean(means), np.mean(stds)"
   ]
  },
  {
   "cell_type": "code",
   "execution_count": 40,
   "metadata": {},
   "outputs": [
    {
     "data": {
      "text/plain": [
       "array([[[ 0.30358681, -0.58878647, -1.41033646],\n",
       "        [ 0.31775146, -0.57462181, -1.39617181],\n",
       "        [ 0.33191612, -0.56045716, -1.38200715],\n",
       "        ...,\n",
       "        [ 1.04014887,  0.17610491, -0.53212785],\n",
       "        [ 1.04014887,  0.17610491, -0.53212785],\n",
       "        [ 1.04014887,  0.17610491, -0.53212785]],\n",
       "\n",
       "       [[ 0.30358681, -0.58878647, -1.41033646],\n",
       "        [ 0.31775146, -0.57462181, -1.39617181],\n",
       "        [ 0.33191612, -0.56045716, -1.38200715],\n",
       "        ...,\n",
       "        [ 1.04014887,  0.17610491, -0.53212785],\n",
       "        [ 1.04014887,  0.17610491, -0.53212785],\n",
       "        [ 1.04014887,  0.17610491, -0.53212785]],\n",
       "\n",
       "       [[ 0.30358681, -0.58878647, -1.41033646],\n",
       "        [ 0.31775146, -0.57462181, -1.39617181],\n",
       "        [ 0.33191612, -0.56045716, -1.38200715],\n",
       "        ...,\n",
       "        [ 1.02598422,  0.16194026, -0.5462925 ],\n",
       "        [ 1.02598422,  0.16194026, -0.5462925 ],\n",
       "        [ 1.02598422,  0.16194026, -0.5462925 ]],\n",
       "\n",
       "       ...,\n",
       "\n",
       "       [[ 0.36024543, -0.51796319, -1.3678425 ],\n",
       "        [ 0.36024543, -0.51796319, -1.3678425 ],\n",
       "        [ 0.36024543, -0.51796319, -1.3678425 ],\n",
       "        ...,\n",
       "        [ 0.79934974, -0.06469423, -0.77292698],\n",
       "        [ 0.79934974, -0.06469423, -0.77292698],\n",
       "        [ 0.79934974, -0.06469423, -0.77292698]],\n",
       "\n",
       "       [[ 0.36024543, -0.51796319, -1.3678425 ],\n",
       "        [ 0.36024543, -0.51796319, -1.3678425 ],\n",
       "        [ 0.36024543, -0.51796319, -1.3678425 ],\n",
       "        ...,\n",
       "        [ 0.78518508, -0.07885888, -0.78709164],\n",
       "        [ 0.78518508, -0.07885888, -0.78709164],\n",
       "        [ 0.78518508, -0.07885888, -0.78709164]],\n",
       "\n",
       "       [[ 0.36024543, -0.51796319, -1.3678425 ],\n",
       "        [ 0.36024543, -0.51796319, -1.3678425 ],\n",
       "        [ 0.36024543, -0.51796319, -1.3678425 ],\n",
       "        ...,\n",
       "        [ 0.77102043, -0.09302354, -0.80125629],\n",
       "        [ 0.77102043, -0.09302354, -0.80125629],\n",
       "        [ 0.77102043, -0.09302354, -0.80125629]]])"
      ]
     },
     "execution_count": 40,
     "metadata": {},
     "output_type": "execute_result"
    }
   ],
   "source": [
    "(images[0] - np.mean(means))/np.mean(stds)"
   ]
  }
 ],
 "metadata": {
  "interpreter": {
   "hash": "b3ba2566441a7c06988d0923437866b63cedc61552a5af99d1f4fb67d367b25f"
  },
  "kernelspec": {
   "display_name": "Python 3.8.8 64-bit ('base': conda)",
   "language": "python",
   "name": "python3"
  },
  "language_info": {
   "codemirror_mode": {
    "name": "ipython",
    "version": 3
   },
   "file_extension": ".py",
   "mimetype": "text/x-python",
   "name": "python",
   "nbconvert_exporter": "python",
   "pygments_lexer": "ipython3",
   "version": "3.8.8"
  },
  "orig_nbformat": 4
 },
 "nbformat": 4,
 "nbformat_minor": 2
}
