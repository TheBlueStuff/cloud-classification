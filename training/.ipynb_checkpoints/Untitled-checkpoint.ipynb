{
 "cells": [
  {
   "cell_type": "code",
   "execution_count": 1,
   "id": "4f15fd41-3566-4291-bdfb-5b71f5b62d5a",
   "metadata": {},
   "outputs": [],
   "source": [
    "from metadata import *\n",
    "from models import *"
   ]
  },
  {
   "cell_type": "code",
   "execution_count": 3,
   "id": "217665c9-5d4c-409e-a49d-263b66bc0851",
   "metadata": {},
   "outputs": [],
   "source": [
    "import cv2"
   ]
  },
  {
   "cell_type": "code",
   "execution_count": 12,
   "id": "b3565757-ef1d-40f6-8beb-321a9d7631f4",
   "metadata": {},
   "outputs": [],
   "source": [
    "import torch.nn.functional as F"
   ]
  },
  {
   "cell_type": "code",
   "execution_count": 2,
   "id": "346b9580-bd0f-405a-8773-c14aa98e82de",
   "metadata": {},
   "outputs": [
    {
     "name": "stderr",
     "output_type": "stream",
     "text": [
      "Using cache found in C:\\Users\\mario/.cache\\torch\\hub\\pytorch_vision_v0.10.0\n"
     ]
    }
   ],
   "source": [
    "model = CNN()"
   ]
  },
  {
   "cell_type": "code",
   "execution_count": 5,
   "id": "6da60bf0-1cfa-4921-b358-3157b8cf3965",
   "metadata": {},
   "outputs": [],
   "source": [
    "image = cv2.imread(\"image.jpg\")\n",
    "image = cv2.cvtColor(image, cv2.COLOR_BGR2RGB)"
   ]
  },
  {
   "cell_type": "code",
   "execution_count": 6,
   "id": "8045c3c4-bc28-4538-a036-41003bfec1af",
   "metadata": {},
   "outputs": [],
   "source": [
    "img = model.transform(image=image)['image']"
   ]
  },
  {
   "cell_type": "code",
   "execution_count": 8,
   "id": "db218f3c-9a93-411f-bb1e-3f8906874cb4",
   "metadata": {},
   "outputs": [],
   "source": [
    "img = img.unsqueeze(0)"
   ]
  },
  {
   "cell_type": "code",
   "execution_count": 9,
   "id": "62a52621-45c8-4ae8-ac42-a96963a8e142",
   "metadata": {},
   "outputs": [],
   "source": [
    "outputs =  model.model(img)"
   ]
  },
  {
   "cell_type": "code",
   "execution_count": 23,
   "id": "75f42384-d35b-405f-9f63-804caed3a483",
   "metadata": {},
   "outputs": [],
   "source": [
    "probs = F.softmax(outputs, dim=1)"
   ]
  },
  {
   "cell_type": "code",
   "execution_count": 24,
   "id": "58d0f92c-1a73-4d14-9a4d-6e8ed626d7e9",
   "metadata": {},
   "outputs": [
    {
     "data": {
      "text/plain": [
       "tensor([[0.1142, 0.0721, 0.1533, 0.0341, 0.0064, 0.0151, 0.1578, 0.0879, 0.2595,\n",
       "         0.0996]], grad_fn=<SoftmaxBackward0>)"
      ]
     },
     "execution_count": 24,
     "metadata": {},
     "output_type": "execute_result"
    }
   ],
   "source": [
    "probs"
   ]
  },
  {
   "cell_type": "code",
   "execution_count": 25,
   "id": "b15f7b61-c292-4576-99ee-1169f95236a6",
   "metadata": {},
   "outputs": [],
   "source": [
    "cloud_type = torch.topk(probs, 1)[1].int()[0]"
   ]
  },
  {
   "cell_type": "code",
   "execution_count": 26,
   "id": "2f750ea8-10d8-472b-92b3-16c28e360bd5",
   "metadata": {},
   "outputs": [
    {
     "data": {
      "text/plain": [
       "8"
      ]
     },
     "execution_count": 26,
     "metadata": {},
     "output_type": "execute_result"
    }
   ],
   "source": [
    "cloud_type.item()"
   ]
  },
  {
   "cell_type": "code",
   "execution_count": 35,
   "id": "3a3fbcaa-22ec-4671-8725-e46e6638c166",
   "metadata": {},
   "outputs": [],
   "source": [
    "img = model.transform(image=image)['image']\n",
    "img = img.unsqueeze(0)\n",
    "cloud_type = 0\n",
    "with torch.no_grad():\n",
    "    outputs = model.model(img)\n",
    "    probs = F.softmax(outputs, dim=1)\n",
    "    cloud_type = torch.topk(probs, 1)[1].int().item()"
   ]
  },
  {
   "cell_type": "code",
   "execution_count": 36,
   "id": "39fdb131-03aa-4a36-a791-b4c6d096ac83",
   "metadata": {},
   "outputs": [
    {
     "data": {
      "text/plain": [
       "8"
      ]
     },
     "execution_count": 36,
     "metadata": {},
     "output_type": "execute_result"
    }
   ],
   "source": [
    "cloud_type"
   ]
  }
 ],
 "metadata": {
  "kernelspec": {
   "display_name": "Python 3 (ipykernel)",
   "language": "python",
   "name": "python3"
  },
  "language_info": {
   "codemirror_mode": {
    "name": "ipython",
    "version": 3
   },
   "file_extension": ".py",
   "mimetype": "text/x-python",
   "name": "python",
   "nbconvert_exporter": "python",
   "pygments_lexer": "ipython3",
   "version": "3.9.12"
  }
 },
 "nbformat": 4,
 "nbformat_minor": 5
}
