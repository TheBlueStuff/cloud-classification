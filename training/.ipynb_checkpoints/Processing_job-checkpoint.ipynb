{
 "cells": [
  {
   "cell_type": "code",
   "execution_count": 11,
   "id": "3738c24f-06b7-4864-8587-e60323c6718c",
   "metadata": {},
   "outputs": [],
   "source": [
    "import boto3\n",
    "import sagemaker\n",
    "from sagemaker import get_execution_role\n",
    "from sagemaker.sklearn.processing import SKLearnProcessor\n",
    "\n",
    "region = sagemaker.Session().boto_region_name\n",
    "role = 'arn:aws:iam::847417483336:role/service-role/AmazonSageMaker-ExecutionRole-20220308T133766'\n",
    "sklearn_processor = SKLearnProcessor(\n",
    "    framework_version=\"1.0-1\", role=role, instance_type=\"ml.m5.xlarge\", instance_count=1\n",
    ")"
   ]
  },
  {
   "cell_type": "code",
   "execution_count": 13,
   "id": "109db63e-770f-4002-abfa-a53a003fd103",
   "metadata": {},
   "outputs": [],
   "source": [
    "from sagemaker.processing import ProcessingInput\n",
    "\n",
    "inputs = []\n",
    "\n",
    "inputs.append(ProcessingInput(\n",
    "    input_name='data',\n",
    "    source='s3://cloud-database/CAS/', # Ruta en S3\n",
    "    destination='/opt/ml/processing/input/data', # Ruta en la instancia\n",
    "))\n",
    "\n",
    "inputs.append(ProcessingInput(\n",
    "    input_name='requirements',\n",
    "    source='./requirements.txt', # Ruta en S3\n",
    "    destination='/opt/ml/processing/input/requirements', # Ruta en la instancia\n",
    "))\n"
   ]
  },
  {
   "cell_type": "code",
   "execution_count": null,
   "id": "d3a80431-7b77-4a3c-a951-b98b71b4c7c2",
   "metadata": {},
   "outputs": [],
   "source": [
    "code = './train.py'\n",
    "\n",
    "sklearn_processor.run(code=code,\n",
    "              inputs=inputs)"
   ]
  }
 ],
 "metadata": {
  "kernelspec": {
   "display_name": "Python 3 (ipykernel)",
   "language": "python",
   "name": "python3"
  },
  "language_info": {
   "codemirror_mode": {
    "name": "ipython",
    "version": 3
   },
   "file_extension": ".py",
   "mimetype": "text/x-python",
   "name": "python",
   "nbconvert_exporter": "python",
   "pygments_lexer": "ipython3",
   "version": "3.9.12"
  }
 },
 "nbformat": 4,
 "nbformat_minor": 5
}
