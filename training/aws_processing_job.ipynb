{
 "cells": [
  {
   "cell_type": "code",
   "execution_count": 24,
   "id": "3738c24f-06b7-4864-8587-e60323c6718c",
   "metadata": {},
   "outputs": [],
   "source": [
    "import boto3\n",
    "import sagemaker\n",
    "from sagemaker import get_execution_role\n",
    "from sagemaker.sklearn.processing import SKLearnProcessor\n",
    "from sagemaker.processing import ScriptProcessor\n",
    "\n",
    "region = sagemaker.Session().boto_region_name\n",
    "role = 'arn:aws:iam::847417483336:role/service-role/AmazonSageMaker-ExecutionRole-20220308T133766'\n",
    "processor = SKLearnProcessor(\n",
    "    framework_version=\"1.0-1\", role=role, instance_type=\"ml.m5.xlarge\", instance_count=1\n",
    ")\n",
    "image_uri = \"763104351884.dkr.ecr.us-east-1.amazonaws.com/pytorch-training:1.12.1-gpu-py38-cu113-ubuntu20.04-sagemaker\"\n",
    "processor = ScriptProcessor(command=['python3'],\n",
    "                            role=role,\n",
    "                            instance_count=1,\n",
    "                            instance_type=\"ml.m5.xlarge\",\n",
    "                            volume_size_in_gb=30,\n",
    "                            image_uri=image_uri)"
   ]
  },
  {
   "cell_type": "code",
   "execution_count": 25,
   "id": "109db63e-770f-4002-abfa-a53a003fd103",
   "metadata": {},
   "outputs": [],
   "source": [
    "from sagemaker.processing import ProcessingInput\n",
    "\n",
    "inputs = []\n",
    "\n",
    "inputs.append(ProcessingInput(\n",
    "    input_name='data',\n",
    "    source='s3://cloud-database/CAS/', # Ruta en S3\n",
    "    destination='/opt/ml/processing/input/data', # Ruta en la instancia\n",
    "))\n",
    "\n",
    "inputs.append(ProcessingInput(\n",
    "    input_name='requirements',\n",
    "    source='./requirements_aws.txt', # Ruta en S3\n",
    "    destination='/opt/ml/processing/input/requirements', # Ruta en la instancia\n",
    "))\n"
   ]
  },
  {
   "cell_type": "code",
   "execution_count": null,
   "id": "d3a80431-7b77-4a3c-a951-b98b71b4c7c2",
   "metadata": {},
   "outputs": [
    {
     "name": "stdout",
     "output_type": "stream",
     "text": [
      "\n",
      "Job Name:  pytorch-training-2022-10-27-16-49-22-064\n",
      "Inputs:  [{'InputName': 'data', 'AppManaged': False, 'S3Input': {'S3Uri': 's3://cloud-database/CAS/', 'LocalPath': '/opt/ml/processing/input/data', 'S3DataType': 'S3Prefix', 'S3InputMode': 'File', 'S3DataDistributionType': 'FullyReplicated', 'S3CompressionType': 'None'}}, {'InputName': 'requirements', 'AppManaged': False, 'S3Input': {'S3Uri': 's3://sagemaker-us-east-1-847417483336/pytorch-training-2022-10-27-16-49-22-064/input/requirements/requirements_aws.txt', 'LocalPath': '/opt/ml/processing/input/requirements', 'S3DataType': 'S3Prefix', 'S3InputMode': 'File', 'S3DataDistributionType': 'FullyReplicated', 'S3CompressionType': 'None'}}, {'InputName': 'code', 'AppManaged': False, 'S3Input': {'S3Uri': 's3://sagemaker-us-east-1-847417483336/pytorch-training-2022-10-27-16-49-22-064/input/code/train_aws.py', 'LocalPath': '/opt/ml/processing/input/code', 'S3DataType': 'S3Prefix', 'S3InputMode': 'File', 'S3DataDistributionType': 'FullyReplicated', 'S3CompressionType': 'None'}}]\n",
      "Outputs:  []\n",
      "............................."
     ]
    }
   ],
   "source": [
    "code = './train_aws.py'\n",
    "arguments = ['--batch_size','16','--learning_rate','0.0001','optimizer','NAdam','--epochs','1','--print_epochs','1','--early_stopping','True']\n",
    "processor.run(code=code,\n",
    "              inputs=inputs,\n",
    "              arguments=arguments)"
   ]
  }
 ],
 "metadata": {
  "kernelspec": {
   "display_name": "Python 3 (ipykernel)",
   "language": "python",
   "name": "python3"
  },
  "language_info": {
   "codemirror_mode": {
    "name": "ipython",
    "version": 3
   },
   "file_extension": ".py",
   "mimetype": "text/x-python",
   "name": "python",
   "nbconvert_exporter": "python",
   "pygments_lexer": "ipython3",
   "version": "3.9.12"
  }
 },
 "nbformat": 4,
 "nbformat_minor": 5
}
