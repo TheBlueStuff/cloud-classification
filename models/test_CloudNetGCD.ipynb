{
 "cells": [
  {
   "cell_type": "code",
   "execution_count": 13,
   "id": "f2d2f0de-559d-45ee-aefa-bf2cb73ac832",
   "metadata": {},
   "outputs": [],
   "source": [
    "import torch\n",
    "import torch.nn as nn\n",
    "import torch.nn.functional as F\n",
    "import torchvision\n",
    "import torchvision.transforms as transforms\n",
    "import matplotlib.pyplot as plt\n",
    "import numpy as np\n",
    "from torch.utils.data import Dataset, DataLoader\n",
    "from sklearn.preprocessing import LabelBinarizer\n",
    "from torchvision.io import read_image\n",
    "import os\n",
    "import glob\n",
    "import random\n",
    "from torch.utils.tensorboard import SummaryWriter\n",
    "import pandas as pd\n",
    "import seaborn as sn"
   ]
  },
  {
   "cell_type": "code",
   "execution_count": 14,
   "id": "d67ca309-4596-4e89-970b-a97be6eb55fa",
   "metadata": {},
   "outputs": [],
   "source": [
    "device = torch.device('cuda:1' if torch.cuda.is_available() else 'cpu')"
   ]
  },
  {
   "cell_type": "code",
   "execution_count": 15,
   "id": "87a9016b-ff26-4fbf-a787-c786e5ee9471",
   "metadata": {},
   "outputs": [],
   "source": [
    "\"\"\" Convolutional neural network model \"\"\"\n",
    "class CloudNet(nn.Module):\n",
    "    def __init__(self):\n",
    "        super(CloudNet, self).__init__()\n",
    "        self.pool = nn.MaxPool2d(3, stride=2)\n",
    "        self.conv1 = nn.Conv2d(3, 96, 11, stride=4, bias=False)\n",
    "        self.b1 = nn.BatchNorm2d(96)\n",
    "        self.conv2 = nn.Conv2d(96, 256, 5, padding=2, bias=False)\n",
    "        self.b2 = nn.BatchNorm2d(256)\n",
    "        self.conv3 = nn.Conv2d(256, 384, 3, padding=1, bias=False)\n",
    "        self.b3 = nn.BatchNorm2d(384)\n",
    "        self.conv4 = nn.Conv2d(384, 256, 3, padding=1, bias=False)\n",
    "        self.b4 = nn.BatchNorm2d(256)\n",
    "        self.fc1 = nn.Linear(256 * 6 * 6, 9216)\n",
    "        self.fc2 = nn.Linear(9216, 4096)\n",
    "        self.fc3 = nn.Linear(4096, 7)\n",
    "        self.dropout = nn.Dropout(0.5)\n",
    "        \n",
    "    def forward(self, x):\n",
    "        x = self.pool(F.relu(self.b1(self.conv1(x))))\n",
    "        x = self.pool(F.relu(self.b2(self.conv2(x))))\n",
    "        x = F.relu(self.b3(self.conv3(x)))\n",
    "        x = self.pool(F.relu(self.b4(self.conv4(x))))\n",
    "        x = x.view(-1, 256 * 6 * 6)\n",
    "        x = self.dropout(F.relu(self.fc1(x)))\n",
    "        x = self.dropout(F.relu(self.fc2(x)))\n",
    "        x = self.fc3(x)\n",
    "        return x"
   ]
  },
  {
   "cell_type": "code",
   "execution_count": 16,
   "id": "f0fab974-18a4-46e1-aebe-da5e17b4be0f",
   "metadata": {},
   "outputs": [
    {
     "data": {
      "text/plain": [
       "CloudNet(\n",
       "  (pool): MaxPool2d(kernel_size=3, stride=2, padding=0, dilation=1, ceil_mode=False)\n",
       "  (conv1): Conv2d(3, 96, kernel_size=(11, 11), stride=(4, 4), bias=False)\n",
       "  (b1): BatchNorm2d(96, eps=1e-05, momentum=0.1, affine=True, track_running_stats=True)\n",
       "  (conv2): Conv2d(96, 256, kernel_size=(5, 5), stride=(1, 1), padding=(2, 2), bias=False)\n",
       "  (b2): BatchNorm2d(256, eps=1e-05, momentum=0.1, affine=True, track_running_stats=True)\n",
       "  (conv3): Conv2d(256, 384, kernel_size=(3, 3), stride=(1, 1), padding=(1, 1), bias=False)\n",
       "  (b3): BatchNorm2d(384, eps=1e-05, momentum=0.1, affine=True, track_running_stats=True)\n",
       "  (conv4): Conv2d(384, 256, kernel_size=(3, 3), stride=(1, 1), padding=(1, 1), bias=False)\n",
       "  (b4): BatchNorm2d(256, eps=1e-05, momentum=0.1, affine=True, track_running_stats=True)\n",
       "  (fc1): Linear(in_features=9216, out_features=9216, bias=True)\n",
       "  (fc2): Linear(in_features=9216, out_features=4096, bias=True)\n",
       "  (fc3): Linear(in_features=4096, out_features=7, bias=True)\n",
       "  (dropout): Dropout(p=0.5, inplace=False)\n",
       ")"
      ]
     },
     "execution_count": 16,
     "metadata": {},
     "output_type": "execute_result"
    }
   ],
   "source": [
    "model = CloudNet().to(device)\n",
    "model.load_state_dict(torch.load('./cloudNetGCD.pth'))\n",
    "model.eval()"
   ]
  },
  {
   "cell_type": "code",
   "execution_count": 17,
   "id": "b68eb607-de32-4941-8464-cbe9eb9e1435",
   "metadata": {},
   "outputs": [],
   "source": [
    "class GCD(Dataset):\n",
    "    \"\"\"GCD Dataset.\"\"\"\n",
    "    def __init__(self, transform=None, image_size=227, modo='', test_size=12, random_crop=False, random_flip=False):\n",
    "        classes = [(0, 'cumulus'),\n",
    "                  (1, 'altocumulus'),\n",
    "                  (2, 'cirrus'),\n",
    "                  (3, 'clearsky'),\n",
    "                  (4, 'stratocumulus'),\n",
    "                  (5, 'cumulonimbus'),\n",
    "                  (6, 'mixed')\n",
    "                  ] \n",
    "        image_paths = ['/data/mandonaire/GCD/{}/1_cumulus',\n",
    "                      '/data/mandonaire/GCD/{}/2_altocumulus',\n",
    "                      '/data/mandonaire/GCD/{}/3_cirrus',\n",
    "                      '/data/mandonaire/GCD/{}/4_clearsky',\n",
    "                      '/data/mandonaire/GCD/{}/5_stratocumulus',\n",
    "                      '/data/mandonaire/GCD/{}/6_cumulonimbus',\n",
    "                      '/data/mandonaire/GCD/{}/7_mixed'\n",
    "                      ]\n",
    "        \n",
    "        # Create one-hot label encoding\n",
    "        # self.label_binarizer = LabelBinarizer().fit(classes)\n",
    "        self.image_paths = image_paths\n",
    "        self.classes = classes\n",
    "        self.transform = transform\n",
    "        self.images = []\n",
    "        self.labels = []\n",
    "        self.n_labels = []\n",
    "        self.aug_images = []\n",
    "        self.aug_labels = []\n",
    "        self.aug_n_labels = []\n",
    "        self.mean_r = 0\n",
    "        self.mean_g = 0\n",
    "        self.mean_b = 0\n",
    "        self.image_size = image_size\n",
    "        self.random_crop = random_crop\n",
    "        self.random_flip = random_flip\n",
    "        \n",
    "        if modo == 'train':\n",
    "            transform = transform = transforms.Compose([\n",
    "                transforms.ToPILImage(),\n",
    "                transforms.Resize(image_size),\n",
    "                transforms.ToTensor(),\n",
    "                ]\n",
    "            )\n",
    "            for (n_label, label), path in zip(classes, image_paths):\n",
    "                for file in glob.glob(os.path.join(path.format(modo), '*')):\n",
    "                    self.labels.append(label)\n",
    "                    self.n_labels.append(n_label)\n",
    "                    image = read_image(file)\n",
    "                    if random_crop or random_flip:\n",
    "                        new_image = self.augment_img(image)\n",
    "                        self.aug_images.append(new_image)\n",
    "                        self.aug_labels.append(label)\n",
    "                        self.aug_n_labels.append(n_label)\n",
    "                    image = transform(image)\n",
    "                    self.images.append(image)\n",
    "            self.images = torch.stack(self.images)\n",
    "            # self.mean_r, self.mean_g, self.mean_b = torch.mean(self.images[:, 0, :, :] * 1.0), torch.mean(self.images[:, 1, :, :] * 1.0), torch.mean(self.images[:, 2, :, :] * 1.0)\n",
    "            # self.images[:, 0, :, :] = self.images[:, 0, :, :] - self.mean_r\n",
    "            # self.images[:, 1, :, :] = self.images[:, 1, :, :] - self.mean_g\n",
    "            # self.images[:, 2, :, :] = self.images[:, 2, :, :] - self.mean_g\n",
    "            # self.std_r, self.std_g, self.std_b = torch.std(self.images[:, 0, :, :] * 1.0), torch.std(self.images[:, 1, :, :] * 1.0), torch.std(self.images[:, 2, :, :] * 1.0)\n",
    "            # self.images[:, 0, :, :] = self.images[:, 0, :, :] / self.std_r\n",
    "            # self.images[:, 1, :, :] = self.images[:, 1, :, :] / self.std_g\n",
    "            # self.images[:, 2, :, :] = self.images[:, 2, :, :] / self.std_b\n",
    "            \n",
    "            if random_crop or random_flip:\n",
    "                self.labels = self.labels + self.aug_labels\n",
    "                self.n_labels = self.n_labels + self.aug_n_labels\n",
    "                self.aug_images = torch.stack(self.aug_images)\n",
    "                # self.aug_images[:, 0, :, :] = self.aug_images[:, 0, :, :] - self.mean_r\n",
    "                # self.aug_images[:, 1, :, :] = self.aug_images[:, 1, :, :] - self.mean_g\n",
    "                # self.aug_images[:, 2, :, :] = self.aug_images[:, 2, :, :] - self.mean_g\n",
    "                # self.aug_images[:, 0, :, :] = self.aug_images[:, 0, :, :] / self.std_r\n",
    "                # self.aug_images[:, 1, :, :] = self.aug_images[:, 1, :, :] / self.std_g\n",
    "                # self.aug_images[:, 2, :, :] = self.aug_images[:, 2, :, :] / self.std_b\n",
    "                self.images = torch.cat([self.images, self.aug_images])\n",
    "        elif modo == 'test':\n",
    "            for (n_label, label), path in zip(classes, image_paths):\n",
    "                for file in glob.glob(os.path.join(path.format(modo), '*')):\n",
    "                    self.labels.append(label)\n",
    "                    self.n_labels.append(n_label)\n",
    "                    image = read_image(file)\n",
    "                    self.images.append(image)\n",
    "                        \n",
    "            self.images = torch.stack(self.images)\n",
    "        \n",
    "    def get_mean(self):\n",
    "        return [self.mean_r, self.mean_g, self.mean_b]\n",
    "    \n",
    "    def get_std(self):\n",
    "        return [self.std_r, self.std_g, self.std_b]\n",
    "    \n",
    "    def __len__(self):\n",
    "        return len(self.images)\n",
    "    \n",
    "    def __getitem__(self, idx):\n",
    "        image = self.images[idx]\n",
    "        label = self.n_labels[idx]\n",
    "        if self.transform:\n",
    "            image = self.transform(image)\n",
    "        return image, label\n",
    "    \n",
    "    def augment_img(self, image):\n",
    "        if self.random_crop and self.random_flip:\n",
    "            transform = transforms.Compose([transforms.ToPILImage(),\n",
    "                                            transforms.Resize(self.image_size),\n",
    "                                            transforms.RandomHorizontalFlip(p=0.5),\n",
    "                                            transforms.RandomResizedCrop(size=(self.image_size, self.image_size), scale=(0.3, 0.65)),\n",
    "                                            transforms.ToTensor()\n",
    "                                           ])\n",
    "        elif self.random_crop and not self.random_flip:\n",
    "            transform = transforms.Compose([transforms.ToPILImage(),\n",
    "                                            transforms.Resize(self.image_size),\n",
    "                                            transforms.RandomResizedCrop(size=(self.image_size, self.image_size), scale=(0.3, 0.65)),\n",
    "                                            transforms.ToTensor()\n",
    "                                           ])\n",
    "        elif not self.random_crop and self.random_flip:\n",
    "            transform = transforms.Compose([transforms.ToPILImage(),\n",
    "                                            transforms.Resize(self.image_size),\n",
    "                                            transforms.RandomHorizontalFlip(p=0.5),\n",
    "                                            transforms.ToTensor()\n",
    "                                           ])\n",
    "        new_image = transform(image)\n",
    "        return new_image\n",
    "        "
   ]
  },
  {
   "cell_type": "code",
   "execution_count": 18,
   "id": "2a0412bb-db98-4a19-b4eb-5917165ce07f",
   "metadata": {},
   "outputs": [],
   "source": [
    "image_size = 227\n",
    "transform_test = transforms.Compose([\n",
    "    transforms.ToPILImage(),\n",
    "    transforms.Resize(image_size),\n",
    "    transforms.ToTensor(),\n",
    "     # transforms.Normalize(\n",
    "     #     mean = train_data.get_mean(),\n",
    "     #     std = train_data.get_std())\n",
    "    ]\n",
    ")\n",
    "test_data = GCD(transform=transform_test, modo='test')"
   ]
  },
  {
   "cell_type": "code",
   "execution_count": 19,
   "id": "f91d4fef-13ed-47ec-88ac-3cc854aa22b5",
   "metadata": {},
   "outputs": [
    {
     "data": {
      "text/plain": [
       "9000"
      ]
     },
     "execution_count": 19,
     "metadata": {},
     "output_type": "execute_result"
    }
   ],
   "source": [
    "batch_size_train = 32\n",
    "batch_size_test = 12\n",
    "len(test_data)"
   ]
  },
  {
   "cell_type": "code",
   "execution_count": 20,
   "id": "8b6b2691-125e-48d1-a079-8301fad8b588",
   "metadata": {},
   "outputs": [],
   "source": [
    "test_loader = DataLoader(test_data, batch_size=batch_size_test, shuffle=True)"
   ]
  },
  {
   "cell_type": "code",
   "execution_count": 21,
   "id": "401bf798-4bd1-4e9f-9bb6-d4132f22e0c3",
   "metadata": {},
   "outputs": [
    {
     "name": "stdout",
     "output_type": "stream",
     "text": [
      "Accuracy of the network: 69.93333333333334 %\n",
      "Accuracy of (0, 'cumulus'): 56.0 %\n",
      "Accuracy of (1, 'altocumulus'): 35.46666666666667 %\n",
      "Accuracy of (2, 'cirrus'): 68.65869853917663 %\n",
      "Accuracy of (3, 'clearsky'): 97.54562617998741 %\n",
      "Accuracy of (4, 'stratocumulus'): 59.497206703910614 %\n",
      "Accuracy of (5, 'cumulonimbus'): 84.89677653024266 %\n",
      "Accuracy of (6, 'mixed'): 21.746293245469523 %\n"
     ]
    }
   ],
   "source": [
    "classes = test_data.classes\n",
    "matrix = np.zeros((len(classes), len(classes)))\n",
    "with torch.no_grad():\n",
    "    n_correct = 0\n",
    "    n_samples = 0\n",
    "    n_class_correct = [0 for i in range(len(classes))]\n",
    "    n_class_samples = [0 for i in range(len(classes))]\n",
    "    for images, labels in test_loader:\n",
    "        images = images.to(device)\n",
    "        labels = labels.to(device)\n",
    "        outputs = model(images)\n",
    "        # max returns (value ,index)\n",
    "        _, predicted = torch.max(outputs, 1)\n",
    "        n_samples += labels.size(0)\n",
    "        n_correct += (predicted == labels).sum().item()\n",
    "        \n",
    "        for i in range(batch_size_test):\n",
    "            label = labels[i]\n",
    "            pred = predicted[i]\n",
    "            matrix[label][pred] += 1\n",
    "            if (label == pred):\n",
    "                n_class_correct[label] += 1\n",
    "            n_class_samples[label] += 1\n",
    "\n",
    "    acc = 100.0 * n_correct / n_samples\n",
    "    print(f'Accuracy of the network: {acc} %')\n",
    "\n",
    "    for i in range(len(classes)):\n",
    "        acc = 100.0 * n_class_correct[i] / n_class_samples[i]\n",
    "        matrix[i] = matrix[i] / n_class_samples[i]\n",
    "        print(f'Accuracy of {classes[i]}: {acc} %')"
   ]
  },
  {
   "cell_type": "code",
   "execution_count": 22,
   "id": "4e223369-25b5-414a-a951-d65c77a350be",
   "metadata": {},
   "outputs": [
    {
     "data": {
      "text/plain": [
       "<AxesSubplot:>"
      ]
     },
     "execution_count": 22,
     "metadata": {},
     "output_type": "execute_result"
    },
    {
     "data": {
      "image/png": "[encoded data removed]",
      "text/plain": [
       "<Figure size 720x504 with 2 Axes>"
      ]
     },
     "metadata": {
      "needs_background": "light"
     },
     "output_type": "display_data"
    }
   ],
   "source": [
    "df_cm = pd.DataFrame(matrix, index = test_data.classes,\n",
    "                  columns = test_data.classes)\n",
    "plt.figure(figsize = (10,7))\n",
    "sn.heatmap(df_cm, annot=True)"
   ]
  }
 ],
 "metadata": {
  "kernelspec": {
   "display_name": "gnn_kernel",
   "language": "python",
   "name": "gnn_kernel"
  },
  "language_info": {
   "codemirror_mode": {
    "name": "ipython",
    "version": 3
   },
   "file_extension": ".py",
   "mimetype": "text/x-python",
   "name": "python",
   "nbconvert_exporter": "python",
   "pygments_lexer": "ipython3",
   "version": "3.8.12"
  }
 },
 "nbformat": 4,
 "nbformat_minor": 5
}
