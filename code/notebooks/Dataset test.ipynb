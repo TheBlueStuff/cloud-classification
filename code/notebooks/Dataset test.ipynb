{
 "cells": [
  {
   "cell_type": "code",
   "execution_count": 2,
   "id": "e77ccc5d-e07e-406a-aac0-a8ae99ffedae",
   "metadata": {},
   "outputs": [
    {
     "name": "stdout",
     "output_type": "stream",
     "text": [
      "/home/ltorres/leo/tesis/cloud-classification/code\n"
     ]
    }
   ],
   "source": [
    "%cd .."
   ]
  },
  {
   "cell_type": "code",
   "execution_count": 3,
   "id": "df066a8e-ed76-4b62-b9be-b3e8e3379b8b",
   "metadata": {},
   "outputs": [],
   "source": [
    "%load_ext autoreload\n",
    "%autoreload 2"
   ]
  },
  {
   "cell_type": "code",
   "execution_count": 88,
   "id": "36811c7d-0c3b-4845-a702-4de962035cb9",
   "metadata": {},
   "outputs": [],
   "source": [
    "from torchvision.io import read_image\n",
    "import glob\n",
    "import os\n",
    "import numpy as np\n",
    "import torch"
   ]
  },
  {
   "cell_type": "code",
   "execution_count": 27,
   "id": "a2cfa629-84c4-45ab-84ff-f8a4bdeacf75",
   "metadata": {},
   "outputs": [],
   "source": [
    "from src.dataset import GCD\n",
    "from src import config\n"
   ]
  },
  {
   "cell_type": "code",
   "execution_count": 42,
   "id": "9edf3527-e643-416f-90f5-6c51ea76347a",
   "metadata": {},
   "outputs": [],
   "source": [
    "from torchvision.io import read_image\n",
    "import torchvision.transforms as transforms"
   ]
  },
  {
   "cell_type": "code",
   "execution_count": 149,
   "id": "fa124e23-8d79-40c9-adf9-fd716f032ff0",
   "metadata": {},
   "outputs": [],
   "source": [
    "image_files = glob.glob(\n",
    "        os.path.join(config.DATA_DIR, \"GCD/train/**/*.jpg\"), recursive=True\n",
    "    )"
   ]
  },
  {
   "cell_type": "code",
   "execution_count": 150,
   "id": "e978a50b-cbe4-446c-9fa8-57ebf4918b50",
   "metadata": {},
   "outputs": [],
   "source": [
    "targets = list(map(int,[os.path.basename(x).split('_')[0] for x in image_files]))"
   ]
  },
  {
   "cell_type": "code",
   "execution_count": null,
   "id": "c63760fc-cbd2-41a5-956a-1d35163a5f69",
   "metadata": {},
   "outputs": [
    {
     "data": {
      "text/plain": [
       "'1_cumulus_000286.jpg'"
      ]
     },
     "execution_count": 143,
     "metadata": {},
     "output_type": "execute_result"
    }
   ],
   "source": [
    "os.path.basename(image_files[0])"
   ]
  },
  {
   "cell_type": "code",
   "execution_count": 46,
   "id": "be1a53bc-fc46-4e23-9c09-02e6014b33bc",
   "metadata": {},
   "outputs": [
    {
     "data": {
      "text/plain": [
       "torch.Size([3, 256, 256])"
      ]
     },
     "execution_count": 46,
     "metadata": {},
     "output_type": "execute_result"
    }
   ],
   "source": [
    "transforms.Resize(256)(read_image(image_files[0])).shape"
   ]
  },
  {
   "cell_type": "markdown",
   "id": "8c55d6f3-da4b-446f-9325-eb973014de75",
   "metadata": {},
   "source": [
    "---"
   ]
  },
  {
   "cell_type": "code",
   "execution_count": 169,
   "id": "1dc3d187-e1f5-41ed-8d82-7c96fb57abdf",
   "metadata": {},
   "outputs": [],
   "source": [
    "dataset = GCD(config.DATA_DIR,'train', 256, 'h_flip')"
   ]
  },
  {
   "cell_type": "code",
   "execution_count": 170,
   "id": "12179273-3588-446a-bce7-52107db347bb",
   "metadata": {},
   "outputs": [],
   "source": [
    "train_loader = torch.utils.data.DataLoader(\n",
    "        dataset,\n",
    "        batch_size=128,\n",
    "        num_workers=1,\n",
    "        shuffle=False,\n",
    "    )"
   ]
  },
  {
   "cell_type": "code",
   "execution_count": 171,
   "id": "20546f34-3431-422c-ae9f-ca8de37af3d1",
   "metadata": {},
   "outputs": [],
   "source": [
    "batch = next(iter(train_loader))"
   ]
  },
  {
   "cell_type": "code",
   "execution_count": 172,
   "id": "eb0f8e63-3f33-4315-9377-b2bca2294f37",
   "metadata": {},
   "outputs": [
    {
     "data": {
      "text/plain": [
       "torch.Size([128, 3, 256, 256])"
      ]
     },
     "execution_count": 172,
     "metadata": {},
     "output_type": "execute_result"
    }
   ],
   "source": [
    "batch['images'].shape"
   ]
  },
  {
   "cell_type": "code",
   "execution_count": 173,
   "id": "9e5bd697-640d-44a7-9acc-2e9f1e597a45",
   "metadata": {},
   "outputs": [
    {
     "data": {
      "text/plain": [
       "torch.Size([128, 3, 256, 256])"
      ]
     },
     "execution_count": 173,
     "metadata": {},
     "output_type": "execute_result"
    }
   ],
   "source": [
    "batch['augmented'].shape"
   ]
  },
  {
   "cell_type": "code",
   "execution_count": 174,
   "id": "d929bdc0-a87f-4f7a-ac46-c4102bff0a31",
   "metadata": {},
   "outputs": [
    {
     "data": {
      "text/plain": [
       "torch.Size([128])"
      ]
     },
     "execution_count": 174,
     "metadata": {},
     "output_type": "execute_result"
    }
   ],
   "source": [
    "batch['targets'].shape"
   ]
  },
  {
   "cell_type": "code",
   "execution_count": 175,
   "id": "60482670-2952-4526-8b25-65fcefea278c",
   "metadata": {},
   "outputs": [
    {
     "data": {
      "text/plain": [
       "tensor([0, 0, 0, 0, 0])"
      ]
     },
     "execution_count": 175,
     "metadata": {},
     "output_type": "execute_result"
    }
   ],
   "source": [
    "batch['targets'][:5]"
   ]
  },
  {
   "cell_type": "code",
   "execution_count": null,
   "id": "c7001601-dd32-46db-a327-ed10f7079252",
   "metadata": {},
   "outputs": [],
   "source": []
  }
 ],
 "metadata": {
  "kernelspec": {
   "display_name": "Python 3",
   "language": "python",
   "name": "python3"
  },
  "language_info": {
   "codemirror_mode": {
    "name": "ipython",
    "version": 3
   },
   "file_extension": ".py",
   "mimetype": "text/x-python",
   "name": "python",
   "nbconvert_exporter": "python",
   "pygments_lexer": "ipython3",
   "version": "3.9.7"
  }
 },
 "nbformat": 4,
 "nbformat_minor": 5
}
