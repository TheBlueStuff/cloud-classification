{
 "cells": [
  {
   "cell_type": "code",
   "execution_count": 30,
   "id": "e77ccc5d-e07e-406a-aac0-a8ae99ffedae",
   "metadata": {},
   "outputs": [
    {
     "name": "stdout",
     "output_type": "stream",
     "text": [
      "/home/ltorres/leo/tesis/cloud-classification\n"
     ]
    }
   ],
   "source": [
    "%cd .."
   ]
  },
  {
   "cell_type": "code",
   "execution_count": 31,
   "id": "df066a8e-ed76-4b62-b9be-b3e8e3379b8b",
   "metadata": {},
   "outputs": [
    {
     "name": "stdout",
     "output_type": "stream",
     "text": [
      "The autoreload extension is already loaded. To reload it, use:\n",
      "  %reload_ext autoreload\n"
     ]
    }
   ],
   "source": [
    "%load_ext autoreload\n",
    "%autoreload 2"
   ]
  },
  {
   "cell_type": "code",
   "execution_count": 32,
   "id": "36811c7d-0c3b-4845-a702-4de962035cb9",
   "metadata": {},
   "outputs": [],
   "source": [
    "from torchvision.io import read_image\n",
    "import glob\n",
    "import os\n",
    "import math\n",
    "\n",
    "\n",
    "import numpy as np\n",
    "import pandas as pd\n",
    "import matplotlib.pyplot as plt\n",
    "import seaborn as sns\n",
    "\n",
    "from random import sample\n",
    "import torch\n",
    "import torch.nn as nn\n",
    "from torch.optim import lr_scheduler"
   ]
  },
  {
   "cell_type": "code",
   "execution_count": 33,
   "id": "a2cfa629-84c4-45ab-84ff-f8a4bdeacf75",
   "metadata": {},
   "outputs": [],
   "source": [
    "from src.dataset import GCD\n",
    "from src import config\n",
    "from src import engine_gnn as engine\n",
    "from src import utils\n",
    "\n",
    "#from src.models.graph_nets import GraphConvGNN, GATConvGNN\n",
    "from src.models.old.initial_graphnets import GATConvGNN"
   ]
  },
  {
   "cell_type": "code",
   "execution_count": 34,
   "id": "d4e1acb2-496d-45e5-9e66-92dda51e7888",
   "metadata": {},
   "outputs": [],
   "source": [
    "from sklearn.metrics import accuracy_score"
   ]
  },
  {
   "cell_type": "code",
   "execution_count": 35,
   "id": "dde03952-d051-49e5-b020-2480a8322418",
   "metadata": {},
   "outputs": [],
   "source": [
    "import wandb"
   ]
  },
  {
   "cell_type": "code",
   "execution_count": 36,
   "id": "dde3bba7-7f94-431c-a549-ad697d484bcc",
   "metadata": {},
   "outputs": [
    {
     "data": {
      "text/plain": [
       "True"
      ]
     },
     "execution_count": 36,
     "metadata": {},
     "output_type": "execute_result"
    }
   ],
   "source": [
    "wandb.login()"
   ]
  },
  {
   "cell_type": "code",
   "execution_count": 37,
   "id": "93fc98c7-f864-4fa2-b595-773aeedce8de",
   "metadata": {},
   "outputs": [],
   "source": [
    "device = 'cuda:1'"
   ]
  },
  {
   "cell_type": "code",
   "execution_count": 38,
   "id": "acbd8e66-e96b-4470-b5c5-c1876a7147e4",
   "metadata": {},
   "outputs": [],
   "source": [
    "LR = 2e-4\n",
    "EPOCHS = 100"
   ]
  },
  {
   "cell_type": "markdown",
   "id": "0261f5e1-e6d9-453a-8d44-8f3202368c9f",
   "metadata": {},
   "source": [
    "#### Data loaders"
   ]
  },
  {
   "cell_type": "code",
   "execution_count": 39,
   "id": "38fde725-5100-4b57-903f-161c66a03b16",
   "metadata": {},
   "outputs": [],
   "source": [
    "path_train_images = utils.get_gcd_paths(config.DATA_DIR,'train')"
   ]
  },
  {
   "cell_type": "code",
   "execution_count": 41,
   "id": "c79a9594-45d0-4f2d-b0b1-bc33e0bb1dfb",
   "metadata": {},
   "outputs": [
    {
     "data": {
      "text/plain": [
       "10000"
      ]
     },
     "execution_count": 41,
     "metadata": {},
     "output_type": "execute_result"
    }
   ],
   "source": [
    "len(path_train_images)"
   ]
  },
  {
   "cell_type": "code",
   "execution_count": 42,
   "id": "276877cb-2130-4eef-94b6-1394c590d3bd",
   "metadata": {},
   "outputs": [],
   "source": [
    "train_dataset = GCD(path_train_images, resize=256, aug_types='aug')"
   ]
  },
  {
   "cell_type": "code",
   "execution_count": 11,
   "id": "1dc3d187-e1f5-41ed-8d82-7c96fb57abdf",
   "metadata": {},
   "outputs": [],
   "source": [
    "train_dataset = GCD(path_train_images, resize=256, aug_types='aug')\n",
    "\n",
    "train_loader = torch.utils.data.DataLoader(\n",
    "        train_dataset,\n",
    "        batch_size=config.BATCH_SIZE,\n",
    "        num_workers=4,\n",
    "        shuffle=True,\n",
    "    )"
   ]
  },
  {
   "cell_type": "code",
   "execution_count": 12,
   "id": "e6dde255-d33b-4843-a0dd-b95272ad6a35",
   "metadata": {},
   "outputs": [],
   "source": [
    "path_test_images = utils.get_gcd_paths(config.DATA_DIR,'test')\n",
    "\n",
    "test_dataset = GCD(path_test_images, resize=256)\n",
    "\n",
    "test_loader = torch.utils.data.DataLoader(\n",
    "        test_dataset,\n",
    "        batch_size=config.BATCH_SIZE,\n",
    "        num_workers=4,\n",
    "        shuffle=False,\n",
    "    )"
   ]
  },
  {
   "cell_type": "markdown",
   "id": "2d0c133d-28e0-4b85-aeac-9c9aaccb7edf",
   "metadata": {
    "tags": []
   },
   "source": [
    "### WANDB config file"
   ]
  },
  {
   "cell_type": "code",
   "execution_count": 13,
   "id": "a6748183-8fac-4b01-a78b-b58a1920471a",
   "metadata": {},
   "outputs": [],
   "source": [
    "exp_name = '6_GATConvGNN_LOGE_SGD_01_04_22'"
   ]
  },
  {
   "cell_type": "code",
   "execution_count": 14,
   "id": "8be164d9-0250-4c92-a7c2-5526aec37741",
   "metadata": {},
   "outputs": [
    {
     "data": {
      "text/html": [
       "Tracking run with wandb version 0.12.11"
      ],
      "text/plain": [
       "<IPython.core.display.HTML object>"
      ]
     },
     "metadata": {},
     "output_type": "display_data"
    },
    {
     "data": {
      "text/html": [
       "Run data is saved locally in <code>/home/ltorres/leo/tesis/cloud-classification/code/wandb/run-20220401_153539-23uwki7b</code>"
      ],
      "text/plain": [
       "<IPython.core.display.HTML object>"
      ]
     },
     "metadata": {},
     "output_type": "display_data"
    },
    {
     "data": {
      "text/html": [
       "Syncing run <strong><a href=\"https://wandb.ai/leonardtd/cloud%20classification/runs/23uwki7b\" target=\"_blank\">6_GATConvGNN_LOGE_SGD_01_04_22</a></strong> to <a href=\"https://wandb.ai/leonardtd/cloud%20classification\" target=\"_blank\">Weights & Biases</a> (<a href=\"https://wandb.me/run\" target=\"_blank\">docs</a>)<br/>"
      ],
      "text/plain": [
       "<IPython.core.display.HTML object>"
      ]
     },
     "metadata": {},
     "output_type": "display_data"
    },
    {
     "data": {
      "text/html": [
       "<button onClick=\"this.nextSibling.style.display='block';this.style.display='none';\">Display W&B run</button><iframe src=\"https://wandb.ai/leonardtd/cloud%20classification/runs/23uwki7b?jupyter=true\" style=\"border:none;width:100%;height:420px;display:none;\"></iframe>"
      ],
      "text/plain": [
       "<wandb.sdk.wandb_run.Run at 0x7fc2570745e0>"
      ]
     },
     "execution_count": 14,
     "metadata": {},
     "output_type": "execute_result"
    }
   ],
   "source": [
    "wandb.init(\n",
    "    # Set the project where this run will be logged\n",
    "    project=\"cloud classification\",\n",
    "    # We pass a run name (otherwise it’ll be randomly assigned, like sunshine-lollypop-10)\n",
    "    name=exp_name, \n",
    "    # Track hyperparameters and run metadata\n",
    "    config={\n",
    "    \"learning_rate\": LR,\n",
    "    \"architecture\": \"GATConvGNN\",\n",
    "    \"loss\": \"LogeLoss\",\n",
    "    \"optim\": \"SGD\",\n",
    "    \"dataset\": \"GCD\",\n",
    "    \"epochs\": config.EPOCHS,\n",
    "  })"
   ]
  },
  {
   "cell_type": "markdown",
   "id": "95707389-de47-4914-8b87-edc394cb4202",
   "metadata": {},
   "source": [
    "#### Model"
   ]
  },
  {
   "cell_type": "code",
   "execution_count": 15,
   "id": "b0757e6e-31f1-461a-a21d-496f7f98bcff",
   "metadata": {},
   "outputs": [],
   "source": [
    "from torchvision import models"
   ]
  },
  {
   "cell_type": "code",
   "execution_count": 16,
   "id": "4b3e7ae9-681e-4806-85d9-c9b37164da11",
   "metadata": {},
   "outputs": [],
   "source": [
    "torch.cuda.empty_cache()"
   ]
  },
  {
   "cell_type": "code",
   "execution_count": null,
   "id": "afe7e632-6f51-4ae5-ab71-bae05960cf78",
   "metadata": {},
   "outputs": [
    {
     "ename": "NameError",
     "evalue": "name 'GATConvGNN' is not defined",
     "output_type": "error",
     "traceback": [
      "\u001b[0;31m---------------------------------------------------------------------------\u001b[0m",
      "\u001b[0;31mNameError\u001b[0m                                 Traceback (most recent call last)",
      "Input \u001b[0;32mIn [1]\u001b[0m, in \u001b[0;36m<cell line: 1>\u001b[0;34m()\u001b[0m\n\u001b[0;32m----> 1\u001b[0m model \u001b[38;5;241m=\u001b[39m \u001b[43mGATConvGNN\u001b[49m(\u001b[38;5;241m7\u001b[39m, \u001b[38;5;241m1024\u001b[39m, \u001b[38;5;241m4\u001b[39m, \u001b[38;5;241m4\u001b[39m, \u001b[38;5;241m0.7\u001b[39m, adjacency_builder \u001b[38;5;241m=\u001b[39m \u001b[38;5;124m'\u001b[39m\u001b[38;5;124mpearson_corr\u001b[39m\u001b[38;5;124m'\u001b[39m)\u001b[38;5;241m.\u001b[39mto(device)\n",
      "\u001b[0;31mNameError\u001b[0m: name 'GATConvGNN' is not defined"
     ]
    }
   ],
   "source": [
    "# model  = utils.build_model_gatconv(\n",
    "#                                     7, #GCD num classes\n",
    "#                                     512,\n",
    "#                                     3,\n",
    "#                                     4,\n",
    "#                                     0.75,\n",
    "#                                     device\n",
    "#                                    )\n",
    "model = GATConvGNN(7).to(device)"
   ]
  },
  {
   "cell_type": "code",
   "execution_count": 18,
   "id": "19f68d2a-96ac-4801-ba11-9614058a98ea",
   "metadata": {},
   "outputs": [],
   "source": [
    "criterion = nn.CrossEntropyLoss()\n",
    "#criterion = utils.loge_loss\n",
    "#optimizer  = torch.optim.Adam(model.parameters(), lr=3e-4)\n",
    "optimizer  = torch.optim.SGD(model.parameters(), lr=LR, momentum=0.9)\n",
    "\n",
    "scheduler = lr_scheduler.StepLR(optimizer, step_size=10, gamma=0.1)"
   ]
  },
  {
   "cell_type": "code",
   "execution_count": 19,
   "id": "07066fa0-5360-4627-989b-1904eeb5c022",
   "metadata": {},
   "outputs": [],
   "source": [
    "model_filename = f'/gcd_gnn/{exp_name}.pt'"
   ]
  },
  {
   "cell_type": "code",
   "execution_count": 20,
   "id": "f8e45e28-e829-4341-afb2-82ab96295d33",
   "metadata": {},
   "outputs": [],
   "source": [
    "class_mapper = {\n",
    "    0: '1_cumulus',\n",
    "    1: '2_altocumulus',\n",
    "    2: '3_cirrus',\n",
    "    3: '4_clearsky',\n",
    "    4: '5_stratocumulus',\n",
    "    5: '6_cumulonimbus',\n",
    "    6: '7_mixed',\n",
    "}"
   ]
  },
  {
   "cell_type": "code",
   "execution_count": 21,
   "id": "39507859-a1fe-498c-8f26-b5c44925ab59",
   "metadata": {},
   "outputs": [],
   "source": [
    "classes = list(class_mapper.values())"
   ]
  },
  {
   "cell_type": "code",
   "execution_count": 22,
   "id": "5cb5c277-6aff-483e-acdd-24637fa6e5d5",
   "metadata": {},
   "outputs": [
    {
     "data": {
      "text/plain": [
       "['1_cumulus',\n",
       " '2_altocumulus',\n",
       " '3_cirrus',\n",
       " '4_clearsky',\n",
       " '5_stratocumulus',\n",
       " '6_cumulonimbus',\n",
       " '7_mixed']"
      ]
     },
     "execution_count": 22,
     "metadata": {},
     "output_type": "execute_result"
    }
   ],
   "source": [
    "classes"
   ]
  },
  {
   "cell_type": "markdown",
   "id": "645a8b99-0592-485b-ac50-6e66fd65d75a",
   "metadata": {},
   "source": [
    "### Train"
   ]
  },
  {
   "cell_type": "code",
   "execution_count": null,
   "id": "52819030-77e0-4312-b0c6-b786da2fc2f8",
   "metadata": {
    "tags": []
   },
   "outputs": [
    {
     "name": "stderr",
     "output_type": "stream",
     "text": [
      "100%|██████████| 313/313 [00:57<00:00,  5.43it/s]\n",
      "100%|██████████| 282/282 [00:18<00:00, 14.92it/s]\n"
     ]
    },
    {
     "name": "stdout",
     "output_type": "stream",
     "text": [
      "Saved best parameters at epoch 1\n",
      "EPOCH 1: Train acc: 70.28% Train Loss: 1.7579 Test acc: 73.42% Test Loss: 1.6797\n"
     ]
    },
    {
     "name": "stderr",
     "output_type": "stream",
     "text": [
      "100%|██████████| 313/313 [00:57<00:00,  5.47it/s]\n",
      "100%|██████████| 282/282 [00:18<00:00, 15.44it/s]\n"
     ]
    },
    {
     "name": "stdout",
     "output_type": "stream",
     "text": [
      "Saved best parameters at epoch 2\n",
      "EPOCH 2: Train acc: 84.87% Train Loss: 0.8457 Test acc: 76.84% Test Loss: 1.6523\n"
     ]
    },
    {
     "name": "stderr",
     "output_type": "stream",
     "text": [
      "100%|██████████| 313/313 [00:57<00:00,  5.45it/s]\n",
      "100%|██████████| 282/282 [00:18<00:00, 15.18it/s]\n"
     ]
    },
    {
     "name": "stdout",
     "output_type": "stream",
     "text": [
      "EPOCH 3: Train acc: 87.62% Train Loss: 0.6878 Test acc: 76.12% Test Loss: 1.7435\n"
     ]
    },
    {
     "name": "stderr",
     "output_type": "stream",
     "text": [
      "100%|██████████| 313/313 [00:57<00:00,  5.48it/s]\n",
      "100%|██████████| 282/282 [00:18<00:00, 15.45it/s]\n"
     ]
    },
    {
     "name": "stdout",
     "output_type": "stream",
     "text": [
      "Saved best parameters at epoch 4\n",
      "EPOCH 4: Train acc: 88.37% Train Loss: 0.6280 Test acc: 77.48% Test Loss: 1.5162\n"
     ]
    },
    {
     "name": "stderr",
     "output_type": "stream",
     "text": [
      "100%|██████████| 313/313 [00:57<00:00,  5.47it/s]\n",
      "100%|██████████| 282/282 [00:18<00:00, 15.09it/s]\n"
     ]
    },
    {
     "name": "stdout",
     "output_type": "stream",
     "text": [
      "Saved best parameters at epoch 5\n",
      "EPOCH 5: Train acc: 89.30% Train Loss: 0.5652 Test acc: 78.47% Test Loss: 1.5051\n"
     ]
    },
    {
     "name": "stderr",
     "output_type": "stream",
     "text": [
      "100%|██████████| 313/313 [00:57<00:00,  5.48it/s]\n",
      "100%|██████████| 282/282 [00:18<00:00, 15.27it/s]\n"
     ]
    },
    {
     "name": "stdout",
     "output_type": "stream",
     "text": [
      "Saved best parameters at epoch 6\n",
      "EPOCH 6: Train acc: 90.25% Train Loss: 0.5295 Test acc: 78.54% Test Loss: 1.4961\n"
     ]
    },
    {
     "name": "stderr",
     "output_type": "stream",
     "text": [
      "100%|██████████| 313/313 [00:57<00:00,  5.46it/s]\n",
      "100%|██████████| 282/282 [00:18<00:00, 15.21it/s]\n"
     ]
    },
    {
     "name": "stdout",
     "output_type": "stream",
     "text": [
      "EPOCH 7: Train acc: 91.02% Train Loss: 0.4970 Test acc: 78.42% Test Loss: 1.5368\n"
     ]
    },
    {
     "name": "stderr",
     "output_type": "stream",
     "text": [
      "100%|██████████| 313/313 [00:57<00:00,  5.47it/s]\n",
      "100%|██████████| 282/282 [00:18<00:00, 15.17it/s]\n"
     ]
    },
    {
     "name": "stdout",
     "output_type": "stream",
     "text": [
      "EPOCH 8: Train acc: 91.41% Train Loss: 0.4600 Test acc: 77.56% Test Loss: 1.6749\n"
     ]
    },
    {
     "name": "stderr",
     "output_type": "stream",
     "text": [
      "100%|██████████| 313/313 [00:57<00:00,  5.47it/s]\n",
      "100%|██████████| 282/282 [00:18<00:00, 15.32it/s]\n"
     ]
    },
    {
     "name": "stdout",
     "output_type": "stream",
     "text": [
      "EPOCH 9: Train acc: 91.75% Train Loss: 0.4319 Test acc: 77.80% Test Loss: 1.5963\n"
     ]
    },
    {
     "name": "stderr",
     "output_type": "stream",
     "text": [
      "100%|██████████| 313/313 [00:57<00:00,  5.46it/s]\n",
      "100%|██████████| 282/282 [00:19<00:00, 14.79it/s]\n"
     ]
    },
    {
     "name": "stdout",
     "output_type": "stream",
     "text": [
      "EPOCH 10: Train acc: 92.45% Train Loss: 0.4083 Test acc: 78.49% Test Loss: 1.5561\n"
     ]
    },
    {
     "name": "stderr",
     "output_type": "stream",
     "text": [
      "100%|██████████| 313/313 [00:57<00:00,  5.47it/s]\n",
      "100%|██████████| 282/282 [00:20<00:00, 14.08it/s]\n"
     ]
    },
    {
     "name": "stdout",
     "output_type": "stream",
     "text": [
      "EPOCH 11: Train acc: 93.27% Train Loss: 0.3661 Test acc: 78.32% Test Loss: 1.6791\n"
     ]
    },
    {
     "name": "stderr",
     "output_type": "stream",
     "text": [
      "100%|██████████| 313/313 [00:57<00:00,  5.47it/s]\n",
      "100%|██████████| 282/282 [00:18<00:00, 15.10it/s]\n"
     ]
    },
    {
     "name": "stdout",
     "output_type": "stream",
     "text": [
      "Saved best parameters at epoch 12\n",
      "EPOCH 12: Train acc: 94.10% Train Loss: 0.3324 Test acc: 79.04% Test Loss: 1.5861\n"
     ]
    },
    {
     "name": "stderr",
     "output_type": "stream",
     "text": [
      "100%|██████████| 313/313 [00:57<00:00,  5.48it/s]\n",
      "100%|██████████| 282/282 [00:18<00:00, 15.49it/s]\n"
     ]
    },
    {
     "name": "stdout",
     "output_type": "stream",
     "text": [
      "EPOCH 13: Train acc: 93.92% Train Loss: 0.3409 Test acc: 78.36% Test Loss: 1.7284\n"
     ]
    },
    {
     "name": "stderr",
     "output_type": "stream",
     "text": [
      "100%|██████████| 313/313 [00:57<00:00,  5.48it/s]\n",
      "100%|██████████| 282/282 [00:19<00:00, 14.82it/s]\n"
     ]
    },
    {
     "name": "stdout",
     "output_type": "stream",
     "text": [
      "EPOCH 14: Train acc: 93.91% Train Loss: 0.3399 Test acc: 78.52% Test Loss: 1.6561\n"
     ]
    },
    {
     "name": "stderr",
     "output_type": "stream",
     "text": [
      "100%|██████████| 313/313 [00:57<00:00,  5.47it/s]\n",
      "100%|██████████| 282/282 [00:18<00:00, 15.25it/s]\n"
     ]
    },
    {
     "name": "stdout",
     "output_type": "stream",
     "text": [
      "EPOCH 15: Train acc: 94.13% Train Loss: 0.3222 Test acc: 78.71% Test Loss: 1.6918\n"
     ]
    },
    {
     "name": "stderr",
     "output_type": "stream",
     "text": [
      "100%|██████████| 313/313 [00:57<00:00,  5.47it/s]\n",
      "100%|██████████| 282/282 [00:18<00:00, 15.26it/s]\n"
     ]
    },
    {
     "name": "stdout",
     "output_type": "stream",
     "text": [
      "Saved best parameters at epoch 16\n",
      "EPOCH 16: Train acc: 94.15% Train Loss: 0.3299 Test acc: 79.30% Test Loss: 1.5880\n"
     ]
    },
    {
     "name": "stderr",
     "output_type": "stream",
     "text": [
      "100%|██████████| 313/313 [00:57<00:00,  5.47it/s]\n",
      "100%|██████████| 282/282 [00:18<00:00, 15.51it/s]\n"
     ]
    },
    {
     "name": "stdout",
     "output_type": "stream",
     "text": [
      "EPOCH 17: Train acc: 93.78% Train Loss: 0.3398 Test acc: 77.64% Test Loss: 1.7740\n"
     ]
    },
    {
     "name": "stderr",
     "output_type": "stream",
     "text": [
      "100%|██████████| 313/313 [00:57<00:00,  5.47it/s]\n",
      "100%|██████████| 282/282 [00:19<00:00, 14.81it/s]\n"
     ]
    },
    {
     "name": "stdout",
     "output_type": "stream",
     "text": [
      "EPOCH 18: Train acc: 94.00% Train Loss: 0.3274 Test acc: 78.96% Test Loss: 1.6144\n"
     ]
    },
    {
     "name": "stderr",
     "output_type": "stream",
     "text": [
      "100%|██████████| 313/313 [00:57<00:00,  5.48it/s]\n",
      "100%|██████████| 282/282 [00:18<00:00, 15.56it/s]\n"
     ]
    },
    {
     "name": "stdout",
     "output_type": "stream",
     "text": [
      "EPOCH 19: Train acc: 93.91% Train Loss: 0.3357 Test acc: 79.07% Test Loss: 1.5912\n"
     ]
    },
    {
     "name": "stderr",
     "output_type": "stream",
     "text": [
      "100%|██████████| 313/313 [00:57<00:00,  5.47it/s]\n",
      "100%|██████████| 282/282 [00:18<00:00, 15.10it/s]\n"
     ]
    },
    {
     "name": "stdout",
     "output_type": "stream",
     "text": [
      "EPOCH 20: Train acc: 94.45% Train Loss: 0.3238 Test acc: 78.46% Test Loss: 1.7225\n"
     ]
    },
    {
     "name": "stderr",
     "output_type": "stream",
     "text": [
      "100%|██████████| 313/313 [00:57<00:00,  5.46it/s]\n",
      "100%|██████████| 282/282 [00:18<00:00, 15.56it/s]\n"
     ]
    },
    {
     "name": "stdout",
     "output_type": "stream",
     "text": [
      "EPOCH 21: Train acc: 94.43% Train Loss: 0.3034 Test acc: 79.20% Test Loss: 1.6110\n"
     ]
    },
    {
     "name": "stderr",
     "output_type": "stream",
     "text": [
      "100%|██████████| 313/313 [00:57<00:00,  5.47it/s]\n",
      "100%|██████████| 282/282 [00:18<00:00, 15.13it/s]\n"
     ]
    },
    {
     "name": "stdout",
     "output_type": "stream",
     "text": [
      "EPOCH 22: Train acc: 94.51% Train Loss: 0.3131 Test acc: 78.90% Test Loss: 1.6333\n"
     ]
    },
    {
     "name": "stderr",
     "output_type": "stream",
     "text": [
      "100%|██████████| 313/313 [00:57<00:00,  5.46it/s]\n",
      "100%|██████████| 282/282 [00:17<00:00, 15.70it/s]\n"
     ]
    },
    {
     "name": "stdout",
     "output_type": "stream",
     "text": [
      "EPOCH 23: Train acc: 94.46% Train Loss: 0.2977 Test acc: 78.91% Test Loss: 1.6390\n"
     ]
    },
    {
     "name": "stderr",
     "output_type": "stream",
     "text": [
      "100%|██████████| 313/313 [00:57<00:00,  5.44it/s]\n",
      "100%|██████████| 282/282 [00:17<00:00, 15.69it/s]\n"
     ]
    },
    {
     "name": "stdout",
     "output_type": "stream",
     "text": [
      "Saved best parameters at epoch 24\n",
      "EPOCH 24: Train acc: 94.67% Train Loss: 0.2988 Test acc: 79.37% Test Loss: 1.5921\n"
     ]
    },
    {
     "name": "stderr",
     "output_type": "stream",
     "text": [
      "100%|██████████| 313/313 [00:57<00:00,  5.44it/s]\n",
      "100%|██████████| 282/282 [00:18<00:00, 15.66it/s]\n"
     ]
    },
    {
     "name": "stdout",
     "output_type": "stream",
     "text": [
      "EPOCH 25: Train acc: 94.39% Train Loss: 0.3050 Test acc: 78.77% Test Loss: 1.6519\n"
     ]
    },
    {
     "name": "stderr",
     "output_type": "stream",
     "text": [
      "100%|██████████| 313/313 [00:57<00:00,  5.43it/s]\n",
      "100%|██████████| 282/282 [00:17<00:00, 15.74it/s]\n"
     ]
    },
    {
     "name": "stdout",
     "output_type": "stream",
     "text": [
      "EPOCH 26: Train acc: 94.35% Train Loss: 0.3142 Test acc: 78.57% Test Loss: 1.7362\n"
     ]
    },
    {
     "name": "stderr",
     "output_type": "stream",
     "text": [
      "100%|██████████| 313/313 [00:57<00:00,  5.44it/s]\n",
      "100%|██████████| 282/282 [00:18<00:00, 15.63it/s]\n"
     ]
    },
    {
     "name": "stdout",
     "output_type": "stream",
     "text": [
      "EPOCH 27: Train acc: 94.33% Train Loss: 0.3142 Test acc: 79.22% Test Loss: 1.5952\n"
     ]
    },
    {
     "name": "stderr",
     "output_type": "stream",
     "text": [
      "100%|██████████| 313/313 [00:57<00:00,  5.45it/s]\n",
      "100%|██████████| 282/282 [00:18<00:00, 15.07it/s]\n"
     ]
    },
    {
     "name": "stdout",
     "output_type": "stream",
     "text": [
      "EPOCH 28: Train acc: 94.63% Train Loss: 0.2960 Test acc: 78.80% Test Loss: 1.6331\n"
     ]
    },
    {
     "name": "stderr",
     "output_type": "stream",
     "text": [
      "100%|██████████| 313/313 [00:57<00:00,  5.43it/s]\n",
      "100%|██████████| 282/282 [00:18<00:00, 15.59it/s]\n"
     ]
    },
    {
     "name": "stdout",
     "output_type": "stream",
     "text": [
      "EPOCH 29: Train acc: 94.50% Train Loss: 0.3049 Test acc: 78.62% Test Loss: 1.6586\n"
     ]
    },
    {
     "name": "stderr",
     "output_type": "stream",
     "text": [
      "100%|██████████| 313/313 [00:57<00:00,  5.45it/s]\n",
      "100%|██████████| 282/282 [00:17<00:00, 15.76it/s]\n"
     ]
    },
    {
     "name": "stdout",
     "output_type": "stream",
     "text": [
      "EPOCH 30: Train acc: 94.69% Train Loss: 0.2954 Test acc: 78.67% Test Loss: 1.6509\n"
     ]
    },
    {
     "name": "stderr",
     "output_type": "stream",
     "text": [
      "100%|██████████| 313/313 [00:57<00:00,  5.44it/s]\n",
      "100%|██████████| 282/282 [00:18<00:00, 15.66it/s]\n"
     ]
    },
    {
     "name": "stdout",
     "output_type": "stream",
     "text": [
      "EPOCH 31: Train acc: 94.61% Train Loss: 0.2922 Test acc: 78.54% Test Loss: 1.6851\n"
     ]
    },
    {
     "name": "stderr",
     "output_type": "stream",
     "text": [
      "100%|██████████| 313/313 [00:57<00:00,  5.44it/s]\n",
      "100%|██████████| 282/282 [00:17<00:00, 15.72it/s]\n"
     ]
    },
    {
     "name": "stdout",
     "output_type": "stream",
     "text": [
      "EPOCH 32: Train acc: 94.46% Train Loss: 0.3055 Test acc: 78.90% Test Loss: 1.6338\n"
     ]
    },
    {
     "name": "stderr",
     "output_type": "stream",
     "text": [
      "100%|██████████| 313/313 [00:57<00:00,  5.43it/s]\n",
      "100%|██████████| 282/282 [00:17<00:00, 15.80it/s]\n"
     ]
    },
    {
     "name": "stdout",
     "output_type": "stream",
     "text": [
      "EPOCH 33: Train acc: 94.25% Train Loss: 0.3135 Test acc: 78.37% Test Loss: 1.7161\n"
     ]
    },
    {
     "name": "stderr",
     "output_type": "stream",
     "text": [
      "100%|██████████| 313/313 [00:57<00:00,  5.44it/s]\n",
      "100%|██████████| 282/282 [00:18<00:00, 15.64it/s]\n"
     ]
    },
    {
     "name": "stdout",
     "output_type": "stream",
     "text": [
      "EPOCH 34: Train acc: 94.43% Train Loss: 0.3028 Test acc: 78.96% Test Loss: 1.6148\n"
     ]
    },
    {
     "name": "stderr",
     "output_type": "stream",
     "text": [
      "100%|██████████| 313/313 [00:57<00:00,  5.43it/s]\n",
      "100%|██████████| 282/282 [00:17<00:00, 15.79it/s]\n"
     ]
    },
    {
     "name": "stdout",
     "output_type": "stream",
     "text": [
      "EPOCH 35: Train acc: 94.47% Train Loss: 0.3054 Test acc: 78.21% Test Loss: 1.7832\n"
     ]
    },
    {
     "name": "stderr",
     "output_type": "stream",
     "text": [
      "100%|██████████| 313/313 [00:57<00:00,  5.44it/s]\n",
      "100%|██████████| 282/282 [00:18<00:00, 15.66it/s]\n"
     ]
    },
    {
     "name": "stdout",
     "output_type": "stream",
     "text": [
      "EPOCH 36: Train acc: 94.49% Train Loss: 0.3038 Test acc: 79.00% Test Loss: 1.5995\n"
     ]
    },
    {
     "name": "stderr",
     "output_type": "stream",
     "text": [
      "100%|██████████| 313/313 [00:57<00:00,  5.44it/s]\n",
      "100%|██████████| 282/282 [00:17<00:00, 15.68it/s]\n"
     ]
    },
    {
     "name": "stdout",
     "output_type": "stream",
     "text": [
      "EPOCH 37: Train acc: 94.36% Train Loss: 0.3018 Test acc: 78.27% Test Loss: 1.7147\n"
     ]
    },
    {
     "name": "stderr",
     "output_type": "stream",
     "text": [
      "100%|██████████| 313/313 [00:57<00:00,  5.43it/s]\n",
      "100%|██████████| 282/282 [00:18<00:00, 15.63it/s]\n"
     ]
    },
    {
     "name": "stdout",
     "output_type": "stream",
     "text": [
      "EPOCH 38: Train acc: 94.58% Train Loss: 0.3040 Test acc: 78.57% Test Loss: 1.6760\n"
     ]
    },
    {
     "name": "stderr",
     "output_type": "stream",
     "text": [
      "100%|██████████| 313/313 [00:57<00:00,  5.43it/s]\n",
      "100%|██████████| 282/282 [00:18<00:00, 15.61it/s]\n"
     ]
    },
    {
     "name": "stdout",
     "output_type": "stream",
     "text": [
      "EPOCH 39: Train acc: 94.68% Train Loss: 0.3007 Test acc: 78.77% Test Loss: 1.6307\n"
     ]
    },
    {
     "name": "stderr",
     "output_type": "stream",
     "text": [
      "100%|██████████| 313/313 [00:57<00:00,  5.44it/s]\n",
      "100%|██████████| 282/282 [00:17<00:00, 15.69it/s]\n"
     ]
    },
    {
     "name": "stdout",
     "output_type": "stream",
     "text": [
      "EPOCH 40: Train acc: 94.33% Train Loss: 0.3205 Test acc: 79.08% Test Loss: 1.5721\n"
     ]
    },
    {
     "name": "stderr",
     "output_type": "stream",
     "text": [
      "100%|██████████| 313/313 [00:57<00:00,  5.44it/s]\n",
      "100%|██████████| 282/282 [00:17<00:00, 15.79it/s]\n"
     ]
    },
    {
     "name": "stdout",
     "output_type": "stream",
     "text": [
      "EPOCH 41: Train acc: 94.66% Train Loss: 0.3067 Test acc: 78.74% Test Loss: 1.6588\n"
     ]
    },
    {
     "name": "stderr",
     "output_type": "stream",
     "text": [
      "100%|██████████| 313/313 [00:57<00:00,  5.44it/s]\n",
      "100%|██████████| 282/282 [00:17<00:00, 15.70it/s]\n"
     ]
    },
    {
     "name": "stdout",
     "output_type": "stream",
     "text": [
      "EPOCH 42: Train acc: 94.65% Train Loss: 0.3038 Test acc: 78.76% Test Loss: 1.6301\n"
     ]
    },
    {
     "name": "stderr",
     "output_type": "stream",
     "text": [
      "100%|██████████| 313/313 [00:57<00:00,  5.45it/s]\n",
      "100%|██████████| 282/282 [00:17<00:00, 15.74it/s]\n"
     ]
    },
    {
     "name": "stdout",
     "output_type": "stream",
     "text": [
      "EPOCH 43: Train acc: 94.38% Train Loss: 0.3122 Test acc: 78.37% Test Loss: 1.7089\n"
     ]
    },
    {
     "name": "stderr",
     "output_type": "stream",
     "text": [
      "100%|██████████| 313/313 [00:57<00:00,  5.43it/s]\n",
      "100%|██████████| 282/282 [00:17<00:00, 15.69it/s]\n"
     ]
    },
    {
     "name": "stdout",
     "output_type": "stream",
     "text": [
      "EPOCH 44: Train acc: 94.74% Train Loss: 0.3041 Test acc: 79.33% Test Loss: 1.5600\n"
     ]
    },
    {
     "name": "stderr",
     "output_type": "stream",
     "text": [
      "100%|██████████| 313/313 [00:57<00:00,  5.43it/s]\n",
      "100%|██████████| 282/282 [00:18<00:00, 15.63it/s]\n"
     ]
    },
    {
     "name": "stdout",
     "output_type": "stream",
     "text": [
      "EPOCH 45: Train acc: 94.32% Train Loss: 0.3065 Test acc: 79.17% Test Loss: 1.6057\n"
     ]
    },
    {
     "name": "stderr",
     "output_type": "stream",
     "text": [
      "100%|██████████| 313/313 [00:57<00:00,  5.43it/s]\n",
      "100%|██████████| 282/282 [00:18<00:00, 15.64it/s]\n"
     ]
    },
    {
     "name": "stdout",
     "output_type": "stream",
     "text": [
      "EPOCH 46: Train acc: 94.79% Train Loss: 0.2950 Test acc: 78.34% Test Loss: 1.6863\n"
     ]
    },
    {
     "name": "stderr",
     "output_type": "stream",
     "text": [
      "100%|██████████| 313/313 [00:57<00:00,  5.43it/s]\n",
      "100%|██████████| 282/282 [00:17<00:00, 15.73it/s]\n"
     ]
    },
    {
     "name": "stdout",
     "output_type": "stream",
     "text": [
      "EPOCH 47: Train acc: 94.32% Train Loss: 0.3134 Test acc: 78.89% Test Loss: 1.6263\n"
     ]
    },
    {
     "name": "stderr",
     "output_type": "stream",
     "text": [
      "100%|██████████| 313/313 [00:57<00:00,  5.43it/s]\n",
      "100%|██████████| 282/282 [00:18<00:00, 15.57it/s]\n"
     ]
    },
    {
     "name": "stdout",
     "output_type": "stream",
     "text": [
      "EPOCH 48: Train acc: 94.47% Train Loss: 0.2991 Test acc: 78.91% Test Loss: 1.6795\n"
     ]
    },
    {
     "name": "stderr",
     "output_type": "stream",
     "text": [
      "100%|██████████| 313/313 [00:57<00:00,  5.45it/s]\n",
      "100%|██████████| 282/282 [00:17<00:00, 15.69it/s]\n"
     ]
    },
    {
     "name": "stdout",
     "output_type": "stream",
     "text": [
      "EPOCH 49: Train acc: 94.28% Train Loss: 0.3083 Test acc: 78.63% Test Loss: 1.6693\n"
     ]
    },
    {
     "name": "stderr",
     "output_type": "stream",
     "text": [
      "100%|██████████| 313/313 [00:57<00:00,  5.46it/s]\n",
      "100%|██████████| 282/282 [00:17<00:00, 15.76it/s]\n"
     ]
    },
    {
     "name": "stdout",
     "output_type": "stream",
     "text": [
      "EPOCH 50: Train acc: 94.35% Train Loss: 0.3107 Test acc: 78.79% Test Loss: 1.6117\n"
     ]
    },
    {
     "name": "stderr",
     "output_type": "stream",
     "text": [
      "100%|██████████| 313/313 [00:57<00:00,  5.43it/s]\n",
      "100%|██████████| 282/282 [00:17<00:00, 15.74it/s]\n"
     ]
    },
    {
     "name": "stdout",
     "output_type": "stream",
     "text": [
      "EPOCH 51: Train acc: 94.42% Train Loss: 0.3121 Test acc: 78.64% Test Loss: 1.6273\n"
     ]
    },
    {
     "name": "stderr",
     "output_type": "stream",
     "text": [
      "100%|██████████| 313/313 [00:57<00:00,  5.45it/s]\n",
      "100%|██████████| 282/282 [00:17<00:00, 15.70it/s]\n"
     ]
    },
    {
     "name": "stdout",
     "output_type": "stream",
     "text": [
      "EPOCH 52: Train acc: 94.31% Train Loss: 0.3058 Test acc: 78.63% Test Loss: 1.6860\n"
     ]
    },
    {
     "name": "stderr",
     "output_type": "stream",
     "text": [
      "100%|██████████| 313/313 [00:57<00:00,  5.44it/s]\n",
      "100%|██████████| 282/282 [00:17<00:00, 15.82it/s]\n"
     ]
    },
    {
     "name": "stdout",
     "output_type": "stream",
     "text": [
      "Saved best parameters at epoch 53\n",
      "EPOCH 53: Train acc: 94.43% Train Loss: 0.3023 Test acc: 79.77% Test Loss: 1.5409\n"
     ]
    },
    {
     "name": "stderr",
     "output_type": "stream",
     "text": [
      "100%|██████████| 313/313 [00:57<00:00,  5.45it/s]\n",
      "100%|██████████| 282/282 [00:17<00:00, 15.74it/s]\n"
     ]
    },
    {
     "name": "stdout",
     "output_type": "stream",
     "text": [
      "EPOCH 54: Train acc: 94.65% Train Loss: 0.3089 Test acc: 79.02% Test Loss: 1.6321\n"
     ]
    },
    {
     "name": "stderr",
     "output_type": "stream",
     "text": [
      "100%|██████████| 313/313 [00:57<00:00,  5.45it/s]\n",
      "100%|██████████| 282/282 [00:17<00:00, 15.76it/s]\n"
     ]
    },
    {
     "name": "stdout",
     "output_type": "stream",
     "text": [
      "EPOCH 55: Train acc: 94.44% Train Loss: 0.3018 Test acc: 78.79% Test Loss: 1.6310\n"
     ]
    },
    {
     "name": "stderr",
     "output_type": "stream",
     "text": [
      "100%|██████████| 313/313 [00:57<00:00,  5.43it/s]\n",
      "100%|██████████| 282/282 [00:17<00:00, 15.68it/s]\n"
     ]
    },
    {
     "name": "stdout",
     "output_type": "stream",
     "text": [
      "EPOCH 56: Train acc: 94.48% Train Loss: 0.3108 Test acc: 79.09% Test Loss: 1.6203\n"
     ]
    },
    {
     "name": "stderr",
     "output_type": "stream",
     "text": [
      "100%|██████████| 313/313 [00:57<00:00,  5.45it/s]\n",
      "100%|██████████| 282/282 [00:18<00:00, 15.60it/s]\n"
     ]
    },
    {
     "name": "stdout",
     "output_type": "stream",
     "text": [
      "EPOCH 57: Train acc: 94.52% Train Loss: 0.3010 Test acc: 79.07% Test Loss: 1.6283\n"
     ]
    },
    {
     "name": "stderr",
     "output_type": "stream",
     "text": [
      "100%|██████████| 313/313 [00:57<00:00,  5.44it/s]\n",
      "100%|██████████| 282/282 [00:18<00:00, 15.64it/s]\n"
     ]
    },
    {
     "name": "stdout",
     "output_type": "stream",
     "text": [
      "EPOCH 58: Train acc: 94.42% Train Loss: 0.3016 Test acc: 78.99% Test Loss: 1.5922\n"
     ]
    },
    {
     "name": "stderr",
     "output_type": "stream",
     "text": [
      "100%|██████████| 313/313 [00:57<00:00,  5.45it/s]\n",
      "100%|██████████| 282/282 [00:18<00:00, 15.61it/s]\n"
     ]
    },
    {
     "name": "stdout",
     "output_type": "stream",
     "text": [
      "EPOCH 59: Train acc: 94.53% Train Loss: 0.3047 Test acc: 78.67% Test Loss: 1.6605\n"
     ]
    },
    {
     "name": "stderr",
     "output_type": "stream",
     "text": [
      "100%|██████████| 313/313 [00:57<00:00,  5.44it/s]\n",
      "100%|██████████| 282/282 [00:17<00:00, 15.81it/s]\n"
     ]
    },
    {
     "name": "stdout",
     "output_type": "stream",
     "text": [
      "EPOCH 60: Train acc: 94.64% Train Loss: 0.2981 Test acc: 78.43% Test Loss: 1.7191\n"
     ]
    },
    {
     "name": "stderr",
     "output_type": "stream",
     "text": [
      "100%|██████████| 313/313 [00:57<00:00,  5.44it/s]\n",
      "100%|██████████| 282/282 [00:17<00:00, 15.74it/s]\n"
     ]
    },
    {
     "name": "stdout",
     "output_type": "stream",
     "text": [
      "EPOCH 61: Train acc: 94.47% Train Loss: 0.3045 Test acc: 78.62% Test Loss: 1.6607\n"
     ]
    },
    {
     "name": "stderr",
     "output_type": "stream",
     "text": [
      "100%|██████████| 313/313 [00:57<00:00,  5.43it/s]\n",
      "100%|██████████| 282/282 [00:17<00:00, 15.71it/s]\n"
     ]
    },
    {
     "name": "stdout",
     "output_type": "stream",
     "text": [
      "EPOCH 62: Train acc: 94.61% Train Loss: 0.3009 Test acc: 78.93% Test Loss: 1.5672\n"
     ]
    },
    {
     "name": "stderr",
     "output_type": "stream",
     "text": [
      "100%|██████████| 313/313 [00:57<00:00,  5.45it/s]\n",
      "100%|██████████| 282/282 [00:17<00:00, 15.71it/s]\n"
     ]
    },
    {
     "name": "stdout",
     "output_type": "stream",
     "text": [
      "EPOCH 63: Train acc: 94.54% Train Loss: 0.3047 Test acc: 79.13% Test Loss: 1.6193\n"
     ]
    },
    {
     "name": "stderr",
     "output_type": "stream",
     "text": [
      "100%|██████████| 313/313 [00:57<00:00,  5.44it/s]\n",
      "100%|██████████| 282/282 [00:18<00:00, 15.66it/s]\n"
     ]
    },
    {
     "name": "stdout",
     "output_type": "stream",
     "text": [
      "EPOCH 64: Train acc: 94.42% Train Loss: 0.3023 Test acc: 78.38% Test Loss: 1.6780\n"
     ]
    },
    {
     "name": "stderr",
     "output_type": "stream",
     "text": [
      "100%|██████████| 313/313 [00:57<00:00,  5.44it/s]\n",
      "100%|██████████| 282/282 [00:17<00:00, 15.85it/s]\n"
     ]
    },
    {
     "name": "stdout",
     "output_type": "stream",
     "text": [
      "EPOCH 65: Train acc: 94.34% Train Loss: 0.3096 Test acc: 79.12% Test Loss: 1.5856\n"
     ]
    },
    {
     "name": "stderr",
     "output_type": "stream",
     "text": [
      "100%|██████████| 313/313 [00:57<00:00,  5.44it/s]\n",
      "100%|██████████| 282/282 [00:17<00:00, 15.69it/s]\n"
     ]
    },
    {
     "name": "stdout",
     "output_type": "stream",
     "text": [
      "EPOCH 66: Train acc: 94.47% Train Loss: 0.3010 Test acc: 78.90% Test Loss: 1.6244\n"
     ]
    },
    {
     "name": "stderr",
     "output_type": "stream",
     "text": [
      "100%|██████████| 313/313 [00:57<00:00,  5.44it/s]\n",
      "100%|██████████| 282/282 [00:18<00:00, 15.65it/s]\n"
     ]
    },
    {
     "name": "stdout",
     "output_type": "stream",
     "text": [
      "EPOCH 67: Train acc: 94.50% Train Loss: 0.3159 Test acc: 78.69% Test Loss: 1.6377\n"
     ]
    },
    {
     "name": "stderr",
     "output_type": "stream",
     "text": [
      "100%|██████████| 313/313 [00:57<00:00,  5.43it/s]\n",
      "100%|██████████| 282/282 [00:18<00:00, 15.64it/s]\n"
     ]
    },
    {
     "name": "stdout",
     "output_type": "stream",
     "text": [
      "EPOCH 68: Train acc: 94.44% Train Loss: 0.3075 Test acc: 78.74% Test Loss: 1.6526\n"
     ]
    },
    {
     "name": "stderr",
     "output_type": "stream",
     "text": [
      "100%|██████████| 313/313 [00:57<00:00,  5.45it/s]\n",
      "100%|██████████| 282/282 [00:17<00:00, 15.78it/s]\n"
     ]
    },
    {
     "name": "stdout",
     "output_type": "stream",
     "text": [
      "EPOCH 69: Train acc: 94.40% Train Loss: 0.3009 Test acc: 78.53% Test Loss: 1.6811\n"
     ]
    },
    {
     "name": "stderr",
     "output_type": "stream",
     "text": [
      "100%|██████████| 313/313 [00:57<00:00,  5.43it/s]\n",
      "100%|██████████| 282/282 [00:17<00:00, 15.74it/s]\n"
     ]
    },
    {
     "name": "stdout",
     "output_type": "stream",
     "text": [
      "EPOCH 70: Train acc: 94.67% Train Loss: 0.3040 Test acc: 78.98% Test Loss: 1.5922\n"
     ]
    },
    {
     "name": "stderr",
     "output_type": "stream",
     "text": [
      "100%|██████████| 313/313 [00:57<00:00,  5.44it/s]\n",
      "100%|██████████| 282/282 [00:18<00:00, 15.56it/s]\n"
     ]
    },
    {
     "name": "stdout",
     "output_type": "stream",
     "text": [
      "EPOCH 71: Train acc: 94.44% Train Loss: 0.3055 Test acc: 79.21% Test Loss: 1.5704\n"
     ]
    },
    {
     "name": "stderr",
     "output_type": "stream",
     "text": [
      "100%|██████████| 313/313 [00:57<00:00,  5.43it/s]\n",
      "100%|██████████| 282/282 [00:17<00:00, 15.79it/s]\n"
     ]
    },
    {
     "name": "stdout",
     "output_type": "stream",
     "text": [
      "EPOCH 72: Train acc: 94.47% Train Loss: 0.2971 Test acc: 78.60% Test Loss: 1.6907\n"
     ]
    },
    {
     "name": "stderr",
     "output_type": "stream",
     "text": [
      "100%|██████████| 313/313 [00:57<00:00,  5.45it/s]\n",
      "100%|██████████| 282/282 [00:17<00:00, 15.79it/s]\n"
     ]
    },
    {
     "name": "stdout",
     "output_type": "stream",
     "text": [
      "EPOCH 73: Train acc: 94.64% Train Loss: 0.2996 Test acc: 78.49% Test Loss: 1.6881\n"
     ]
    },
    {
     "name": "stderr",
     "output_type": "stream",
     "text": [
      "100%|██████████| 313/313 [00:57<00:00,  5.42it/s]\n",
      "100%|██████████| 282/282 [00:17<00:00, 15.68it/s]\n"
     ]
    },
    {
     "name": "stdout",
     "output_type": "stream",
     "text": [
      "EPOCH 74: Train acc: 94.22% Train Loss: 0.3140 Test acc: 78.68% Test Loss: 1.6361\n"
     ]
    },
    {
     "name": "stderr",
     "output_type": "stream",
     "text": [
      "100%|██████████| 313/313 [00:57<00:00,  5.44it/s]\n",
      "100%|██████████| 282/282 [00:18<00:00, 15.60it/s]\n"
     ]
    },
    {
     "name": "stdout",
     "output_type": "stream",
     "text": [
      "EPOCH 75: Train acc: 94.66% Train Loss: 0.3092 Test acc: 78.37% Test Loss: 1.6639\n"
     ]
    },
    {
     "name": "stderr",
     "output_type": "stream",
     "text": [
      "100%|██████████| 313/313 [00:57<00:00,  5.44it/s]\n",
      "100%|██████████| 282/282 [00:18<00:00, 15.64it/s]\n"
     ]
    },
    {
     "name": "stdout",
     "output_type": "stream",
     "text": [
      "EPOCH 76: Train acc: 94.11% Train Loss: 0.3082 Test acc: 78.58% Test Loss: 1.7097\n"
     ]
    },
    {
     "name": "stderr",
     "output_type": "stream",
     "text": [
      "100%|██████████| 313/313 [00:57<00:00,  5.44it/s]\n",
      "100%|██████████| 282/282 [00:17<00:00, 15.87it/s]\n"
     ]
    },
    {
     "name": "stdout",
     "output_type": "stream",
     "text": [
      "EPOCH 77: Train acc: 94.66% Train Loss: 0.3043 Test acc: 79.20% Test Loss: 1.5818\n"
     ]
    },
    {
     "name": "stderr",
     "output_type": "stream",
     "text": [
      "100%|██████████| 313/313 [00:57<00:00,  5.44it/s]\n",
      "100%|██████████| 282/282 [00:17<00:00, 15.83it/s]\n"
     ]
    },
    {
     "name": "stdout",
     "output_type": "stream",
     "text": [
      "EPOCH 78: Train acc: 94.53% Train Loss: 0.3027 Test acc: 78.30% Test Loss: 1.7168\n"
     ]
    },
    {
     "name": "stderr",
     "output_type": "stream",
     "text": [
      "100%|██████████| 313/313 [00:57<00:00,  5.43it/s]\n",
      "100%|██████████| 282/282 [00:17<00:00, 15.76it/s]\n"
     ]
    },
    {
     "name": "stdout",
     "output_type": "stream",
     "text": [
      "EPOCH 79: Train acc: 94.04% Train Loss: 0.3226 Test acc: 78.31% Test Loss: 1.6977\n"
     ]
    },
    {
     "name": "stderr",
     "output_type": "stream",
     "text": [
      "100%|██████████| 313/313 [00:57<00:00,  5.45it/s]\n",
      "100%|██████████| 282/282 [00:17<00:00, 15.74it/s]\n"
     ]
    },
    {
     "name": "stdout",
     "output_type": "stream",
     "text": [
      "EPOCH 80: Train acc: 94.33% Train Loss: 0.3110 Test acc: 78.60% Test Loss: 1.6568\n"
     ]
    },
    {
     "name": "stderr",
     "output_type": "stream",
     "text": [
      "100%|██████████| 313/313 [00:57<00:00,  5.44it/s]\n",
      " 41%|████      | 115/282 [00:07<00:10, 16.33it/s]"
     ]
    }
   ],
   "source": [
    "best_accuracy=0\n",
    "best_iteration=0\n",
    "best_params={}\n",
    "\n",
    "for e in range(EPOCHS):\n",
    "    ### TRAIN DATASET\n",
    "    preds, targets, loss = engine.train_fn(model, train_loader, criterion, optimizer, device=device)\n",
    "    train_acc = accuracy_score(targets, preds)\n",
    "    \n",
    "    scheduler.step()\n",
    "    \n",
    "    test_preds, test_targets, test_loss = engine.eval_fn(model, test_loader, criterion, device=device)\n",
    "    test_acc = accuracy_score(test_targets, test_preds)\n",
    "    \n",
    "    if test_acc > best_accuracy:\n",
    "        torch.save(model.state_dict(), config.SAVE_PATH+model_filename)\n",
    "        print(f\"Saved best parameters at epoch {e+1}\")\n",
    "        best_accuracy = test_acc\n",
    "        best_iteration = e+1\n",
    "        best_params = model.state_dict()\n",
    "    \n",
    "    print(\"EPOCH {}: Train acc: {:.2%} Train Loss: {:.4f} Test acc: {:.2%} Test Loss: {:.4f}\".format(\n",
    "        e+1,\n",
    "        train_acc,\n",
    "        loss,\n",
    "        test_acc,\n",
    "        test_loss\n",
    "    ))\n",
    "    \n",
    "    metrics = {\n",
    "                \"train/train_loss\": loss,\n",
    "                \"train/train_accuracy\": train_acc,\n",
    "                \"test/test_loss\": test_loss,\n",
    "                \"test/test_accuracy\": test_acc,\n",
    "              }\n",
    "\n",
    "    wandb.log(metrics)\n",
    "    \n",
    "# Load best model paramns    \n",
    "model.load_state_dict(torch.load(config.SAVE_PATH+model_filename))\n",
    "\n",
    "test_preds, test_targets, test_loss = engine.eval_fn(model, test_loader, criterion, device=device)\n",
    "wandb.summary['test_accuracy'] = accuracy_score(test_targets, test_preds)\n",
    "wandb.summary['test_loss'] = test_loss\n",
    "\n",
    "wandb.log({\"conf_mat\" : wandb.plot.confusion_matrix(probs=None,\n",
    "                            preds=test_preds, y_true=test_targets,\n",
    "                            class_names=classes)})\n",
    "\n",
    "wandb.finish()"
   ]
  },
  {
   "cell_type": "code",
   "execution_count": null,
   "id": "a95ce9c3-b973-42dd-a3c1-8e2e43aa348f",
   "metadata": {},
   "outputs": [],
   "source": [
    "model.load_state_dict(torch.load(config.SAVE_PATH+model_filename))"
   ]
  },
  {
   "cell_type": "code",
   "execution_count": null,
   "id": "c49d971c-7e97-4326-b1ec-dffb96e89baa",
   "metadata": {},
   "outputs": [],
   "source": [
    "test_preds, test_targets, test_loss = engine.eval_fn(model, test_loader, criterion, device=device)"
   ]
  },
  {
   "cell_type": "code",
   "execution_count": null,
   "id": "3caf4e20-e50a-49bf-9308-71969545dc1b",
   "metadata": {},
   "outputs": [],
   "source": [
    "accuracy_score(test_targets, test_preds)"
   ]
  },
  {
   "cell_type": "markdown",
   "id": "23545e85-0d80-4361-8517-17f059952909",
   "metadata": {},
   "source": [
    "---"
   ]
  },
  {
   "cell_type": "markdown",
   "id": "abb58d00-a42c-48e2-88b4-fd4640f4c90d",
   "metadata": {},
   "source": [
    "### Accuracy per class and confusion matrix"
   ]
  },
  {
   "cell_type": "code",
   "execution_count": null,
   "id": "27dda4e5-665b-4cf0-b6c1-0fd1be50c33e",
   "metadata": {},
   "outputs": [],
   "source": [
    "class_acc = dict()\n",
    "matrix = np.zeros((7,7), dtype=int)\n",
    "\n",
    "for i in range(7):\n",
    "    pred_index = np.where(test_targets==i)[0]\n",
    "    class_acc[class_mapper[i]] = accuracy_score(test_targets[pred_index], test_preds[pred_index])\n",
    "    \n",
    "    for j in test_preds[pred_index]:\n",
    "        matrix[i,j]+=1 "
   ]
  },
  {
   "cell_type": "code",
   "execution_count": null,
   "id": "9c7eb947-cf08-4442-b098-86e95438bfee",
   "metadata": {},
   "outputs": [],
   "source": [
    "class_acc"
   ]
  },
  {
   "cell_type": "code",
   "execution_count": null,
   "id": "9e70f591-6821-40d9-aca6-b91e80ae1eb0",
   "metadata": {},
   "outputs": [],
   "source": [
    "print(f\"Global Test accuracy {accuracy_score(test_targets, test_preds)}\")\n",
    "\n",
    "sum_of_rows = matrix.sum(axis=1)\n",
    "conf_mat = 100*matrix / sum_of_rows[:, np.newaxis]\n",
    "\n",
    "df_cm = pd.DataFrame(conf_mat, index = class_acc.keys(),\n",
    "                  columns = class_acc.keys())\n",
    "\n",
    "plt.figure(figsize = (8,5))\n",
    "plt.title(\"Confusion Matrix (Accuracy %)\")\n",
    "sns.heatmap(df_cm, annot=True)"
   ]
  },
  {
   "cell_type": "code",
   "execution_count": null,
   "id": "58d120b4-789f-4261-ac93-226d20b2289c",
   "metadata": {},
   "outputs": [],
   "source": []
  },
  {
   "cell_type": "code",
   "execution_count": null,
   "id": "2837b546-e68b-4d80-8971-e4c90f9716d7",
   "metadata": {},
   "outputs": [],
   "source": []
  }
 ],
 "metadata": {
  "kernelspec": {
   "display_name": "Python 3",
   "language": "python",
   "name": "python3"
  },
  "language_info": {
   "codemirror_mode": {
    "name": "ipython",
    "version": 3
   },
   "file_extension": ".py",
   "mimetype": "text/x-python",
   "name": "python",
   "nbconvert_exporter": "python",
   "pygments_lexer": "ipython3",
   "version": "3.9.7"
  }
 },
 "nbformat": 4,
 "nbformat_minor": 5
}
