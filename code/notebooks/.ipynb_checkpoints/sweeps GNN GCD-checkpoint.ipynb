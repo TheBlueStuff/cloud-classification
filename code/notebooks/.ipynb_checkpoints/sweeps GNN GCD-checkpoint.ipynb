{
 "cells": [
  {
   "cell_type": "code",
   "execution_count": 1,
   "id": "e77ccc5d-e07e-406a-aac0-a8ae99ffedae",
   "metadata": {},
   "outputs": [
    {
     "name": "stdout",
     "output_type": "stream",
     "text": [
      "/home/ltorres/leo/tesis/cloud-classification/code\n"
     ]
    }
   ],
   "source": [
    "%cd .."
   ]
  },
  {
   "cell_type": "code",
   "execution_count": 2,
   "id": "df066a8e-ed76-4b62-b9be-b3e8e3379b8b",
   "metadata": {},
   "outputs": [],
   "source": [
    "%load_ext autoreload\n",
    "%autoreload 2"
   ]
  },
  {
   "cell_type": "code",
   "execution_count": 3,
   "id": "36811c7d-0c3b-4845-a702-4de962035cb9",
   "metadata": {},
   "outputs": [],
   "source": [
    "from torchvision.io import read_image\n",
    "import glob\n",
    "import os\n",
    "import math\n",
    "\n",
    "\n",
    "import numpy as np\n",
    "import pandas as pd\n",
    "import matplotlib.pyplot as plt\n",
    "import seaborn as sns\n",
    "\n",
    "from random import sample\n",
    "import torch\n",
    "import torch.nn as nn"
   ]
  },
  {
   "cell_type": "code",
   "execution_count": 4,
   "id": "a2cfa629-84c4-45ab-84ff-f8a4bdeacf75",
   "metadata": {},
   "outputs": [],
   "source": [
    "from src.dataset import GCD\n",
    "from src import config\n",
    "from src import engine_gnn as engine\n",
    "from src import utils\n",
    "from src import sweeps\n",
    "\n",
    "from src.models.graph_nets import GraphConvGNN, GATConvGNN"
   ]
  },
  {
   "cell_type": "code",
   "execution_count": 5,
   "id": "d4e1acb2-496d-45e5-9e66-92dda51e7888",
   "metadata": {},
   "outputs": [],
   "source": [
    "from sklearn.metrics import accuracy_score"
   ]
  },
  {
   "cell_type": "code",
   "execution_count": 6,
   "id": "dde03952-d051-49e5-b020-2480a8322418",
   "metadata": {},
   "outputs": [],
   "source": [
    "import wandb"
   ]
  },
  {
   "cell_type": "code",
   "execution_count": 7,
   "id": "dde3bba7-7f94-431c-a549-ad697d484bcc",
   "metadata": {},
   "outputs": [
    {
     "name": "stderr",
     "output_type": "stream",
     "text": [
      "\u001b[34m\u001b[1mwandb\u001b[0m: Currently logged in as: \u001b[33mleonardtd\u001b[0m (use `wandb login --relogin` to force relogin)\n"
     ]
    },
    {
     "data": {
      "text/plain": [
       "True"
      ]
     },
     "execution_count": 7,
     "metadata": {},
     "output_type": "execute_result"
    }
   ],
   "source": [
    "wandb.login()"
   ]
  },
  {
   "cell_type": "code",
   "execution_count": 8,
   "id": "93fc98c7-f864-4fa2-b595-773aeedce8de",
   "metadata": {},
   "outputs": [],
   "source": [
    "device = config.DEVICE"
   ]
  },
  {
   "cell_type": "markdown",
   "id": "ba14ef3e-9e8e-47c4-9700-ecf8a501ab85",
   "metadata": {},
   "source": [
    "### Sweep config"
   ]
  },
  {
   "cell_type": "code",
   "execution_count": 9,
   "id": "d879aa0b-69d6-47b8-8795-8007c53d8c46",
   "metadata": {},
   "outputs": [],
   "source": [
    "sweep_config = {\n",
    "    'method': 'random'\n",
    "    }"
   ]
  },
  {
   "cell_type": "code",
   "execution_count": 10,
   "id": "e43ec934-f5b0-4f38-b467-d88e8fb2deb0",
   "metadata": {},
   "outputs": [],
   "source": [
    "metric = {\n",
    "    'name': 'test_accuracy',\n",
    "    'goal': 'maximize'   \n",
    "    }\n",
    "\n",
    "sweep_config['metric'] = metric"
   ]
  },
  {
   "cell_type": "code",
   "execution_count": 28,
   "id": "7cb3ecf1-5eaf-4f29-8e76-375f7f9e606e",
   "metadata": {},
   "outputs": [],
   "source": [
    "# parameters_dict = {\n",
    "#     'optimizer': {\n",
    "#         'values': ['adam', 'sgd', 'nadam']\n",
    "#         },\n",
    "#     'criterion': {\n",
    "#         'values': ['cross_entropy', 'loge']\n",
    "#         },\n",
    "#     'hidden_dim': {\n",
    "#         'values': [128, 256, 512, 1024]\n",
    "#         },\n",
    "#     'num_hidden': {\n",
    "#         'values': [2,3,4]\n",
    "#         },\n",
    "#     'num_heads': {\n",
    "#           'values': [1,2,4]\n",
    "#         },\n",
    "#     'similarity_threshold': {\n",
    "#           'values': [0.5, 0.6, 0.7, 0.75, 0.8, 0.9]\n",
    "#         },\n",
    "#     }\n",
    "\n",
    "# sweep_config['parameters'] = parameters_dict"
   ]
  },
  {
   "cell_type": "code",
   "execution_count": null,
   "id": "cea09e3d-1236-4f16-850f-0082b66877f5",
   "metadata": {},
   "outputs": [],
   "source": [
    "parameters_dict = {\n",
    "    'optimizer': {\n",
    "        'values': ['sgd', 'nadam']\n",
    "        },\n",
    "    'criterion': {\n",
    "        'values': ['cross_entropy', 'loge']\n",
    "        },\n",
    "    'hidden_dim': {\n",
    "        'values': [512, 1024]\n",
    "        },\n",
    "    'num_hidden': {\n",
    "        'values': [2,3,4]\n",
    "        },\n",
    "    'num_heads': {\n",
    "          'values': [1,4]\n",
    "        },\n",
    "    'similarity_threshold': {\n",
    "          'values': [0.65, 0.7, 0.75, 0.8]\n",
    "        },\n",
    "    }\n",
    "\n",
    "sweep_config['parameters'] = parameters_dict"
   ]
  },
  {
   "cell_type": "code",
   "execution_count": 12,
   "id": "fd320388-eaef-42a6-bb44-b704bf334a92",
   "metadata": {},
   "outputs": [],
   "source": [
    "parameters_dict.update({\n",
    "    'epochs': {\n",
    "        'value': config.EPOCHS,\n",
    "        },\n",
    "    'device': {\n",
    "        'value': device,\n",
    "        },\n",
    "    'classes': {\n",
    "        'value': config.GCD_CLASSES,\n",
    "        },\n",
    "    })"
   ]
  },
  {
   "cell_type": "code",
   "execution_count": 13,
   "id": "df0dea69-e5cb-41ca-bf4a-1c8fa3082f8d",
   "metadata": {},
   "outputs": [],
   "source": [
    "parameters_dict.update({\n",
    "    'learning_rate': {\n",
    "        # a flat distribution between 0 and 0.1\n",
    "        'distribution': 'uniform',\n",
    "        'min': 5e-6,\n",
    "        'max': 3e-5\n",
    "      },\n",
    "    'batch_size': {\n",
    "        # integers between 16 and 32\n",
    "        # with evenly-distributed logarithms \n",
    "        'distribution': 'q_log_uniform',\n",
    "        'q': 1,\n",
    "        'min': math.log(16),\n",
    "        'max': math.log(36),\n",
    "      }\n",
    "    })"
   ]
  },
  {
   "cell_type": "code",
   "execution_count": 14,
   "id": "077504ab-194a-4fdc-964d-e810c9e28f6e",
   "metadata": {},
   "outputs": [
    {
     "data": {
      "text/plain": [
       "{'method': 'random',\n",
       " 'metric': {'name': 'loss', 'goal': 'minimize'},\n",
       " 'parameters': {'optimizer': {'values': ['adam', 'sgd', 'nadam']},\n",
       "  'criterion': {'values': ['cross_entropy', 'loge']},\n",
       "  'hidden_dim': {'values': [128, 256, 512, 1024]},\n",
       "  'num_hidden': {'values': [2, 3, 4]},\n",
       "  'num_heads': {'values': [1, 2, 4]},\n",
       "  'similarity_threshold': {'values': [0.5, 0.6, 0.7, 0.75, 0.8, 0.9]},\n",
       "  'epochs': {'value': 25},\n",
       "  'device': {'value': 'cuda:2'},\n",
       "  'learning_rate': {'distribution': 'uniform', 'min': 1e-06, 'max': 6e-05},\n",
       "  'batch_size': {'distribution': 'q_log_uniform',\n",
       "   'q': 1,\n",
       "   'min': 2.772588722239781,\n",
       "   'max': 3.4657359027997265}}}"
      ]
     },
     "execution_count": 14,
     "metadata": {},
     "output_type": "execute_result"
    }
   ],
   "source": [
    "sweep_config"
   ]
  },
  {
   "cell_type": "code",
   "execution_count": 15,
   "id": "c0148846-9f83-47bf-9b30-fd5a4e3dd4ee",
   "metadata": {},
   "outputs": [
    {
     "name": "stdout",
     "output_type": "stream",
     "text": [
      "Create sweep with ID: 03otgj81\n",
      "Sweep URL: https://wandb.ai/leonardtd/cloud%20classification/sweeps/03otgj81\n"
     ]
    }
   ],
   "source": [
    "sweep_id = wandb.sweep(sweep_config, project=\"cloud classification\")"
   ]
  },
  {
   "cell_type": "markdown",
   "id": "fccb424a-f8cb-4d56-a7fc-190d8e4f28eb",
   "metadata": {},
   "source": [
    "---"
   ]
  },
  {
   "cell_type": "code",
   "execution_count": 16,
   "id": "f944abcd-e322-4a2a-b387-ff9f90bdec7a",
   "metadata": {},
   "outputs": [],
   "source": [
    "def train(config=None):\n",
    "\n",
    "#Init new run\n",
    "    with wandb.init(config=config):\n",
    "\n",
    "        config = wandb.config\n",
    "        train_loader, test_loader, augmentation_loaders = utils.build_dataset_gcd(config.batch_size)\n",
    "\n",
    "        model = utils.build_model_gatconv(\n",
    "                                            7, #GCD num classes\n",
    "                                            config.hidden_dim,\n",
    "                                            config.num_hidden,\n",
    "                                            config.num_heads,\n",
    "                                            config.similarity_threshold,\n",
    "                                            config.device\n",
    "                                           )\n",
    "\n",
    "        optimizer = utils.build_optimizer(config.optimizer, model, config.learning_rate)\n",
    "        criterion = utils.build_criterion(config.criterion)\n",
    "\n",
    "        for e in range(config.epochs):\n",
    "            ### TRAIN DATASET\n",
    "                preds, targets, loss = engine.train_fn(model, \n",
    "                                       train_loader, \n",
    "                                       criterion, \n",
    "                                       optimizer, \n",
    "                                       config.device)\n",
    "                \n",
    "                train_acc = accuracy_score(targets, preds)\n",
    "\n",
    "                ### AUGMENTATION IMAGES\n",
    "                for _loader in augmentation_loaders:\n",
    "                    engine.forward_backward_pass(model, \n",
    "                                                 _loader, \n",
    "                                                 criterion, \n",
    "                                                 optimizer, \n",
    "                                                 device=config.device)\n",
    "\n",
    "                test_preds, test_targets, test_loss = engine.eval_fn(model, \n",
    "                                           test_loader, \n",
    "                                           criterion, \n",
    "                                           device=config.device)\n",
    "                test_acc = accuracy_score(test_targets, test_preds)\n",
    "\n",
    "\n",
    "                print(\"EPOCH {}: Train acc: {:.2%} Train Loss: {:.4f} Test acc: {:.2%} Test Loss: {:.4f}\".format(\n",
    "                    e+1,\n",
    "                    train_acc,\n",
    "                    loss,\n",
    "                    test_acc,\n",
    "                    test_loss\n",
    "                ))\n",
    "\n",
    "                metrics = {\n",
    "                            \"train/train_loss\": loss,\n",
    "                            \"train/train_accuracy\": train_acc,\n",
    "                            \"test/test_loss\": test_loss,\n",
    "                            \"test/test_accuracy\": test_acc,\n",
    "                          }\n",
    "\n",
    "                wandb.log(metrics)\n",
    "                wandb.log({\"test_accuracy\": test_acc, \"epoch\": e+1})\n",
    "            \n",
    "        wandb.log({\"conf_mat\" : wandb.plot.confusion_matrix(probs=None, \n",
    "                                                            preds=test_preds,\n",
    "                                                            y_true=test_targets,\n",
    "                                                            class_names=config.classes)})"
   ]
  },
  {
   "cell_type": "markdown",
   "id": "8a9c4f71-2c36-4c62-8787-fb2b576e1ee2",
   "metadata": {},
   "source": [
    "---"
   ]
  },
  {
   "cell_type": "code",
   "execution_count": 17,
   "id": "2e037e0d-2af7-4f83-a310-230724a62df3",
   "metadata": {},
   "outputs": [
    {
     "name": "stderr",
     "output_type": "stream",
     "text": [
      "\u001b[34m\u001b[1mwandb\u001b[0m: Agent Starting Run: dhty9zi0 with config:\n",
      "\u001b[34m\u001b[1mwandb\u001b[0m: \tbatch_size: 23\n",
      "\u001b[34m\u001b[1mwandb\u001b[0m: \tcriterion: loge\n",
      "\u001b[34m\u001b[1mwandb\u001b[0m: \tdevice: cuda:2\n",
      "\u001b[34m\u001b[1mwandb\u001b[0m: \tepochs: 25\n",
      "\u001b[34m\u001b[1mwandb\u001b[0m: \thidden_dim: 1024\n",
      "\u001b[34m\u001b[1mwandb\u001b[0m: \tlearning_rate: 5.101083500805064e-06\n",
      "\u001b[34m\u001b[1mwandb\u001b[0m: \tnum_heads: 1\n",
      "\u001b[34m\u001b[1mwandb\u001b[0m: \tnum_hidden: 4\n",
      "\u001b[34m\u001b[1mwandb\u001b[0m: \toptimizer: sgd\n",
      "\u001b[34m\u001b[1mwandb\u001b[0m: \tsimilarity_threshold: 0.75\n"
     ]
    },
    {
     "data": {
      "text/html": [
       "Tracking run with wandb version 0.12.11"
      ],
      "text/plain": [
       "<IPython.core.display.HTML object>"
      ]
     },
     "metadata": {},
     "output_type": "display_data"
    },
    {
     "data": {
      "text/html": [
       "Run data is saved locally in <code>/home/ltorres/leo/tesis/cloud-classification/code/wandb/run-20220330_223311-dhty9zi0</code>"
      ],
      "text/plain": [
       "<IPython.core.display.HTML object>"
      ]
     },
     "metadata": {},
     "output_type": "display_data"
    },
    {
     "data": {
      "text/html": [
       "Syncing run <strong><a href=\"https://wandb.ai/leonardtd/cloud%20classification/runs/dhty9zi0\" target=\"_blank\">lively-sweep-1</a></strong> to <a href=\"https://wandb.ai/leonardtd/cloud%20classification\" target=\"_blank\">Weights & Biases</a> (<a href=\"https://wandb.me/run\" target=\"_blank\">docs</a>)<br/>Sweep page:  <a href=\"https://wandb.ai/leonardtd/cloud%20classification/sweeps/03otgj81\" target=\"_blank\">https://wandb.ai/leonardtd/cloud%20classification/sweeps/03otgj81</a>"
      ],
      "text/plain": [
       "<IPython.core.display.HTML object>"
      ]
     },
     "metadata": {},
     "output_type": "display_data"
    },
    {
     "name": "stderr",
     "output_type": "stream",
     "text": [
      "100%|██████████| 435/435 [01:00<00:00,  7.16it/s]\n",
      "100%|██████████| 435/435 [00:58<00:00,  7.44it/s]\n",
      "100%|██████████| 435/435 [00:58<00:00,  7.40it/s]\n",
      "100%|██████████| 435/435 [00:58<00:00,  7.45it/s]\n",
      "100%|██████████| 435/435 [00:58<00:00,  7.45it/s]\n",
      "100%|██████████| 392/392 [00:19<00:00, 19.98it/s]\n"
     ]
    },
    {
     "name": "stdout",
     "output_type": "stream",
     "text": [
      "EPOCH 1: Train acc: 37.91% Train Loss: 3.6822 Test acc: 53.23% Test Loss: 2.7823\n"
     ]
    },
    {
     "name": "stderr",
     "output_type": "stream",
     "text": [
      "100%|██████████| 435/435 [01:01<00:00,  7.13it/s]\n",
      "100%|██████████| 435/435 [00:58<00:00,  7.43it/s]\n",
      "100%|██████████| 435/435 [00:58<00:00,  7.41it/s]\n",
      "100%|██████████| 435/435 [00:58<00:00,  7.46it/s]\n",
      "100%|██████████| 435/435 [00:58<00:00,  7.41it/s]\n",
      "100%|██████████| 392/392 [00:19<00:00, 20.31it/s]\n"
     ]
    },
    {
     "name": "stdout",
     "output_type": "stream",
     "text": [
      "EPOCH 2: Train acc: 64.59% Train Loss: 2.4977 Test acc: 63.86% Test Loss: 2.3849\n"
     ]
    },
    {
     "name": "stderr",
     "output_type": "stream",
     "text": [
      "100%|██████████| 435/435 [01:00<00:00,  7.18it/s]\n",
      "100%|██████████| 435/435 [00:58<00:00,  7.44it/s]\n",
      "100%|██████████| 435/435 [00:58<00:00,  7.41it/s]\n",
      "100%|██████████| 435/435 [00:58<00:00,  7.46it/s]\n",
      "100%|██████████| 435/435 [00:58<00:00,  7.41it/s]\n",
      "100%|██████████| 392/392 [00:19<00:00, 19.95it/s]\n"
     ]
    },
    {
     "name": "stdout",
     "output_type": "stream",
     "text": [
      "EPOCH 3: Train acc: 73.43% Train Loss: 2.0289 Test acc: 71.06% Test Loss: 2.0831\n"
     ]
    },
    {
     "name": "stderr",
     "output_type": "stream",
     "text": [
      "100%|██████████| 435/435 [01:00<00:00,  7.16it/s]\n",
      "100%|██████████| 435/435 [00:58<00:00,  7.44it/s]\n",
      "100%|██████████| 435/435 [00:58<00:00,  7.42it/s]\n",
      "100%|██████████| 435/435 [00:58<00:00,  7.45it/s]\n",
      "100%|██████████| 435/435 [00:58<00:00,  7.42it/s]\n",
      "100%|██████████| 392/392 [00:19<00:00, 20.05it/s]\n"
     ]
    },
    {
     "name": "stdout",
     "output_type": "stream",
     "text": [
      "EPOCH 4: Train acc: 78.05% Train Loss: 1.7197 Test acc: 72.06% Test Loss: 1.9424\n"
     ]
    },
    {
     "name": "stderr",
     "output_type": "stream",
     "text": [
      "100%|██████████| 435/435 [01:00<00:00,  7.20it/s]\n",
      "100%|██████████| 435/435 [00:58<00:00,  7.42it/s]\n",
      "100%|██████████| 435/435 [00:58<00:00,  7.44it/s]\n",
      "100%|██████████| 435/435 [00:58<00:00,  7.47it/s]\n",
      "100%|██████████| 435/435 [00:58<00:00,  7.44it/s]\n",
      "100%|██████████| 392/392 [00:19<00:00, 19.87it/s]\n"
     ]
    },
    {
     "name": "stdout",
     "output_type": "stream",
     "text": [
      "EPOCH 5: Train acc: 79.83% Train Loss: 1.5187 Test acc: 74.50% Test Loss: 1.7611\n"
     ]
    },
    {
     "name": "stderr",
     "output_type": "stream",
     "text": [
      "100%|██████████| 435/435 [01:00<00:00,  7.18it/s]\n",
      "100%|██████████| 435/435 [00:58<00:00,  7.42it/s]\n",
      "100%|██████████| 435/435 [00:58<00:00,  7.43it/s]\n",
      "100%|██████████| 435/435 [00:58<00:00,  7.46it/s]\n",
      "100%|██████████| 435/435 [00:58<00:00,  7.46it/s]\n",
      "100%|██████████| 392/392 [00:19<00:00, 19.96it/s]\n"
     ]
    },
    {
     "name": "stdout",
     "output_type": "stream",
     "text": [
      "EPOCH 6: Train acc: 81.53% Train Loss: 1.3626 Test acc: 73.36% Test Loss: 1.7580\n"
     ]
    },
    {
     "name": "stderr",
     "output_type": "stream",
     "text": [
      "100%|██████████| 435/435 [01:00<00:00,  7.17it/s]\n",
      "100%|██████████| 435/435 [00:58<00:00,  7.39it/s]\n",
      "100%|██████████| 435/435 [00:58<00:00,  7.41it/s]\n",
      "100%|██████████| 435/435 [00:58<00:00,  7.46it/s]\n",
      "100%|██████████| 435/435 [00:58<00:00,  7.43it/s]\n",
      "100%|██████████| 392/392 [00:19<00:00, 19.91it/s]\n"
     ]
    },
    {
     "name": "stdout",
     "output_type": "stream",
     "text": [
      "EPOCH 7: Train acc: 83.45% Train Loss: 1.1998 Test acc: 76.12% Test Loss: 1.5644\n"
     ]
    },
    {
     "name": "stderr",
     "output_type": "stream",
     "text": [
      "100%|██████████| 435/435 [01:00<00:00,  7.20it/s]\n",
      "100%|██████████| 435/435 [00:58<00:00,  7.44it/s]\n",
      "100%|██████████| 435/435 [00:58<00:00,  7.40it/s]\n",
      "100%|██████████| 435/435 [00:58<00:00,  7.46it/s]\n",
      "100%|██████████| 435/435 [00:58<00:00,  7.42it/s]\n",
      "100%|██████████| 392/392 [00:19<00:00, 19.89it/s]\n"
     ]
    },
    {
     "name": "stdout",
     "output_type": "stream",
     "text": [
      "EPOCH 8: Train acc: 83.60% Train Loss: 1.1124 Test acc: 76.27% Test Loss: 1.5387\n"
     ]
    },
    {
     "name": "stderr",
     "output_type": "stream",
     "text": [
      "100%|██████████| 435/435 [01:00<00:00,  7.17it/s]\n",
      "100%|██████████| 435/435 [00:58<00:00,  7.44it/s]\n",
      "100%|██████████| 435/435 [00:58<00:00,  7.42it/s]\n",
      "100%|██████████| 435/435 [00:58<00:00,  7.46it/s]\n",
      "100%|██████████| 435/435 [00:58<00:00,  7.42it/s]\n",
      "100%|██████████| 392/392 [00:19<00:00, 19.95it/s]\n"
     ]
    },
    {
     "name": "stdout",
     "output_type": "stream",
     "text": [
      "EPOCH 9: Train acc: 84.08% Train Loss: 1.0391 Test acc: 74.16% Test Loss: 1.6158\n"
     ]
    },
    {
     "name": "stderr",
     "output_type": "stream",
     "text": [
      "100%|██████████| 435/435 [01:00<00:00,  7.16it/s]\n",
      "100%|██████████| 435/435 [00:58<00:00,  7.42it/s]\n",
      "100%|██████████| 435/435 [00:58<00:00,  7.44it/s]\n",
      "100%|██████████| 435/435 [00:58<00:00,  7.46it/s]\n",
      "100%|██████████| 435/435 [00:58<00:00,  7.46it/s]\n",
      "100%|██████████| 392/392 [00:19<00:00, 19.90it/s]\n"
     ]
    },
    {
     "name": "stdout",
     "output_type": "stream",
     "text": [
      "EPOCH 10: Train acc: 84.84% Train Loss: 0.9780 Test acc: 76.21% Test Loss: 1.5179\n"
     ]
    },
    {
     "name": "stderr",
     "output_type": "stream",
     "text": [
      "100%|██████████| 435/435 [01:00<00:00,  7.14it/s]\n",
      "100%|██████████| 435/435 [00:58<00:00,  7.42it/s]\n",
      "100%|██████████| 435/435 [00:58<00:00,  7.41it/s]\n",
      "100%|██████████| 435/435 [00:58<00:00,  7.46it/s]\n",
      "100%|██████████| 435/435 [00:58<00:00,  7.41it/s]\n",
      "100%|██████████| 392/392 [00:19<00:00, 20.01it/s]\n"
     ]
    },
    {
     "name": "stdout",
     "output_type": "stream",
     "text": [
      "EPOCH 11: Train acc: 84.88% Train Loss: 0.9458 Test acc: 76.39% Test Loss: 1.4928\n"
     ]
    },
    {
     "name": "stderr",
     "output_type": "stream",
     "text": [
      "100%|██████████| 435/435 [01:01<00:00,  7.11it/s]\n",
      "100%|██████████| 435/435 [00:58<00:00,  7.42it/s]\n",
      "100%|██████████| 435/435 [00:58<00:00,  7.41it/s]\n",
      "100%|██████████| 435/435 [00:58<00:00,  7.47it/s]\n",
      "100%|██████████| 435/435 [00:58<00:00,  7.43it/s]\n",
      "100%|██████████| 392/392 [00:19<00:00, 20.01it/s]\n"
     ]
    },
    {
     "name": "stdout",
     "output_type": "stream",
     "text": [
      "EPOCH 12: Train acc: 86.03% Train Loss: 0.9045 Test acc: 77.41% Test Loss: 1.4408\n"
     ]
    },
    {
     "name": "stderr",
     "output_type": "stream",
     "text": [
      "100%|██████████| 435/435 [01:00<00:00,  7.17it/s]\n",
      "100%|██████████| 435/435 [00:58<00:00,  7.46it/s]\n",
      "100%|██████████| 435/435 [00:58<00:00,  7.41it/s]\n",
      "100%|██████████| 435/435 [00:58<00:00,  7.46it/s]\n",
      "100%|██████████| 435/435 [00:58<00:00,  7.38it/s]\n",
      "100%|██████████| 392/392 [00:19<00:00, 19.96it/s]\n"
     ]
    },
    {
     "name": "stdout",
     "output_type": "stream",
     "text": [
      "EPOCH 13: Train acc: 86.40% Train Loss: 0.8652 Test acc: 79.33% Test Loss: 1.3565\n"
     ]
    },
    {
     "name": "stderr",
     "output_type": "stream",
     "text": [
      "100%|██████████| 435/435 [01:00<00:00,  7.16it/s]\n",
      "100%|██████████| 435/435 [00:58<00:00,  7.44it/s]\n",
      "100%|██████████| 435/435 [00:58<00:00,  7.41it/s]\n",
      "100%|██████████| 435/435 [00:58<00:00,  7.45it/s]\n",
      "100%|██████████| 435/435 [00:58<00:00,  7.42it/s]\n",
      "100%|██████████| 392/392 [00:19<00:00, 19.98it/s]\n"
     ]
    },
    {
     "name": "stdout",
     "output_type": "stream",
     "text": [
      "EPOCH 14: Train acc: 86.69% Train Loss: 0.8511 Test acc: 79.13% Test Loss: 1.3550\n"
     ]
    },
    {
     "name": "stderr",
     "output_type": "stream",
     "text": [
      "100%|██████████| 435/435 [01:00<00:00,  7.14it/s]\n",
      "100%|██████████| 435/435 [00:58<00:00,  7.44it/s]\n",
      "100%|██████████| 435/435 [00:58<00:00,  7.42it/s]\n",
      "100%|██████████| 435/435 [00:58<00:00,  7.46it/s]\n",
      "100%|██████████| 435/435 [00:58<00:00,  7.41it/s]\n",
      "100%|██████████| 392/392 [00:19<00:00, 20.04it/s]\n"
     ]
    },
    {
     "name": "stdout",
     "output_type": "stream",
     "text": [
      "EPOCH 15: Train acc: 86.87% Train Loss: 0.8338 Test acc: 77.26% Test Loss: 1.4446\n"
     ]
    },
    {
     "name": "stderr",
     "output_type": "stream",
     "text": [
      "100%|██████████| 435/435 [01:00<00:00,  7.18it/s]\n",
      "100%|██████████| 435/435 [00:58<00:00,  7.41it/s]\n",
      "100%|██████████| 435/435 [00:58<00:00,  7.41it/s]\n",
      "100%|██████████| 435/435 [00:58<00:00,  7.47it/s]\n",
      "100%|██████████| 435/435 [00:58<00:00,  7.41it/s]\n",
      "100%|██████████| 392/392 [00:19<00:00, 20.00it/s]\n"
     ]
    },
    {
     "name": "stdout",
     "output_type": "stream",
     "text": [
      "EPOCH 16: Train acc: 86.89% Train Loss: 0.8183 Test acc: 78.73% Test Loss: 1.3744\n"
     ]
    },
    {
     "name": "stderr",
     "output_type": "stream",
     "text": [
      "100%|██████████| 435/435 [01:00<00:00,  7.16it/s]\n",
      "100%|██████████| 435/435 [00:58<00:00,  7.43it/s]\n",
      "100%|██████████| 435/435 [00:58<00:00,  7.41it/s]\n",
      "100%|██████████| 435/435 [00:58<00:00,  7.46it/s]\n",
      "100%|██████████| 435/435 [00:58<00:00,  7.39it/s]\n",
      "100%|██████████| 392/392 [00:19<00:00, 20.09it/s]\n"
     ]
    },
    {
     "name": "stdout",
     "output_type": "stream",
     "text": [
      "EPOCH 17: Train acc: 87.05% Train Loss: 0.8035 Test acc: 78.21% Test Loss: 1.3898\n"
     ]
    },
    {
     "name": "stderr",
     "output_type": "stream",
     "text": [
      "100%|██████████| 435/435 [01:00<00:00,  7.18it/s]\n",
      "100%|██████████| 435/435 [00:58<00:00,  7.42it/s]\n",
      "100%|██████████| 435/435 [00:58<00:00,  7.42it/s]\n",
      "100%|██████████| 435/435 [00:58<00:00,  7.48it/s]\n",
      "100%|██████████| 435/435 [00:58<00:00,  7.42it/s]\n",
      "100%|██████████| 392/392 [00:19<00:00, 20.13it/s]\n"
     ]
    },
    {
     "name": "stdout",
     "output_type": "stream",
     "text": [
      "EPOCH 18: Train acc: 87.85% Train Loss: 0.7791 Test acc: 77.64% Test Loss: 1.4148\n"
     ]
    },
    {
     "name": "stderr",
     "output_type": "stream",
     "text": [
      "100%|██████████| 435/435 [01:00<00:00,  7.18it/s]\n",
      "100%|██████████| 435/435 [00:58<00:00,  7.44it/s]\n",
      "100%|██████████| 435/435 [00:58<00:00,  7.42it/s]\n",
      "100%|██████████| 435/435 [00:58<00:00,  7.45it/s]\n",
      "100%|██████████| 435/435 [00:58<00:00,  7.48it/s]\n",
      "100%|██████████| 392/392 [00:19<00:00, 20.20it/s]\n"
     ]
    },
    {
     "name": "stdout",
     "output_type": "stream",
     "text": [
      "EPOCH 19: Train acc: 87.97% Train Loss: 0.7686 Test acc: 77.72% Test Loss: 1.3865\n"
     ]
    },
    {
     "name": "stderr",
     "output_type": "stream",
     "text": [
      "100%|██████████| 435/435 [01:00<00:00,  7.17it/s]\n",
      "100%|██████████| 435/435 [00:58<00:00,  7.46it/s]\n",
      "100%|██████████| 435/435 [00:58<00:00,  7.42it/s]\n",
      "100%|██████████| 435/435 [00:58<00:00,  7.46it/s]\n",
      "100%|██████████| 435/435 [00:58<00:00,  7.43it/s]\n",
      "100%|██████████| 392/392 [00:19<00:00, 20.10it/s]\n"
     ]
    },
    {
     "name": "stdout",
     "output_type": "stream",
     "text": [
      "EPOCH 20: Train acc: 87.72% Train Loss: 0.7708 Test acc: 78.64% Test Loss: 1.3519\n"
     ]
    },
    {
     "name": "stderr",
     "output_type": "stream",
     "text": [
      "100%|██████████| 435/435 [01:00<00:00,  7.19it/s]\n",
      "100%|██████████| 435/435 [00:58<00:00,  7.45it/s]\n",
      "100%|██████████| 435/435 [00:58<00:00,  7.42it/s]\n",
      "100%|██████████| 435/435 [00:58<00:00,  7.46it/s]\n",
      "100%|██████████| 435/435 [00:58<00:00,  7.43it/s]\n",
      "100%|██████████| 392/392 [00:19<00:00, 20.31it/s]\n"
     ]
    },
    {
     "name": "stdout",
     "output_type": "stream",
     "text": [
      "EPOCH 21: Train acc: 88.13% Train Loss: 0.7467 Test acc: 78.39% Test Loss: 1.3748\n"
     ]
    },
    {
     "name": "stderr",
     "output_type": "stream",
     "text": [
      "100%|██████████| 435/435 [01:00<00:00,  7.18it/s]\n",
      "100%|██████████| 435/435 [00:58<00:00,  7.44it/s]\n",
      "100%|██████████| 435/435 [00:58<00:00,  7.43it/s]\n",
      "100%|██████████| 435/435 [00:58<00:00,  7.47it/s]\n",
      "100%|██████████| 435/435 [00:58<00:00,  7.42it/s]\n",
      "100%|██████████| 392/392 [00:19<00:00, 20.12it/s]\n"
     ]
    },
    {
     "name": "stdout",
     "output_type": "stream",
     "text": [
      "EPOCH 22: Train acc: 88.81% Train Loss: 0.7273 Test acc: 79.40% Test Loss: 1.3395\n"
     ]
    },
    {
     "name": "stderr",
     "output_type": "stream",
     "text": [
      "100%|██████████| 435/435 [01:00<00:00,  7.18it/s]\n",
      "100%|██████████| 435/435 [00:58<00:00,  7.46it/s]\n",
      "100%|██████████| 435/435 [00:58<00:00,  7.40it/s]\n",
      "100%|██████████| 435/435 [00:58<00:00,  7.46it/s]\n",
      "100%|██████████| 435/435 [00:58<00:00,  7.42it/s]\n",
      "100%|██████████| 392/392 [00:19<00:00, 20.16it/s]\n"
     ]
    },
    {
     "name": "stdout",
     "output_type": "stream",
     "text": [
      "EPOCH 23: Train acc: 88.76% Train Loss: 0.7173 Test acc: 79.98% Test Loss: 1.3218\n"
     ]
    },
    {
     "name": "stderr",
     "output_type": "stream",
     "text": [
      "100%|██████████| 435/435 [01:00<00:00,  7.19it/s]\n",
      "100%|██████████| 435/435 [00:58<00:00,  7.44it/s]\n",
      "100%|██████████| 435/435 [00:58<00:00,  7.44it/s]\n",
      "100%|██████████| 435/435 [00:58<00:00,  7.46it/s]\n",
      "100%|██████████| 435/435 [00:58<00:00,  7.44it/s]\n",
      "100%|██████████| 392/392 [00:19<00:00, 20.08it/s]\n"
     ]
    },
    {
     "name": "stdout",
     "output_type": "stream",
     "text": [
      "EPOCH 24: Train acc: 88.44% Train Loss: 0.7205 Test acc: 79.08% Test Loss: 1.3553\n"
     ]
    },
    {
     "name": "stderr",
     "output_type": "stream",
     "text": [
      "100%|██████████| 435/435 [01:00<00:00,  7.15it/s]\n",
      "100%|██████████| 435/435 [00:58<00:00,  7.45it/s]\n",
      "100%|██████████| 435/435 [00:58<00:00,  7.39it/s]\n",
      "100%|██████████| 435/435 [00:58<00:00,  7.46it/s]\n",
      "100%|██████████| 435/435 [00:58<00:00,  7.42it/s]\n",
      "100%|██████████| 392/392 [00:19<00:00, 20.15it/s]\n"
     ]
    },
    {
     "name": "stdout",
     "output_type": "stream",
     "text": [
      "EPOCH 25: Train acc: 89.09% Train Loss: 0.6995 Test acc: 80.01% Test Loss: 1.3104\n",
      "\n"
     ]
    },
    {
     "data": {
      "text/html": [
       "Waiting for W&B process to finish... <strong style=\"color:red\">(failed 1).</strong> Press Control-C to abort syncing."
      ],
      "text/plain": [
       "<IPython.core.display.HTML object>"
      ]
     },
     "metadata": {},
     "output_type": "display_data"
    },
    {
     "data": {
      "application/vnd.jupyter.widget-view+json": {
       "model_id": "",
       "version_major": 2,
       "version_minor": 0
      },
      "text/plain": [
       "VBox(children=(Label(value='0.001 MB of 0.001 MB uploaded (0.000 MB deduped)\\r'), FloatProgress(value=1.0, max…"
      ]
     },
     "metadata": {},
     "output_type": "display_data"
    },
    {
     "data": {
      "text/html": [
       "<style>\n",
       "    table.wandb td:nth-child(1) { padding: 0 10px; text-align: right }\n",
       "    .wandb-row { display: flex; flex-direction: row; flex-wrap: wrap; width: 100% }\n",
       "    .wandb-col { display: flex; flex-direction: column; flex-basis: 100%; flex: 1; padding: 10px; }\n",
       "    </style>\n",
       "<div class=\"wandb-row\"><div class=\"wandb-col\"><h3>Run history:</h3><br/><table class=\"wandb\"><tr><td>epoch</td><td>▁▁▂▂▂▂▃▃▃▄▄▄▅▅▅▅▆▆▆▇▇▇▇██</td></tr><tr><td>loss</td><td>█▆▅▄▃▃▂▂▂▂▂▂▁▁▂▁▁▁▁▁▁▁▁▁▁</td></tr><tr><td>test/test_accuracy</td><td>▁▄▆▆▇▆▇▇▆▇▇▇██▇██▇▇██████</td></tr><tr><td>test/test_loss</td><td>█▆▅▄▃▃▂▂▂▂▂▂▁▁▂▁▁▁▁▁▁▁▁▁▁</td></tr><tr><td>train/train_accuracy</td><td>▁▅▆▆▇▇▇▇▇▇▇██████████████</td></tr><tr><td>train/train_loss</td><td>█▅▄▃▃▃▂▂▂▂▂▁▁▁▁▁▁▁▁▁▁▁▁▁▁</td></tr></table><br/></div><div class=\"wandb-col\"><h3>Run summary:</h3><br/><table class=\"wandb\"><tr><td>epoch</td><td>25</td></tr><tr><td>loss</td><td>1.31042</td></tr><tr><td>test/test_accuracy</td><td>0.80011</td></tr><tr><td>test/test_loss</td><td>1.31042</td></tr><tr><td>train/train_accuracy</td><td>0.8909</td></tr><tr><td>train/train_loss</td><td>0.69946</td></tr></table><br/></div></div>"
      ],
      "text/plain": [
       "<IPython.core.display.HTML object>"
      ]
     },
     "metadata": {},
     "output_type": "display_data"
    },
    {
     "data": {
      "text/html": [
       "Synced <strong style=\"color:#cdcd00\">lively-sweep-1</strong>: <a href=\"https://wandb.ai/leonardtd/cloud%20classification/runs/dhty9zi0\" target=\"_blank\">https://wandb.ai/leonardtd/cloud%20classification/runs/dhty9zi0</a><br/>Synced 6 W&B file(s), 0 media file(s), 0 artifact file(s) and 0 other file(s)"
      ],
      "text/plain": [
       "<IPython.core.display.HTML object>"
      ]
     },
     "metadata": {},
     "output_type": "display_data"
    },
    {
     "data": {
      "text/html": [
       "Find logs at: <code>./wandb/run-20220330_223311-dhty9zi0/logs</code>"
      ],
      "text/plain": [
       "<IPython.core.display.HTML object>"
      ]
     },
     "metadata": {},
     "output_type": "display_data"
    },
    {
     "name": "stderr",
     "output_type": "stream",
     "text": [
      "Run dhty9zi0 errored: NameError(\"name 'classes' is not defined\")\n",
      "\u001b[34m\u001b[1mwandb\u001b[0m: \u001b[32m\u001b[41mERROR\u001b[0m Run dhty9zi0 errored: NameError(\"name 'classes' is not defined\")\n",
      "\u001b[34m\u001b[1mwandb\u001b[0m: Agent Starting Run: rlw5rywq with config:\n",
      "\u001b[34m\u001b[1mwandb\u001b[0m: \tbatch_size: 23\n",
      "\u001b[34m\u001b[1mwandb\u001b[0m: \tcriterion: loge\n",
      "\u001b[34m\u001b[1mwandb\u001b[0m: \tdevice: cuda:2\n",
      "\u001b[34m\u001b[1mwandb\u001b[0m: \tepochs: 25\n",
      "\u001b[34m\u001b[1mwandb\u001b[0m: \thidden_dim: 1024\n",
      "\u001b[34m\u001b[1mwandb\u001b[0m: \tlearning_rate: 2.481169315141051e-05\n",
      "\u001b[34m\u001b[1mwandb\u001b[0m: \tnum_heads: 4\n",
      "\u001b[34m\u001b[1mwandb\u001b[0m: \tnum_hidden: 3\n",
      "\u001b[34m\u001b[1mwandb\u001b[0m: \toptimizer: adam\n",
      "\u001b[34m\u001b[1mwandb\u001b[0m: \tsimilarity_threshold: 0.5\n"
     ]
    },
    {
     "data": {
      "text/html": [
       "Tracking run with wandb version 0.12.11"
      ],
      "text/plain": [
       "<IPython.core.display.HTML object>"
      ]
     },
     "metadata": {},
     "output_type": "display_data"
    },
    {
     "data": {
      "text/html": [
       "Run data is saved locally in <code>/home/ltorres/leo/tesis/cloud-classification/code/wandb/run-20220331_004427-rlw5rywq</code>"
      ],
      "text/plain": [
       "<IPython.core.display.HTML object>"
      ]
     },
     "metadata": {},
     "output_type": "display_data"
    },
    {
     "data": {
      "text/html": [
       "Syncing run <strong><a href=\"https://wandb.ai/leonardtd/cloud%20classification/runs/rlw5rywq\" target=\"_blank\">laced-sweep-2</a></strong> to <a href=\"https://wandb.ai/leonardtd/cloud%20classification\" target=\"_blank\">Weights & Biases</a> (<a href=\"https://wandb.me/run\" target=\"_blank\">docs</a>)<br/>Sweep page:  <a href=\"https://wandb.ai/leonardtd/cloud%20classification/sweeps/03otgj81\" target=\"_blank\">https://wandb.ai/leonardtd/cloud%20classification/sweeps/03otgj81</a>"
      ],
      "text/plain": [
       "<IPython.core.display.HTML object>"
      ]
     },
     "metadata": {},
     "output_type": "display_data"
    },
    {
     "name": "stderr",
     "output_type": "stream",
     "text": [
      "100%|██████████| 435/435 [01:02<00:00,  6.91it/s]\n",
      "100%|██████████| 435/435 [01:01<00:00,  7.08it/s]\n",
      "100%|██████████| 435/435 [01:01<00:00,  7.09it/s]\n",
      "100%|██████████| 435/435 [01:01<00:00,  7.11it/s]\n",
      "100%|██████████| 435/435 [01:01<00:00,  7.11it/s]\n",
      "100%|██████████| 392/392 [00:19<00:00, 20.37it/s]\n"
     ]
    },
    {
     "name": "stdout",
     "output_type": "stream",
     "text": [
      "EPOCH 1: Train acc: 78.28% Train Loss: 1.2762 Test acc: 82.41% Test Loss: 1.2296\n"
     ]
    },
    {
     "name": "stderr",
     "output_type": "stream",
     "text": [
      "100%|██████████| 435/435 [01:03<00:00,  6.88it/s]\n",
      "100%|██████████| 435/435 [01:01<00:00,  7.07it/s]\n",
      "100%|██████████| 435/435 [01:01<00:00,  7.08it/s]\n",
      "100%|██████████| 435/435 [01:01<00:00,  7.08it/s]\n",
      "100%|██████████| 435/435 [01:01<00:00,  7.10it/s]\n",
      "100%|██████████| 392/392 [00:19<00:00, 20.45it/s]\n"
     ]
    },
    {
     "name": "stdout",
     "output_type": "stream",
     "text": [
      "EPOCH 2: Train acc: 92.37% Train Loss: 0.4532 Test acc: 81.33% Test Loss: 1.2545\n"
     ]
    },
    {
     "name": "stderr",
     "output_type": "stream",
     "text": [
      "100%|██████████| 435/435 [01:02<00:00,  6.91it/s]\n",
      "100%|██████████| 435/435 [01:01<00:00,  7.07it/s]\n",
      "100%|██████████| 435/435 [01:01<00:00,  7.08it/s]\n",
      "100%|██████████| 435/435 [01:01<00:00,  7.09it/s]\n",
      "100%|██████████| 435/435 [01:01<00:00,  7.11it/s]\n",
      "100%|██████████| 392/392 [00:19<00:00, 20.47it/s]\n"
     ]
    },
    {
     "name": "stdout",
     "output_type": "stream",
     "text": [
      "EPOCH 3: Train acc: 95.06% Train Loss: 0.2955 Test acc: 80.83% Test Loss: 1.2918\n"
     ]
    },
    {
     "name": "stderr",
     "output_type": "stream",
     "text": [
      "100%|██████████| 435/435 [01:02<00:00,  6.90it/s]\n",
      "100%|██████████| 435/435 [01:01<00:00,  7.08it/s]\n",
      "100%|██████████| 435/435 [01:01<00:00,  7.09it/s]\n",
      "100%|██████████| 435/435 [01:01<00:00,  7.12it/s]\n",
      "100%|██████████| 435/435 [01:01<00:00,  7.10it/s]\n",
      "100%|██████████| 392/392 [00:19<00:00, 20.36it/s]\n"
     ]
    },
    {
     "name": "stdout",
     "output_type": "stream",
     "text": [
      "EPOCH 4: Train acc: 97.20% Train Loss: 0.1799 Test acc: 78.66% Test Loss: 1.4436\n"
     ]
    },
    {
     "name": "stderr",
     "output_type": "stream",
     "text": [
      "100%|██████████| 435/435 [01:02<00:00,  6.91it/s]\n",
      "100%|██████████| 435/435 [01:01<00:00,  7.09it/s]\n",
      "100%|██████████| 435/435 [01:01<00:00,  7.09it/s]\n",
      "100%|██████████| 435/435 [01:01<00:00,  7.11it/s]\n",
      "100%|██████████| 435/435 [01:01<00:00,  7.12it/s]\n",
      "100%|██████████| 392/392 [00:19<00:00, 20.32it/s]\n"
     ]
    },
    {
     "name": "stdout",
     "output_type": "stream",
     "text": [
      "EPOCH 5: Train acc: 98.36% Train Loss: 0.1125 Test acc: 78.23% Test Loss: 1.4872\n"
     ]
    },
    {
     "name": "stderr",
     "output_type": "stream",
     "text": [
      "100%|██████████| 435/435 [01:02<00:00,  6.91it/s]\n",
      "100%|██████████| 435/435 [01:01<00:00,  7.08it/s]\n",
      "100%|██████████| 435/435 [01:01<00:00,  7.08it/s]\n",
      "100%|██████████| 435/435 [01:01<00:00,  7.10it/s]\n",
      "100%|██████████| 435/435 [01:01<00:00,  7.11it/s]\n",
      "100%|██████████| 392/392 [00:19<00:00, 20.45it/s]\n"
     ]
    },
    {
     "name": "stdout",
     "output_type": "stream",
     "text": [
      "EPOCH 6: Train acc: 98.69% Train Loss: 0.0887 Test acc: 79.81% Test Loss: 1.4036\n"
     ]
    },
    {
     "name": "stderr",
     "output_type": "stream",
     "text": [
      "100%|██████████| 435/435 [01:03<00:00,  6.90it/s]\n",
      "100%|██████████| 435/435 [01:01<00:00,  7.08it/s]\n",
      "100%|██████████| 435/435 [01:01<00:00,  7.09it/s]\n",
      "100%|██████████| 435/435 [01:01<00:00,  7.09it/s]\n",
      "100%|██████████| 435/435 [01:01<00:00,  7.07it/s]\n",
      "100%|██████████| 392/392 [00:18<00:00, 20.64it/s]\n"
     ]
    },
    {
     "name": "stdout",
     "output_type": "stream",
     "text": [
      "EPOCH 7: Train acc: 98.98% Train Loss: 0.0707 Test acc: 80.53% Test Loss: 1.3687\n"
     ]
    },
    {
     "name": "stderr",
     "output_type": "stream",
     "text": [
      "100%|██████████| 435/435 [01:03<00:00,  6.90it/s]\n",
      "100%|██████████| 435/435 [01:01<00:00,  7.08it/s]\n",
      "100%|██████████| 435/435 [01:01<00:00,  7.07it/s]\n",
      "100%|██████████| 435/435 [01:01<00:00,  7.13it/s]\n",
      "100%|██████████| 435/435 [01:01<00:00,  7.11it/s]\n",
      "100%|██████████| 392/392 [00:19<00:00, 20.49it/s]\n"
     ]
    },
    {
     "name": "stdout",
     "output_type": "stream",
     "text": [
      "EPOCH 8: Train acc: 99.01% Train Loss: 0.0629 Test acc: 80.58% Test Loss: 1.3534\n"
     ]
    },
    {
     "name": "stderr",
     "output_type": "stream",
     "text": [
      "100%|██████████| 435/435 [01:03<00:00,  6.90it/s]\n",
      "100%|██████████| 435/435 [01:01<00:00,  7.07it/s]\n",
      "100%|██████████| 435/435 [01:01<00:00,  7.08it/s]\n",
      "100%|██████████| 435/435 [01:01<00:00,  7.12it/s]\n",
      "100%|██████████| 435/435 [01:01<00:00,  7.10it/s]\n",
      "100%|██████████| 392/392 [00:19<00:00, 20.53it/s]\n"
     ]
    },
    {
     "name": "stdout",
     "output_type": "stream",
     "text": [
      "EPOCH 9: Train acc: 99.46% Train Loss: 0.0378 Test acc: 80.54% Test Loss: 1.3433\n"
     ]
    },
    {
     "name": "stderr",
     "output_type": "stream",
     "text": [
      "100%|██████████| 435/435 [01:03<00:00,  6.90it/s]\n",
      "100%|██████████| 435/435 [01:01<00:00,  7.08it/s]\n",
      "100%|██████████| 435/435 [01:01<00:00,  7.08it/s]\n",
      "100%|██████████| 435/435 [01:01<00:00,  7.09it/s]\n",
      "100%|██████████| 435/435 [01:01<00:00,  7.08it/s]\n",
      "100%|██████████| 392/392 [00:19<00:00, 20.46it/s]\n"
     ]
    },
    {
     "name": "stdout",
     "output_type": "stream",
     "text": [
      "EPOCH 10: Train acc: 99.50% Train Loss: 0.0357 Test acc: 78.49% Test Loss: 1.5128\n"
     ]
    },
    {
     "name": "stderr",
     "output_type": "stream",
     "text": [
      "100%|██████████| 435/435 [01:02<00:00,  6.91it/s]\n",
      "100%|██████████| 435/435 [01:01<00:00,  7.08it/s]\n",
      "100%|██████████| 435/435 [01:01<00:00,  7.09it/s]\n",
      "100%|██████████| 435/435 [01:01<00:00,  7.11it/s]\n",
      "100%|██████████| 435/435 [01:01<00:00,  7.11it/s]\n",
      "100%|██████████| 392/392 [00:19<00:00, 20.54it/s]\n"
     ]
    },
    {
     "name": "stdout",
     "output_type": "stream",
     "text": [
      "EPOCH 11: Train acc: 99.55% Train Loss: 0.0333 Test acc: 80.72% Test Loss: 1.3678\n"
     ]
    },
    {
     "name": "stderr",
     "output_type": "stream",
     "text": [
      "100%|██████████| 435/435 [01:02<00:00,  6.91it/s]\n",
      "100%|██████████| 435/435 [01:01<00:00,  7.08it/s]\n",
      "100%|██████████| 435/435 [01:01<00:00,  7.07it/s]\n",
      "100%|██████████| 435/435 [01:01<00:00,  7.07it/s]\n",
      "100%|██████████| 435/435 [01:01<00:00,  7.10it/s]\n",
      "100%|██████████| 392/392 [00:19<00:00, 20.45it/s]\n"
     ]
    },
    {
     "name": "stdout",
     "output_type": "stream",
     "text": [
      "EPOCH 12: Train acc: 99.60% Train Loss: 0.0279 Test acc: 79.98% Test Loss: 1.4048\n"
     ]
    },
    {
     "name": "stderr",
     "output_type": "stream",
     "text": [
      "100%|██████████| 435/435 [01:02<00:00,  6.91it/s]\n",
      "100%|██████████| 435/435 [01:01<00:00,  7.08it/s]\n",
      "100%|██████████| 435/435 [01:01<00:00,  7.09it/s]\n",
      "100%|██████████| 435/435 [01:01<00:00,  7.09it/s]\n",
      "100%|██████████| 435/435 [01:01<00:00,  7.10it/s]\n",
      "100%|██████████| 392/392 [00:19<00:00, 20.47it/s]\n"
     ]
    },
    {
     "name": "stdout",
     "output_type": "stream",
     "text": [
      "EPOCH 13: Train acc: 99.55% Train Loss: 0.0283 Test acc: 79.07% Test Loss: 1.4698\n"
     ]
    },
    {
     "name": "stderr",
     "output_type": "stream",
     "text": [
      "100%|██████████| 435/435 [01:02<00:00,  6.91it/s]\n",
      "100%|██████████| 435/435 [01:01<00:00,  7.08it/s]\n",
      "100%|██████████| 435/435 [01:01<00:00,  7.09it/s]\n",
      "100%|██████████| 435/435 [01:01<00:00,  7.09it/s]\n",
      "100%|██████████| 435/435 [01:01<00:00,  7.09it/s]\n",
      "100%|██████████| 392/392 [00:19<00:00, 20.38it/s]\n"
     ]
    },
    {
     "name": "stdout",
     "output_type": "stream",
     "text": [
      "EPOCH 14: Train acc: 99.73% Train Loss: 0.0228 Test acc: 80.31% Test Loss: 1.3770\n"
     ]
    },
    {
     "name": "stderr",
     "output_type": "stream",
     "text": [
      "100%|██████████| 435/435 [01:02<00:00,  6.92it/s]\n",
      "100%|██████████| 435/435 [01:01<00:00,  7.08it/s]\n",
      "100%|██████████| 435/435 [01:01<00:00,  7.08it/s]\n",
      "100%|██████████| 435/435 [01:01<00:00,  7.11it/s]\n",
      "100%|██████████| 435/435 [01:00<00:00,  7.13it/s]\n",
      "100%|██████████| 392/392 [00:19<00:00, 20.38it/s]\n"
     ]
    },
    {
     "name": "stdout",
     "output_type": "stream",
     "text": [
      "EPOCH 15: Train acc: 99.76% Train Loss: 0.0207 Test acc: 78.23% Test Loss: 1.5406\n"
     ]
    },
    {
     "name": "stderr",
     "output_type": "stream",
     "text": [
      "100%|██████████| 435/435 [01:03<00:00,  6.89it/s]\n",
      "100%|██████████| 435/435 [01:01<00:00,  7.07it/s]\n",
      "100%|██████████| 435/435 [01:01<00:00,  7.07it/s]\n",
      "100%|██████████| 435/435 [01:01<00:00,  7.10it/s]\n",
      "100%|██████████| 435/435 [01:01<00:00,  7.11it/s]\n",
      "100%|██████████| 392/392 [00:19<00:00, 20.38it/s]\n"
     ]
    },
    {
     "name": "stdout",
     "output_type": "stream",
     "text": [
      "EPOCH 16: Train acc: 99.64% Train Loss: 0.0247 Test acc: 78.99% Test Loss: 1.5116\n"
     ]
    },
    {
     "name": "stderr",
     "output_type": "stream",
     "text": [
      "100%|██████████| 435/435 [01:03<00:00,  6.89it/s]\n",
      "100%|██████████| 435/435 [01:01<00:00,  7.08it/s]\n",
      "100%|██████████| 435/435 [01:01<00:00,  7.07it/s]\n",
      "100%|██████████| 435/435 [01:01<00:00,  7.11it/s]\n",
      "100%|██████████| 435/435 [01:01<00:00,  7.10it/s]\n",
      "100%|██████████| 392/392 [00:19<00:00, 20.42it/s]\n"
     ]
    },
    {
     "name": "stdout",
     "output_type": "stream",
     "text": [
      "EPOCH 17: Train acc: 99.80% Train Loss: 0.0142 Test acc: 78.79% Test Loss: 1.4874\n"
     ]
    },
    {
     "name": "stderr",
     "output_type": "stream",
     "text": [
      "100%|██████████| 435/435 [01:03<00:00,  6.90it/s]\n",
      "100%|██████████| 435/435 [01:01<00:00,  7.06it/s]\n",
      "100%|██████████| 435/435 [01:01<00:00,  7.09it/s]\n",
      "100%|██████████| 435/435 [01:01<00:00,  7.09it/s]\n",
      "100%|██████████| 435/435 [01:01<00:00,  7.09it/s]\n",
      "100%|██████████| 392/392 [00:19<00:00, 20.37it/s]\n"
     ]
    },
    {
     "name": "stdout",
     "output_type": "stream",
     "text": [
      "EPOCH 18: Train acc: 99.78% Train Loss: 0.0167 Test acc: 79.87% Test Loss: 1.4357\n"
     ]
    },
    {
     "name": "stderr",
     "output_type": "stream",
     "text": [
      "100%|██████████| 435/435 [01:02<00:00,  6.91it/s]\n",
      "100%|██████████| 435/435 [01:01<00:00,  7.06it/s]\n",
      "100%|██████████| 435/435 [01:01<00:00,  7.07it/s]\n",
      "100%|██████████| 435/435 [01:01<00:00,  7.11it/s]\n",
      "100%|██████████| 435/435 [01:01<00:00,  7.11it/s]\n",
      "100%|██████████| 392/392 [00:19<00:00, 20.45it/s]\n"
     ]
    },
    {
     "name": "stdout",
     "output_type": "stream",
     "text": [
      "EPOCH 19: Train acc: 99.78% Train Loss: 0.0171 Test acc: 79.71% Test Loss: 1.4136\n"
     ]
    },
    {
     "name": "stderr",
     "output_type": "stream",
     "text": [
      "100%|██████████| 435/435 [01:02<00:00,  6.91it/s]\n",
      "100%|██████████| 435/435 [01:01<00:00,  7.08it/s]\n",
      "100%|██████████| 435/435 [01:01<00:00,  7.11it/s]\n",
      "100%|██████████| 435/435 [01:01<00:00,  7.11it/s]\n",
      "100%|██████████| 435/435 [01:01<00:00,  7.11it/s]\n",
      "100%|██████████| 392/392 [00:19<00:00, 20.53it/s]\n"
     ]
    },
    {
     "name": "stdout",
     "output_type": "stream",
     "text": [
      "EPOCH 20: Train acc: 99.90% Train Loss: 0.0101 Test acc: 79.44% Test Loss: 1.4653\n"
     ]
    },
    {
     "name": "stderr",
     "output_type": "stream",
     "text": [
      "100%|██████████| 435/435 [01:02<00:00,  6.91it/s]\n",
      "100%|██████████| 435/435 [01:01<00:00,  7.07it/s]\n",
      "100%|██████████| 435/435 [01:01<00:00,  7.07it/s]\n",
      "100%|██████████| 435/435 [01:01<00:00,  7.11it/s]\n",
      "100%|██████████| 435/435 [01:01<00:00,  7.10it/s]\n",
      "100%|██████████| 392/392 [00:19<00:00, 20.50it/s]\n"
     ]
    },
    {
     "name": "stdout",
     "output_type": "stream",
     "text": [
      "EPOCH 21: Train acc: 99.80% Train Loss: 0.0146 Test acc: 78.10% Test Loss: 1.5866\n"
     ]
    },
    {
     "name": "stderr",
     "output_type": "stream",
     "text": [
      "100%|██████████| 435/435 [01:02<00:00,  6.95it/s]\n",
      "100%|██████████| 435/435 [01:01<00:00,  7.08it/s]\n",
      "100%|██████████| 435/435 [01:01<00:00,  7.09it/s]\n",
      "100%|██████████| 435/435 [01:01<00:00,  7.09it/s]\n",
      "100%|██████████| 435/435 [01:01<00:00,  7.11it/s]\n",
      "100%|██████████| 392/392 [00:19<00:00, 20.39it/s]\n"
     ]
    },
    {
     "name": "stdout",
     "output_type": "stream",
     "text": [
      "EPOCH 22: Train acc: 99.85% Train Loss: 0.0123 Test acc: 79.42% Test Loss: 1.5309\n"
     ]
    },
    {
     "name": "stderr",
     "output_type": "stream",
     "text": [
      "100%|██████████| 435/435 [01:03<00:00,  6.90it/s]\n",
      "100%|██████████| 435/435 [01:01<00:00,  7.09it/s]\n",
      "100%|██████████| 435/435 [01:01<00:00,  7.07it/s]\n",
      "100%|██████████| 435/435 [01:01<00:00,  7.09it/s]\n",
      "100%|██████████| 435/435 [01:01<00:00,  7.13it/s]\n",
      "100%|██████████| 392/392 [00:19<00:00, 20.37it/s]\n"
     ]
    },
    {
     "name": "stdout",
     "output_type": "stream",
     "text": [
      "EPOCH 23: Train acc: 99.74% Train Loss: 0.0158 Test acc: 78.09% Test Loss: 1.5543\n"
     ]
    },
    {
     "name": "stderr",
     "output_type": "stream",
     "text": [
      "100%|██████████| 435/435 [01:02<00:00,  6.91it/s]\n",
      "100%|██████████| 435/435 [01:01<00:00,  7.07it/s]\n",
      "100%|██████████| 435/435 [01:01<00:00,  7.08it/s]\n",
      "100%|██████████| 435/435 [01:01<00:00,  7.09it/s]\n",
      "100%|██████████| 435/435 [01:01<00:00,  7.10it/s]\n",
      "100%|██████████| 392/392 [00:19<00:00, 20.38it/s]\n"
     ]
    },
    {
     "name": "stdout",
     "output_type": "stream",
     "text": [
      "EPOCH 24: Train acc: 99.78% Train Loss: 0.0161 Test acc: 78.18% Test Loss: 1.5583\n"
     ]
    },
    {
     "name": "stderr",
     "output_type": "stream",
     "text": [
      "100%|██████████| 435/435 [01:02<00:00,  6.92it/s]\n",
      "100%|██████████| 435/435 [01:01<00:00,  7.08it/s]\n",
      "100%|██████████| 435/435 [01:01<00:00,  7.10it/s]\n",
      "100%|██████████| 435/435 [01:01<00:00,  7.10it/s]\n",
      "100%|██████████| 435/435 [01:01<00:00,  7.09it/s]\n",
      "100%|██████████| 392/392 [00:19<00:00, 20.37it/s]\n"
     ]
    },
    {
     "name": "stdout",
     "output_type": "stream",
     "text": [
      "EPOCH 25: Train acc: 99.81% Train Loss: 0.0145 Test acc: 77.63% Test Loss: 1.5639\n",
      "\n"
     ]
    },
    {
     "data": {
      "text/html": [
       "Waiting for W&B process to finish... <strong style=\"color:red\">(failed 1).</strong> Press Control-C to abort syncing."
      ],
      "text/plain": [
       "<IPython.core.display.HTML object>"
      ]
     },
     "metadata": {},
     "output_type": "display_data"
    },
    {
     "data": {
      "application/vnd.jupyter.widget-view+json": {
       "model_id": "",
       "version_major": 2,
       "version_minor": 0
      },
      "text/plain": [
       "VBox(children=(Label(value='0.001 MB of 0.001 MB uploaded (0.000 MB deduped)\\r'), FloatProgress(value=1.0, max…"
      ]
     },
     "metadata": {},
     "output_type": "display_data"
    },
    {
     "data": {
      "text/html": [
       "<style>\n",
       "    table.wandb td:nth-child(1) { padding: 0 10px; text-align: right }\n",
       "    .wandb-row { display: flex; flex-direction: row; flex-wrap: wrap; width: 100% }\n",
       "    .wandb-col { display: flex; flex-direction: column; flex-basis: 100%; flex: 1; padding: 10px; }\n",
       "    </style>\n",
       "<div class=\"wandb-row\"><div class=\"wandb-col\"><h3>Run history:</h3><br/><table class=\"wandb\"><tr><td>epoch</td><td>▁▁▂▂▂▂▃▃▃▄▄▄▅▅▅▅▆▆▆▇▇▇▇██</td></tr><tr><td>loss</td><td>▁▁▂▅▆▄▄▃▃▇▄▄▆▄▇▇▆▅▅▆█▇▇▇█</td></tr><tr><td>test/test_accuracy</td><td>█▆▆▂▂▄▅▅▅▂▆▄▃▅▂▃▃▄▄▄▂▄▂▂▁</td></tr><tr><td>test/test_loss</td><td>▁▁▂▅▆▄▄▃▃▇▄▄▆▄▇▇▆▅▅▆█▇▇▇█</td></tr><tr><td>train/train_accuracy</td><td>▁▆▆▇█████████████████████</td></tr><tr><td>train/train_loss</td><td>█▃▃▂▂▁▁▁▁▁▁▁▁▁▁▁▁▁▁▁▁▁▁▁▁</td></tr></table><br/></div><div class=\"wandb-col\"><h3>Run summary:</h3><br/><table class=\"wandb\"><tr><td>epoch</td><td>25</td></tr><tr><td>loss</td><td>1.56386</td></tr><tr><td>test/test_accuracy</td><td>0.77633</td></tr><tr><td>test/test_loss</td><td>1.56386</td></tr><tr><td>train/train_accuracy</td><td>0.9981</td></tr><tr><td>train/train_loss</td><td>0.01448</td></tr></table><br/></div></div>"
      ],
      "text/plain": [
       "<IPython.core.display.HTML object>"
      ]
     },
     "metadata": {},
     "output_type": "display_data"
    },
    {
     "data": {
      "text/html": [
       "Synced <strong style=\"color:#cdcd00\">laced-sweep-2</strong>: <a href=\"https://wandb.ai/leonardtd/cloud%20classification/runs/rlw5rywq\" target=\"_blank\">https://wandb.ai/leonardtd/cloud%20classification/runs/rlw5rywq</a><br/>Synced 6 W&B file(s), 0 media file(s), 0 artifact file(s) and 0 other file(s)"
      ],
      "text/plain": [
       "<IPython.core.display.HTML object>"
      ]
     },
     "metadata": {},
     "output_type": "display_data"
    },
    {
     "data": {
      "text/html": [
       "Find logs at: <code>./wandb/run-20220331_004427-rlw5rywq/logs</code>"
      ],
      "text/plain": [
       "<IPython.core.display.HTML object>"
      ]
     },
     "metadata": {},
     "output_type": "display_data"
    },
    {
     "name": "stderr",
     "output_type": "stream",
     "text": [
      "Run rlw5rywq errored: NameError(\"name 'classes' is not defined\")\n",
      "\u001b[34m\u001b[1mwandb\u001b[0m: \u001b[32m\u001b[41mERROR\u001b[0m Run rlw5rywq errored: NameError(\"name 'classes' is not defined\")\n",
      "\u001b[34m\u001b[1mwandb\u001b[0m: Agent Starting Run: z0o4ky74 with config:\n",
      "\u001b[34m\u001b[1mwandb\u001b[0m: \tbatch_size: 16\n",
      "\u001b[34m\u001b[1mwandb\u001b[0m: \tcriterion: loge\n",
      "\u001b[34m\u001b[1mwandb\u001b[0m: \tdevice: cuda:2\n",
      "\u001b[34m\u001b[1mwandb\u001b[0m: \tepochs: 25\n",
      "\u001b[34m\u001b[1mwandb\u001b[0m: \thidden_dim: 256\n",
      "\u001b[34m\u001b[1mwandb\u001b[0m: \tlearning_rate: 2.0041349912259276e-05\n",
      "\u001b[34m\u001b[1mwandb\u001b[0m: \tnum_heads: 2\n",
      "\u001b[34m\u001b[1mwandb\u001b[0m: \tnum_hidden: 2\n",
      "\u001b[34m\u001b[1mwandb\u001b[0m: \toptimizer: adam\n",
      "\u001b[34m\u001b[1mwandb\u001b[0m: \tsimilarity_threshold: 0.75\n"
     ]
    },
    {
     "data": {
      "text/html": [
       "Tracking run with wandb version 0.12.11"
      ],
      "text/plain": [
       "<IPython.core.display.HTML object>"
      ]
     },
     "metadata": {},
     "output_type": "display_data"
    },
    {
     "data": {
      "text/html": [
       "Run data is saved locally in <code>/home/ltorres/leo/tesis/cloud-classification/code/wandb/run-20220331_030214-z0o4ky74</code>"
      ],
      "text/plain": [
       "<IPython.core.display.HTML object>"
      ]
     },
     "metadata": {},
     "output_type": "display_data"
    },
    {
     "data": {
      "text/html": [
       "Syncing run <strong><a href=\"https://wandb.ai/leonardtd/cloud%20classification/runs/z0o4ky74\" target=\"_blank\">neat-sweep-3</a></strong> to <a href=\"https://wandb.ai/leonardtd/cloud%20classification\" target=\"_blank\">Weights & Biases</a> (<a href=\"https://wandb.me/run\" target=\"_blank\">docs</a>)<br/>Sweep page:  <a href=\"https://wandb.ai/leonardtd/cloud%20classification/sweeps/03otgj81\" target=\"_blank\">https://wandb.ai/leonardtd/cloud%20classification/sweeps/03otgj81</a>"
      ],
      "text/plain": [
       "<IPython.core.display.HTML object>"
      ]
     },
     "metadata": {},
     "output_type": "display_data"
    },
    {
     "name": "stderr",
     "output_type": "stream",
     "text": [
      "100%|██████████| 625/625 [01:02<00:00, 10.04it/s]\n",
      "100%|██████████| 625/625 [01:01<00:00, 10.23it/s]\n",
      "100%|██████████| 625/625 [01:01<00:00, 10.22it/s]\n",
      "100%|██████████| 625/625 [01:01<00:00, 10.24it/s]\n",
      "100%|██████████| 625/625 [01:00<00:00, 10.26it/s]\n",
      "100%|██████████| 563/563 [00:19<00:00, 29.27it/s]\n"
     ]
    },
    {
     "name": "stdout",
     "output_type": "stream",
     "text": [
      "EPOCH 1: Train acc: 78.87% Train Loss: 1.2966 Test acc: 81.08% Test Loss: 1.2273\n"
     ]
    },
    {
     "name": "stderr",
     "output_type": "stream",
     "text": [
      "100%|██████████| 625/625 [01:02<00:00,  9.94it/s]\n",
      "100%|██████████| 625/625 [01:01<00:00, 10.23it/s]\n",
      "100%|██████████| 625/625 [01:01<00:00, 10.24it/s]\n",
      "100%|██████████| 625/625 [01:01<00:00, 10.25it/s]\n",
      "100%|██████████| 625/625 [01:00<00:00, 10.27it/s]\n",
      "100%|██████████| 563/563 [00:19<00:00, 29.20it/s]\n"
     ]
    },
    {
     "name": "stdout",
     "output_type": "stream",
     "text": [
      "EPOCH 2: Train acc: 92.00% Train Loss: 0.4814 Test acc: 79.90% Test Loss: 1.2947\n"
     ]
    },
    {
     "name": "stderr",
     "output_type": "stream",
     "text": [
      "100%|██████████| 625/625 [01:02<00:00,  9.95it/s]\n",
      "100%|██████████| 625/625 [01:01<00:00, 10.22it/s]\n",
      "100%|██████████| 625/625 [01:01<00:00, 10.23it/s]\n",
      "100%|██████████| 625/625 [01:01<00:00, 10.21it/s]\n",
      "100%|██████████| 625/625 [01:00<00:00, 10.26it/s]\n",
      "100%|██████████| 563/563 [00:19<00:00, 29.24it/s]\n"
     ]
    },
    {
     "name": "stdout",
     "output_type": "stream",
     "text": [
      "EPOCH 3: Train acc: 94.86% Train Loss: 0.3189 Test acc: 78.67% Test Loss: 1.4093\n"
     ]
    },
    {
     "name": "stderr",
     "output_type": "stream",
     "text": [
      "100%|██████████| 625/625 [01:02<00:00,  9.97it/s]\n",
      "100%|██████████| 625/625 [01:01<00:00, 10.22it/s]\n",
      "100%|██████████| 625/625 [01:01<00:00, 10.21it/s]\n",
      "100%|██████████| 625/625 [01:01<00:00, 10.23it/s]\n",
      "100%|██████████| 625/625 [01:00<00:00, 10.26it/s]\n",
      "100%|██████████| 563/563 [00:19<00:00, 29.15it/s]\n"
     ]
    },
    {
     "name": "stdout",
     "output_type": "stream",
     "text": [
      "EPOCH 4: Train acc: 96.80% Train Loss: 0.1957 Test acc: 79.07% Test Loss: 1.3970\n"
     ]
    },
    {
     "name": "stderr",
     "output_type": "stream",
     "text": [
      "100%|██████████| 625/625 [01:02<00:00,  9.93it/s]\n",
      "100%|██████████| 625/625 [01:01<00:00, 10.23it/s]\n",
      "100%|██████████| 625/625 [01:01<00:00, 10.22it/s]\n",
      "100%|██████████| 625/625 [01:00<00:00, 10.27it/s]\n",
      "100%|██████████| 625/625 [01:01<00:00, 10.24it/s]\n",
      "100%|██████████| 563/563 [00:19<00:00, 29.13it/s]\n"
     ]
    },
    {
     "name": "stdout",
     "output_type": "stream",
     "text": [
      "EPOCH 5: Train acc: 98.14% Train Loss: 0.1228 Test acc: 78.50% Test Loss: 1.4231\n"
     ]
    },
    {
     "name": "stderr",
     "output_type": "stream",
     "text": [
      "100%|██████████| 625/625 [01:02<00:00,  9.94it/s]\n",
      "100%|██████████| 625/625 [01:01<00:00, 10.22it/s]\n",
      "100%|██████████| 625/625 [01:01<00:00, 10.22it/s]\n",
      "100%|██████████| 625/625 [01:01<00:00, 10.23it/s]\n",
      "100%|██████████| 625/625 [01:01<00:00, 10.23it/s]\n",
      "100%|██████████| 563/563 [00:19<00:00, 29.34it/s]\n"
     ]
    },
    {
     "name": "stdout",
     "output_type": "stream",
     "text": [
      "EPOCH 6: Train acc: 98.62% Train Loss: 0.0989 Test acc: 77.93% Test Loss: 1.4496\n"
     ]
    },
    {
     "name": "stderr",
     "output_type": "stream",
     "text": [
      "100%|██████████| 625/625 [01:02<00:00,  9.97it/s]\n",
      "100%|██████████| 625/625 [01:01<00:00, 10.22it/s]\n",
      "100%|██████████| 625/625 [01:01<00:00, 10.23it/s]\n",
      "100%|██████████| 625/625 [01:01<00:00, 10.23it/s]\n",
      "100%|██████████| 625/625 [01:00<00:00, 10.25it/s]\n",
      "100%|██████████| 563/563 [00:19<00:00, 28.91it/s]\n"
     ]
    },
    {
     "name": "stdout",
     "output_type": "stream",
     "text": [
      "EPOCH 7: Train acc: 98.73% Train Loss: 0.0803 Test acc: 78.16% Test Loss: 1.4458\n"
     ]
    },
    {
     "name": "stderr",
     "output_type": "stream",
     "text": [
      "100%|██████████| 625/625 [01:02<00:00,  9.96it/s]\n",
      "100%|██████████| 625/625 [01:01<00:00, 10.23it/s]\n",
      "100%|██████████| 625/625 [01:01<00:00, 10.23it/s]\n",
      "100%|██████████| 625/625 [01:01<00:00, 10.23it/s]\n",
      "100%|██████████| 625/625 [01:00<00:00, 10.28it/s]\n",
      "100%|██████████| 563/563 [00:19<00:00, 29.07it/s]\n"
     ]
    },
    {
     "name": "stdout",
     "output_type": "stream",
     "text": [
      "EPOCH 8: Train acc: 99.18% Train Loss: 0.0585 Test acc: 75.77% Test Loss: 1.5683\n"
     ]
    },
    {
     "name": "stderr",
     "output_type": "stream",
     "text": [
      "100%|██████████| 625/625 [01:02<00:00,  9.95it/s]\n",
      "100%|██████████| 625/625 [01:01<00:00, 10.24it/s]\n",
      "100%|██████████| 625/625 [01:01<00:00, 10.22it/s]\n",
      "100%|██████████| 625/625 [01:00<00:00, 10.27it/s]\n",
      "100%|██████████| 625/625 [01:00<00:00, 10.26it/s]\n",
      "100%|██████████| 563/563 [00:19<00:00, 29.31it/s]\n"
     ]
    },
    {
     "name": "stdout",
     "output_type": "stream",
     "text": [
      "EPOCH 9: Train acc: 99.42% Train Loss: 0.0423 Test acc: 76.77% Test Loss: 1.5249\n"
     ]
    },
    {
     "name": "stderr",
     "output_type": "stream",
     "text": [
      "100%|██████████| 625/625 [01:02<00:00,  9.94it/s]\n",
      "100%|██████████| 625/625 [01:01<00:00, 10.21it/s]\n",
      "100%|██████████| 625/625 [01:01<00:00, 10.22it/s]\n",
      "100%|██████████| 625/625 [01:01<00:00, 10.21it/s]\n",
      "100%|██████████| 625/625 [01:00<00:00, 10.26it/s]\n",
      "100%|██████████| 563/563 [00:19<00:00, 29.14it/s]\n"
     ]
    },
    {
     "name": "stdout",
     "output_type": "stream",
     "text": [
      "EPOCH 10: Train acc: 99.44% Train Loss: 0.0379 Test acc: 76.88% Test Loss: 1.5482\n"
     ]
    },
    {
     "name": "stderr",
     "output_type": "stream",
     "text": [
      "100%|██████████| 625/625 [01:02<00:00,  9.93it/s]\n",
      "100%|██████████| 625/625 [01:01<00:00, 10.21it/s]\n",
      "100%|██████████| 625/625 [01:01<00:00, 10.22it/s]\n",
      "100%|██████████| 625/625 [01:01<00:00, 10.23it/s]\n",
      "100%|██████████| 625/625 [01:01<00:00, 10.24it/s]\n",
      "100%|██████████| 563/563 [00:19<00:00, 29.21it/s]\n"
     ]
    },
    {
     "name": "stdout",
     "output_type": "stream",
     "text": [
      "EPOCH 11: Train acc: 99.60% Train Loss: 0.0289 Test acc: 77.79% Test Loss: 1.5097\n"
     ]
    },
    {
     "name": "stderr",
     "output_type": "stream",
     "text": [
      "100%|██████████| 625/625 [01:02<00:00,  9.96it/s]\n",
      "100%|██████████| 625/625 [01:00<00:00, 10.25it/s]\n",
      "100%|██████████| 625/625 [01:01<00:00, 10.24it/s]\n",
      "100%|██████████| 625/625 [01:01<00:00, 10.22it/s]\n",
      "100%|██████████| 625/625 [01:00<00:00, 10.25it/s]\n",
      "100%|██████████| 563/563 [00:19<00:00, 29.26it/s]\n"
     ]
    },
    {
     "name": "stdout",
     "output_type": "stream",
     "text": [
      "EPOCH 12: Train acc: 99.71% Train Loss: 0.0238 Test acc: 77.86% Test Loss: 1.4641\n"
     ]
    },
    {
     "name": "stderr",
     "output_type": "stream",
     "text": [
      "100%|██████████| 625/625 [01:02<00:00,  9.97it/s]\n",
      "100%|██████████| 625/625 [01:01<00:00, 10.23it/s]\n",
      "100%|██████████| 625/625 [01:01<00:00, 10.22it/s]\n",
      "100%|██████████| 625/625 [01:01<00:00, 10.22it/s]\n",
      "100%|██████████| 625/625 [01:00<00:00, 10.27it/s]\n",
      "100%|██████████| 563/563 [00:19<00:00, 29.26it/s]\n"
     ]
    },
    {
     "name": "stdout",
     "output_type": "stream",
     "text": [
      "EPOCH 13: Train acc: 99.62% Train Loss: 0.0252 Test acc: 78.79% Test Loss: 1.4317\n"
     ]
    },
    {
     "name": "stderr",
     "output_type": "stream",
     "text": [
      "100%|██████████| 625/625 [01:02<00:00,  9.94it/s]\n",
      "100%|██████████| 625/625 [01:01<00:00, 10.22it/s]\n",
      "100%|██████████| 625/625 [01:01<00:00, 10.24it/s]\n",
      "100%|██████████| 625/625 [01:00<00:00, 10.25it/s]\n",
      "100%|██████████| 625/625 [01:00<00:00, 10.26it/s]\n",
      "100%|██████████| 563/563 [00:19<00:00, 29.12it/s]\n"
     ]
    },
    {
     "name": "stdout",
     "output_type": "stream",
     "text": [
      "EPOCH 14: Train acc: 99.78% Train Loss: 0.0164 Test acc: 77.42% Test Loss: 1.5439\n"
     ]
    },
    {
     "name": "stderr",
     "output_type": "stream",
     "text": [
      "100%|██████████| 625/625 [01:02<00:00,  9.94it/s]\n",
      "100%|██████████| 625/625 [01:01<00:00, 10.24it/s]\n",
      "100%|██████████| 625/625 [01:01<00:00, 10.22it/s]\n",
      "100%|██████████| 625/625 [01:01<00:00, 10.23it/s]\n",
      "100%|██████████| 625/625 [01:00<00:00, 10.26it/s]\n",
      "100%|██████████| 563/563 [00:19<00:00, 29.17it/s]\n"
     ]
    },
    {
     "name": "stdout",
     "output_type": "stream",
     "text": [
      "EPOCH 15: Train acc: 99.69% Train Loss: 0.0243 Test acc: 78.16% Test Loss: 1.4511\n"
     ]
    },
    {
     "name": "stderr",
     "output_type": "stream",
     "text": [
      "100%|██████████| 625/625 [01:02<00:00,  9.95it/s]\n",
      "100%|██████████| 625/625 [01:01<00:00, 10.24it/s]\n",
      "100%|██████████| 625/625 [01:00<00:00, 10.25it/s]\n",
      "100%|██████████| 625/625 [01:01<00:00, 10.24it/s]\n",
      "100%|██████████| 625/625 [01:00<00:00, 10.27it/s]\n",
      "100%|██████████| 563/563 [00:19<00:00, 29.03it/s]\n"
     ]
    },
    {
     "name": "stdout",
     "output_type": "stream",
     "text": [
      "EPOCH 16: Train acc: 99.73% Train Loss: 0.0194 Test acc: 77.26% Test Loss: 1.5369\n"
     ]
    },
    {
     "name": "stderr",
     "output_type": "stream",
     "text": [
      "100%|██████████| 625/625 [01:02<00:00,  9.95it/s]\n",
      "100%|██████████| 625/625 [01:01<00:00, 10.21it/s]\n",
      "100%|██████████| 625/625 [01:01<00:00, 10.22it/s]\n",
      "100%|██████████| 625/625 [01:01<00:00, 10.24it/s]\n",
      "100%|██████████| 625/625 [01:00<00:00, 10.31it/s]\n",
      "100%|██████████| 563/563 [00:19<00:00, 29.46it/s]\n"
     ]
    },
    {
     "name": "stdout",
     "output_type": "stream",
     "text": [
      "EPOCH 17: Train acc: 99.69% Train Loss: 0.0208 Test acc: 77.97% Test Loss: 1.5091\n"
     ]
    },
    {
     "name": "stderr",
     "output_type": "stream",
     "text": [
      "100%|██████████| 625/625 [01:02<00:00,  9.95it/s]\n",
      "100%|██████████| 625/625 [01:01<00:00, 10.22it/s]\n",
      "100%|██████████| 625/625 [01:01<00:00, 10.24it/s]\n",
      "100%|██████████| 625/625 [01:01<00:00, 10.24it/s]\n",
      "100%|██████████| 625/625 [01:00<00:00, 10.27it/s]\n",
      "100%|██████████| 563/563 [00:19<00:00, 29.30it/s]\n"
     ]
    },
    {
     "name": "stdout",
     "output_type": "stream",
     "text": [
      "EPOCH 18: Train acc: 99.83% Train Loss: 0.0141 Test acc: 76.70% Test Loss: 1.5929\n"
     ]
    },
    {
     "name": "stderr",
     "output_type": "stream",
     "text": [
      "100%|██████████| 625/625 [01:02<00:00,  9.95it/s]\n",
      "100%|██████████| 625/625 [01:01<00:00, 10.22it/s]\n",
      "100%|██████████| 625/625 [01:01<00:00, 10.21it/s]\n",
      "100%|██████████| 625/625 [01:01<00:00, 10.24it/s]\n",
      "100%|██████████| 625/625 [01:01<00:00, 10.24it/s]\n",
      "100%|██████████| 563/563 [00:19<00:00, 29.16it/s]\n"
     ]
    },
    {
     "name": "stdout",
     "output_type": "stream",
     "text": [
      "EPOCH 19: Train acc: 99.80% Train Loss: 0.0140 Test acc: 77.00% Test Loss: 1.5745\n"
     ]
    },
    {
     "name": "stderr",
     "output_type": "stream",
     "text": [
      "100%|██████████| 625/625 [01:02<00:00,  9.95it/s]\n",
      "100%|██████████| 625/625 [01:01<00:00, 10.23it/s]\n",
      "100%|██████████| 625/625 [01:01<00:00, 10.23it/s]\n",
      "100%|██████████| 625/625 [01:01<00:00, 10.22it/s]\n",
      "100%|██████████| 625/625 [01:00<00:00, 10.25it/s]\n",
      "100%|██████████| 563/563 [00:19<00:00, 29.26it/s]\n"
     ]
    },
    {
     "name": "stdout",
     "output_type": "stream",
     "text": [
      "EPOCH 20: Train acc: 99.75% Train Loss: 0.0183 Test acc: 75.21% Test Loss: 1.6910\n"
     ]
    },
    {
     "name": "stderr",
     "output_type": "stream",
     "text": [
      "100%|██████████| 625/625 [01:02<00:00,  9.94it/s]\n",
      "100%|██████████| 625/625 [01:01<00:00, 10.22it/s]\n",
      "100%|██████████| 625/625 [01:01<00:00, 10.21it/s]\n",
      "100%|██████████| 625/625 [01:01<00:00, 10.22it/s]\n",
      "100%|██████████| 625/625 [01:00<00:00, 10.25it/s]\n",
      "100%|██████████| 563/563 [00:19<00:00, 29.28it/s]\n"
     ]
    },
    {
     "name": "stdout",
     "output_type": "stream",
     "text": [
      "EPOCH 21: Train acc: 99.73% Train Loss: 0.0180 Test acc: 77.58% Test Loss: 1.5783\n"
     ]
    },
    {
     "name": "stderr",
     "output_type": "stream",
     "text": [
      "100%|██████████| 625/625 [01:02<00:00,  9.94it/s]\n",
      "100%|██████████| 625/625 [01:01<00:00, 10.22it/s]\n",
      "100%|██████████| 625/625 [01:01<00:00, 10.24it/s]\n",
      "100%|██████████| 625/625 [01:01<00:00, 10.24it/s]\n",
      "100%|██████████| 625/625 [01:00<00:00, 10.26it/s]\n",
      "100%|██████████| 563/563 [00:19<00:00, 29.18it/s]\n"
     ]
    },
    {
     "name": "stdout",
     "output_type": "stream",
     "text": [
      "EPOCH 22: Train acc: 99.86% Train Loss: 0.0114 Test acc: 77.23% Test Loss: 1.5531\n"
     ]
    },
    {
     "name": "stderr",
     "output_type": "stream",
     "text": [
      "100%|██████████| 625/625 [01:02<00:00,  9.98it/s]\n",
      "100%|██████████| 625/625 [01:01<00:00, 10.22it/s]\n",
      "100%|██████████| 625/625 [01:01<00:00, 10.24it/s]\n",
      "100%|██████████| 625/625 [01:01<00:00, 10.24it/s]\n",
      "100%|██████████| 625/625 [01:00<00:00, 10.25it/s]\n",
      "100%|██████████| 563/563 [00:19<00:00, 29.21it/s]\n"
     ]
    },
    {
     "name": "stdout",
     "output_type": "stream",
     "text": [
      "EPOCH 23: Train acc: 99.84% Train Loss: 0.0136 Test acc: 77.17% Test Loss: 1.5611\n"
     ]
    },
    {
     "name": "stderr",
     "output_type": "stream",
     "text": [
      "100%|██████████| 625/625 [01:02<00:00,  9.97it/s]\n",
      "100%|██████████| 625/625 [01:01<00:00, 10.23it/s]\n",
      "100%|██████████| 625/625 [01:01<00:00, 10.22it/s]\n",
      "100%|██████████| 625/625 [01:01<00:00, 10.23it/s]\n",
      "100%|██████████| 625/625 [01:00<00:00, 10.25it/s]\n",
      "100%|██████████| 563/563 [00:19<00:00, 29.20it/s]\n"
     ]
    },
    {
     "name": "stdout",
     "output_type": "stream",
     "text": [
      "EPOCH 24: Train acc: 99.82% Train Loss: 0.0132 Test acc: 77.83% Test Loss: 1.5170\n"
     ]
    },
    {
     "name": "stderr",
     "output_type": "stream",
     "text": [
      "100%|██████████| 625/625 [01:02<00:00,  9.96it/s]\n",
      "100%|██████████| 625/625 [01:01<00:00, 10.23it/s]\n",
      "100%|██████████| 625/625 [01:01<00:00, 10.22it/s]\n",
      "100%|██████████| 625/625 [01:00<00:00, 10.27it/s]\n",
      "100%|██████████| 625/625 [01:00<00:00, 10.27it/s]\n",
      "100%|██████████| 563/563 [00:19<00:00, 29.24it/s]"
     ]
    },
    {
     "name": "stdout",
     "output_type": "stream",
     "text": [
      "EPOCH 25: Train acc: 99.87% Train Loss: 0.0115 Test acc: 76.04% Test Loss: 1.6531\n",
      "\n"
     ]
    },
    {
     "name": "stderr",
     "output_type": "stream",
     "text": [
      "\n"
     ]
    },
    {
     "data": {
      "text/html": [
       "Waiting for W&B process to finish... <strong style=\"color:red\">(failed 1).</strong> Press Control-C to abort syncing."
      ],
      "text/plain": [
       "<IPython.core.display.HTML object>"
      ]
     },
     "metadata": {},
     "output_type": "display_data"
    },
    {
     "data": {
      "application/vnd.jupyter.widget-view+json": {
       "model_id": "",
       "version_major": 2,
       "version_minor": 0
      },
      "text/plain": [
       "VBox(children=(Label(value='0.001 MB of 0.001 MB uploaded (0.000 MB deduped)\\r'), FloatProgress(value=1.0, max…"
      ]
     },
     "metadata": {},
     "output_type": "display_data"
    },
    {
     "data": {
      "text/html": [
       "<style>\n",
       "    table.wandb td:nth-child(1) { padding: 0 10px; text-align: right }\n",
       "    .wandb-row { display: flex; flex-direction: row; flex-wrap: wrap; width: 100% }\n",
       "    .wandb-col { display: flex; flex-direction: column; flex-basis: 100%; flex: 1; padding: 10px; }\n",
       "    </style>\n",
       "<div class=\"wandb-row\"><div class=\"wandb-col\"><h3>Run history:</h3><br/><table class=\"wandb\"><tr><td>epoch</td><td>▁▁▂▂▂▂▃▃▃▄▄▄▅▅▅▅▆▆▆▇▇▇▇██</td></tr><tr><td>loss</td><td>▁▂▄▄▄▄▄▆▅▆▅▅▄▆▄▆▅▇▆█▆▆▆▅▇</td></tr><tr><td>test/test_accuracy</td><td>█▇▅▆▅▄▅▂▃▃▄▄▅▄▅▃▄▃▃▁▄▃▃▄▂</td></tr><tr><td>test/test_loss</td><td>▁▂▄▄▄▄▄▆▅▆▅▅▄▆▄▆▅▇▆█▆▆▆▅▇</td></tr><tr><td>train/train_accuracy</td><td>▁▅▆▇▇████████████████████</td></tr><tr><td>train/train_loss</td><td>█▄▃▂▂▁▁▁▁▁▁▁▁▁▁▁▁▁▁▁▁▁▁▁▁</td></tr></table><br/></div><div class=\"wandb-col\"><h3>Run summary:</h3><br/><table class=\"wandb\"><tr><td>epoch</td><td>25</td></tr><tr><td>loss</td><td>1.65308</td></tr><tr><td>test/test_accuracy</td><td>0.76044</td></tr><tr><td>test/test_loss</td><td>1.65308</td></tr><tr><td>train/train_accuracy</td><td>0.9987</td></tr><tr><td>train/train_loss</td><td>0.01155</td></tr></table><br/></div></div>"
      ],
      "text/plain": [
       "<IPython.core.display.HTML object>"
      ]
     },
     "metadata": {},
     "output_type": "display_data"
    },
    {
     "data": {
      "text/html": [
       "Synced <strong style=\"color:#cdcd00\">neat-sweep-3</strong>: <a href=\"https://wandb.ai/leonardtd/cloud%20classification/runs/z0o4ky74\" target=\"_blank\">https://wandb.ai/leonardtd/cloud%20classification/runs/z0o4ky74</a><br/>Synced 6 W&B file(s), 0 media file(s), 0 artifact file(s) and 0 other file(s)"
      ],
      "text/plain": [
       "<IPython.core.display.HTML object>"
      ]
     },
     "metadata": {},
     "output_type": "display_data"
    },
    {
     "data": {
      "text/html": [
       "Find logs at: <code>./wandb/run-20220331_030214-z0o4ky74/logs</code>"
      ],
      "text/plain": [
       "<IPython.core.display.HTML object>"
      ]
     },
     "metadata": {},
     "output_type": "display_data"
    },
    {
     "name": "stderr",
     "output_type": "stream",
     "text": [
      "Run z0o4ky74 errored: NameError(\"name 'classes' is not defined\")\n",
      "\u001b[34m\u001b[1mwandb\u001b[0m: \u001b[32m\u001b[41mERROR\u001b[0m Run z0o4ky74 errored: NameError(\"name 'classes' is not defined\")\n",
      "\u001b[34m\u001b[1mwandb\u001b[0m: Agent Starting Run: w2nqk3lb with config:\n",
      "\u001b[34m\u001b[1mwandb\u001b[0m: \tbatch_size: 25\n",
      "\u001b[34m\u001b[1mwandb\u001b[0m: \tcriterion: loge\n",
      "\u001b[34m\u001b[1mwandb\u001b[0m: \tdevice: cuda:2\n",
      "\u001b[34m\u001b[1mwandb\u001b[0m: \tepochs: 25\n",
      "\u001b[34m\u001b[1mwandb\u001b[0m: \thidden_dim: 512\n",
      "\u001b[34m\u001b[1mwandb\u001b[0m: \tlearning_rate: 3.0236125085020263e-05\n",
      "\u001b[34m\u001b[1mwandb\u001b[0m: \tnum_heads: 1\n",
      "\u001b[34m\u001b[1mwandb\u001b[0m: \tnum_hidden: 3\n",
      "\u001b[34m\u001b[1mwandb\u001b[0m: \toptimizer: adam\n",
      "\u001b[34m\u001b[1mwandb\u001b[0m: \tsimilarity_threshold: 0.9\n"
     ]
    },
    {
     "data": {
      "text/html": [
       "Tracking run with wandb version 0.12.11"
      ],
      "text/plain": [
       "<IPython.core.display.HTML object>"
      ]
     },
     "metadata": {},
     "output_type": "display_data"
    },
    {
     "data": {
      "text/html": [
       "Run data is saved locally in <code>/home/ltorres/leo/tesis/cloud-classification/code/wandb/run-20220331_051826-w2nqk3lb</code>"
      ],
      "text/plain": [
       "<IPython.core.display.HTML object>"
      ]
     },
     "metadata": {},
     "output_type": "display_data"
    },
    {
     "data": {
      "text/html": [
       "Syncing run <strong><a href=\"https://wandb.ai/leonardtd/cloud%20classification/runs/w2nqk3lb\" target=\"_blank\">apricot-sweep-4</a></strong> to <a href=\"https://wandb.ai/leonardtd/cloud%20classification\" target=\"_blank\">Weights & Biases</a> (<a href=\"https://wandb.me/run\" target=\"_blank\">docs</a>)<br/>Sweep page:  <a href=\"https://wandb.ai/leonardtd/cloud%20classification/sweeps/03otgj81\" target=\"_blank\">https://wandb.ai/leonardtd/cloud%20classification/sweeps/03otgj81</a>"
      ],
      "text/plain": [
       "<IPython.core.display.HTML object>"
      ]
     },
     "metadata": {},
     "output_type": "display_data"
    },
    {
     "name": "stderr",
     "output_type": "stream",
     "text": [
      "100%|██████████| 400/400 [01:01<00:00,  6.54it/s]\n",
      "100%|██████████| 400/400 [00:59<00:00,  6.67it/s]\n",
      "100%|██████████| 400/400 [01:00<00:00,  6.66it/s]\n",
      "100%|██████████| 400/400 [00:59<00:00,  6.69it/s]\n",
      "100%|██████████| 400/400 [00:59<00:00,  6.69it/s]\n",
      "100%|██████████| 360/360 [00:19<00:00, 18.79it/s]\n"
     ]
    },
    {
     "name": "stdout",
     "output_type": "stream",
     "text": [
      "EPOCH 1: Train acc: 81.17% Train Loss: 1.1853 Test acc: 76.78% Test Loss: 1.3519\n"
     ]
    },
    {
     "name": "stderr",
     "output_type": "stream",
     "text": [
      "100%|██████████| 400/400 [01:01<00:00,  6.56it/s]\n",
      "100%|██████████| 400/400 [00:59<00:00,  6.67it/s]\n",
      "100%|██████████| 400/400 [01:00<00:00,  6.65it/s]\n",
      "100%|██████████| 400/400 [00:59<00:00,  6.68it/s]\n",
      "100%|██████████| 400/400 [00:59<00:00,  6.68it/s]\n",
      "100%|██████████| 360/360 [00:19<00:00, 18.82it/s]\n"
     ]
    },
    {
     "name": "stdout",
     "output_type": "stream",
     "text": [
      "EPOCH 2: Train acc: 92.38% Train Loss: 0.4439 Test acc: 75.10% Test Loss: 1.5402\n"
     ]
    },
    {
     "name": "stderr",
     "output_type": "stream",
     "text": [
      "100%|██████████| 400/400 [01:00<00:00,  6.59it/s]\n",
      "100%|██████████| 400/400 [00:59<00:00,  6.67it/s]\n",
      "100%|██████████| 400/400 [00:59<00:00,  6.67it/s]\n",
      "100%|██████████| 400/400 [00:59<00:00,  6.68it/s]\n",
      "100%|██████████| 400/400 [00:59<00:00,  6.68it/s]\n",
      "100%|██████████| 360/360 [00:19<00:00, 18.90it/s]\n"
     ]
    },
    {
     "name": "stdout",
     "output_type": "stream",
     "text": [
      "EPOCH 3: Train acc: 95.28% Train Loss: 0.2814 Test acc: 74.41% Test Loss: 1.6283\n"
     ]
    },
    {
     "name": "stderr",
     "output_type": "stream",
     "text": [
      "100%|██████████| 400/400 [01:00<00:00,  6.57it/s]\n",
      "100%|██████████| 400/400 [00:59<00:00,  6.68it/s]\n",
      "100%|██████████| 400/400 [00:59<00:00,  6.67it/s]\n",
      "100%|██████████| 400/400 [00:59<00:00,  6.70it/s]\n",
      "100%|██████████| 400/400 [01:00<00:00,  6.66it/s]\n",
      "100%|██████████| 360/360 [00:18<00:00, 18.97it/s]\n"
     ]
    },
    {
     "name": "stdout",
     "output_type": "stream",
     "text": [
      "EPOCH 4: Train acc: 96.86% Train Loss: 0.1896 Test acc: 76.04% Test Loss: 1.4780\n"
     ]
    },
    {
     "name": "stderr",
     "output_type": "stream",
     "text": [
      "100%|██████████| 400/400 [01:00<00:00,  6.56it/s]\n",
      "100%|██████████| 400/400 [00:59<00:00,  6.67it/s]\n",
      "100%|██████████| 400/400 [00:59<00:00,  6.67it/s]\n",
      "100%|██████████| 400/400 [00:59<00:00,  6.69it/s]\n",
      "100%|██████████| 400/400 [00:59<00:00,  6.69it/s]\n",
      "100%|██████████| 360/360 [00:19<00:00, 18.84it/s]\n"
     ]
    },
    {
     "name": "stdout",
     "output_type": "stream",
     "text": [
      "EPOCH 5: Train acc: 97.96% Train Loss: 0.1266 Test acc: 75.83% Test Loss: 1.5312\n"
     ]
    },
    {
     "name": "stderr",
     "output_type": "stream",
     "text": [
      "100%|██████████| 400/400 [01:01<00:00,  6.56it/s]\n",
      "100%|██████████| 400/400 [01:00<00:00,  6.66it/s]\n",
      "100%|██████████| 400/400 [00:59<00:00,  6.68it/s]\n",
      "100%|██████████| 400/400 [00:59<00:00,  6.70it/s]\n",
      "100%|██████████| 400/400 [00:59<00:00,  6.68it/s]\n",
      "100%|██████████| 360/360 [00:19<00:00, 18.84it/s]\n"
     ]
    },
    {
     "name": "stdout",
     "output_type": "stream",
     "text": [
      "EPOCH 6: Train acc: 98.50% Train Loss: 0.0960 Test acc: 77.50% Test Loss: 1.4254\n"
     ]
    },
    {
     "name": "stderr",
     "output_type": "stream",
     "text": [
      "100%|██████████| 400/400 [01:00<00:00,  6.56it/s]\n",
      "100%|██████████| 400/400 [00:59<00:00,  6.67it/s]\n",
      "100%|██████████| 400/400 [00:59<00:00,  6.67it/s]\n",
      "100%|██████████| 400/400 [00:59<00:00,  6.69it/s]\n",
      "100%|██████████| 400/400 [00:59<00:00,  6.69it/s]\n",
      "100%|██████████| 360/360 [00:19<00:00, 18.95it/s]\n"
     ]
    },
    {
     "name": "stdout",
     "output_type": "stream",
     "text": [
      "EPOCH 7: Train acc: 98.78% Train Loss: 0.0755 Test acc: 75.34% Test Loss: 1.6533\n"
     ]
    },
    {
     "name": "stderr",
     "output_type": "stream",
     "text": [
      "100%|██████████| 400/400 [01:01<00:00,  6.55it/s]\n",
      "100%|██████████| 400/400 [01:00<00:00,  6.67it/s]\n",
      "100%|██████████| 400/400 [01:00<00:00,  6.66it/s]\n",
      "100%|██████████| 400/400 [00:59<00:00,  6.70it/s]\n",
      "100%|██████████| 400/400 [00:59<00:00,  6.70it/s]\n",
      "100%|██████████| 360/360 [00:18<00:00, 19.02it/s]\n"
     ]
    },
    {
     "name": "stdout",
     "output_type": "stream",
     "text": [
      "EPOCH 8: Train acc: 98.96% Train Loss: 0.0665 Test acc: 75.57% Test Loss: 1.5272\n"
     ]
    },
    {
     "name": "stderr",
     "output_type": "stream",
     "text": [
      "100%|██████████| 400/400 [01:01<00:00,  6.55it/s]\n",
      "100%|██████████| 400/400 [00:59<00:00,  6.69it/s]\n",
      "100%|██████████| 400/400 [00:59<00:00,  6.67it/s]\n",
      "100%|██████████| 400/400 [00:59<00:00,  6.68it/s]\n",
      "100%|██████████| 400/400 [00:59<00:00,  6.70it/s]\n",
      "100%|██████████| 360/360 [00:18<00:00, 19.16it/s]\n"
     ]
    },
    {
     "name": "stdout",
     "output_type": "stream",
     "text": [
      "EPOCH 9: Train acc: 99.23% Train Loss: 0.0474 Test acc: 77.06% Test Loss: 1.4782\n"
     ]
    },
    {
     "name": "stderr",
     "output_type": "stream",
     "text": [
      "100%|██████████| 400/400 [01:00<00:00,  6.57it/s]\n",
      "100%|██████████| 400/400 [01:00<00:00,  6.66it/s]\n",
      "100%|██████████| 400/400 [01:00<00:00,  6.66it/s]\n",
      "100%|██████████| 400/400 [00:59<00:00,  6.68it/s]\n",
      "100%|██████████| 400/400 [00:59<00:00,  6.69it/s]\n",
      "100%|██████████| 360/360 [00:19<00:00, 18.95it/s]\n"
     ]
    },
    {
     "name": "stdout",
     "output_type": "stream",
     "text": [
      "EPOCH 10: Train acc: 99.20% Train Loss: 0.0458 Test acc: 74.87% Test Loss: 1.6370\n"
     ]
    },
    {
     "name": "stderr",
     "output_type": "stream",
     "text": [
      "100%|██████████| 400/400 [01:00<00:00,  6.57it/s]\n",
      "100%|██████████| 400/400 [00:59<00:00,  6.67it/s]\n",
      "100%|██████████| 400/400 [01:00<00:00,  6.66it/s]\n",
      "100%|██████████| 400/400 [00:59<00:00,  6.69it/s]\n",
      "100%|██████████| 400/400 [00:59<00:00,  6.69it/s]\n",
      "100%|██████████| 360/360 [00:19<00:00, 18.88it/s]\n"
     ]
    },
    {
     "name": "stdout",
     "output_type": "stream",
     "text": [
      "EPOCH 11: Train acc: 99.45% Train Loss: 0.0370 Test acc: 75.11% Test Loss: 1.6557\n"
     ]
    },
    {
     "name": "stderr",
     "output_type": "stream",
     "text": [
      "100%|██████████| 400/400 [01:00<00:00,  6.58it/s]\n",
      "100%|██████████| 400/400 [00:59<00:00,  6.67it/s]\n",
      "100%|██████████| 400/400 [00:59<00:00,  6.67it/s]\n",
      "100%|██████████| 400/400 [00:59<00:00,  6.70it/s]\n",
      "100%|██████████| 400/400 [00:59<00:00,  6.68it/s]\n",
      "100%|██████████| 360/360 [00:18<00:00, 18.98it/s]\n"
     ]
    },
    {
     "name": "stdout",
     "output_type": "stream",
     "text": [
      "EPOCH 12: Train acc: 99.35% Train Loss: 0.0396 Test acc: 74.90% Test Loss: 1.6305\n"
     ]
    },
    {
     "name": "stderr",
     "output_type": "stream",
     "text": [
      "100%|██████████| 400/400 [01:01<00:00,  6.56it/s]\n",
      "100%|██████████| 400/400 [00:59<00:00,  6.68it/s]\n",
      "100%|██████████| 400/400 [01:00<00:00,  6.66it/s]\n",
      "100%|██████████| 400/400 [00:59<00:00,  6.69it/s]\n",
      "100%|██████████| 400/400 [01:00<00:00,  6.66it/s]\n",
      "100%|██████████| 360/360 [00:18<00:00, 19.01it/s]\n"
     ]
    },
    {
     "name": "stdout",
     "output_type": "stream",
     "text": [
      "EPOCH 13: Train acc: 99.42% Train Loss: 0.0361 Test acc: 73.71% Test Loss: 1.7292\n"
     ]
    },
    {
     "name": "stderr",
     "output_type": "stream",
     "text": [
      "100%|██████████| 400/400 [01:01<00:00,  6.55it/s]\n",
      "100%|██████████| 400/400 [01:00<00:00,  6.67it/s]\n",
      "100%|██████████| 400/400 [00:59<00:00,  6.67it/s]\n",
      "100%|██████████| 400/400 [00:59<00:00,  6.70it/s]\n",
      "100%|██████████| 400/400 [00:59<00:00,  6.68it/s]\n",
      "100%|██████████| 360/360 [00:19<00:00, 18.84it/s]\n"
     ]
    },
    {
     "name": "stdout",
     "output_type": "stream",
     "text": [
      "EPOCH 14: Train acc: 99.54% Train Loss: 0.0295 Test acc: 76.30% Test Loss: 1.5264\n"
     ]
    },
    {
     "name": "stderr",
     "output_type": "stream",
     "text": [
      "100%|██████████| 400/400 [01:00<00:00,  6.56it/s]\n",
      "100%|██████████| 400/400 [00:59<00:00,  6.67it/s]\n",
      "100%|██████████| 400/400 [01:00<00:00,  6.67it/s]\n",
      "100%|██████████| 400/400 [00:59<00:00,  6.70it/s]\n",
      "100%|██████████| 400/400 [00:59<00:00,  6.68it/s]\n",
      "100%|██████████| 360/360 [00:18<00:00, 19.23it/s]\n"
     ]
    },
    {
     "name": "stdout",
     "output_type": "stream",
     "text": [
      "EPOCH 15: Train acc: 99.58% Train Loss: 0.0295 Test acc: 75.32% Test Loss: 1.5841\n"
     ]
    },
    {
     "name": "stderr",
     "output_type": "stream",
     "text": [
      "100%|██████████| 400/400 [01:01<00:00,  6.53it/s]\n",
      "100%|██████████| 400/400 [01:00<00:00,  6.66it/s]\n",
      "100%|██████████| 400/400 [01:00<00:00,  6.65it/s]\n",
      "100%|██████████| 400/400 [00:59<00:00,  6.69it/s]\n",
      "100%|██████████| 400/400 [00:59<00:00,  6.69it/s]\n",
      "100%|██████████| 360/360 [00:18<00:00, 18.97it/s]\n"
     ]
    },
    {
     "name": "stdout",
     "output_type": "stream",
     "text": [
      "EPOCH 16: Train acc: 99.61% Train Loss: 0.0259 Test acc: 76.83% Test Loss: 1.4971\n"
     ]
    },
    {
     "name": "stderr",
     "output_type": "stream",
     "text": [
      "100%|██████████| 400/400 [01:00<00:00,  6.56it/s]\n",
      "100%|██████████| 400/400 [00:59<00:00,  6.69it/s]\n",
      "100%|██████████| 400/400 [00:59<00:00,  6.69it/s]\n",
      "100%|██████████| 400/400 [00:59<00:00,  6.67it/s]\n",
      "100%|██████████| 400/400 [00:59<00:00,  6.68it/s]\n",
      "100%|██████████| 360/360 [00:18<00:00, 19.11it/s]\n"
     ]
    },
    {
     "name": "stdout",
     "output_type": "stream",
     "text": [
      "EPOCH 17: Train acc: 99.73% Train Loss: 0.0189 Test acc: 74.90% Test Loss: 1.6580\n"
     ]
    },
    {
     "name": "stderr",
     "output_type": "stream",
     "text": [
      "100%|██████████| 400/400 [01:00<00:00,  6.57it/s]\n",
      "100%|██████████| 400/400 [01:00<00:00,  6.66it/s]\n",
      "100%|██████████| 400/400 [00:59<00:00,  6.68it/s]\n",
      "100%|██████████| 400/400 [00:59<00:00,  6.69it/s]\n",
      "100%|██████████| 400/400 [00:59<00:00,  6.67it/s]\n",
      "100%|██████████| 360/360 [00:18<00:00, 18.97it/s]\n"
     ]
    },
    {
     "name": "stdout",
     "output_type": "stream",
     "text": [
      "EPOCH 18: Train acc: 99.64% Train Loss: 0.0231 Test acc: 74.19% Test Loss: 1.7130\n"
     ]
    },
    {
     "name": "stderr",
     "output_type": "stream",
     "text": [
      "100%|██████████| 400/400 [01:00<00:00,  6.56it/s]\n",
      "100%|██████████| 400/400 [00:59<00:00,  6.67it/s]\n",
      "100%|██████████| 400/400 [01:00<00:00,  6.67it/s]\n",
      "100%|██████████| 400/400 [00:59<00:00,  6.68it/s]\n",
      "100%|██████████| 400/400 [00:59<00:00,  6.68it/s]\n",
      "100%|██████████| 360/360 [00:19<00:00, 18.87it/s]\n"
     ]
    },
    {
     "name": "stdout",
     "output_type": "stream",
     "text": [
      "EPOCH 19: Train acc: 99.72% Train Loss: 0.0186 Test acc: 74.44% Test Loss: 1.6624\n"
     ]
    },
    {
     "name": "stderr",
     "output_type": "stream",
     "text": [
      "100%|██████████| 400/400 [01:01<00:00,  6.56it/s]\n",
      "100%|██████████| 400/400 [00:59<00:00,  6.68it/s]\n",
      "100%|██████████| 400/400 [01:00<00:00,  6.67it/s]\n",
      "100%|██████████| 400/400 [00:59<00:00,  6.68it/s]\n",
      "100%|██████████| 400/400 [01:00<00:00,  6.66it/s]\n",
      "100%|██████████| 360/360 [00:19<00:00, 18.87it/s]\n"
     ]
    },
    {
     "name": "stdout",
     "output_type": "stream",
     "text": [
      "EPOCH 20: Train acc: 99.73% Train Loss: 0.0180 Test acc: 74.94% Test Loss: 1.7104\n"
     ]
    },
    {
     "name": "stderr",
     "output_type": "stream",
     "text": [
      "100%|██████████| 400/400 [01:01<00:00,  6.54it/s]\n",
      "100%|██████████| 400/400 [01:00<00:00,  6.67it/s]\n",
      "100%|██████████| 400/400 [01:00<00:00,  6.65it/s]\n",
      "100%|██████████| 400/400 [00:59<00:00,  6.69it/s]\n",
      "100%|██████████| 400/400 [00:59<00:00,  6.68it/s]\n",
      "100%|██████████| 360/360 [00:18<00:00, 19.02it/s]\n"
     ]
    },
    {
     "name": "stdout",
     "output_type": "stream",
     "text": [
      "EPOCH 21: Train acc: 99.72% Train Loss: 0.0169 Test acc: 75.19% Test Loss: 1.6417\n"
     ]
    },
    {
     "name": "stderr",
     "output_type": "stream",
     "text": [
      "100%|██████████| 400/400 [01:00<00:00,  6.57it/s]\n",
      "100%|██████████| 400/400 [01:00<00:00,  6.67it/s]\n",
      "100%|██████████| 400/400 [00:59<00:00,  6.68it/s]\n",
      "100%|██████████| 400/400 [00:59<00:00,  6.70it/s]\n",
      "100%|██████████| 400/400 [00:59<00:00,  6.69it/s]\n",
      "100%|██████████| 360/360 [00:18<00:00, 19.13it/s]\n"
     ]
    },
    {
     "name": "stdout",
     "output_type": "stream",
     "text": [
      "EPOCH 22: Train acc: 99.65% Train Loss: 0.0226 Test acc: 77.01% Test Loss: 1.4905\n"
     ]
    },
    {
     "name": "stderr",
     "output_type": "stream",
     "text": [
      "100%|██████████| 400/400 [01:01<00:00,  6.56it/s]\n",
      "100%|██████████| 400/400 [01:00<00:00,  6.66it/s]\n",
      "100%|██████████| 400/400 [00:59<00:00,  6.67it/s]\n",
      "100%|██████████| 400/400 [00:59<00:00,  6.69it/s]\n",
      "100%|██████████| 400/400 [00:59<00:00,  6.69it/s]\n",
      "100%|██████████| 360/360 [00:18<00:00, 19.00it/s]\n"
     ]
    },
    {
     "name": "stdout",
     "output_type": "stream",
     "text": [
      "EPOCH 23: Train acc: 99.80% Train Loss: 0.0139 Test acc: 75.94% Test Loss: 1.5614\n"
     ]
    },
    {
     "name": "stderr",
     "output_type": "stream",
     "text": [
      "100%|██████████| 400/400 [01:00<00:00,  6.57it/s]\n",
      "100%|██████████| 400/400 [00:59<00:00,  6.69it/s]\n",
      "100%|██████████| 400/400 [01:00<00:00,  6.66it/s]\n",
      "100%|██████████| 400/400 [00:59<00:00,  6.69it/s]\n",
      "100%|██████████| 400/400 [00:59<00:00,  6.67it/s]\n",
      "100%|██████████| 360/360 [00:19<00:00, 18.94it/s]\n"
     ]
    },
    {
     "name": "stdout",
     "output_type": "stream",
     "text": [
      "EPOCH 24: Train acc: 99.81% Train Loss: 0.0148 Test acc: 75.33% Test Loss: 1.6492\n"
     ]
    },
    {
     "name": "stderr",
     "output_type": "stream",
     "text": [
      "100%|██████████| 400/400 [01:00<00:00,  6.56it/s]\n",
      "100%|██████████| 400/400 [00:59<00:00,  6.67it/s]\n",
      "100%|██████████| 400/400 [01:00<00:00,  6.67it/s]\n",
      "100%|██████████| 400/400 [00:59<00:00,  6.69it/s]\n",
      "100%|██████████| 400/400 [00:59<00:00,  6.69it/s]\n",
      "100%|██████████| 360/360 [00:19<00:00, 18.87it/s]\n"
     ]
    },
    {
     "name": "stdout",
     "output_type": "stream",
     "text": [
      "EPOCH 25: Train acc: 99.77% Train Loss: 0.0164 Test acc: 75.12% Test Loss: 1.7154\n",
      "\n"
     ]
    },
    {
     "data": {
      "text/html": [
       "Waiting for W&B process to finish... <strong style=\"color:red\">(failed 1).</strong> Press Control-C to abort syncing."
      ],
      "text/plain": [
       "<IPython.core.display.HTML object>"
      ]
     },
     "metadata": {},
     "output_type": "display_data"
    },
    {
     "data": {
      "application/vnd.jupyter.widget-view+json": {
       "model_id": "",
       "version_major": 2,
       "version_minor": 0
      },
      "text/plain": [
       "VBox(children=(Label(value='0.001 MB of 0.001 MB uploaded (0.000 MB deduped)\\r'), FloatProgress(value=1.0, max…"
      ]
     },
     "metadata": {},
     "output_type": "display_data"
    },
    {
     "data": {
      "text/html": [
       "<style>\n",
       "    table.wandb td:nth-child(1) { padding: 0 10px; text-align: right }\n",
       "    .wandb-row { display: flex; flex-direction: row; flex-wrap: wrap; width: 100% }\n",
       "    .wandb-col { display: flex; flex-direction: column; flex-basis: 100%; flex: 1; padding: 10px; }\n",
       "    </style>\n",
       "<div class=\"wandb-row\"><div class=\"wandb-col\"><h3>Run history:</h3><br/><table class=\"wandb\"><tr><td>epoch</td><td>▁▁▂▂▂▂▃▃▃▄▄▄▅▅▅▅▆▆▆▇▇▇▇██</td></tr><tr><td>loss</td><td>▁▄▆▃▄▂▇▄▃▆▇▆█▄▅▄▇█▇█▆▄▅▇█</td></tr><tr><td>test/test_accuracy</td><td>▇▄▂▅▅█▄▄▇▃▄▃▁▆▄▇▃▂▂▃▄▇▅▄▄</td></tr><tr><td>test/test_loss</td><td>▁▄▆▃▄▂▇▄▃▆▇▆█▄▅▄▇█▇█▆▄▅▇█</td></tr><tr><td>train/train_accuracy</td><td>▁▅▆▇▇████████████████████</td></tr><tr><td>train/train_loss</td><td>█▄▃▂▂▁▁▁▁▁▁▁▁▁▁▁▁▁▁▁▁▁▁▁▁</td></tr></table><br/></div><div class=\"wandb-col\"><h3>Run summary:</h3><br/><table class=\"wandb\"><tr><td>epoch</td><td>25</td></tr><tr><td>loss</td><td>1.71544</td></tr><tr><td>test/test_accuracy</td><td>0.75122</td></tr><tr><td>test/test_loss</td><td>1.71544</td></tr><tr><td>train/train_accuracy</td><td>0.9977</td></tr><tr><td>train/train_loss</td><td>0.01636</td></tr></table><br/></div></div>"
      ],
      "text/plain": [
       "<IPython.core.display.HTML object>"
      ]
     },
     "metadata": {},
     "output_type": "display_data"
    },
    {
     "data": {
      "text/html": [
       "Synced <strong style=\"color:#cdcd00\">apricot-sweep-4</strong>: <a href=\"https://wandb.ai/leonardtd/cloud%20classification/runs/w2nqk3lb\" target=\"_blank\">https://wandb.ai/leonardtd/cloud%20classification/runs/w2nqk3lb</a><br/>Synced 6 W&B file(s), 0 media file(s), 0 artifact file(s) and 0 other file(s)"
      ],
      "text/plain": [
       "<IPython.core.display.HTML object>"
      ]
     },
     "metadata": {},
     "output_type": "display_data"
    },
    {
     "data": {
      "text/html": [
       "Find logs at: <code>./wandb/run-20220331_051826-w2nqk3lb/logs</code>"
      ],
      "text/plain": [
       "<IPython.core.display.HTML object>"
      ]
     },
     "metadata": {},
     "output_type": "display_data"
    },
    {
     "name": "stderr",
     "output_type": "stream",
     "text": [
      "Run w2nqk3lb errored: NameError(\"name 'classes' is not defined\")\n",
      "\u001b[34m\u001b[1mwandb\u001b[0m: \u001b[32m\u001b[41mERROR\u001b[0m Run w2nqk3lb errored: NameError(\"name 'classes' is not defined\")\n",
      "\u001b[34m\u001b[1mwandb\u001b[0m: Agent Starting Run: 925yo3hw with config:\n",
      "\u001b[34m\u001b[1mwandb\u001b[0m: \tbatch_size: 26\n",
      "\u001b[34m\u001b[1mwandb\u001b[0m: \tcriterion: loge\n",
      "\u001b[34m\u001b[1mwandb\u001b[0m: \tdevice: cuda:2\n",
      "\u001b[34m\u001b[1mwandb\u001b[0m: \tepochs: 25\n",
      "\u001b[34m\u001b[1mwandb\u001b[0m: \thidden_dim: 512\n",
      "\u001b[34m\u001b[1mwandb\u001b[0m: \tlearning_rate: 4.594822028254274e-05\n",
      "\u001b[34m\u001b[1mwandb\u001b[0m: \tnum_heads: 1\n",
      "\u001b[34m\u001b[1mwandb\u001b[0m: \tnum_hidden: 2\n",
      "\u001b[34m\u001b[1mwandb\u001b[0m: \toptimizer: adam\n",
      "\u001b[34m\u001b[1mwandb\u001b[0m: \tsimilarity_threshold: 0.6\n"
     ]
    },
    {
     "data": {
      "text/html": [
       "Tracking run with wandb version 0.12.11"
      ],
      "text/plain": [
       "<IPython.core.display.HTML object>"
      ]
     },
     "metadata": {},
     "output_type": "display_data"
    },
    {
     "data": {
      "text/html": [
       "Run data is saved locally in <code>/home/ltorres/leo/tesis/cloud-classification/code/wandb/run-20220331_073150-925yo3hw</code>"
      ],
      "text/plain": [
       "<IPython.core.display.HTML object>"
      ]
     },
     "metadata": {},
     "output_type": "display_data"
    },
    {
     "data": {
      "text/html": [
       "Syncing run <strong><a href=\"https://wandb.ai/leonardtd/cloud%20classification/runs/925yo3hw\" target=\"_blank\">magic-sweep-5</a></strong> to <a href=\"https://wandb.ai/leonardtd/cloud%20classification\" target=\"_blank\">Weights & Biases</a> (<a href=\"https://wandb.me/run\" target=\"_blank\">docs</a>)<br/>Sweep page:  <a href=\"https://wandb.ai/leonardtd/cloud%20classification/sweeps/03otgj81\" target=\"_blank\">https://wandb.ai/leonardtd/cloud%20classification/sweeps/03otgj81</a>"
      ],
      "text/plain": [
       "<IPython.core.display.HTML object>"
      ]
     },
     "metadata": {},
     "output_type": "display_data"
    },
    {
     "name": "stderr",
     "output_type": "stream",
     "text": [
      "100%|██████████| 385/385 [01:00<00:00,  6.36it/s]\n",
      "100%|██████████| 385/385 [00:59<00:00,  6.49it/s]\n",
      "100%|██████████| 385/385 [00:59<00:00,  6.48it/s]\n",
      "100%|██████████| 385/385 [00:59<00:00,  6.51it/s]\n",
      "100%|██████████| 385/385 [00:59<00:00,  6.50it/s]\n",
      "100%|██████████| 347/347 [00:18<00:00, 18.69it/s]\n"
     ]
    },
    {
     "name": "stdout",
     "output_type": "stream",
     "text": [
      "EPOCH 1: Train acc: 79.91% Train Loss: 1.1681 Test acc: 80.03% Test Loss: 1.3581\n"
     ]
    },
    {
     "name": "stderr",
     "output_type": "stream",
     "text": [
      "100%|██████████| 385/385 [01:00<00:00,  6.35it/s]\n",
      "100%|██████████| 385/385 [00:59<00:00,  6.50it/s]\n",
      "100%|██████████| 385/385 [00:59<00:00,  6.49it/s]\n",
      "100%|██████████| 385/385 [00:59<00:00,  6.51it/s]\n",
      "100%|██████████| 385/385 [00:59<00:00,  6.51it/s]\n",
      "100%|██████████| 347/347 [00:18<00:00, 18.62it/s]\n"
     ]
    },
    {
     "name": "stdout",
     "output_type": "stream",
     "text": [
      "EPOCH 2: Train acc: 92.35% Train Loss: 0.4575 Test acc: 80.68% Test Loss: 1.2960\n"
     ]
    },
    {
     "name": "stderr",
     "output_type": "stream",
     "text": [
      "100%|██████████| 385/385 [01:00<00:00,  6.35it/s]\n",
      "100%|██████████| 385/385 [00:59<00:00,  6.50it/s]\n",
      "100%|██████████| 385/385 [00:59<00:00,  6.50it/s]\n",
      "100%|██████████| 385/385 [00:59<00:00,  6.51it/s]\n",
      "100%|██████████| 385/385 [00:59<00:00,  6.51it/s]\n",
      "100%|██████████| 347/347 [00:18<00:00, 18.70it/s]\n"
     ]
    },
    {
     "name": "stdout",
     "output_type": "stream",
     "text": [
      "EPOCH 3: Train acc: 94.63% Train Loss: 0.3220 Test acc: 81.92% Test Loss: 1.2492\n"
     ]
    },
    {
     "name": "stderr",
     "output_type": "stream",
     "text": [
      "100%|██████████| 385/385 [01:00<00:00,  6.34it/s]\n",
      "100%|██████████| 385/385 [00:59<00:00,  6.50it/s]\n",
      "100%|██████████| 385/385 [00:59<00:00,  6.49it/s]\n",
      "100%|██████████| 385/385 [00:59<00:00,  6.51it/s]\n",
      "100%|██████████| 385/385 [00:59<00:00,  6.49it/s]\n",
      "100%|██████████| 347/347 [00:18<00:00, 18.64it/s]\n"
     ]
    },
    {
     "name": "stdout",
     "output_type": "stream",
     "text": [
      "EPOCH 4: Train acc: 96.63% Train Loss: 0.2051 Test acc: 79.20% Test Loss: 1.3797\n"
     ]
    },
    {
     "name": "stderr",
     "output_type": "stream",
     "text": [
      "100%|██████████| 385/385 [01:00<00:00,  6.35it/s]\n",
      "100%|██████████| 385/385 [00:59<00:00,  6.50it/s]\n",
      "100%|██████████| 385/385 [00:59<00:00,  6.50it/s]\n",
      "100%|██████████| 385/385 [00:59<00:00,  6.48it/s]\n",
      "100%|██████████| 385/385 [00:59<00:00,  6.50it/s]\n",
      "100%|██████████| 347/347 [00:18<00:00, 18.61it/s]\n"
     ]
    },
    {
     "name": "stdout",
     "output_type": "stream",
     "text": [
      "EPOCH 5: Train acc: 97.70% Train Loss: 0.1441 Test acc: 79.04% Test Loss: 1.4539\n"
     ]
    },
    {
     "name": "stderr",
     "output_type": "stream",
     "text": [
      "100%|██████████| 385/385 [01:00<00:00,  6.35it/s]\n",
      "100%|██████████| 385/385 [00:59<00:00,  6.49it/s]\n",
      "100%|██████████| 385/385 [00:59<00:00,  6.51it/s]\n",
      "100%|██████████| 385/385 [00:59<00:00,  6.50it/s]\n",
      "100%|██████████| 385/385 [00:59<00:00,  6.50it/s]\n",
      "100%|██████████| 347/347 [00:18<00:00, 18.53it/s]\n"
     ]
    },
    {
     "name": "stdout",
     "output_type": "stream",
     "text": [
      "EPOCH 6: Train acc: 98.51% Train Loss: 0.0982 Test acc: 78.49% Test Loss: 1.4673\n"
     ]
    },
    {
     "name": "stderr",
     "output_type": "stream",
     "text": [
      "100%|██████████| 385/385 [01:00<00:00,  6.37it/s]\n",
      "100%|██████████| 385/385 [00:59<00:00,  6.50it/s]\n",
      "100%|██████████| 385/385 [00:59<00:00,  6.50it/s]\n",
      "100%|██████████| 385/385 [00:59<00:00,  6.49it/s]\n",
      "100%|██████████| 385/385 [00:59<00:00,  6.51it/s]\n",
      "100%|██████████| 347/347 [00:18<00:00, 18.71it/s]\n"
     ]
    },
    {
     "name": "stdout",
     "output_type": "stream",
     "text": [
      "EPOCH 7: Train acc: 98.93% Train Loss: 0.0732 Test acc: 76.81% Test Loss: 1.6168\n"
     ]
    },
    {
     "name": "stderr",
     "output_type": "stream",
     "text": [
      "100%|██████████| 385/385 [01:00<00:00,  6.38it/s]\n",
      "100%|██████████| 385/385 [00:59<00:00,  6.52it/s]\n",
      "100%|██████████| 385/385 [00:59<00:00,  6.51it/s]\n",
      "100%|██████████| 385/385 [00:59<00:00,  6.50it/s]\n",
      "100%|██████████| 385/385 [00:59<00:00,  6.50it/s]\n",
      "100%|██████████| 347/347 [00:18<00:00, 18.75it/s]\n"
     ]
    },
    {
     "name": "stdout",
     "output_type": "stream",
     "text": [
      "EPOCH 8: Train acc: 99.10% Train Loss: 0.0614 Test acc: 78.22% Test Loss: 1.5107\n"
     ]
    },
    {
     "name": "stderr",
     "output_type": "stream",
     "text": [
      "100%|██████████| 385/385 [01:00<00:00,  6.35it/s]\n",
      "100%|██████████| 385/385 [00:59<00:00,  6.49it/s]\n",
      "100%|██████████| 385/385 [00:59<00:00,  6.51it/s]\n",
      "100%|██████████| 385/385 [00:59<00:00,  6.52it/s]\n",
      "100%|██████████| 385/385 [00:59<00:00,  6.51it/s]\n",
      "100%|██████████| 347/347 [00:18<00:00, 18.69it/s]\n"
     ]
    },
    {
     "name": "stdout",
     "output_type": "stream",
     "text": [
      "EPOCH 9: Train acc: 99.10% Train Loss: 0.0629 Test acc: 77.03% Test Loss: 1.5924\n"
     ]
    },
    {
     "name": "stderr",
     "output_type": "stream",
     "text": [
      "100%|██████████| 385/385 [01:00<00:00,  6.36it/s]\n",
      "100%|██████████| 385/385 [00:59<00:00,  6.50it/s]\n",
      "100%|██████████| 385/385 [00:59<00:00,  6.49it/s]\n",
      "100%|██████████| 385/385 [00:59<00:00,  6.49it/s]\n",
      "100%|██████████| 385/385 [00:59<00:00,  6.50it/s]\n",
      "100%|██████████| 347/347 [00:18<00:00, 18.65it/s]\n"
     ]
    },
    {
     "name": "stdout",
     "output_type": "stream",
     "text": [
      "EPOCH 10: Train acc: 99.25% Train Loss: 0.0487 Test acc: 78.04% Test Loss: 1.5337\n"
     ]
    },
    {
     "name": "stderr",
     "output_type": "stream",
     "text": [
      "100%|██████████| 385/385 [01:00<00:00,  6.35it/s]\n",
      "100%|██████████| 385/385 [00:59<00:00,  6.50it/s]\n",
      "100%|██████████| 385/385 [00:59<00:00,  6.48it/s]\n",
      "100%|██████████| 385/385 [00:59<00:00,  6.50it/s]\n",
      "100%|██████████| 385/385 [00:59<00:00,  6.48it/s]\n",
      "100%|██████████| 347/347 [00:18<00:00, 18.65it/s]\n"
     ]
    },
    {
     "name": "stdout",
     "output_type": "stream",
     "text": [
      "EPOCH 11: Train acc: 99.47% Train Loss: 0.0399 Test acc: 79.18% Test Loss: 1.4673\n"
     ]
    },
    {
     "name": "stderr",
     "output_type": "stream",
     "text": [
      "100%|██████████| 385/385 [01:00<00:00,  6.35it/s]\n",
      "100%|██████████| 385/385 [00:59<00:00,  6.50it/s]\n",
      "100%|██████████| 385/385 [00:59<00:00,  6.50it/s]\n",
      "100%|██████████| 385/385 [00:59<00:00,  6.49it/s]\n",
      "100%|██████████| 385/385 [00:59<00:00,  6.51it/s]\n",
      "100%|██████████| 347/347 [00:18<00:00, 18.59it/s]\n"
     ]
    },
    {
     "name": "stdout",
     "output_type": "stream",
     "text": [
      "EPOCH 12: Train acc: 99.51% Train Loss: 0.0350 Test acc: 78.72% Test Loss: 1.4599\n"
     ]
    },
    {
     "name": "stderr",
     "output_type": "stream",
     "text": [
      "100%|██████████| 385/385 [01:00<00:00,  6.36it/s]\n",
      "100%|██████████| 385/385 [00:59<00:00,  6.49it/s]\n",
      "100%|██████████| 385/385 [00:59<00:00,  6.49it/s]\n",
      "100%|██████████| 385/385 [00:59<00:00,  6.50it/s]\n",
      "100%|██████████| 385/385 [00:59<00:00,  6.50it/s]\n",
      "100%|██████████| 347/347 [00:18<00:00, 18.72it/s]\n"
     ]
    },
    {
     "name": "stdout",
     "output_type": "stream",
     "text": [
      "EPOCH 13: Train acc: 99.53% Train Loss: 0.0303 Test acc: 80.89% Test Loss: 1.3796\n"
     ]
    },
    {
     "name": "stderr",
     "output_type": "stream",
     "text": [
      "100%|██████████| 385/385 [01:00<00:00,  6.36it/s]\n",
      "100%|██████████| 385/385 [00:59<00:00,  6.49it/s]\n",
      "100%|██████████| 385/385 [00:59<00:00,  6.50it/s]\n",
      "100%|██████████| 385/385 [00:59<00:00,  6.49it/s]\n",
      "100%|██████████| 385/385 [00:59<00:00,  6.51it/s]\n",
      "100%|██████████| 347/347 [00:18<00:00, 18.82it/s]\n"
     ]
    },
    {
     "name": "stdout",
     "output_type": "stream",
     "text": [
      "EPOCH 14: Train acc: 99.65% Train Loss: 0.0240 Test acc: 77.87% Test Loss: 1.5263\n"
     ]
    },
    {
     "name": "stderr",
     "output_type": "stream",
     "text": [
      "100%|██████████| 385/385 [01:00<00:00,  6.37it/s]\n",
      "100%|██████████| 385/385 [00:59<00:00,  6.49it/s]\n",
      "100%|██████████| 385/385 [00:59<00:00,  6.49it/s]\n",
      "100%|██████████| 385/385 [00:59<00:00,  6.50it/s]\n",
      "100%|██████████| 385/385 [00:59<00:00,  6.51it/s]\n",
      "100%|██████████| 347/347 [00:18<00:00, 18.71it/s]\n"
     ]
    },
    {
     "name": "stdout",
     "output_type": "stream",
     "text": [
      "EPOCH 15: Train acc: 99.62% Train Loss: 0.0249 Test acc: 79.96% Test Loss: 1.3903\n"
     ]
    },
    {
     "name": "stderr",
     "output_type": "stream",
     "text": [
      "100%|██████████| 385/385 [01:00<00:00,  6.35it/s]\n",
      "100%|██████████| 385/385 [00:59<00:00,  6.49it/s]\n",
      "100%|██████████| 385/385 [00:59<00:00,  6.49it/s]\n",
      "100%|██████████| 385/385 [00:59<00:00,  6.50it/s]\n",
      "100%|██████████| 385/385 [00:59<00:00,  6.50it/s]\n",
      "100%|██████████| 347/347 [00:18<00:00, 18.68it/s]\n"
     ]
    },
    {
     "name": "stdout",
     "output_type": "stream",
     "text": [
      "EPOCH 16: Train acc: 99.55% Train Loss: 0.0320 Test acc: 75.10% Test Loss: 1.7231\n"
     ]
    },
    {
     "name": "stderr",
     "output_type": "stream",
     "text": [
      "100%|██████████| 385/385 [01:00<00:00,  6.37it/s]\n",
      "100%|██████████| 385/385 [00:59<00:00,  6.49it/s]\n",
      "100%|██████████| 385/385 [00:59<00:00,  6.49it/s]\n",
      "100%|██████████| 385/385 [00:59<00:00,  6.50it/s]\n",
      "100%|██████████| 385/385 [00:59<00:00,  6.50it/s]\n",
      "100%|██████████| 347/347 [00:18<00:00, 18.64it/s]\n"
     ]
    },
    {
     "name": "stdout",
     "output_type": "stream",
     "text": [
      "EPOCH 17: Train acc: 99.72% Train Loss: 0.0202 Test acc: 78.31% Test Loss: 1.5153\n"
     ]
    },
    {
     "name": "stderr",
     "output_type": "stream",
     "text": [
      "100%|██████████| 385/385 [01:00<00:00,  6.36it/s]\n",
      "100%|██████████| 385/385 [00:59<00:00,  6.50it/s]\n",
      "100%|██████████| 385/385 [00:59<00:00,  6.49it/s]\n",
      "100%|██████████| 385/385 [00:59<00:00,  6.50it/s]\n",
      "100%|██████████| 385/385 [00:59<00:00,  6.50it/s]\n",
      "100%|██████████| 347/347 [00:18<00:00, 18.67it/s]\n"
     ]
    },
    {
     "name": "stdout",
     "output_type": "stream",
     "text": [
      "EPOCH 18: Train acc: 99.68% Train Loss: 0.0226 Test acc: 77.20% Test Loss: 1.5908\n"
     ]
    },
    {
     "name": "stderr",
     "output_type": "stream",
     "text": [
      "100%|██████████| 385/385 [01:00<00:00,  6.35it/s]\n",
      "100%|██████████| 385/385 [00:59<00:00,  6.48it/s]\n",
      "100%|██████████| 385/385 [00:59<00:00,  6.49it/s]\n",
      "100%|██████████| 385/385 [00:59<00:00,  6.49it/s]\n",
      "100%|██████████| 385/385 [00:59<00:00,  6.49it/s]\n",
      "100%|██████████| 347/347 [00:18<00:00, 18.67it/s]\n"
     ]
    },
    {
     "name": "stdout",
     "output_type": "stream",
     "text": [
      "EPOCH 19: Train acc: 99.60% Train Loss: 0.0255 Test acc: 76.32% Test Loss: 1.6200\n"
     ]
    },
    {
     "name": "stderr",
     "output_type": "stream",
     "text": [
      "100%|██████████| 385/385 [01:00<00:00,  6.34it/s]\n",
      "100%|██████████| 385/385 [00:59<00:00,  6.50it/s]\n",
      "100%|██████████| 385/385 [00:59<00:00,  6.49it/s]\n",
      "100%|██████████| 385/385 [00:59<00:00,  6.49it/s]\n",
      "100%|██████████| 385/385 [00:59<00:00,  6.50it/s]\n",
      "100%|██████████| 347/347 [00:18<00:00, 18.62it/s]\n"
     ]
    },
    {
     "name": "stdout",
     "output_type": "stream",
     "text": [
      "EPOCH 20: Train acc: 99.78% Train Loss: 0.0176 Test acc: 76.98% Test Loss: 1.5830\n"
     ]
    },
    {
     "name": "stderr",
     "output_type": "stream",
     "text": [
      "100%|██████████| 385/385 [01:00<00:00,  6.36it/s]\n",
      "100%|██████████| 385/385 [00:59<00:00,  6.48it/s]\n",
      "100%|██████████| 385/385 [00:59<00:00,  6.51it/s]\n",
      "100%|██████████| 385/385 [00:59<00:00,  6.49it/s]\n",
      "100%|██████████| 385/385 [00:59<00:00,  6.51it/s]\n",
      "100%|██████████| 347/347 [00:18<00:00, 18.75it/s]\n"
     ]
    },
    {
     "name": "stdout",
     "output_type": "stream",
     "text": [
      "EPOCH 21: Train acc: 99.70% Train Loss: 0.0220 Test acc: 77.08% Test Loss: 1.6406\n"
     ]
    },
    {
     "name": "stderr",
     "output_type": "stream",
     "text": [
      "100%|██████████| 385/385 [01:00<00:00,  6.36it/s]\n",
      "100%|██████████| 385/385 [00:59<00:00,  6.49it/s]\n",
      "100%|██████████| 385/385 [00:59<00:00,  6.50it/s]\n",
      "100%|██████████| 385/385 [00:59<00:00,  6.51it/s]\n",
      "100%|██████████| 385/385 [00:59<00:00,  6.50it/s]\n",
      "100%|██████████| 347/347 [00:18<00:00, 18.68it/s]\n"
     ]
    },
    {
     "name": "stdout",
     "output_type": "stream",
     "text": [
      "EPOCH 22: Train acc: 99.76% Train Loss: 0.0175 Test acc: 78.87% Test Loss: 1.5525\n"
     ]
    },
    {
     "name": "stderr",
     "output_type": "stream",
     "text": [
      "100%|██████████| 385/385 [01:00<00:00,  6.36it/s]\n",
      "100%|██████████| 385/385 [00:59<00:00,  6.50it/s]\n",
      "100%|██████████| 385/385 [00:59<00:00,  6.49it/s]\n",
      "100%|██████████| 385/385 [00:59<00:00,  6.49it/s]\n",
      "100%|██████████| 385/385 [00:59<00:00,  6.52it/s]\n",
      "100%|██████████| 347/347 [00:18<00:00, 18.71it/s]\n"
     ]
    },
    {
     "name": "stdout",
     "output_type": "stream",
     "text": [
      "EPOCH 23: Train acc: 99.66% Train Loss: 0.0186 Test acc: 76.42% Test Loss: 1.6770\n"
     ]
    },
    {
     "name": "stderr",
     "output_type": "stream",
     "text": [
      "100%|██████████| 385/385 [01:00<00:00,  6.36it/s]\n",
      "100%|██████████| 385/385 [00:59<00:00,  6.50it/s]\n",
      "100%|██████████| 385/385 [00:59<00:00,  6.49it/s]\n",
      "100%|██████████| 385/385 [00:59<00:00,  6.49it/s]\n",
      "100%|██████████| 385/385 [00:59<00:00,  6.50it/s]\n",
      "100%|██████████| 347/347 [00:18<00:00, 18.68it/s]\n"
     ]
    },
    {
     "name": "stdout",
     "output_type": "stream",
     "text": [
      "EPOCH 24: Train acc: 99.68% Train Loss: 0.0206 Test acc: 78.96% Test Loss: 1.4505\n"
     ]
    },
    {
     "name": "stderr",
     "output_type": "stream",
     "text": [
      "100%|██████████| 385/385 [01:00<00:00,  6.35it/s]\n",
      "100%|██████████| 385/385 [00:59<00:00,  6.49it/s]\n",
      "100%|██████████| 385/385 [00:59<00:00,  6.50it/s]\n",
      "100%|██████████| 385/385 [00:59<00:00,  6.50it/s]\n",
      "100%|██████████| 385/385 [00:59<00:00,  6.50it/s]\n",
      "100%|██████████| 347/347 [00:18<00:00, 18.81it/s]\n"
     ]
    },
    {
     "name": "stdout",
     "output_type": "stream",
     "text": [
      "EPOCH 25: Train acc: 99.71% Train Loss: 0.0193 Test acc: 76.62% Test Loss: 1.6647\n",
      "\n"
     ]
    },
    {
     "data": {
      "text/html": [
       "Waiting for W&B process to finish... <strong style=\"color:red\">(failed 1).</strong> Press Control-C to abort syncing."
      ],
      "text/plain": [
       "<IPython.core.display.HTML object>"
      ]
     },
     "metadata": {},
     "output_type": "display_data"
    },
    {
     "data": {
      "application/vnd.jupyter.widget-view+json": {
       "model_id": "",
       "version_major": 2,
       "version_minor": 0
      },
      "text/plain": [
       "VBox(children=(Label(value='0.001 MB of 0.001 MB uploaded (0.000 MB deduped)\\r'), FloatProgress(value=1.0, max…"
      ]
     },
     "metadata": {},
     "output_type": "display_data"
    },
    {
     "data": {
      "text/html": [
       "<style>\n",
       "    table.wandb td:nth-child(1) { padding: 0 10px; text-align: right }\n",
       "    .wandb-row { display: flex; flex-direction: row; flex-wrap: wrap; width: 100% }\n",
       "    .wandb-col { display: flex; flex-direction: column; flex-basis: 100%; flex: 1; padding: 10px; }\n",
       "    </style>\n",
       "<div class=\"wandb-row\"><div class=\"wandb-col\"><h3>Run history:</h3><br/><table class=\"wandb\"><tr><td>epoch</td><td>▁▁▂▂▂▂▃▃▃▄▄▄▅▅▅▅▆▆▆▇▇▇▇██</td></tr><tr><td>loss</td><td>▃▂▁▃▄▄▆▅▆▅▄▄▃▅▃█▅▆▆▆▇▅▇▄▇</td></tr><tr><td>test/test_accuracy</td><td>▆▇█▅▅▄▃▄▃▄▅▅▇▄▆▁▄▃▂▃▃▅▂▅▃</td></tr><tr><td>test/test_loss</td><td>▃▂▁▃▄▄▆▅▆▅▄▄▃▅▃█▅▆▆▆▇▅▇▄▇</td></tr><tr><td>train/train_accuracy</td><td>▁▅▆▇▇████████████████████</td></tr><tr><td>train/train_loss</td><td>█▄▃▂▂▁▁▁▁▁▁▁▁▁▁▁▁▁▁▁▁▁▁▁▁</td></tr></table><br/></div><div class=\"wandb-col\"><h3>Run summary:</h3><br/><table class=\"wandb\"><tr><td>epoch</td><td>25</td></tr><tr><td>loss</td><td>1.66469</td></tr><tr><td>test/test_accuracy</td><td>0.76622</td></tr><tr><td>test/test_loss</td><td>1.66469</td></tr><tr><td>train/train_accuracy</td><td>0.9971</td></tr><tr><td>train/train_loss</td><td>0.01935</td></tr></table><br/></div></div>"
      ],
      "text/plain": [
       "<IPython.core.display.HTML object>"
      ]
     },
     "metadata": {},
     "output_type": "display_data"
    },
    {
     "data": {
      "text/html": [
       "Synced <strong style=\"color:#cdcd00\">magic-sweep-5</strong>: <a href=\"https://wandb.ai/leonardtd/cloud%20classification/runs/925yo3hw\" target=\"_blank\">https://wandb.ai/leonardtd/cloud%20classification/runs/925yo3hw</a><br/>Synced 6 W&B file(s), 0 media file(s), 0 artifact file(s) and 0 other file(s)"
      ],
      "text/plain": [
       "<IPython.core.display.HTML object>"
      ]
     },
     "metadata": {},
     "output_type": "display_data"
    },
    {
     "data": {
      "text/html": [
       "Find logs at: <code>./wandb/run-20220331_073150-925yo3hw/logs</code>"
      ],
      "text/plain": [
       "<IPython.core.display.HTML object>"
      ]
     },
     "metadata": {},
     "output_type": "display_data"
    },
    {
     "name": "stderr",
     "output_type": "stream",
     "text": [
      "Run 925yo3hw errored: NameError(\"name 'classes' is not defined\")\n",
      "\u001b[34m\u001b[1mwandb\u001b[0m: \u001b[32m\u001b[41mERROR\u001b[0m Run 925yo3hw errored: NameError(\"name 'classes' is not defined\")\n",
      "\u001b[34m\u001b[1mwandb\u001b[0m: Agent Starting Run: mcx3xz7m with config:\n",
      "\u001b[34m\u001b[1mwandb\u001b[0m: \tbatch_size: 17\n",
      "\u001b[34m\u001b[1mwandb\u001b[0m: \tcriterion: loge\n",
      "\u001b[34m\u001b[1mwandb\u001b[0m: \tdevice: cuda:2\n",
      "\u001b[34m\u001b[1mwandb\u001b[0m: \tepochs: 25\n",
      "\u001b[34m\u001b[1mwandb\u001b[0m: \thidden_dim: 512\n",
      "\u001b[34m\u001b[1mwandb\u001b[0m: \tlearning_rate: 5.6846545379717045e-05\n",
      "\u001b[34m\u001b[1mwandb\u001b[0m: \tnum_heads: 1\n",
      "\u001b[34m\u001b[1mwandb\u001b[0m: \tnum_hidden: 4\n",
      "\u001b[34m\u001b[1mwandb\u001b[0m: \toptimizer: nadam\n",
      "\u001b[34m\u001b[1mwandb\u001b[0m: \tsimilarity_threshold: 0.75\n"
     ]
    },
    {
     "data": {
      "text/html": [
       "Tracking run with wandb version 0.12.11"
      ],
      "text/plain": [
       "<IPython.core.display.HTML object>"
      ]
     },
     "metadata": {},
     "output_type": "display_data"
    },
    {
     "data": {
      "text/html": [
       "Run data is saved locally in <code>/home/ltorres/leo/tesis/cloud-classification/code/wandb/run-20220331_094348-mcx3xz7m</code>"
      ],
      "text/plain": [
       "<IPython.core.display.HTML object>"
      ]
     },
     "metadata": {},
     "output_type": "display_data"
    },
    {
     "data": {
      "text/html": [
       "Syncing run <strong><a href=\"https://wandb.ai/leonardtd/cloud%20classification/runs/mcx3xz7m\" target=\"_blank\">gallant-sweep-6</a></strong> to <a href=\"https://wandb.ai/leonardtd/cloud%20classification\" target=\"_blank\">Weights & Biases</a> (<a href=\"https://wandb.me/run\" target=\"_blank\">docs</a>)<br/>Sweep page:  <a href=\"https://wandb.ai/leonardtd/cloud%20classification/sweeps/03otgj81\" target=\"_blank\">https://wandb.ai/leonardtd/cloud%20classification/sweeps/03otgj81</a>"
      ],
      "text/plain": [
       "<IPython.core.display.HTML object>"
      ]
     },
     "metadata": {},
     "output_type": "display_data"
    },
    {
     "name": "stderr",
     "output_type": "stream",
     "text": [
      "100%|██████████| 589/589 [01:08<00:00,  8.59it/s]\n",
      "100%|██████████| 589/589 [01:06<00:00,  8.81it/s]\n",
      "100%|██████████| 589/589 [01:06<00:00,  8.83it/s]\n",
      "100%|██████████| 589/589 [01:06<00:00,  8.86it/s]\n",
      "100%|██████████| 589/589 [01:06<00:00,  8.83it/s]\n",
      "100%|██████████| 530/530 [00:21<00:00, 24.65it/s]\n"
     ]
    },
    {
     "name": "stdout",
     "output_type": "stream",
     "text": [
      "EPOCH 1: Train acc: 79.78% Train Loss: 1.2045 Test acc: 78.92% Test Loss: 1.3600\n"
     ]
    },
    {
     "name": "stderr",
     "output_type": "stream",
     "text": [
      "100%|██████████| 589/589 [01:08<00:00,  8.56it/s]\n",
      "100%|██████████| 589/589 [01:06<00:00,  8.81it/s]\n",
      "100%|██████████| 589/589 [01:07<00:00,  8.79it/s]\n",
      "100%|██████████| 589/589 [01:06<00:00,  8.85it/s]\n",
      "100%|██████████| 589/589 [01:06<00:00,  8.84it/s]\n",
      "100%|██████████| 530/530 [00:21<00:00, 24.59it/s]\n"
     ]
    },
    {
     "name": "stdout",
     "output_type": "stream",
     "text": [
      "EPOCH 2: Train acc: 91.14% Train Loss: 0.5236 Test acc: 77.43% Test Loss: 1.4646\n"
     ]
    },
    {
     "name": "stderr",
     "output_type": "stream",
     "text": [
      "100%|██████████| 589/589 [01:08<00:00,  8.58it/s]\n",
      "100%|██████████| 589/589 [01:06<00:00,  8.80it/s]\n",
      "100%|██████████| 589/589 [01:07<00:00,  8.79it/s]\n",
      "100%|██████████| 589/589 [01:06<00:00,  8.84it/s]\n",
      "100%|██████████| 589/589 [01:06<00:00,  8.82it/s]\n",
      "100%|██████████| 530/530 [00:21<00:00, 24.67it/s]\n"
     ]
    },
    {
     "name": "stdout",
     "output_type": "stream",
     "text": [
      "EPOCH 3: Train acc: 93.77% Train Loss: 0.3709 Test acc: 77.78% Test Loss: 1.4465\n"
     ]
    },
    {
     "name": "stderr",
     "output_type": "stream",
     "text": [
      "100%|██████████| 589/589 [01:08<00:00,  8.56it/s]\n",
      "100%|██████████| 589/589 [01:06<00:00,  8.83it/s]\n",
      "100%|██████████| 589/589 [01:06<00:00,  8.82it/s]\n",
      "100%|██████████| 589/589 [01:06<00:00,  8.82it/s]\n",
      "100%|██████████| 589/589 [01:06<00:00,  8.80it/s]\n",
      "100%|██████████| 530/530 [00:21<00:00, 24.80it/s]\n"
     ]
    },
    {
     "name": "stdout",
     "output_type": "stream",
     "text": [
      "EPOCH 4: Train acc: 95.35% Train Loss: 0.2785 Test acc: 79.56% Test Loss: 1.3471\n"
     ]
    },
    {
     "name": "stderr",
     "output_type": "stream",
     "text": [
      "100%|██████████| 589/589 [01:08<00:00,  8.58it/s]\n",
      "100%|██████████| 589/589 [01:06<00:00,  8.80it/s]\n",
      "100%|██████████| 589/589 [01:07<00:00,  8.79it/s]\n",
      "100%|██████████| 589/589 [01:06<00:00,  8.84it/s]\n",
      "100%|██████████| 589/589 [01:06<00:00,  8.82it/s]\n",
      "100%|██████████| 530/530 [00:21<00:00, 24.54it/s]\n"
     ]
    },
    {
     "name": "stdout",
     "output_type": "stream",
     "text": [
      "EPOCH 5: Train acc: 96.69% Train Loss: 0.2042 Test acc: 76.63% Test Loss: 1.4928\n"
     ]
    },
    {
     "name": "stderr",
     "output_type": "stream",
     "text": [
      "100%|██████████| 589/589 [01:08<00:00,  8.58it/s]\n",
      "100%|██████████| 589/589 [01:06<00:00,  8.85it/s]\n",
      "100%|██████████| 589/589 [01:06<00:00,  8.83it/s]\n",
      "100%|██████████| 589/589 [01:06<00:00,  8.84it/s]\n",
      "100%|██████████| 589/589 [01:06<00:00,  8.85it/s]\n",
      "100%|██████████| 530/530 [00:21<00:00, 24.58it/s]\n"
     ]
    },
    {
     "name": "stdout",
     "output_type": "stream",
     "text": [
      "EPOCH 6: Train acc: 97.74% Train Loss: 0.1408 Test acc: 78.18% Test Loss: 1.4506\n"
     ]
    },
    {
     "name": "stderr",
     "output_type": "stream",
     "text": [
      "100%|██████████| 589/589 [01:09<00:00,  8.53it/s]\n",
      "100%|██████████| 589/589 [01:06<00:00,  8.79it/s]\n",
      "100%|██████████| 589/589 [01:06<00:00,  8.80it/s]\n",
      "100%|██████████| 589/589 [01:06<00:00,  8.82it/s]\n",
      "100%|██████████| 589/589 [01:06<00:00,  8.81it/s]\n",
      "100%|██████████| 530/530 [00:21<00:00, 24.58it/s]\n"
     ]
    },
    {
     "name": "stdout",
     "output_type": "stream",
     "text": [
      "EPOCH 7: Train acc: 98.16% Train Loss: 0.1138 Test acc: 78.20% Test Loss: 1.4346\n"
     ]
    },
    {
     "name": "stderr",
     "output_type": "stream",
     "text": [
      "100%|██████████| 589/589 [01:08<00:00,  8.57it/s]\n",
      "100%|██████████| 589/589 [01:06<00:00,  8.81it/s]\n",
      "100%|██████████| 589/589 [01:06<00:00,  8.81it/s]\n",
      "100%|██████████| 589/589 [01:06<00:00,  8.85it/s]\n",
      "100%|██████████| 589/589 [01:06<00:00,  8.85it/s]\n",
      "100%|██████████| 530/530 [00:21<00:00, 24.70it/s]\n"
     ]
    },
    {
     "name": "stdout",
     "output_type": "stream",
     "text": [
      "EPOCH 8: Train acc: 98.63% Train Loss: 0.0911 Test acc: 77.78% Test Loss: 1.4884\n"
     ]
    },
    {
     "name": "stderr",
     "output_type": "stream",
     "text": [
      "100%|██████████| 589/589 [01:08<00:00,  8.59it/s]\n",
      "100%|██████████| 589/589 [01:07<00:00,  8.79it/s]\n",
      "100%|██████████| 589/589 [01:06<00:00,  8.82it/s]\n",
      "100%|██████████| 589/589 [01:06<00:00,  8.80it/s]\n",
      "100%|██████████| 589/589 [01:06<00:00,  8.83it/s]\n",
      "100%|██████████| 530/530 [00:21<00:00, 25.11it/s]\n"
     ]
    },
    {
     "name": "stdout",
     "output_type": "stream",
     "text": [
      "EPOCH 9: Train acc: 98.90% Train Loss: 0.0733 Test acc: 74.86% Test Loss: 1.6856\n"
     ]
    },
    {
     "name": "stderr",
     "output_type": "stream",
     "text": [
      "100%|██████████| 589/589 [01:09<00:00,  8.49it/s]\n",
      "100%|██████████| 589/589 [01:07<00:00,  8.78it/s]\n",
      "100%|██████████| 589/589 [01:06<00:00,  8.80it/s]\n",
      "100%|██████████| 589/589 [01:06<00:00,  8.83it/s]\n",
      "100%|██████████| 589/589 [01:06<00:00,  8.84it/s]\n",
      "100%|██████████| 530/530 [00:21<00:00, 24.75it/s]\n"
     ]
    },
    {
     "name": "stdout",
     "output_type": "stream",
     "text": [
      "EPOCH 10: Train acc: 98.95% Train Loss: 0.0637 Test acc: 77.99% Test Loss: 1.5022\n"
     ]
    },
    {
     "name": "stderr",
     "output_type": "stream",
     "text": [
      "100%|██████████| 589/589 [01:08<00:00,  8.60it/s]\n",
      "100%|██████████| 589/589 [01:06<00:00,  8.91it/s]\n",
      "100%|██████████| 589/589 [01:06<00:00,  8.81it/s]\n",
      "100%|██████████| 589/589 [01:06<00:00,  8.87it/s]\n",
      "100%|██████████| 589/589 [01:06<00:00,  8.86it/s]\n",
      "100%|██████████| 530/530 [00:21<00:00, 24.46it/s]\n"
     ]
    },
    {
     "name": "stdout",
     "output_type": "stream",
     "text": [
      "EPOCH 11: Train acc: 99.30% Train Loss: 0.0495 Test acc: 76.80% Test Loss: 1.5754\n"
     ]
    },
    {
     "name": "stderr",
     "output_type": "stream",
     "text": [
      "100%|██████████| 589/589 [01:08<00:00,  8.59it/s]\n",
      "100%|██████████| 589/589 [01:07<00:00,  8.78it/s]\n",
      "100%|██████████| 589/589 [01:06<00:00,  8.83it/s]\n",
      "100%|██████████| 589/589 [01:06<00:00,  8.88it/s]\n",
      "100%|██████████| 589/589 [01:06<00:00,  8.89it/s]\n",
      "100%|██████████| 530/530 [00:21<00:00, 25.12it/s]\n"
     ]
    },
    {
     "name": "stdout",
     "output_type": "stream",
     "text": [
      "EPOCH 12: Train acc: 99.35% Train Loss: 0.0472 Test acc: 77.02% Test Loss: 1.5299\n"
     ]
    },
    {
     "name": "stderr",
     "output_type": "stream",
     "text": [
      "100%|██████████| 589/589 [01:06<00:00,  8.82it/s]\n",
      "100%|██████████| 589/589 [01:05<00:00,  9.03it/s]\n",
      "100%|██████████| 589/589 [01:05<00:00,  9.03it/s]\n",
      "100%|██████████| 589/589 [01:05<00:00,  9.03it/s]\n",
      "100%|██████████| 589/589 [01:05<00:00,  9.03it/s]\n",
      "100%|██████████| 530/530 [00:21<00:00, 24.86it/s]\n"
     ]
    },
    {
     "name": "stdout",
     "output_type": "stream",
     "text": [
      "EPOCH 13: Train acc: 99.32% Train Loss: 0.0442 Test acc: 74.71% Test Loss: 1.7428\n"
     ]
    },
    {
     "name": "stderr",
     "output_type": "stream",
     "text": [
      "100%|██████████| 589/589 [01:06<00:00,  8.82it/s]\n",
      "100%|██████████| 589/589 [01:05<00:00,  9.04it/s]\n",
      "100%|██████████| 589/589 [01:05<00:00,  9.05it/s]\n",
      "100%|██████████| 589/589 [01:05<00:00,  9.03it/s]\n",
      "100%|██████████| 589/589 [01:05<00:00,  9.05it/s]\n",
      "100%|██████████| 530/530 [00:21<00:00, 24.94it/s]\n"
     ]
    },
    {
     "name": "stdout",
     "output_type": "stream",
     "text": [
      "EPOCH 14: Train acc: 99.45% Train Loss: 0.0356 Test acc: 74.97% Test Loss: 1.7313\n"
     ]
    },
    {
     "name": "stderr",
     "output_type": "stream",
     "text": [
      "100%|██████████| 589/589 [01:06<00:00,  8.84it/s]\n",
      "100%|██████████| 589/589 [01:05<00:00,  9.04it/s]\n",
      "100%|██████████| 589/589 [01:05<00:00,  9.04it/s]\n",
      "100%|██████████| 589/589 [01:05<00:00,  9.03it/s]\n",
      "100%|██████████| 589/589 [01:05<00:00,  9.05it/s]\n",
      "100%|██████████| 530/530 [00:21<00:00, 24.91it/s]\n"
     ]
    },
    {
     "name": "stdout",
     "output_type": "stream",
     "text": [
      "EPOCH 15: Train acc: 99.49% Train Loss: 0.0368 Test acc: 75.64% Test Loss: 1.6525\n"
     ]
    },
    {
     "name": "stderr",
     "output_type": "stream",
     "text": [
      "100%|██████████| 589/589 [01:06<00:00,  8.82it/s]\n",
      "100%|██████████| 589/589 [01:05<00:00,  9.04it/s]\n",
      "100%|██████████| 589/589 [01:05<00:00,  9.04it/s]\n",
      "100%|██████████| 589/589 [01:05<00:00,  9.03it/s]\n",
      "100%|██████████| 589/589 [01:05<00:00,  9.06it/s]\n",
      "100%|██████████| 530/530 [00:21<00:00, 24.93it/s]\n"
     ]
    },
    {
     "name": "stdout",
     "output_type": "stream",
     "text": [
      "EPOCH 16: Train acc: 99.47% Train Loss: 0.0372 Test acc: 75.92% Test Loss: 1.6706\n"
     ]
    },
    {
     "name": "stderr",
     "output_type": "stream",
     "text": [
      "100%|██████████| 589/589 [01:06<00:00,  8.84it/s]\n",
      "100%|██████████| 589/589 [01:05<00:00,  9.05it/s]\n",
      "100%|██████████| 589/589 [01:05<00:00,  9.05it/s]\n",
      "100%|██████████| 589/589 [01:05<00:00,  9.05it/s]\n",
      "100%|██████████| 589/589 [01:05<00:00,  8.99it/s]\n",
      "100%|██████████| 530/530 [00:21<00:00, 24.89it/s]\n"
     ]
    },
    {
     "name": "stdout",
     "output_type": "stream",
     "text": [
      "EPOCH 17: Train acc: 99.62% Train Loss: 0.0282 Test acc: 77.10% Test Loss: 1.5180\n"
     ]
    },
    {
     "name": "stderr",
     "output_type": "stream",
     "text": [
      "100%|██████████| 589/589 [01:08<00:00,  8.60it/s]\n",
      "100%|██████████| 589/589 [01:06<00:00,  8.83it/s]\n",
      "100%|██████████| 589/589 [01:06<00:00,  8.84it/s]\n",
      "100%|██████████| 589/589 [01:06<00:00,  8.88it/s]\n",
      "100%|██████████| 589/589 [01:06<00:00,  8.86it/s]\n",
      "100%|██████████| 530/530 [00:21<00:00, 24.61it/s]\n"
     ]
    },
    {
     "name": "stdout",
     "output_type": "stream",
     "text": [
      "EPOCH 18: Train acc: 99.64% Train Loss: 0.0262 Test acc: 77.20% Test Loss: 1.5490\n"
     ]
    },
    {
     "name": "stderr",
     "output_type": "stream",
     "text": [
      "100%|██████████| 589/589 [01:08<00:00,  8.59it/s]\n",
      "100%|██████████| 589/589 [01:06<00:00,  8.83it/s]\n",
      "100%|██████████| 589/589 [01:06<00:00,  8.85it/s]\n",
      "100%|██████████| 589/589 [01:06<00:00,  8.86it/s]\n",
      "100%|██████████| 589/589 [01:06<00:00,  8.86it/s]\n",
      "100%|██████████| 530/530 [00:21<00:00, 24.57it/s]\n"
     ]
    },
    {
     "name": "stdout",
     "output_type": "stream",
     "text": [
      "EPOCH 19: Train acc: 99.65% Train Loss: 0.0240 Test acc: 76.13% Test Loss: 1.6214\n"
     ]
    },
    {
     "name": "stderr",
     "output_type": "stream",
     "text": [
      "100%|██████████| 589/589 [01:08<00:00,  8.62it/s]\n",
      "100%|██████████| 589/589 [01:06<00:00,  8.84it/s]\n",
      "100%|██████████| 589/589 [01:06<00:00,  8.85it/s]\n",
      "100%|██████████| 589/589 [01:06<00:00,  8.87it/s]\n",
      "100%|██████████| 589/589 [01:06<00:00,  8.83it/s]\n",
      "100%|██████████| 530/530 [00:21<00:00, 24.74it/s]\n"
     ]
    },
    {
     "name": "stdout",
     "output_type": "stream",
     "text": [
      "EPOCH 20: Train acc: 99.56% Train Loss: 0.0282 Test acc: 75.53% Test Loss: 1.6624\n"
     ]
    },
    {
     "name": "stderr",
     "output_type": "stream",
     "text": [
      "100%|██████████| 589/589 [01:08<00:00,  8.55it/s]\n",
      "100%|██████████| 589/589 [01:06<00:00,  8.82it/s]\n",
      "100%|██████████| 589/589 [01:07<00:00,  8.78it/s]\n",
      "100%|██████████| 589/589 [01:06<00:00,  8.88it/s]\n",
      "100%|██████████| 589/589 [01:06<00:00,  8.84it/s]\n",
      "100%|██████████| 530/530 [00:21<00:00, 24.61it/s]\n"
     ]
    },
    {
     "name": "stdout",
     "output_type": "stream",
     "text": [
      "EPOCH 21: Train acc: 99.74% Train Loss: 0.0183 Test acc: 74.03% Test Loss: 1.7467\n"
     ]
    },
    {
     "name": "stderr",
     "output_type": "stream",
     "text": [
      "100%|██████████| 589/589 [01:08<00:00,  8.59it/s]\n",
      "100%|██████████| 589/589 [01:06<00:00,  8.82it/s]\n",
      "100%|██████████| 589/589 [01:06<00:00,  8.82it/s]\n",
      "100%|██████████| 589/589 [01:06<00:00,  8.90it/s]\n",
      "100%|██████████| 589/589 [01:05<00:00,  9.05it/s]\n",
      "100%|██████████| 530/530 [00:21<00:00, 24.85it/s]\n"
     ]
    },
    {
     "name": "stdout",
     "output_type": "stream",
     "text": [
      "EPOCH 22: Train acc: 99.63% Train Loss: 0.0279 Test acc: 76.23% Test Loss: 1.6853\n"
     ]
    },
    {
     "name": "stderr",
     "output_type": "stream",
     "text": [
      "100%|██████████| 589/589 [01:06<00:00,  8.81it/s]\n",
      "100%|██████████| 589/589 [01:05<00:00,  9.03it/s]\n",
      "100%|██████████| 589/589 [01:05<00:00,  9.02it/s]\n",
      "100%|██████████| 589/589 [01:05<00:00,  9.04it/s]\n",
      "100%|██████████| 589/589 [01:05<00:00,  9.04it/s]\n",
      "100%|██████████| 530/530 [00:21<00:00, 24.87it/s]\n"
     ]
    },
    {
     "name": "stdout",
     "output_type": "stream",
     "text": [
      "EPOCH 23: Train acc: 99.77% Train Loss: 0.0198 Test acc: 77.98% Test Loss: 1.5028\n"
     ]
    },
    {
     "name": "stderr",
     "output_type": "stream",
     "text": [
      "100%|██████████| 589/589 [01:06<00:00,  8.83it/s]\n",
      "100%|██████████| 589/589 [01:05<00:00,  9.03it/s]\n",
      "100%|██████████| 589/589 [01:05<00:00,  9.05it/s]\n",
      "100%|██████████| 589/589 [01:05<00:00,  9.03it/s]\n",
      "100%|██████████| 589/589 [01:05<00:00,  9.04it/s]\n",
      "100%|██████████| 530/530 [00:21<00:00, 24.84it/s]\n"
     ]
    },
    {
     "name": "stdout",
     "output_type": "stream",
     "text": [
      "EPOCH 24: Train acc: 99.77% Train Loss: 0.0203 Test acc: 75.84% Test Loss: 1.6363\n"
     ]
    },
    {
     "name": "stderr",
     "output_type": "stream",
     "text": [
      "100%|██████████| 589/589 [01:06<00:00,  8.83it/s]\n",
      "100%|██████████| 589/589 [01:05<00:00,  9.02it/s]\n",
      "100%|██████████| 589/589 [01:05<00:00,  8.97it/s]\n",
      "100%|██████████| 589/589 [01:06<00:00,  8.85it/s]\n",
      "100%|██████████| 589/589 [01:06<00:00,  8.85it/s]\n",
      "100%|██████████| 530/530 [00:21<00:00, 24.54it/s]\n"
     ]
    },
    {
     "name": "stdout",
     "output_type": "stream",
     "text": [
      "EPOCH 25: Train acc: 99.74% Train Loss: 0.0178 Test acc: 76.38% Test Loss: 1.6005\n",
      "\n"
     ]
    },
    {
     "data": {
      "text/html": [
       "Waiting for W&B process to finish... <strong style=\"color:red\">(failed 1).</strong> Press Control-C to abort syncing."
      ],
      "text/plain": [
       "<IPython.core.display.HTML object>"
      ]
     },
     "metadata": {},
     "output_type": "display_data"
    },
    {
     "data": {
      "application/vnd.jupyter.widget-view+json": {
       "model_id": "",
       "version_major": 2,
       "version_minor": 0
      },
      "text/plain": [
       "VBox(children=(Label(value='0.001 MB of 0.001 MB uploaded (0.000 MB deduped)\\r'), FloatProgress(value=1.0, max…"
      ]
     },
     "metadata": {},
     "output_type": "display_data"
    },
    {
     "data": {
      "text/html": [
       "<style>\n",
       "    table.wandb td:nth-child(1) { padding: 0 10px; text-align: right }\n",
       "    .wandb-row { display: flex; flex-direction: row; flex-wrap: wrap; width: 100% }\n",
       "    .wandb-col { display: flex; flex-direction: column; flex-basis: 100%; flex: 1; padding: 10px; }\n",
       "    </style>\n",
       "<div class=\"wandb-row\"><div class=\"wandb-col\"><h3>Run history:</h3><br/><table class=\"wandb\"><tr><td>epoch</td><td>▁▁▂▂▂▂▃▃▃▄▄▄▅▅▅▅▆▆▆▇▇▇▇██</td></tr><tr><td>loss</td><td>▁▃▃▁▄▃▃▃▇▄▅▄██▆▇▄▅▆▇█▇▄▆▅</td></tr><tr><td>test/test_accuracy</td><td>▇▅▆█▄▆▆▆▂▆▅▅▂▂▃▃▅▅▄▃▁▄▆▃▄</td></tr><tr><td>test/test_loss</td><td>▁▃▃▁▄▃▃▃▇▄▅▄██▆▇▄▅▆▇█▇▄▆▅</td></tr><tr><td>train/train_accuracy</td><td>▁▅▆▆▇▇▇██████████████████</td></tr><tr><td>train/train_loss</td><td>█▄▃▃▂▂▂▁▁▁▁▁▁▁▁▁▁▁▁▁▁▁▁▁▁</td></tr></table><br/></div><div class=\"wandb-col\"><h3>Run summary:</h3><br/><table class=\"wandb\"><tr><td>epoch</td><td>25</td></tr><tr><td>loss</td><td>1.60049</td></tr><tr><td>test/test_accuracy</td><td>0.76378</td></tr><tr><td>test/test_loss</td><td>1.60049</td></tr><tr><td>train/train_accuracy</td><td>0.9974</td></tr><tr><td>train/train_loss</td><td>0.01781</td></tr></table><br/></div></div>"
      ],
      "text/plain": [
       "<IPython.core.display.HTML object>"
      ]
     },
     "metadata": {},
     "output_type": "display_data"
    },
    {
     "data": {
      "text/html": [
       "Synced <strong style=\"color:#cdcd00\">gallant-sweep-6</strong>: <a href=\"https://wandb.ai/leonardtd/cloud%20classification/runs/mcx3xz7m\" target=\"_blank\">https://wandb.ai/leonardtd/cloud%20classification/runs/mcx3xz7m</a><br/>Synced 6 W&B file(s), 0 media file(s), 0 artifact file(s) and 0 other file(s)"
      ],
      "text/plain": [
       "<IPython.core.display.HTML object>"
      ]
     },
     "metadata": {},
     "output_type": "display_data"
    },
    {
     "data": {
      "text/html": [
       "Find logs at: <code>./wandb/run-20220331_094348-mcx3xz7m/logs</code>"
      ],
      "text/plain": [
       "<IPython.core.display.HTML object>"
      ]
     },
     "metadata": {},
     "output_type": "display_data"
    },
    {
     "name": "stderr",
     "output_type": "stream",
     "text": [
      "Run mcx3xz7m errored: NameError(\"name 'classes' is not defined\")\n",
      "\u001b[34m\u001b[1mwandb\u001b[0m: \u001b[32m\u001b[41mERROR\u001b[0m Run mcx3xz7m errored: NameError(\"name 'classes' is not defined\")\n",
      "Detected 5 failed runs in a row at start, killing sweep.\n",
      "\u001b[34m\u001b[1mwandb\u001b[0m: \u001b[32m\u001b[41mERROR\u001b[0m Detected 5 failed runs in a row at start, killing sweep.\n",
      "\u001b[34m\u001b[1mwandb\u001b[0m: To change this value set WANDB_AGENT_MAX_INITIAL_FAILURES=val\n"
     ]
    }
   ],
   "source": [
    "wandb.agent(sweep_id, train, count=10)"
   ]
  },
  {
   "cell_type": "code",
   "execution_count": null,
   "id": "206bc4fc-52b1-48f2-b269-2bb28cab40db",
   "metadata": {},
   "outputs": [],
   "source": []
  }
 ],
 "metadata": {
  "kernelspec": {
   "display_name": "Python 3",
   "language": "python",
   "name": "python3"
  },
  "language_info": {
   "codemirror_mode": {
    "name": "ipython",
    "version": 3
   },
   "file_extension": ".py",
   "mimetype": "text/x-python",
   "name": "python",
   "nbconvert_exporter": "python",
   "pygments_lexer": "ipython3",
   "version": "3.9.7"
  }
 },
 "nbformat": 4,
 "nbformat_minor": 5
}
