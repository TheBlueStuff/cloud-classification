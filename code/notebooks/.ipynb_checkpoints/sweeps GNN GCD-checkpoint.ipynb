{
 "cells": [
  {
   "cell_type": "code",
   "execution_count": 1,
   "id": "e77ccc5d-e07e-406a-aac0-a8ae99ffedae",
   "metadata": {},
   "outputs": [
    {
     "name": "stdout",
     "output_type": "stream",
     "text": [
      "/home/ltorres/leo/tesis/cloud-classification/code\n"
     ]
    }
   ],
   "source": [
    "%cd .."
   ]
  },
  {
   "cell_type": "code",
   "execution_count": 2,
   "id": "df066a8e-ed76-4b62-b9be-b3e8e3379b8b",
   "metadata": {},
   "outputs": [],
   "source": [
    "%load_ext autoreload\n",
    "%autoreload 2"
   ]
  },
  {
   "cell_type": "code",
   "execution_count": 3,
   "id": "36811c7d-0c3b-4845-a702-4de962035cb9",
   "metadata": {},
   "outputs": [],
   "source": [
    "from torchvision.io import read_image\n",
    "import glob\n",
    "import os\n",
    "import math\n",
    "\n",
    "\n",
    "import numpy as np\n",
    "import pandas as pd\n",
    "import matplotlib.pyplot as plt\n",
    "import seaborn as sns\n",
    "\n",
    "from random import sample\n",
    "import torch\n",
    "import torch.nn as nn"
   ]
  },
  {
   "cell_type": "code",
   "execution_count": 4,
   "id": "a2cfa629-84c4-45ab-84ff-f8a4bdeacf75",
   "metadata": {},
   "outputs": [],
   "source": [
    "from src.dataset import GCD\n",
    "from src import config\n",
    "from src import engine_gnn as engine\n",
    "from src import utils\n",
    "from src import sweeps\n",
    "\n",
    "from src.models.graph_nets import GraphConvGNN, GATConvGNN"
   ]
  },
  {
   "cell_type": "code",
   "execution_count": 5,
   "id": "d4e1acb2-496d-45e5-9e66-92dda51e7888",
   "metadata": {},
   "outputs": [],
   "source": [
    "from sklearn.metrics import accuracy_score"
   ]
  },
  {
   "cell_type": "code",
   "execution_count": 6,
   "id": "dde03952-d051-49e5-b020-2480a8322418",
   "metadata": {},
   "outputs": [],
   "source": [
    "import wandb"
   ]
  },
  {
   "cell_type": "code",
   "execution_count": 7,
   "id": "dde3bba7-7f94-431c-a549-ad697d484bcc",
   "metadata": {},
   "outputs": [
    {
     "name": "stderr",
     "output_type": "stream",
     "text": [
      "\u001b[34m\u001b[1mwandb\u001b[0m: Currently logged in as: \u001b[33mleonardtd\u001b[0m (use `wandb login --relogin` to force relogin)\n"
     ]
    },
    {
     "data": {
      "text/plain": [
       "True"
      ]
     },
     "execution_count": 7,
     "metadata": {},
     "output_type": "execute_result"
    }
   ],
   "source": [
    "wandb.login()"
   ]
  },
  {
   "cell_type": "code",
   "execution_count": 8,
   "id": "93fc98c7-f864-4fa2-b595-773aeedce8de",
   "metadata": {},
   "outputs": [],
   "source": [
    "device = config.DEVICE"
   ]
  },
  {
   "cell_type": "markdown",
   "id": "ba14ef3e-9e8e-47c4-9700-ecf8a501ab85",
   "metadata": {},
   "source": [
    "### Sweep config"
   ]
  },
  {
   "cell_type": "code",
   "execution_count": 9,
   "id": "d879aa0b-69d6-47b8-8795-8007c53d8c46",
   "metadata": {},
   "outputs": [],
   "source": [
    "sweep_config = {\n",
    "    'method': 'random'\n",
    "    }"
   ]
  },
  {
   "cell_type": "code",
   "execution_count": 10,
   "id": "e43ec934-f5b0-4f38-b467-d88e8fb2deb0",
   "metadata": {},
   "outputs": [],
   "source": [
    "metric = {\n",
    "    'name': 'loss',\n",
    "    'goal': 'minimize'   \n",
    "    }\n",
    "\n",
    "sweep_config['metric'] = metric"
   ]
  },
  {
   "cell_type": "code",
   "execution_count": 11,
   "id": "b6e47daa-119a-48bb-9b8d-370661d8c188",
   "metadata": {},
   "outputs": [],
   "source": [
    "parameters_dict = {\n",
    "    'optimizer': {\n",
    "        'values': ['adam', 'sgd', 'nadam']\n",
    "        },\n",
    "    'criterion': {\n",
    "        'values': ['cross_entropy', 'loge']\n",
    "        },\n",
    "    'hidden_dim': {\n",
    "        'values': [128, 256, 512, 1024]\n",
    "        },\n",
    "    'num_hidden': {\n",
    "        'values': [2,3,4]\n",
    "        },\n",
    "    'num_heads': {\n",
    "          'values': [1,2,4]\n",
    "        },\n",
    "    'similarity_threshold': {\n",
    "          'values': [0.5, 0.6, 0.7, 0.75, 0.8, 0.9]\n",
    "        },\n",
    "    }\n",
    "\n",
    "sweep_config['parameters'] = parameters_dict"
   ]
  },
  {
   "cell_type": "code",
   "execution_count": 12,
   "id": "fd320388-eaef-42a6-bb44-b704bf334a92",
   "metadata": {},
   "outputs": [],
   "source": [
    "parameters_dict.update({\n",
    "    'epochs': {\n",
    "        'value': config.EPOCHS,\n",
    "        },\n",
    "    'device': {\n",
    "        'value': device,\n",
    "        },\n",
    "    })"
   ]
  },
  {
   "cell_type": "code",
   "execution_count": 13,
   "id": "df0dea69-e5cb-41ca-bf4a-1c8fa3082f8d",
   "metadata": {},
   "outputs": [],
   "source": [
    "parameters_dict.update({\n",
    "    'learning_rate': {\n",
    "        # a flat distribution between 0 and 0.1\n",
    "        'distribution': 'uniform',\n",
    "        'min': 1e-6,\n",
    "        'max': 6e-5\n",
    "      },\n",
    "    'batch_size': {\n",
    "        # integers between 16 and 32\n",
    "        # with evenly-distributed logarithms \n",
    "        'distribution': 'q_log_uniform',\n",
    "        'q': 1,\n",
    "        'min': math.log(16),\n",
    "        'max': math.log(32),\n",
    "      }\n",
    "    })"
   ]
  },
  {
   "cell_type": "code",
   "execution_count": 14,
   "id": "077504ab-194a-4fdc-964d-e810c9e28f6e",
   "metadata": {},
   "outputs": [
    {
     "data": {
      "text/plain": [
       "{'method': 'random',\n",
       " 'metric': {'name': 'loss', 'goal': 'minimize'},\n",
       " 'parameters': {'optimizer': {'values': ['adam', 'sgd', 'nadam']},\n",
       "  'criterion': {'values': ['cross_entropy', 'loge']},\n",
       "  'hidden_dim': {'values': [128, 256, 512, 1024]},\n",
       "  'num_hidden': {'values': [2, 3, 4]},\n",
       "  'num_heads': {'values': [1, 2, 4]},\n",
       "  'similarity_threshold': {'values': [0.5, 0.6, 0.7, 0.75, 0.8, 0.9]},\n",
       "  'epochs': {'value': 25},\n",
       "  'device': {'value': 'cuda:2'},\n",
       "  'learning_rate': {'distribution': 'uniform', 'min': 1e-06, 'max': 6e-05},\n",
       "  'batch_size': {'distribution': 'q_log_uniform',\n",
       "   'q': 1,\n",
       "   'min': 2.772588722239781,\n",
       "   'max': 3.4657359027997265}}}"
      ]
     },
     "execution_count": 14,
     "metadata": {},
     "output_type": "execute_result"
    }
   ],
   "source": [
    "sweep_config"
   ]
  },
  {
   "cell_type": "code",
   "execution_count": 15,
   "id": "c0148846-9f83-47bf-9b30-fd5a4e3dd4ee",
   "metadata": {},
   "outputs": [
    {
     "name": "stdout",
     "output_type": "stream",
     "text": [
      "Create sweep with ID: 6jua7pdw\n",
      "Sweep URL: https://wandb.ai/leonardtd/cloud%20classification/sweeps/6jua7pdw\n"
     ]
    }
   ],
   "source": [
    "sweep_id = wandb.sweep(sweep_config, project=\"cloud classification\")"
   ]
  },
  {
   "cell_type": "markdown",
   "id": "fccb424a-f8cb-4d56-a7fc-190d8e4f28eb",
   "metadata": {},
   "source": [
    "---"
   ]
  },
  {
   "cell_type": "code",
   "execution_count": 16,
   "id": "f944abcd-e322-4a2a-b387-ff9f90bdec7a",
   "metadata": {},
   "outputs": [],
   "source": [
    "def train(config=None):\n",
    "\n",
    "#Init new run\n",
    "    with wandb.init(config=config):\n",
    "\n",
    "        config = wandb.config\n",
    "        train_loader, test_loader, augmentation_loaders = utils.build_dataset_gcd(config.batch_size)\n",
    "\n",
    "        model = utils.build_model_gatconv(\n",
    "                                            7, #GCD num classes\n",
    "                                            config.hidden_dim,\n",
    "                                            config.num_hidden,\n",
    "                                            config.num_heads,\n",
    "                                            config.similarity_threshold,\n",
    "                                            config.device\n",
    "                                           )\n",
    "\n",
    "        optimizer = utils.build_optimizer(config.optimizer, model, config.learning_rate)\n",
    "        criterion = utils.build_criterion(config.criterion)\n",
    "\n",
    "        for e in range(config.epochs):\n",
    "            ### TRAIN DATASET\n",
    "                preds, targets, loss = engine.train_fn(model, \n",
    "                                       train_loader, \n",
    "                                       criterion, \n",
    "                                       optimizer, \n",
    "                                       config.device)\n",
    "                \n",
    "                train_acc = accuracy_score(targets, preds)\n",
    "\n",
    "                ### AUGMENTATION IMAGES\n",
    "                for _loader in augmentation_loaders:\n",
    "                    engine.forward_backward_pass(model, \n",
    "                                                 _loader, \n",
    "                                                 criterion, \n",
    "                                                 optimizer, \n",
    "                                                 device=config.device)\n",
    "\n",
    "                test_preds, test_targets, test_loss = engine.eval_fn(model, \n",
    "                                           test_loader, \n",
    "                                           criterion, \n",
    "                                           device=config.device)\n",
    "                test_acc = accuracy_score(test_targets, test_preds)\n",
    "\n",
    "\n",
    "                print(\"EPOCH {}: Train acc: {:.2%} Train Loss: {:.4f} Test acc: {:.2%} Test Loss: {:.4f}\".format(\n",
    "                    e+1,\n",
    "                    train_acc,\n",
    "                    loss,\n",
    "                    test_acc,\n",
    "                    test_loss\n",
    "                ))\n",
    "\n",
    "                metrics = {\n",
    "                            \"train/train_loss\": loss,\n",
    "                            \"train/train_accuracy\": train_acc,\n",
    "                            \"test/test_loss\": test_loss,\n",
    "                            \"test/test_accuracy\": test_acc,\n",
    "                          }\n",
    "\n",
    "                wandb.log(metrics)\n",
    "                wandb.log({\"loss\": test_loss, \"epoch\": e+1})\n",
    "            \n",
    "        wandb.log({\"conf_mat\" : wandb.plot.confusion_matrix(probs=None, \n",
    "                                                            preds=test_preds,\n",
    "                                                            y_true=test_targets,\n",
    "                                                            class_names=classes)})"
   ]
  },
  {
   "cell_type": "markdown",
   "id": "8a9c4f71-2c36-4c62-8787-fb2b576e1ee2",
   "metadata": {},
   "source": [
    "---"
   ]
  },
  {
   "cell_type": "code",
   "execution_count": null,
   "id": "2e037e0d-2af7-4f83-a310-230724a62df3",
   "metadata": {},
   "outputs": [
    {
     "name": "stderr",
     "output_type": "stream",
     "text": [
      "\u001b[34m\u001b[1mwandb\u001b[0m: Agent Starting Run: ysuph7fx with config:\n",
      "\u001b[34m\u001b[1mwandb\u001b[0m: \tbatch_size: 17\n",
      "\u001b[34m\u001b[1mwandb\u001b[0m: \tcriterion: loge\n",
      "\u001b[34m\u001b[1mwandb\u001b[0m: \tdevice: cuda:2\n",
      "\u001b[34m\u001b[1mwandb\u001b[0m: \tepochs: 25\n",
      "\u001b[34m\u001b[1mwandb\u001b[0m: \thidden_dim: 128\n",
      "\u001b[34m\u001b[1mwandb\u001b[0m: \tlearning_rate: 5.621303982482521e-06\n",
      "\u001b[34m\u001b[1mwandb\u001b[0m: \tnum_heads: 2\n",
      "\u001b[34m\u001b[1mwandb\u001b[0m: \tnum_hidden: 2\n",
      "\u001b[34m\u001b[1mwandb\u001b[0m: \toptimizer: nadam\n",
      "\u001b[34m\u001b[1mwandb\u001b[0m: \tsimilarity_threshold: 0.9\n"
     ]
    },
    {
     "data": {
      "text/html": [
       "Tracking run with wandb version 0.12.11"
      ],
      "text/plain": [
       "<IPython.core.display.HTML object>"
      ]
     },
     "metadata": {},
     "output_type": "display_data"
    },
    {
     "data": {
      "text/html": [
       "Run data is saved locally in <code>/home/ltorres/leo/tesis/cloud-classification/code/wandb/run-20220330_222434-ysuph7fx</code>"
      ],
      "text/plain": [
       "<IPython.core.display.HTML object>"
      ]
     },
     "metadata": {},
     "output_type": "display_data"
    },
    {
     "data": {
      "text/html": [
       "Syncing run <strong><a href=\"https://wandb.ai/leonardtd/cloud%20classification/runs/ysuph7fx\" target=\"_blank\">cool-sweep-1</a></strong> to <a href=\"https://wandb.ai/leonardtd/cloud%20classification\" target=\"_blank\">Weights & Biases</a> (<a href=\"https://wandb.me/run\" target=\"_blank\">docs</a>)<br/>Sweep page:  <a href=\"https://wandb.ai/leonardtd/cloud%20classification/sweeps/6jua7pdw\" target=\"_blank\">https://wandb.ai/leonardtd/cloud%20classification/sweeps/6jua7pdw</a>"
      ],
      "text/plain": [
       "<IPython.core.display.HTML object>"
      ]
     },
     "metadata": {},
     "output_type": "display_data"
    },
    {
     "name": "stderr",
     "output_type": "stream",
     "text": [
      "100%|██████████| 589/589 [01:05<00:00,  9.05it/s]\n",
      "100%|██████████| 589/589 [01:02<00:00,  9.36it/s]\n",
      "100%|██████████| 589/589 [01:03<00:00,  9.34it/s]\n",
      "100%|██████████| 589/589 [01:03<00:00,  9.28it/s]\n",
      " 28%|██▊       | 167/589 [00:18<00:44,  9.56it/s]"
     ]
    }
   ],
   "source": [
    "wandb.agent(sweep_id, train, count=10)"
   ]
  },
  {
   "cell_type": "code",
   "execution_count": null,
   "id": "206bc4fc-52b1-48f2-b269-2bb28cab40db",
   "metadata": {},
   "outputs": [],
   "source": []
  }
 ],
 "metadata": {
  "kernelspec": {
   "display_name": "Python 3",
   "language": "python",
   "name": "python3"
  },
  "language_info": {
   "codemirror_mode": {
    "name": "ipython",
    "version": 3
   },
   "file_extension": ".py",
   "mimetype": "text/x-python",
   "name": "python",
   "nbconvert_exporter": "python",
   "pygments_lexer": "ipython3",
   "version": "3.9.7"
  }
 },
 "nbformat": 4,
 "nbformat_minor": 5
}
