{
 "cells": [
  {
   "cell_type": "code",
   "execution_count": 1,
   "id": "e77ccc5d-e07e-406a-aac0-a8ae99ffedae",
   "metadata": {},
   "outputs": [
    {
     "name": "stdout",
     "output_type": "stream",
     "text": [
      "/home/ltorres/leo/tesis/cloud-classification/code\n"
     ]
    }
   ],
   "source": [
    "%cd .."
   ]
  },
  {
   "cell_type": "code",
   "execution_count": 2,
   "id": "df066a8e-ed76-4b62-b9be-b3e8e3379b8b",
   "metadata": {},
   "outputs": [],
   "source": [
    "%load_ext autoreload\n",
    "%autoreload 2"
   ]
  },
  {
   "cell_type": "code",
   "execution_count": 3,
   "id": "36811c7d-0c3b-4845-a702-4de962035cb9",
   "metadata": {},
   "outputs": [],
   "source": [
    "from torchvision.io import read_image\n",
    "import glob\n",
    "import os\n",
    "import numpy as np\n",
    "import pandas as pd\n",
    "import matplotlib.pyplot as plt\n",
    "import seaborn as sns\n",
    "\n",
    "from random import sample\n",
    "import torch\n",
    "import torch.nn as nn"
   ]
  },
  {
   "cell_type": "code",
   "execution_count": 5,
   "id": "a2cfa629-84c4-45ab-84ff-f8a4bdeacf75",
   "metadata": {},
   "outputs": [],
   "source": [
    "from src.dataset import GCD\n",
    "from src import config\n",
    "from src import engine\n",
    "from src import utils\n",
    "\n",
    "from src.models.conv_nets import ResNet50"
   ]
  },
  {
   "cell_type": "code",
   "execution_count": 6,
   "id": "d4e1acb2-496d-45e5-9e66-92dda51e7888",
   "metadata": {},
   "outputs": [],
   "source": [
    "from sklearn.metrics import accuracy_score"
   ]
  },
  {
   "cell_type": "code",
   "execution_count": 7,
   "id": "93fc98c7-f864-4fa2-b595-773aeedce8de",
   "metadata": {},
   "outputs": [],
   "source": [
    "device = config.DEVICE"
   ]
  },
  {
   "cell_type": "markdown",
   "id": "0261f5e1-e6d9-453a-8d44-8f3202368c9f",
   "metadata": {},
   "source": [
    "#### Data loaders"
   ]
  },
  {
   "cell_type": "code",
   "execution_count": 8,
   "id": "38fde725-5100-4b57-903f-161c66a03b16",
   "metadata": {},
   "outputs": [],
   "source": [
    "path_train_images = utils.get_gcd_paths(config.DATA_DIR,'train')"
   ]
  },
  {
   "cell_type": "code",
   "execution_count": 9,
   "id": "1dc3d187-e1f5-41ed-8d82-7c96fb57abdf",
   "metadata": {},
   "outputs": [],
   "source": [
    "train_dataset = GCD(path_train_images, resize=256)\n",
    "\n",
    "train_loader = torch.utils.data.DataLoader(\n",
    "        train_dataset,\n",
    "        batch_size=config.BATCH_SIZE,\n",
    "        num_workers=4,\n",
    "        shuffle=True,\n",
    "    )"
   ]
  },
  {
   "cell_type": "code",
   "execution_count": 10,
   "id": "92a8474a-01aa-41ba-9d9e-210055ac8b58",
   "metadata": {},
   "outputs": [],
   "source": [
    "batch = next(iter(train_loader))"
   ]
  },
  {
   "cell_type": "code",
   "execution_count": 11,
   "id": "e6dde255-d33b-4843-a0dd-b95272ad6a35",
   "metadata": {},
   "outputs": [],
   "source": [
    "path_test_images = utils.get_gcd_paths(config.DATA_DIR,'test')\n",
    "\n",
    "test_dataset = GCD(path_test_images, resize=256)\n",
    "\n",
    "test_loader = torch.utils.data.DataLoader(\n",
    "        test_dataset,\n",
    "        batch_size=config.BATCH_SIZE,\n",
    "        num_workers=4,\n",
    "        shuffle=False,\n",
    "    )"
   ]
  },
  {
   "cell_type": "markdown",
   "id": "b600c484-fc76-4d47-bf2e-e7826ca1dc04",
   "metadata": {},
   "source": [
    "### Data augmentation data loaders"
   ]
  },
  {
   "cell_type": "code",
   "execution_count": 20,
   "id": "f0ed9cf9-7b4c-4378-8732-9c397fe3bc45",
   "metadata": {},
   "outputs": [],
   "source": [
    "augmentation_datasets = [\n",
    "    GCD(utils.random_sample(path_train_images), resize=256, aug_types= atype)\n",
    "    for atype in config.AUGMENTATION_TYPES\n",
    "    ]"
   ]
  },
  {
   "cell_type": "code",
   "execution_count": 21,
   "id": "a0127b64-0ac5-4560-aec2-2785cc50f5bd",
   "metadata": {},
   "outputs": [],
   "source": [
    "augmentation_loaders = [\n",
    "    torch.utils.data.DataLoader(\n",
    "            aug_dataset,\n",
    "            batch_size=config.BATCH_SIZE,\n",
    "            num_workers=4,\n",
    "            shuffle=True,\n",
    "        )\n",
    "for aug_dataset in augmentation_datasets\n",
    "]"
   ]
  },
  {
   "cell_type": "markdown",
   "id": "95707389-de47-4914-8b87-edc394cb4202",
   "metadata": {},
   "source": [
    "#### Model"
   ]
  },
  {
   "cell_type": "code",
   "execution_count": 13,
   "id": "b0757e6e-31f1-461a-a21d-496f7f98bcff",
   "metadata": {},
   "outputs": [],
   "source": [
    "from torchvision import models"
   ]
  },
  {
   "cell_type": "code",
   "execution_count": 14,
   "id": "4b3e7ae9-681e-4806-85d9-c9b37164da11",
   "metadata": {},
   "outputs": [],
   "source": [
    "torch.cuda.empty_cache()"
   ]
  },
  {
   "cell_type": "code",
   "execution_count": 15,
   "id": "afe7e632-6f51-4ae5-ab71-bae05960cf78",
   "metadata": {},
   "outputs": [],
   "source": [
    "model = ResNet50(7).to(device)"
   ]
  },
  {
   "cell_type": "code",
   "execution_count": 16,
   "id": "19f68d2a-96ac-4801-ba11-9614058a98ea",
   "metadata": {},
   "outputs": [],
   "source": [
    "criterion = nn.CrossEntropyLoss()\n",
    "optimizer = optimizer = torch.optim.Adam(model.parameters(), lr=3e-4)"
   ]
  },
  {
   "cell_type": "code",
   "execution_count": 24,
   "id": "a88fa23d-11fc-47fd-8e34-12cfbb8ae771",
   "metadata": {},
   "outputs": [],
   "source": [
    "save_filename='/gcd_resnet/model_params_26_03_22.pt'"
   ]
  },
  {
   "cell_type": "code",
   "execution_count": 25,
   "id": "52819030-77e0-4312-b0c6-b786da2fc2f8",
   "metadata": {},
   "outputs": [
    {
     "name": "stderr",
     "output_type": "stream",
     "text": [
      "100%|██████████| 313/313 [00:54<00:00,  5.79it/s]\n",
      "100%|██████████| 157/157 [00:26<00:00,  5.86it/s]\n",
      "100%|██████████| 157/157 [00:26<00:00,  5.87it/s]\n",
      "100%|██████████| 157/157 [00:26<00:00,  5.82it/s]\n",
      "100%|██████████| 157/157 [00:26<00:00,  5.85it/s]\n",
      "100%|██████████| 282/282 [00:16<00:00, 17.11it/s]\n"
     ]
    },
    {
     "name": "stdout",
     "output_type": "stream",
     "text": [
      "Saved best parameters at epoch 1\n",
      "EPOCH 1: Train acc: 84.45% Train Loss: 0.4145 Test acc: 72.17% Test Loss: 0.9399\n"
     ]
    },
    {
     "name": "stderr",
     "output_type": "stream",
     "text": [
      "100%|██████████| 313/313 [01:01<00:00,  5.08it/s]\n",
      "100%|██████████| 157/157 [00:35<00:00,  4.39it/s]\n",
      "100%|██████████| 157/157 [00:32<00:00,  4.79it/s]\n",
      "100%|██████████| 157/157 [00:37<00:00,  4.23it/s]\n",
      "100%|██████████| 157/157 [00:26<00:00,  5.84it/s]\n",
      "100%|██████████| 282/282 [00:16<00:00, 17.10it/s]\n"
     ]
    },
    {
     "name": "stdout",
     "output_type": "stream",
     "text": [
      "Saved best parameters at epoch 2\n",
      "EPOCH 2: Train acc: 88.45% Train Loss: 0.3030 Test acc: 73.14% Test Loss: 0.8819\n"
     ]
    },
    {
     "name": "stderr",
     "output_type": "stream",
     "text": [
      "100%|██████████| 313/313 [00:54<00:00,  5.75it/s]\n",
      "100%|██████████| 157/157 [00:26<00:00,  5.85it/s]\n",
      "100%|██████████| 157/157 [00:26<00:00,  5.83it/s]\n",
      "100%|██████████| 157/157 [00:26<00:00,  5.83it/s]\n",
      "100%|██████████| 157/157 [00:26<00:00,  5.85it/s]\n",
      "100%|██████████| 282/282 [00:16<00:00, 17.14it/s]\n"
     ]
    },
    {
     "name": "stdout",
     "output_type": "stream",
     "text": [
      "EPOCH 3: Train acc: 90.72% Train Loss: 0.2406 Test acc: 72.27% Test Loss: 1.2556\n"
     ]
    },
    {
     "name": "stderr",
     "output_type": "stream",
     "text": [
      "100%|██████████| 313/313 [00:54<00:00,  5.75it/s]\n",
      "100%|██████████| 157/157 [00:26<00:00,  5.85it/s]\n",
      "100%|██████████| 157/157 [00:26<00:00,  5.85it/s]\n",
      "100%|██████████| 157/157 [00:27<00:00,  5.81it/s]\n",
      "100%|██████████| 157/157 [00:26<00:00,  5.83it/s]\n",
      "100%|██████████| 282/282 [00:16<00:00, 17.23it/s]\n"
     ]
    },
    {
     "name": "stdout",
     "output_type": "stream",
     "text": [
      "Saved best parameters at epoch 4\n",
      "EPOCH 4: Train acc: 92.06% Train Loss: 0.2066 Test acc: 73.47% Test Loss: 0.9852\n"
     ]
    },
    {
     "name": "stderr",
     "output_type": "stream",
     "text": [
      "100%|██████████| 313/313 [00:54<00:00,  5.76it/s]\n",
      "100%|██████████| 157/157 [00:26<00:00,  5.86it/s]\n",
      "100%|██████████| 157/157 [00:26<00:00,  5.84it/s]\n",
      "100%|██████████| 157/157 [00:27<00:00,  5.81it/s]\n",
      "100%|██████████| 157/157 [00:26<00:00,  5.85it/s]\n",
      "100%|██████████| 282/282 [00:16<00:00, 17.25it/s]\n"
     ]
    },
    {
     "name": "stdout",
     "output_type": "stream",
     "text": [
      "EPOCH 5: Train acc: 93.05% Train Loss: 0.1718 Test acc: 72.11% Test Loss: 1.3230\n"
     ]
    },
    {
     "name": "stderr",
     "output_type": "stream",
     "text": [
      "100%|██████████| 313/313 [00:54<00:00,  5.76it/s]\n",
      "100%|██████████| 157/157 [00:26<00:00,  5.86it/s]\n",
      "100%|██████████| 157/157 [00:26<00:00,  5.85it/s]\n",
      "100%|██████████| 157/157 [00:26<00:00,  5.82it/s]\n",
      "100%|██████████| 157/157 [00:26<00:00,  5.87it/s]\n",
      "100%|██████████| 282/282 [00:16<00:00, 17.11it/s]\n"
     ]
    },
    {
     "name": "stdout",
     "output_type": "stream",
     "text": [
      "EPOCH 6: Train acc: 94.19% Train Loss: 0.1504 Test acc: 73.42% Test Loss: 0.9388\n"
     ]
    },
    {
     "name": "stderr",
     "output_type": "stream",
     "text": [
      "100%|██████████| 313/313 [00:54<00:00,  5.77it/s]\n",
      "100%|██████████| 157/157 [00:26<00:00,  5.83it/s]\n",
      "100%|██████████| 157/157 [00:26<00:00,  5.86it/s]\n",
      "100%|██████████| 157/157 [00:26<00:00,  5.82it/s]\n",
      "100%|██████████| 157/157 [00:26<00:00,  5.85it/s]\n",
      "100%|██████████| 282/282 [00:16<00:00, 17.09it/s]\n"
     ]
    },
    {
     "name": "stdout",
     "output_type": "stream",
     "text": [
      "EPOCH 7: Train acc: 94.72% Train Loss: 0.1374 Test acc: 72.79% Test Loss: 1.1826\n"
     ]
    },
    {
     "name": "stderr",
     "output_type": "stream",
     "text": [
      "100%|██████████| 313/313 [00:54<00:00,  5.77it/s]\n",
      "100%|██████████| 157/157 [00:26<00:00,  5.86it/s]\n",
      "100%|██████████| 157/157 [00:26<00:00,  5.86it/s]\n",
      "100%|██████████| 157/157 [00:26<00:00,  5.82it/s]\n",
      "100%|██████████| 157/157 [00:26<00:00,  5.85it/s]\n",
      "100%|██████████| 282/282 [00:16<00:00, 17.08it/s]\n"
     ]
    },
    {
     "name": "stdout",
     "output_type": "stream",
     "text": [
      "Saved best parameters at epoch 8\n",
      "EPOCH 8: Train acc: 96.34% Train Loss: 0.1027 Test acc: 74.29% Test Loss: 0.8606\n"
     ]
    },
    {
     "name": "stderr",
     "output_type": "stream",
     "text": [
      "100%|██████████| 313/313 [00:54<00:00,  5.76it/s]\n",
      "100%|██████████| 157/157 [00:26<00:00,  5.85it/s]\n",
      "100%|██████████| 157/157 [00:26<00:00,  5.85it/s]\n",
      "100%|██████████| 157/157 [00:26<00:00,  5.83it/s]\n",
      "100%|██████████| 157/157 [00:26<00:00,  5.86it/s]\n",
      "100%|██████████| 282/282 [00:16<00:00, 17.15it/s]\n"
     ]
    },
    {
     "name": "stdout",
     "output_type": "stream",
     "text": [
      "EPOCH 9: Train acc: 96.77% Train Loss: 0.0878 Test acc: 72.49% Test Loss: 1.2466\n"
     ]
    },
    {
     "name": "stderr",
     "output_type": "stream",
     "text": [
      "100%|██████████| 313/313 [00:54<00:00,  5.77it/s]\n",
      "100%|██████████| 157/157 [00:26<00:00,  5.88it/s]\n",
      "100%|██████████| 157/157 [00:26<00:00,  5.86it/s]\n",
      "100%|██████████| 157/157 [00:26<00:00,  5.84it/s]\n",
      "100%|██████████| 157/157 [00:26<00:00,  5.84it/s]\n",
      "100%|██████████| 282/282 [00:16<00:00, 17.19it/s]\n"
     ]
    },
    {
     "name": "stdout",
     "output_type": "stream",
     "text": [
      "EPOCH 10: Train acc: 97.38% Train Loss: 0.0746 Test acc: 72.93% Test Loss: 1.0840\n"
     ]
    },
    {
     "name": "stderr",
     "output_type": "stream",
     "text": [
      "100%|██████████| 313/313 [00:54<00:00,  5.77it/s]\n",
      "100%|██████████| 157/157 [00:26<00:00,  5.88it/s]\n",
      "100%|██████████| 157/157 [00:26<00:00,  5.87it/s]\n",
      "100%|██████████| 157/157 [00:26<00:00,  5.82it/s]\n",
      "100%|██████████| 157/157 [00:26<00:00,  5.86it/s]\n",
      "100%|██████████| 282/282 [00:16<00:00, 17.12it/s]\n"
     ]
    },
    {
     "name": "stdout",
     "output_type": "stream",
     "text": [
      "Saved best parameters at epoch 11\n",
      "EPOCH 11: Train acc: 97.58% Train Loss: 0.0684 Test acc: 74.37% Test Loss: 1.1687\n"
     ]
    },
    {
     "name": "stderr",
     "output_type": "stream",
     "text": [
      "100%|██████████| 313/313 [00:54<00:00,  5.77it/s]\n",
      "100%|██████████| 157/157 [00:26<00:00,  5.86it/s]\n",
      "100%|██████████| 157/157 [00:26<00:00,  5.87it/s]\n",
      "100%|██████████| 157/157 [00:26<00:00,  5.84it/s]\n",
      "100%|██████████| 157/157 [00:26<00:00,  5.85it/s]\n",
      "100%|██████████| 282/282 [00:16<00:00, 17.22it/s]\n"
     ]
    },
    {
     "name": "stdout",
     "output_type": "stream",
     "text": [
      "Saved best parameters at epoch 12\n",
      "EPOCH 12: Train acc: 97.94% Train Loss: 0.0611 Test acc: 74.58% Test Loss: 1.1749\n"
     ]
    },
    {
     "name": "stderr",
     "output_type": "stream",
     "text": [
      "100%|██████████| 313/313 [00:54<00:00,  5.76it/s]\n",
      "100%|██████████| 157/157 [00:26<00:00,  5.84it/s]\n",
      "100%|██████████| 157/157 [00:26<00:00,  5.85it/s]\n",
      "100%|██████████| 157/157 [00:26<00:00,  5.83it/s]\n",
      "100%|██████████| 157/157 [00:26<00:00,  5.82it/s]\n",
      "100%|██████████| 282/282 [00:16<00:00, 17.07it/s]\n"
     ]
    },
    {
     "name": "stdout",
     "output_type": "stream",
     "text": [
      "EPOCH 13: Train acc: 98.36% Train Loss: 0.0521 Test acc: 74.37% Test Loss: 1.0671\n"
     ]
    },
    {
     "name": "stderr",
     "output_type": "stream",
     "text": [
      "100%|██████████| 313/313 [00:54<00:00,  5.78it/s]\n",
      "100%|██████████| 157/157 [00:26<00:00,  5.84it/s]\n",
      "100%|██████████| 157/157 [00:26<00:00,  5.86it/s]\n",
      "100%|██████████| 157/157 [00:26<00:00,  5.82it/s]\n",
      "100%|██████████| 157/157 [00:26<00:00,  5.86it/s]\n",
      "100%|██████████| 282/282 [00:16<00:00, 17.04it/s]\n"
     ]
    },
    {
     "name": "stdout",
     "output_type": "stream",
     "text": [
      "Saved best parameters at epoch 14\n",
      "EPOCH 14: Train acc: 98.37% Train Loss: 0.0471 Test acc: 75.63% Test Loss: 0.8087\n"
     ]
    },
    {
     "name": "stderr",
     "output_type": "stream",
     "text": [
      "100%|██████████| 313/313 [00:54<00:00,  5.77it/s]\n",
      "100%|██████████| 157/157 [00:26<00:00,  5.86it/s]\n",
      "100%|██████████| 157/157 [00:26<00:00,  5.84it/s]\n",
      "100%|██████████| 157/157 [00:26<00:00,  5.82it/s]\n",
      "100%|██████████| 157/157 [00:26<00:00,  5.88it/s]\n",
      "100%|██████████| 282/282 [00:16<00:00, 17.26it/s]\n"
     ]
    },
    {
     "name": "stdout",
     "output_type": "stream",
     "text": [
      "EPOCH 15: Train acc: 98.54% Train Loss: 0.0423 Test acc: 75.03% Test Loss: 1.1737\n"
     ]
    },
    {
     "name": "stderr",
     "output_type": "stream",
     "text": [
      "100%|██████████| 313/313 [00:54<00:00,  5.76it/s]\n",
      "100%|██████████| 157/157 [00:26<00:00,  5.85it/s]\n",
      "100%|██████████| 157/157 [00:26<00:00,  5.85it/s]\n",
      "100%|██████████| 157/157 [00:26<00:00,  5.82it/s]\n",
      "100%|██████████| 157/157 [00:26<00:00,  5.85it/s]\n",
      "100%|██████████| 282/282 [00:16<00:00, 17.15it/s]\n"
     ]
    },
    {
     "name": "stdout",
     "output_type": "stream",
     "text": [
      "EPOCH 16: Train acc: 98.80% Train Loss: 0.0353 Test acc: 74.71% Test Loss: 1.0971\n"
     ]
    },
    {
     "name": "stderr",
     "output_type": "stream",
     "text": [
      "100%|██████████| 313/313 [00:54<00:00,  5.77it/s]\n",
      "100%|██████████| 157/157 [00:26<00:00,  5.86it/s]\n",
      "100%|██████████| 157/157 [00:26<00:00,  5.86it/s]\n",
      "100%|██████████| 157/157 [00:26<00:00,  5.83it/s]\n",
      "100%|██████████| 157/157 [00:26<00:00,  5.85it/s]\n",
      "100%|██████████| 282/282 [00:16<00:00, 17.19it/s]\n"
     ]
    },
    {
     "name": "stdout",
     "output_type": "stream",
     "text": [
      "EPOCH 17: Train acc: 99.04% Train Loss: 0.0301 Test acc: 73.46% Test Loss: 1.1626\n"
     ]
    },
    {
     "name": "stderr",
     "output_type": "stream",
     "text": [
      "100%|██████████| 313/313 [00:54<00:00,  5.76it/s]\n",
      "100%|██████████| 157/157 [00:26<00:00,  5.86it/s]\n",
      "100%|██████████| 157/157 [00:26<00:00,  5.83it/s]\n",
      "100%|██████████| 157/157 [00:26<00:00,  5.83it/s]\n",
      "100%|██████████| 157/157 [00:26<00:00,  5.85it/s]\n",
      "100%|██████████| 282/282 [00:16<00:00, 17.10it/s]\n"
     ]
    },
    {
     "name": "stdout",
     "output_type": "stream",
     "text": [
      "EPOCH 18: Train acc: 98.94% Train Loss: 0.0311 Test acc: 73.74% Test Loss: 1.1787\n"
     ]
    },
    {
     "name": "stderr",
     "output_type": "stream",
     "text": [
      "100%|██████████| 313/313 [00:54<00:00,  5.77it/s]\n",
      "100%|██████████| 157/157 [00:26<00:00,  5.85it/s]\n",
      "100%|██████████| 157/157 [00:26<00:00,  5.85it/s]\n",
      "100%|██████████| 157/157 [00:26<00:00,  5.83it/s]\n",
      "100%|██████████| 157/157 [00:26<00:00,  5.85it/s]\n",
      "100%|██████████| 282/282 [00:16<00:00, 17.11it/s]\n"
     ]
    },
    {
     "name": "stdout",
     "output_type": "stream",
     "text": [
      "EPOCH 19: Train acc: 98.94% Train Loss: 0.0346 Test acc: 74.59% Test Loss: 0.9978\n"
     ]
    },
    {
     "name": "stderr",
     "output_type": "stream",
     "text": [
      "100%|██████████| 313/313 [00:54<00:00,  5.77it/s]\n",
      "100%|██████████| 157/157 [00:26<00:00,  5.85it/s]\n",
      "100%|██████████| 157/157 [00:26<00:00,  5.85it/s]\n",
      "100%|██████████| 157/157 [00:26<00:00,  5.84it/s]\n",
      "100%|██████████| 157/157 [00:26<00:00,  5.86it/s]\n",
      "100%|██████████| 282/282 [00:16<00:00, 17.17it/s]\n"
     ]
    },
    {
     "name": "stdout",
     "output_type": "stream",
     "text": [
      "EPOCH 20: Train acc: 99.22% Train Loss: 0.0258 Test acc: 73.36% Test Loss: 0.9571\n"
     ]
    },
    {
     "name": "stderr",
     "output_type": "stream",
     "text": [
      "100%|██████████| 313/313 [00:54<00:00,  5.77it/s]\n",
      "100%|██████████| 157/157 [00:26<00:00,  5.86it/s]\n",
      "100%|██████████| 157/157 [00:26<00:00,  5.86it/s]\n",
      "100%|██████████| 157/157 [00:26<00:00,  5.82it/s]\n",
      "100%|██████████| 157/157 [00:26<00:00,  5.83it/s]\n",
      "100%|██████████| 282/282 [00:16<00:00, 17.23it/s]\n"
     ]
    },
    {
     "name": "stdout",
     "output_type": "stream",
     "text": [
      "Saved best parameters at epoch 21\n",
      "EPOCH 21: Train acc: 99.01% Train Loss: 0.0315 Test acc: 76.11% Test Loss: 0.9042\n"
     ]
    },
    {
     "name": "stderr",
     "output_type": "stream",
     "text": [
      "100%|██████████| 313/313 [00:54<00:00,  5.76it/s]\n",
      "100%|██████████| 157/157 [00:26<00:00,  5.84it/s]\n",
      "100%|██████████| 157/157 [00:26<00:00,  5.85it/s]\n",
      "100%|██████████| 157/157 [00:27<00:00,  5.81it/s]\n",
      "100%|██████████| 157/157 [00:26<00:00,  5.83it/s]\n",
      "100%|██████████| 282/282 [00:16<00:00, 17.09it/s]\n"
     ]
    },
    {
     "name": "stdout",
     "output_type": "stream",
     "text": [
      "EPOCH 22: Train acc: 99.25% Train Loss: 0.0246 Test acc: 74.12% Test Loss: 1.1543\n"
     ]
    },
    {
     "name": "stderr",
     "output_type": "stream",
     "text": [
      "100%|██████████| 313/313 [00:54<00:00,  5.76it/s]\n",
      "100%|██████████| 157/157 [00:26<00:00,  5.83it/s]\n",
      "100%|██████████| 157/157 [00:26<00:00,  5.83it/s]\n",
      "100%|██████████| 157/157 [00:27<00:00,  5.80it/s]\n",
      "100%|██████████| 157/157 [00:26<00:00,  5.85it/s]\n",
      "100%|██████████| 282/282 [00:16<00:00, 17.15it/s]\n"
     ]
    },
    {
     "name": "stdout",
     "output_type": "stream",
     "text": [
      "EPOCH 23: Train acc: 99.21% Train Loss: 0.0249 Test acc: 73.41% Test Loss: 1.0754\n"
     ]
    },
    {
     "name": "stderr",
     "output_type": "stream",
     "text": [
      "100%|██████████| 313/313 [00:54<00:00,  5.76it/s]\n",
      "100%|██████████| 157/157 [00:26<00:00,  5.85it/s]\n",
      "100%|██████████| 157/157 [00:26<00:00,  5.83it/s]\n",
      "100%|██████████| 157/157 [00:26<00:00,  5.82it/s]\n",
      "100%|██████████| 157/157 [00:26<00:00,  5.83it/s]\n",
      "100%|██████████| 282/282 [00:16<00:00, 17.12it/s]\n"
     ]
    },
    {
     "name": "stdout",
     "output_type": "stream",
     "text": [
      "EPOCH 24: Train acc: 99.20% Train Loss: 0.0264 Test acc: 73.30% Test Loss: 1.3333\n"
     ]
    },
    {
     "name": "stderr",
     "output_type": "stream",
     "text": [
      "100%|██████████| 313/313 [00:54<00:00,  5.77it/s]\n",
      "100%|██████████| 157/157 [00:26<00:00,  5.83it/s]\n",
      "100%|██████████| 157/157 [00:26<00:00,  5.83it/s]\n",
      "100%|██████████| 157/157 [00:26<00:00,  5.82it/s]\n",
      "100%|██████████| 157/157 [00:26<00:00,  5.84it/s]\n",
      "100%|██████████| 282/282 [00:16<00:00, 17.09it/s]"
     ]
    },
    {
     "name": "stdout",
     "output_type": "stream",
     "text": [
      "EPOCH 25: Train acc: 99.43% Train Loss: 0.0197 Test acc: 74.88% Test Loss: 0.9466\n"
     ]
    },
    {
     "name": "stderr",
     "output_type": "stream",
     "text": [
      "\n"
     ]
    }
   ],
   "source": [
    "best_accuracy=0\n",
    "best_iteration=0\n",
    "best_params={}\n",
    "\n",
    "\n",
    "for e in range(config.EPOCHS):\n",
    "    ### TRAIN DATASET\n",
    "    preds, targets, loss = engine.train_fn(model, train_loader, criterion, optimizer, device=device)\n",
    "    train_acc = accuracy_score(targets, preds)\n",
    "    \n",
    "    ### AUGMENTATION IMAGES\n",
    "    for _loader in augmentation_loaders:\n",
    "        engine.forward_backward_pass(model, _loader, criterion, optimizer, device=device)\n",
    "    \n",
    "    test_preds, test_targets, test_loss = engine.eval_fn(model, test_loader, criterion, device=device)\n",
    "    test_acc = accuracy_score(test_targets, test_preds)\n",
    "    \n",
    "    if test_acc > best_accuracy:\n",
    "        torch.save(model.state_dict(), config.SAVE_PATH+save_filename)\n",
    "        print(f\"Saved best parameters at epoch {e+1}\")\n",
    "        best_accuracy = test_acc\n",
    "        best_iteration = e+1\n",
    "        best_params = model.state_dict()\n",
    "    \n",
    "    print(\"EPOCH {}: Train acc: {:.2%} Train Loss: {:.4f} Test acc: {:.2%} Test Loss: {:.4f}\".format(\n",
    "        e+1,\n",
    "        train_acc,\n",
    "        loss,\n",
    "        test_acc,\n",
    "        test_loss\n",
    "    ))\n"
   ]
  },
  {
   "cell_type": "code",
   "execution_count": 26,
   "id": "8c928ada-53d9-4cf9-929c-2416081e3736",
   "metadata": {},
   "outputs": [
    {
     "data": {
      "text/plain": [
       "<All keys matched successfully>"
      ]
     },
     "execution_count": 26,
     "metadata": {},
     "output_type": "execute_result"
    }
   ],
   "source": [
    "model.load_state_dict(torch.load(config.SAVE_PATH+save_filename))"
   ]
  },
  {
   "cell_type": "code",
   "execution_count": 27,
   "id": "141e36d4-e113-47e7-86be-9f40128f37fa",
   "metadata": {},
   "outputs": [],
   "source": [
    "#torch.save(model.state_dict(), config.SAVE_PATH+'/gcd_resnet/model_params_25_03_22.pt')"
   ]
  },
  {
   "cell_type": "code",
   "execution_count": 28,
   "id": "c49d971c-7e97-4326-b1ec-dffb96e89baa",
   "metadata": {},
   "outputs": [
    {
     "name": "stderr",
     "output_type": "stream",
     "text": [
      "100%|██████████| 282/282 [00:16<00:00, 17.09it/s]\n"
     ]
    }
   ],
   "source": [
    "test_preds, test_targets, test_loss = engine.eval_fn(model, test_loader, criterion, device=device)"
   ]
  },
  {
   "cell_type": "code",
   "execution_count": 29,
   "id": "3caf4e20-e50a-49bf-9308-71969545dc1b",
   "metadata": {},
   "outputs": [
    {
     "data": {
      "text/plain": [
       "0.7611111111111111"
      ]
     },
     "execution_count": 29,
     "metadata": {},
     "output_type": "execute_result"
    }
   ],
   "source": [
    "accuracy_score(test_targets, test_preds)"
   ]
  },
  {
   "cell_type": "code",
   "execution_count": 30,
   "id": "63900a4d-0fda-417f-9ed0-e471005c65c4",
   "metadata": {},
   "outputs": [],
   "source": [
    "#torch.save(model.state_dict(), config.SAVE_PATH+'/gcd_resnet/model_params_25_03_22.pt')"
   ]
  },
  {
   "cell_type": "markdown",
   "id": "23545e85-0d80-4361-8517-17f059952909",
   "metadata": {},
   "source": [
    "---"
   ]
  },
  {
   "cell_type": "markdown",
   "id": "abb58d00-a42c-48e2-88b4-fd4640f4c90d",
   "metadata": {},
   "source": [
    "### Accuracy per class and confusion matrix"
   ]
  },
  {
   "cell_type": "code",
   "execution_count": 31,
   "id": "eb2b3ab2-fa60-460d-b862-3f1e099d011b",
   "metadata": {},
   "outputs": [],
   "source": [
    "class_mapper = {\n",
    "    0: '1_cumulus',\n",
    "    1: '2_altocumulus',\n",
    "    2: '3_cirrus',\n",
    "    3: '4_clearsky',\n",
    "    4: '5_stratocumulus',\n",
    "    5: '6_cumulonimbus',\n",
    "    6: '7_mixed',\n",
    "}"
   ]
  },
  {
   "cell_type": "code",
   "execution_count": 32,
   "id": "27dda4e5-665b-4cf0-b6c1-0fd1be50c33e",
   "metadata": {},
   "outputs": [],
   "source": [
    "class_acc = dict()\n",
    "matrix = np.zeros((7,7), dtype=int)\n",
    "\n",
    "for i in range(7):\n",
    "    pred_index = np.where(test_targets==i)[0]\n",
    "    class_acc[class_mapper[i]] = accuracy_score(test_targets[pred_index], test_preds[pred_index])\n",
    "    \n",
    "    for j in test_preds[pred_index]:\n",
    "        matrix[i,j]+=1 "
   ]
  },
  {
   "cell_type": "code",
   "execution_count": 33,
   "id": "9c7eb947-cf08-4442-b098-86e95438bfee",
   "metadata": {},
   "outputs": [
    {
     "data": {
      "text/plain": [
       "{'1_cumulus': 0.7386666666666667,\n",
       " '2_altocumulus': 0.48,\n",
       " '3_cirrus': 0.8419654714475432,\n",
       " '4_clearsky': 0.9666456891126495,\n",
       " '5_stratocumulus': 0.605586592178771,\n",
       " '6_cumulonimbus': 0.852589641434263,\n",
       " '7_mixed': 0.5403624382207578}"
      ]
     },
     "execution_count": 33,
     "metadata": {},
     "output_type": "execute_result"
    }
   ],
   "source": [
    "class_acc"
   ]
  },
  {
   "cell_type": "code",
   "execution_count": 34,
   "id": "9e70f591-6821-40d9-aca6-b91e80ae1eb0",
   "metadata": {},
   "outputs": [
    {
     "data": {
      "text/plain": [
       "<AxesSubplot:title={'center':'Confusion Matrix (Accuracy %)'}>"
      ]
     },
     "execution_count": 34,
     "metadata": {},
     "output_type": "execute_result"
    },
    {
     "data": {
      "image/png": "[encoded data removed]",
      "text/plain": [
       "<Figure size 576x360 with 2 Axes>"
      ]
     },
     "metadata": {
      "needs_background": "light"
     },
     "output_type": "display_data"
    }
   ],
   "source": [
    "sum_of_rows = matrix.sum(axis=1)\n",
    "conf_mat = 100*matrix / sum_of_rows[:, np.newaxis]\n",
    "\n",
    "df_cm = pd.DataFrame(conf_mat, index = class_acc.keys(),\n",
    "                  columns = class_acc.keys())\n",
    "\n",
    "plt.figure(figsize = (8,5))\n",
    "plt.title(\"Confusion Matrix (Accuracy %)\")\n",
    "sns.heatmap(df_cm, annot=True)"
   ]
  },
  {
   "cell_type": "code",
   "execution_count": null,
   "id": "58d120b4-789f-4261-ac93-226d20b2289c",
   "metadata": {},
   "outputs": [],
   "source": []
  },
  {
   "cell_type": "code",
   "execution_count": null,
   "id": "2837b546-e68b-4d80-8971-e4c90f9716d7",
   "metadata": {},
   "outputs": [],
   "source": []
  }
 ],
 "metadata": {
  "kernelspec": {
   "display_name": "Python 3",
   "language": "python",
   "name": "python3"
  },
  "language_info": {
   "codemirror_mode": {
    "name": "ipython",
    "version": 3
   },
   "file_extension": ".py",
   "mimetype": "text/x-python",
   "name": "python",
   "nbconvert_exporter": "python",
   "pygments_lexer": "ipython3",
   "version": "3.9.7"
  }
 },
 "nbformat": 4,
 "nbformat_minor": 5
}
