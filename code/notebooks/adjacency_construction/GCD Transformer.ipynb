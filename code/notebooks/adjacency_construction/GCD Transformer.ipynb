{
 "cells": [
  {
   "cell_type": "code",
   "execution_count": 1,
   "id": "e77ccc5d-e07e-406a-aac0-a8ae99ffedae",
   "metadata": {},
   "outputs": [
    {
     "name": "stdout",
     "output_type": "stream",
     "text": [
      "/home/ltorres/leo/tesis/cloud-classification/code/notebooks\n",
      "/home/ltorres/leo/tesis/cloud-classification/code\n"
     ]
    }
   ],
   "source": [
    "%cd ..\n",
    "%cd .."
   ]
  },
  {
   "cell_type": "code",
   "execution_count": 2,
   "id": "df066a8e-ed76-4b62-b9be-b3e8e3379b8b",
   "metadata": {},
   "outputs": [],
   "source": [
    "%load_ext autoreload\n",
    "%autoreload 2"
   ]
  },
  {
   "cell_type": "markdown",
   "id": "ef357a6c-1963-438c-a19f-d68e599a9c4a",
   "metadata": {},
   "source": [
    "---"
   ]
  },
  {
   "cell_type": "code",
   "execution_count": 3,
   "id": "36811c7d-0c3b-4845-a702-4de962035cb9",
   "metadata": {},
   "outputs": [],
   "source": [
    "from torchvision.io import read_image\n",
    "import glob\n",
    "import os\n",
    "import numpy as np\n",
    "import pandas as pd\n",
    "import matplotlib.pyplot as plt\n",
    "import seaborn as sns\n",
    "\n",
    "from random import sample\n",
    "import torch\n",
    "import torch.nn as nn\n",
    "from torch.optim import lr_scheduler"
   ]
  },
  {
   "cell_type": "code",
   "execution_count": 4,
   "id": "a2cfa629-84c4-45ab-84ff-f8a4bdeacf75",
   "metadata": {},
   "outputs": [],
   "source": [
    "from src.dataset import GCD\n",
    "from src import config\n",
    "from src import engine_gnn as engine\n",
    "from src import utils\n",
    "\n",
    "from src.models.graph_nets import GraphConvGNN, GATConvGNN\n",
    "\n",
    "from notebooks.adjacency_construction.adjacency_models import *"
   ]
  },
  {
   "cell_type": "code",
   "execution_count": 5,
   "id": "d4e1acb2-496d-45e5-9e66-92dda51e7888",
   "metadata": {},
   "outputs": [],
   "source": [
    "from sklearn.metrics import accuracy_score"
   ]
  },
  {
   "cell_type": "code",
   "execution_count": 6,
   "id": "ba5dcaa5-ca3e-4655-a422-4d973cdad01f",
   "metadata": {},
   "outputs": [],
   "source": [
    "import wandb"
   ]
  },
  {
   "cell_type": "markdown",
   "id": "1a35c7b5-a01a-4d7d-b0b1-ef8bf2e622ee",
   "metadata": {},
   "source": [
    "#### PARAMS"
   ]
  },
  {
   "cell_type": "code",
   "execution_count": 7,
   "id": "93fc98c7-f864-4fa2-b595-773aeedce8de",
   "metadata": {},
   "outputs": [],
   "source": [
    "device = 'cuda:1'\n",
    "\n",
    "\n",
    "BUILDER = 'transformer'\n",
    "builder_name = \"Transformer Encoder\"\n",
    "\n",
    "LR = 3e-4\n",
    "EPOCHS = 15\n",
    "\n",
    "\n",
    "\n",
    "exp_name = '5_TRANSFORMER_ENCODER_06_04_22'\n",
    "model_filename = f'/adjacency_builders/{exp_name}.pt'"
   ]
  },
  {
   "cell_type": "markdown",
   "id": "d8bfc5ff-c2a5-4b58-9902-8562706781b8",
   "metadata": {},
   "source": [
    "---"
   ]
  },
  {
   "cell_type": "code",
   "execution_count": 8,
   "id": "e93d77e3-472a-4e35-907e-41ca2537897c",
   "metadata": {},
   "outputs": [
    {
     "name": "stderr",
     "output_type": "stream",
     "text": [
      "\u001b[34m\u001b[1mwandb\u001b[0m: Currently logged in as: \u001b[33mleonardtd\u001b[0m (use `wandb login --relogin` to force relogin)\n"
     ]
    },
    {
     "data": {
      "text/plain": [
       "True"
      ]
     },
     "execution_count": 8,
     "metadata": {},
     "output_type": "execute_result"
    }
   ],
   "source": [
    "wandb.login()"
   ]
  },
  {
   "cell_type": "markdown",
   "id": "0261f5e1-e6d9-453a-8d44-8f3202368c9f",
   "metadata": {},
   "source": [
    "#### Data loaders"
   ]
  },
  {
   "cell_type": "code",
   "execution_count": 9,
   "id": "38fde725-5100-4b57-903f-161c66a03b16",
   "metadata": {},
   "outputs": [],
   "source": [
    "path_train_images = utils.get_gcd_paths(config.DATA_DIR,'train')"
   ]
  },
  {
   "cell_type": "code",
   "execution_count": 10,
   "id": "1dc3d187-e1f5-41ed-8d82-7c96fb57abdf",
   "metadata": {},
   "outputs": [],
   "source": [
    "train_dataset = GCD(path_train_images, resize=256)\n",
    "\n",
    "train_loader = torch.utils.data.DataLoader(\n",
    "        train_dataset,\n",
    "        batch_size=config.BATCH_SIZE,\n",
    "        num_workers=4,\n",
    "        shuffle=True,\n",
    "    )"
   ]
  },
  {
   "cell_type": "code",
   "execution_count": 11,
   "id": "e6dde255-d33b-4843-a0dd-b95272ad6a35",
   "metadata": {},
   "outputs": [],
   "source": [
    "path_test_images = utils.get_gcd_paths(config.DATA_DIR,'test')\n",
    "\n",
    "test_dataset = GCD(path_test_images, resize=256)\n",
    "\n",
    "test_loader = torch.utils.data.DataLoader(\n",
    "        test_dataset,\n",
    "        batch_size=config.BATCH_SIZE,\n",
    "        num_workers=4,\n",
    "        shuffle=False,\n",
    "    )"
   ]
  },
  {
   "cell_type": "markdown",
   "id": "b600c484-fc76-4d47-bf2e-e7826ca1dc04",
   "metadata": {},
   "source": [
    "### Data augmentation data loaders"
   ]
  },
  {
   "cell_type": "code",
   "execution_count": 12,
   "id": "80b1cbe8-32c0-4e89-8d7c-9829ad976370",
   "metadata": {},
   "outputs": [],
   "source": [
    "aug_dataset = GCD(path_train_images, resize=256, aug_types='augmentation')\n",
    "\n",
    "augmentation_loader = torch.utils.data.DataLoader(\n",
    "        aug_dataset,\n",
    "        batch_size=config.BATCH_SIZE,\n",
    "        num_workers=4,\n",
    "        shuffle=True,\n",
    "    )"
   ]
  },
  {
   "cell_type": "markdown",
   "id": "50370396-feaa-4dd1-b253-b35d2908b364",
   "metadata": {},
   "source": [
    "---"
   ]
  },
  {
   "cell_type": "markdown",
   "id": "95707389-de47-4914-8b87-edc394cb4202",
   "metadata": {},
   "source": [
    "#### Model"
   ]
  },
  {
   "cell_type": "code",
   "execution_count": 13,
   "id": "b0757e6e-31f1-461a-a21d-496f7f98bcff",
   "metadata": {},
   "outputs": [],
   "source": [
    "from torchvision import models"
   ]
  },
  {
   "cell_type": "code",
   "execution_count": 14,
   "id": "4b3e7ae9-681e-4806-85d9-c9b37164da11",
   "metadata": {},
   "outputs": [],
   "source": [
    "torch.cuda.empty_cache()"
   ]
  },
  {
   "cell_type": "code",
   "execution_count": 15,
   "id": "afe7e632-6f51-4ae5-ab71-bae05960cf78",
   "metadata": {},
   "outputs": [
    {
     "name": "stdout",
     "output_type": "stream",
     "text": [
      "Transformer has 4 blocks\n"
     ]
    }
   ],
   "source": [
    "model = GATConvGNN(7, 1024, 2, 4, 0.7, device, adjacency_builder = BUILDER).to(device)"
   ]
  },
  {
   "cell_type": "code",
   "execution_count": 16,
   "id": "19f68d2a-96ac-4801-ba11-9614058a98ea",
   "metadata": {},
   "outputs": [],
   "source": [
    "criterion = utils.loge_loss\n",
    "optimizer  = torch.optim.SGD(model.parameters(), lr=LR, momentum=0.9)\n",
    "scheduler = lr_scheduler.StepLR(optimizer, step_size=10, gamma=0.1)"
   ]
  },
  {
   "cell_type": "markdown",
   "id": "fb50f858-36f7-41bd-8618-10642c337041",
   "metadata": {},
   "source": [
    "####  wandb"
   ]
  },
  {
   "cell_type": "code",
   "execution_count": 17,
   "id": "59ac2a40-b514-4a86-a083-4e22e8fba853",
   "metadata": {},
   "outputs": [
    {
     "data": {
      "text/html": [
       "wandb version 0.12.12 is available!  To upgrade, please run:\n",
       " $ pip install wandb --upgrade"
      ],
      "text/plain": [
       "<IPython.core.display.HTML object>"
      ]
     },
     "metadata": {},
     "output_type": "display_data"
    },
    {
     "data": {
      "text/html": [
       "Tracking run with wandb version 0.12.11"
      ],
      "text/plain": [
       "<IPython.core.display.HTML object>"
      ]
     },
     "metadata": {},
     "output_type": "display_data"
    },
    {
     "data": {
      "text/html": [
       "Run data is saved locally in <code>/home/ltorres/leo/tesis/cloud-classification/code/wandb/run-20220406_143656-1s2buwxs</code>"
      ],
      "text/plain": [
       "<IPython.core.display.HTML object>"
      ]
     },
     "metadata": {},
     "output_type": "display_data"
    },
    {
     "data": {
      "text/html": [
       "Syncing run <strong><a href=\"https://wandb.ai/leonardtd/cloud%20classification%20-%20adjacency/runs/1s2buwxs\" target=\"_blank\">5_TRANSFORMER_ENCODER_06_04_22</a></strong> to <a href=\"https://wandb.ai/leonardtd/cloud%20classification%20-%20adjacency\" target=\"_blank\">Weights & Biases</a> (<a href=\"https://wandb.me/run\" target=\"_blank\">docs</a>)<br/>"
      ],
      "text/plain": [
       "<IPython.core.display.HTML object>"
      ]
     },
     "metadata": {},
     "output_type": "display_data"
    },
    {
     "data": {
      "text/html": [
       "<button onClick=\"this.nextSibling.style.display='block';this.style.display='none';\">Display W&B run</button><iframe src=\"https://wandb.ai/leonardtd/cloud%20classification%20-%20adjacency/runs/1s2buwxs?jupyter=true\" style=\"border:none;width:100%;height:420px;display:none;\"></iframe>"
      ],
      "text/plain": [
       "<wandb.sdk.wandb_run.Run at 0x7fef20f13f70>"
      ]
     },
     "execution_count": 17,
     "metadata": {},
     "output_type": "execute_result"
    }
   ],
   "source": [
    "wandb.init(\n",
    "    # Set the project where this run will be logged\n",
    "    project=\"cloud classification - adjacency\",\n",
    "    # We pass a run name (otherwise it’ll be randomly assigned, like sunshine-lollypop-10)\n",
    "    name=exp_name, \n",
    "    # Track hyperparameters and run metadata\n",
    "    config={\n",
    "    \"learning_rate\": LR,\n",
    "    \"architecture\": \"GATConvGNN\",\n",
    "    \"loss\": \"LogeLoss\",\n",
    "    \"optim\": \"SGD\",\n",
    "    \"dataset\": \"GCD\",\n",
    "    \"builder\": f\"{builder_name}\",\n",
    "    \"epochs\": EPOCHS,\n",
    "  })"
   ]
  },
  {
   "cell_type": "markdown",
   "id": "645a8b99-0592-485b-ac50-6e66fd65d75a",
   "metadata": {},
   "source": [
    "### Train"
   ]
  },
  {
   "cell_type": "code",
   "execution_count": 18,
   "id": "52819030-77e0-4312-b0c6-b786da2fc2f8",
   "metadata": {
    "tags": []
   },
   "outputs": [
    {
     "name": "stderr",
     "output_type": "stream",
     "text": [
      "100%|██████████| 313/313 [00:57<00:00,  5.42it/s]\n",
      "100%|██████████| 313/313 [00:56<00:00,  5.56it/s]\n",
      "100%|██████████| 282/282 [00:17<00:00, 15.73it/s]\n"
     ]
    },
    {
     "name": "stdout",
     "output_type": "stream",
     "text": [
      "Saved best parameters at epoch 1\n",
      "EPOCH 1: Train acc: 66.53% Train Loss: 2.0174 Test acc: 87.26% Test Loss: 1.2445\n"
     ]
    },
    {
     "name": "stderr",
     "output_type": "stream",
     "text": [
      "100%|██████████| 313/313 [00:57<00:00,  5.42it/s]\n",
      "100%|██████████| 313/313 [00:56<00:00,  5.57it/s]\n",
      "100%|██████████| 282/282 [00:17<00:00, 15.68it/s]\n"
     ]
    },
    {
     "name": "stdout",
     "output_type": "stream",
     "text": [
      "Saved best parameters at epoch 2\n",
      "EPOCH 2: Train acc: 86.02% Train Loss: 0.8312 Test acc: 88.12% Test Loss: 1.1310\n"
     ]
    },
    {
     "name": "stderr",
     "output_type": "stream",
     "text": [
      "100%|██████████| 313/313 [00:57<00:00,  5.42it/s]\n",
      "100%|██████████| 313/313 [00:56<00:00,  5.56it/s]\n",
      "100%|██████████| 282/282 [00:18<00:00, 15.63it/s]\n"
     ]
    },
    {
     "name": "stdout",
     "output_type": "stream",
     "text": [
      "Saved best parameters at epoch 3\n",
      "EPOCH 3: Train acc: 88.46% Train Loss: 0.6849 Test acc: 94.97% Test Loss: 0.8986\n"
     ]
    },
    {
     "name": "stderr",
     "output_type": "stream",
     "text": [
      "100%|██████████| 313/313 [00:57<00:00,  5.42it/s]\n",
      "100%|██████████| 313/313 [00:56<00:00,  5.56it/s]\n",
      "100%|██████████| 282/282 [00:18<00:00, 15.58it/s]\n"
     ]
    },
    {
     "name": "stdout",
     "output_type": "stream",
     "text": [
      "EPOCH 4: Train acc: 90.06% Train Loss: 0.5783 Test acc: 88.56% Test Loss: 1.0600\n"
     ]
    },
    {
     "name": "stderr",
     "output_type": "stream",
     "text": [
      "100%|██████████| 313/313 [00:57<00:00,  5.42it/s]\n",
      "100%|██████████| 313/313 [00:56<00:00,  5.55it/s]\n",
      "100%|██████████| 282/282 [00:18<00:00, 15.59it/s]\n"
     ]
    },
    {
     "name": "stdout",
     "output_type": "stream",
     "text": [
      "EPOCH 5: Train acc: 91.81% Train Loss: 0.4840 Test acc: 92.32% Test Loss: 0.9552\n"
     ]
    },
    {
     "name": "stderr",
     "output_type": "stream",
     "text": [
      "100%|██████████| 313/313 [00:57<00:00,  5.42it/s]\n",
      "100%|██████████| 313/313 [00:56<00:00,  5.55it/s]\n",
      "100%|██████████| 282/282 [00:18<00:00, 15.66it/s]\n"
     ]
    },
    {
     "name": "stdout",
     "output_type": "stream",
     "text": [
      "EPOCH 6: Train acc: 92.86% Train Loss: 0.4212 Test acc: 94.07% Test Loss: 0.9107\n"
     ]
    },
    {
     "name": "stderr",
     "output_type": "stream",
     "text": [
      "100%|██████████| 313/313 [00:57<00:00,  5.42it/s]\n",
      "100%|██████████| 313/313 [00:56<00:00,  5.55it/s]\n",
      "100%|██████████| 282/282 [00:18<00:00, 15.66it/s]\n"
     ]
    },
    {
     "name": "stdout",
     "output_type": "stream",
     "text": [
      "EPOCH 7: Train acc: 93.91% Train Loss: 0.3589 Test acc: 90.43% Test Loss: 1.0016\n"
     ]
    },
    {
     "name": "stderr",
     "output_type": "stream",
     "text": [
      "100%|██████████| 313/313 [00:57<00:00,  5.41it/s]\n",
      "100%|██████████| 313/313 [00:56<00:00,  5.55it/s]\n",
      "100%|██████████| 282/282 [00:18<00:00, 15.62it/s]\n"
     ]
    },
    {
     "name": "stdout",
     "output_type": "stream",
     "text": [
      "EPOCH 8: Train acc: 94.44% Train Loss: 0.3234 Test acc: 90.47% Test Loss: 0.9971\n"
     ]
    },
    {
     "name": "stderr",
     "output_type": "stream",
     "text": [
      "100%|██████████| 313/313 [00:57<00:00,  5.42it/s]\n",
      "100%|██████████| 313/313 [00:56<00:00,  5.55it/s]\n",
      "100%|██████████| 282/282 [00:17<00:00, 15.68it/s]\n"
     ]
    },
    {
     "name": "stdout",
     "output_type": "stream",
     "text": [
      "EPOCH 9: Train acc: 95.39% Train Loss: 0.2761 Test acc: 88.83% Test Loss: 1.0395\n"
     ]
    },
    {
     "name": "stderr",
     "output_type": "stream",
     "text": [
      "100%|██████████| 313/313 [00:57<00:00,  5.41it/s]\n",
      "100%|██████████| 313/313 [00:56<00:00,  5.54it/s]\n",
      "100%|██████████| 282/282 [00:18<00:00, 15.65it/s]\n"
     ]
    },
    {
     "name": "stdout",
     "output_type": "stream",
     "text": [
      "EPOCH 10: Train acc: 95.82% Train Loss: 0.2536 Test acc: 88.53% Test Loss: 1.0895\n"
     ]
    },
    {
     "name": "stderr",
     "output_type": "stream",
     "text": [
      "100%|██████████| 313/313 [00:57<00:00,  5.43it/s]\n",
      "100%|██████████| 313/313 [00:56<00:00,  5.55it/s]\n",
      "100%|██████████| 282/282 [00:18<00:00, 15.66it/s]\n"
     ]
    },
    {
     "name": "stdout",
     "output_type": "stream",
     "text": [
      "EPOCH 11: Train acc: 97.38% Train Loss: 0.1686 Test acc: 88.59% Test Loss: 1.0403\n"
     ]
    },
    {
     "name": "stderr",
     "output_type": "stream",
     "text": [
      "100%|██████████| 313/313 [00:57<00:00,  5.41it/s]\n",
      "100%|██████████| 313/313 [00:55<00:00,  5.60it/s]\n",
      "100%|██████████| 282/282 [00:18<00:00, 15.64it/s]\n"
     ]
    },
    {
     "name": "stdout",
     "output_type": "stream",
     "text": [
      "EPOCH 12: Train acc: 97.97% Train Loss: 0.1330 Test acc: 88.20% Test Loss: 1.0538\n"
     ]
    },
    {
     "name": "stderr",
     "output_type": "stream",
     "text": [
      "100%|██████████| 313/313 [00:57<00:00,  5.43it/s]\n",
      "100%|██████████| 313/313 [00:55<00:00,  5.61it/s]\n",
      "100%|██████████| 282/282 [00:18<00:00, 15.55it/s]\n"
     ]
    },
    {
     "name": "stdout",
     "output_type": "stream",
     "text": [
      "EPOCH 13: Train acc: 98.04% Train Loss: 0.1247 Test acc: 88.12% Test Loss: 1.0628\n"
     ]
    },
    {
     "name": "stderr",
     "output_type": "stream",
     "text": [
      "100%|██████████| 313/313 [00:57<00:00,  5.43it/s]\n",
      "100%|██████████| 313/313 [00:55<00:00,  5.60it/s]\n",
      "100%|██████████| 282/282 [00:18<00:00, 15.62it/s]\n"
     ]
    },
    {
     "name": "stdout",
     "output_type": "stream",
     "text": [
      "EPOCH 14: Train acc: 98.43% Train Loss: 0.1075 Test acc: 88.22% Test Loss: 1.0585\n"
     ]
    },
    {
     "name": "stderr",
     "output_type": "stream",
     "text": [
      "100%|██████████| 313/313 [00:57<00:00,  5.42it/s]\n",
      "100%|██████████| 313/313 [00:55<00:00,  5.60it/s]\n",
      "100%|██████████| 282/282 [00:18<00:00, 15.62it/s]"
     ]
    },
    {
     "name": "stdout",
     "output_type": "stream",
     "text": [
      "EPOCH 15: Train acc: 98.62% Train Loss: 0.0995 Test acc: 87.89% Test Loss: 1.0690\n"
     ]
    },
    {
     "name": "stderr",
     "output_type": "stream",
     "text": [
      "\n"
     ]
    }
   ],
   "source": [
    "best_accuracy=0\n",
    "best_iteration=0\n",
    "best_params={}\n",
    "\n",
    "for e in range(EPOCHS):\n",
    "    ### TRAIN DATASET\n",
    "    preds, targets, loss = engine.train_fn(model, train_loader, criterion, optimizer, device=device)\n",
    "    train_acc = accuracy_score(targets, preds)\n",
    "    \n",
    "    ### AUGMENTATION IMAGES\n",
    "    engine.forward_backward_pass(model, augmentation_loader, criterion, optimizer, device=device)\n",
    "    \n",
    "    scheduler.step()\n",
    "    \n",
    "    test_preds, test_targets, test_loss = engine.eval_fn(model, test_loader, criterion, device=device)\n",
    "    test_acc = accuracy_score(test_targets, test_preds)\n",
    "    \n",
    "    if test_acc > best_accuracy:\n",
    "        torch.save(model.state_dict(), config.SAVE_PATH+model_filename)\n",
    "        print(f\"Saved best parameters at epoch {e+1}\")\n",
    "        best_accuracy = test_acc\n",
    "        best_iteration = e+1\n",
    "        best_params = model.state_dict()\n",
    "    \n",
    "    print(\"EPOCH {}: Train acc: {:.2%} Train Loss: {:.4f} Test acc: {:.2%} Test Loss: {:.4f}\".format(\n",
    "        e+1,\n",
    "        train_acc,\n",
    "        loss,\n",
    "        test_acc,\n",
    "        test_loss\n",
    "    ))\n",
    "    \n",
    "    metrics = {\n",
    "                \"train/train_loss\": loss,\n",
    "                \"train/train_accuracy\": train_acc,\n",
    "                \"test/test_loss\": test_loss,\n",
    "                \"test/test_accuracy\": test_acc,\n",
    "              }\n",
    "\n",
    "    wandb.log(metrics)\n"
   ]
  },
  {
   "cell_type": "code",
   "execution_count": 19,
   "id": "15f92f69-cff8-4749-8153-514e03a66c43",
   "metadata": {},
   "outputs": [
    {
     "name": "stdout",
     "output_type": "stream",
     "text": [
      "\n"
     ]
    },
    {
     "data": {
      "text/html": [
       "Waiting for W&B process to finish... <strong style=\"color:green\">(success).</strong>"
      ],
      "text/plain": [
       "<IPython.core.display.HTML object>"
      ]
     },
     "metadata": {},
     "output_type": "display_data"
    },
    {
     "data": {
      "application/vnd.jupyter.widget-view+json": {
       "model_id": "",
       "version_major": 2,
       "version_minor": 0
      },
      "text/plain": [
       "VBox(children=(Label(value='0.001 MB of 0.001 MB uploaded (0.000 MB deduped)\\r'), FloatProgress(value=1.0, max…"
      ]
     },
     "metadata": {},
     "output_type": "display_data"
    },
    {
     "data": {
      "text/html": [
       "<style>\n",
       "    table.wandb td:nth-child(1) { padding: 0 10px; text-align: right }\n",
       "    .wandb-row { display: flex; flex-direction: row; flex-wrap: wrap; width: 100% }\n",
       "    .wandb-col { display: flex; flex-direction: column; flex-basis: 100%; flex: 1; padding: 10px; }\n",
       "    </style>\n",
       "<div class=\"wandb-row\"><div class=\"wandb-col\"><h3>Run history:</h3><br/><table class=\"wandb\"><tr><td>test/test_accuracy</td><td>▁▂█▂▆▇▄▄▂▂▂▂▂▂▂</td></tr><tr><td>test/test_loss</td><td>█▆▁▄▂▁▃▃▄▅▄▄▄▄▄</td></tr><tr><td>train/train_accuracy</td><td>▁▅▆▆▇▇▇▇▇▇█████</td></tr><tr><td>train/train_loss</td><td>█▄▃▃▂▂▂▂▂▂▁▁▁▁▁</td></tr></table><br/></div><div class=\"wandb-col\"><h3>Run summary:</h3><br/><table class=\"wandb\"><tr><td>test/test_accuracy</td><td>0.87889</td></tr><tr><td>test/test_loss</td><td>1.06897</td></tr><tr><td>train/train_accuracy</td><td>0.9862</td></tr><tr><td>train/train_loss</td><td>0.09947</td></tr></table><br/></div></div>"
      ],
      "text/plain": [
       "<IPython.core.display.HTML object>"
      ]
     },
     "metadata": {},
     "output_type": "display_data"
    },
    {
     "data": {
      "text/html": [
       "Synced <strong style=\"color:#cdcd00\">5_TRANSFORMER_ENCODER_06_04_22</strong>: <a href=\"https://wandb.ai/leonardtd/cloud%20classification%20-%20adjacency/runs/1s2buwxs\" target=\"_blank\">https://wandb.ai/leonardtd/cloud%20classification%20-%20adjacency/runs/1s2buwxs</a><br/>Synced 6 W&B file(s), 0 media file(s), 0 artifact file(s) and 0 other file(s)"
      ],
      "text/plain": [
       "<IPython.core.display.HTML object>"
      ]
     },
     "metadata": {},
     "output_type": "display_data"
    },
    {
     "data": {
      "text/html": [
       "Find logs at: <code>./wandb/run-20220406_143656-1s2buwxs/logs</code>"
      ],
      "text/plain": [
       "<IPython.core.display.HTML object>"
      ]
     },
     "metadata": {},
     "output_type": "display_data"
    }
   ],
   "source": [
    "wandb.finish()"
   ]
  },
  {
   "cell_type": "code",
   "execution_count": 20,
   "id": "a95ce9c3-b973-42dd-a3c1-8e2e43aa348f",
   "metadata": {},
   "outputs": [
    {
     "data": {
      "text/plain": [
       "<All keys matched successfully>"
      ]
     },
     "execution_count": 20,
     "metadata": {},
     "output_type": "execute_result"
    }
   ],
   "source": [
    "model.load_state_dict(torch.load(config.SAVE_PATH+model_filename))"
   ]
  },
  {
   "cell_type": "code",
   "execution_count": 21,
   "id": "c49d971c-7e97-4326-b1ec-dffb96e89baa",
   "metadata": {},
   "outputs": [
    {
     "name": "stderr",
     "output_type": "stream",
     "text": [
      "100%|██████████| 282/282 [00:17<00:00, 15.77it/s]\n"
     ]
    }
   ],
   "source": [
    "test_preds, test_targets, test_loss = engine.eval_fn(model, test_loader, criterion, device=device)"
   ]
  },
  {
   "cell_type": "code",
   "execution_count": 22,
   "id": "3caf4e20-e50a-49bf-9308-71969545dc1b",
   "metadata": {},
   "outputs": [
    {
     "data": {
      "text/plain": [
       "0.9496666666666667"
      ]
     },
     "execution_count": 22,
     "metadata": {},
     "output_type": "execute_result"
    }
   ],
   "source": [
    "accuracy_score(test_targets, test_preds)"
   ]
  },
  {
   "cell_type": "markdown",
   "id": "23545e85-0d80-4361-8517-17f059952909",
   "metadata": {},
   "source": [
    "---"
   ]
  },
  {
   "cell_type": "markdown",
   "id": "abb58d00-a42c-48e2-88b4-fd4640f4c90d",
   "metadata": {},
   "source": [
    "### Accuracy per class and confusion matrix"
   ]
  },
  {
   "cell_type": "code",
   "execution_count": 23,
   "id": "eb2b3ab2-fa60-460d-b862-3f1e099d011b",
   "metadata": {},
   "outputs": [],
   "source": [
    "class_mapper = {\n",
    "    0: '1_cumulus',\n",
    "    1: '2_altocumulus',\n",
    "    2: '3_cirrus',\n",
    "    3: '4_clearsky',\n",
    "    4: '5_stratocumulus',\n",
    "    5: '6_cumulonimbus',\n",
    "    6: '7_mixed',\n",
    "}"
   ]
  },
  {
   "cell_type": "code",
   "execution_count": 24,
   "id": "27dda4e5-665b-4cf0-b6c1-0fd1be50c33e",
   "metadata": {},
   "outputs": [],
   "source": [
    "class_acc = dict()\n",
    "matrix = np.zeros((7,7), dtype=int)\n",
    "\n",
    "for i in range(7):\n",
    "    pred_index = np.where(test_targets==i)[0]\n",
    "    class_acc[class_mapper[i]] = accuracy_score(test_targets[pred_index], test_preds[pred_index])\n",
    "    \n",
    "    for j in test_preds[pred_index]:\n",
    "        matrix[i,j]+=1 "
   ]
  },
  {
   "cell_type": "code",
   "execution_count": 25,
   "id": "9c7eb947-cf08-4442-b098-86e95438bfee",
   "metadata": {},
   "outputs": [
    {
     "data": {
      "text/plain": [
       "{'1_cumulus': 0.932,\n",
       " '2_altocumulus': 0.82,\n",
       " '3_cirrus': 1.0,\n",
       " '4_clearsky': 0.9993706733794839,\n",
       " '5_stratocumulus': 0.9072625698324023,\n",
       " '6_cumulonimbus': 0.9811662441144513,\n",
       " '7_mixed': 0.9209225700164745}"
      ]
     },
     "execution_count": 25,
     "metadata": {},
     "output_type": "execute_result"
    }
   ],
   "source": [
    "class_acc"
   ]
  },
  {
   "cell_type": "code",
   "execution_count": 26,
   "id": "9e70f591-6821-40d9-aca6-b91e80ae1eb0",
   "metadata": {},
   "outputs": [
    {
     "name": "stdout",
     "output_type": "stream",
     "text": [
      "Global Test accuracy 0.9496666666666667\n"
     ]
    },
    {
     "data": {
      "text/plain": [
       "<AxesSubplot:title={'center':'Confusion Matrix (Accuracy %)'}>"
      ]
     },
     "execution_count": 26,
     "metadata": {},
     "output_type": "execute_result"
    },
    {
     "data": {
      "image/png": "[encoded data removed]",
      "text/plain": [
       "<Figure size 576x360 with 2 Axes>"
      ]
     },
     "metadata": {
      "needs_background": "light"
     },
     "output_type": "display_data"
    }
   ],
   "source": [
    "print(f\"Global Test accuracy {accuracy_score(test_targets, test_preds)}\")\n",
    "\n",
    "sum_of_rows = matrix.sum(axis=1)\n",
    "conf_mat = 100*matrix / sum_of_rows[:, np.newaxis]\n",
    "\n",
    "df_cm = pd.DataFrame(conf_mat, index = class_acc.keys(),\n",
    "                  columns = class_acc.keys())\n",
    "\n",
    "plt.figure(figsize = (8,5))\n",
    "plt.title(\"Confusion Matrix (Accuracy %)\")\n",
    "sns.heatmap(df_cm, annot=True)"
   ]
  },
  {
   "cell_type": "code",
   "execution_count": null,
   "id": "58d120b4-789f-4261-ac93-226d20b2289c",
   "metadata": {},
   "outputs": [],
   "source": []
  }
 ],
 "metadata": {
  "kernelspec": {
   "display_name": "Python 3",
   "language": "python",
   "name": "python3"
  },
  "language_info": {
   "codemirror_mode": {
    "name": "ipython",
    "version": 3
   },
   "file_extension": ".py",
   "mimetype": "text/x-python",
   "name": "python",
   "nbconvert_exporter": "python",
   "pygments_lexer": "ipython3",
   "version": "3.9.7"
  }
 },
 "nbformat": 4,
 "nbformat_minor": 5
}
