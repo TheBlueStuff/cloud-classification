{
 "cells": [
  {
   "cell_type": "code",
   "execution_count": 19,
   "id": "e77ccc5d-e07e-406a-aac0-a8ae99ffedae",
   "metadata": {},
   "outputs": [
    {
     "name": "stdout",
     "output_type": "stream",
     "text": [
      "/home/ltorres/leo/tesis/cloud-classification\n"
     ]
    }
   ],
   "source": [
    "%cd .."
   ]
  },
  {
   "cell_type": "code",
   "execution_count": 20,
   "id": "df066a8e-ed76-4b62-b9be-b3e8e3379b8b",
   "metadata": {},
   "outputs": [
    {
     "name": "stdout",
     "output_type": "stream",
     "text": [
      "The autoreload extension is already loaded. To reload it, use:\n",
      "  %reload_ext autoreload\n"
     ]
    }
   ],
   "source": [
    "%load_ext autoreload\n",
    "%autoreload 2"
   ]
  },
  {
   "cell_type": "code",
   "execution_count": 21,
   "id": "36811c7d-0c3b-4845-a702-4de962035cb9",
   "metadata": {},
   "outputs": [],
   "source": [
    "from torchvision.io import read_image\n",
    "import glob\n",
    "import os\n",
    "import math\n",
    "\n",
    "\n",
    "import numpy as np\n",
    "import pandas as pd\n",
    "import matplotlib.pyplot as plt\n",
    "import seaborn as sns\n",
    "\n",
    "from random import sample\n",
    "import torch\n",
    "import torch.nn as nn"
   ]
  },
  {
   "cell_type": "code",
   "execution_count": 22,
   "id": "a2cfa629-84c4-45ab-84ff-f8a4bdeacf75",
   "metadata": {},
   "outputs": [],
   "source": [
    "from src.dataset import GCD\n",
    "from src import config\n",
    "from src import engine_gnn as engine\n",
    "from src import utils\n",
    "from src import sweeps\n",
    "\n",
    "from src.models.graph_nets import GraphConvGNN, GATConvGNN"
   ]
  },
  {
   "cell_type": "code",
   "execution_count": 23,
   "id": "d4e1acb2-496d-45e5-9e66-92dda51e7888",
   "metadata": {},
   "outputs": [],
   "source": [
    "from sklearn.metrics import accuracy_score"
   ]
  },
  {
   "cell_type": "code",
   "execution_count": 24,
   "id": "dde03952-d051-49e5-b020-2480a8322418",
   "metadata": {},
   "outputs": [],
   "source": [
    "import wandb"
   ]
  },
  {
   "cell_type": "code",
   "execution_count": 25,
   "id": "dde3bba7-7f94-431c-a549-ad697d484bcc",
   "metadata": {},
   "outputs": [
    {
     "data": {
      "text/plain": [
       "True"
      ]
     },
     "execution_count": 25,
     "metadata": {},
     "output_type": "execute_result"
    }
   ],
   "source": [
    "wandb.login()"
   ]
  },
  {
   "cell_type": "code",
   "execution_count": 26,
   "id": "93fc98c7-f864-4fa2-b595-773aeedce8de",
   "metadata": {},
   "outputs": [],
   "source": [
    "device = config.DEVICE"
   ]
  },
  {
   "cell_type": "markdown",
   "id": "ba14ef3e-9e8e-47c4-9700-ecf8a501ab85",
   "metadata": {},
   "source": [
    "### Sweep config"
   ]
  },
  {
   "cell_type": "code",
   "execution_count": 27,
   "id": "d879aa0b-69d6-47b8-8795-8007c53d8c46",
   "metadata": {},
   "outputs": [],
   "source": [
    "sweep_config = {\n",
    "    'method': 'random'\n",
    "    }"
   ]
  },
  {
   "cell_type": "code",
   "execution_count": 28,
   "id": "e43ec934-f5b0-4f38-b467-d88e8fb2deb0",
   "metadata": {},
   "outputs": [],
   "source": [
    "metric = {\n",
    "    'name': 'test_accuracy',\n",
    "    'goal': 'maximize'   \n",
    "    }\n",
    "\n",
    "sweep_config['metric'] = metric"
   ]
  },
  {
   "cell_type": "code",
   "execution_count": 29,
   "id": "7cb3ecf1-5eaf-4f29-8e76-375f7f9e606e",
   "metadata": {},
   "outputs": [],
   "source": [
    "# parameters_dict = {\n",
    "#     'optimizer': {\n",
    "#         'values': ['adam', 'sgd', 'nadam']\n",
    "#         },\n",
    "#     'criterion': {\n",
    "#         'values': ['cross_entropy', 'loge']\n",
    "#         },\n",
    "#     'hidden_dim': {\n",
    "#         'values': [128, 256, 512, 1024]\n",
    "#         },\n",
    "#     'num_hidden': {\n",
    "#         'values': [2,3,4]\n",
    "#         },\n",
    "#     'num_heads': {\n",
    "#           'values': [1,2,4]\n",
    "#         },\n",
    "#     'similarity_threshold': {\n",
    "#           'values': [0.5, 0.6, 0.7, 0.75, 0.8, 0.9]\n",
    "#         },\n",
    "#     }\n",
    "\n",
    "# sweep_config['parameters'] = parameters_dict"
   ]
  },
  {
   "cell_type": "code",
   "execution_count": 30,
   "id": "cea09e3d-1236-4f16-850f-0082b66877f5",
   "metadata": {},
   "outputs": [],
   "source": [
    "parameters_dict = {\n",
    "    'optimizer': {\n",
    "        'values': ['sgd', 'nadam']\n",
    "        },\n",
    "    'criterion': {\n",
    "        'values': ['cross_entropy', 'loge']\n",
    "        },\n",
    "    'hidden_dim': {\n",
    "        'values': [512, 1024]\n",
    "        },\n",
    "    'num_hidden': {\n",
    "        'values': [2,3,4]\n",
    "        },\n",
    "    'num_heads': {\n",
    "          'values': [1,4]\n",
    "        },\n",
    "    'similarity_threshold': {\n",
    "          'values': [0.65, 0.7, 0.75, 0.8]\n",
    "        },\n",
    "    }\n",
    "\n",
    "sweep_config['parameters'] = parameters_dict"
   ]
  },
  {
   "cell_type": "code",
   "execution_count": 31,
   "id": "fd320388-eaef-42a6-bb44-b704bf334a92",
   "metadata": {},
   "outputs": [],
   "source": [
    "parameters_dict.update({\n",
    "    'epochs': {\n",
    "        'value': config.EPOCHS,\n",
    "        },\n",
    "    'device': {\n",
    "        'value': device,\n",
    "        },\n",
    "    'classes': {\n",
    "        'value': config.GCD_CLASSES,\n",
    "        },\n",
    "    })"
   ]
  },
  {
   "cell_type": "code",
   "execution_count": 32,
   "id": "df0dea69-e5cb-41ca-bf4a-1c8fa3082f8d",
   "metadata": {},
   "outputs": [],
   "source": [
    "parameters_dict.update({\n",
    "    'learning_rate': {\n",
    "        # a flat distribution between 0 and 0.1\n",
    "        'distribution': 'uniform',\n",
    "        'min': 5e-6,\n",
    "        'max': 3e-5\n",
    "      },\n",
    "    'batch_size': {\n",
    "        # integers between 16 and 32\n",
    "        # with evenly-distributed logarithms \n",
    "        'distribution': 'q_log_uniform',\n",
    "        'q': 1,\n",
    "        'min': math.log(16),\n",
    "        'max': math.log(36),\n",
    "      }\n",
    "    })"
   ]
  },
  {
   "cell_type": "code",
   "execution_count": 33,
   "id": "077504ab-194a-4fdc-964d-e810c9e28f6e",
   "metadata": {},
   "outputs": [
    {
     "data": {
      "text/plain": [
       "{'method': 'random',\n",
       " 'metric': {'name': 'test_accuracy', 'goal': 'maximize'},\n",
       " 'parameters': {'optimizer': {'values': ['sgd', 'nadam']},\n",
       "  'criterion': {'values': ['cross_entropy', 'loge']},\n",
       "  'hidden_dim': {'values': [512, 1024]},\n",
       "  'num_hidden': {'values': [2, 3, 4]},\n",
       "  'num_heads': {'values': [1, 4]},\n",
       "  'similarity_threshold': {'values': [0.65, 0.7, 0.75, 0.8]},\n",
       "  'epochs': {'value': 30},\n",
       "  'device': {'value': 'cuda:2'},\n",
       "  'classes': {'value': ['1_cumulus',\n",
       "    '2_altocumulus',\n",
       "    '3_cirrus',\n",
       "    '4_clearsky',\n",
       "    '5_stratocumulus',\n",
       "    '6_cumulonimbus',\n",
       "    '7_mixed']},\n",
       "  'learning_rate': {'distribution': 'uniform', 'min': 5e-06, 'max': 3e-05},\n",
       "  'batch_size': {'distribution': 'q_log_uniform',\n",
       "   'q': 1,\n",
       "   'min': 2.772588722239781,\n",
       "   'max': 3.58351893845611}}}"
      ]
     },
     "execution_count": 33,
     "metadata": {},
     "output_type": "execute_result"
    }
   ],
   "source": [
    "sweep_config"
   ]
  },
  {
   "cell_type": "code",
   "execution_count": 16,
   "id": "c0148846-9f83-47bf-9b30-fd5a4e3dd4ee",
   "metadata": {},
   "outputs": [
    {
     "name": "stdout",
     "output_type": "stream",
     "text": [
      "Create sweep with ID: bwpa1fhk\n",
      "Sweep URL: https://wandb.ai/leonardtd/cloud%20classification/sweeps/bwpa1fhk\n"
     ]
    }
   ],
   "source": [
    "sweep_id = wandb.sweep(sweep_config, project=\"cloud classification\")"
   ]
  },
  {
   "cell_type": "markdown",
   "id": "fccb424a-f8cb-4d56-a7fc-190d8e4f28eb",
   "metadata": {},
   "source": [
    "---"
   ]
  },
  {
   "cell_type": "code",
   "execution_count": 17,
   "id": "f944abcd-e322-4a2a-b387-ff9f90bdec7a",
   "metadata": {},
   "outputs": [],
   "source": [
    "def train(config=None):\n",
    "\n",
    "#Init new run\n",
    "    with wandb.init(config=config):\n",
    "\n",
    "        config = wandb.config\n",
    "        train_loader, test_loader, augmentation_loaders = utils.build_dataset_gcd(config.batch_size)\n",
    "\n",
    "        model = utils.build_model_gatconv(\n",
    "                                            7, #GCD num classes\n",
    "                                            config.hidden_dim,\n",
    "                                            config.num_hidden,\n",
    "                                            config.num_heads,\n",
    "                                            config.similarity_threshold,\n",
    "                                            config.device\n",
    "                                           )\n",
    "\n",
    "        optimizer = utils.build_optimizer(config.optimizer, model, config.learning_rate)\n",
    "        criterion = utils.build_criterion(config.criterion)\n",
    "\n",
    "        for e in range(config.epochs):\n",
    "            ### TRAIN DATASET\n",
    "                preds, targets, loss = engine.train_fn(model, \n",
    "                                       train_loader, \n",
    "                                       criterion, \n",
    "                                       optimizer, \n",
    "                                       config.device)\n",
    "                \n",
    "                train_acc = accuracy_score(targets, preds)\n",
    "\n",
    "                ### AUGMENTATION IMAGES\n",
    "                for _loader in augmentation_loaders:\n",
    "                    engine.forward_backward_pass(model, \n",
    "                                                 _loader, \n",
    "                                                 criterion, \n",
    "                                                 optimizer, \n",
    "                                                 device=config.device)\n",
    "\n",
    "                test_preds, test_targets, test_loss = engine.eval_fn(model, \n",
    "                                           test_loader, \n",
    "                                           criterion, \n",
    "                                           device=config.device)\n",
    "                test_acc = accuracy_score(test_targets, test_preds)\n",
    "\n",
    "\n",
    "                print(\"EPOCH {}: Train acc: {:.2%} Train Loss: {:.4f} Test acc: {:.2%} Test Loss: {:.4f}\".format(\n",
    "                    e+1,\n",
    "                    train_acc,\n",
    "                    loss,\n",
    "                    test_acc,\n",
    "                    test_loss\n",
    "                ))\n",
    "\n",
    "                metrics = {\n",
    "                            \"train/train_loss\": loss,\n",
    "                            \"train/train_accuracy\": train_acc,\n",
    "                            \"test/test_loss\": test_loss,\n",
    "                            \"test/test_accuracy\": test_acc,\n",
    "                          }\n",
    "\n",
    "                wandb.log(metrics)\n",
    "                wandb.log({\"test_accuracy\": test_acc, \"epoch\": e+1})\n",
    "            \n",
    "        wandb.log({\"conf_mat\" : wandb.plot.confusion_matrix(probs=None, \n",
    "                                                            preds=test_preds,\n",
    "                                                            y_true=test_targets,\n",
    "                                                            class_names=config.classes)})"
   ]
  },
  {
   "cell_type": "markdown",
   "id": "8a9c4f71-2c36-4c62-8787-fb2b576e1ee2",
   "metadata": {},
   "source": [
    "---"
   ]
  },
  {
   "cell_type": "code",
   "execution_count": null,
   "id": "2e037e0d-2af7-4f83-a310-230724a62df3",
   "metadata": {},
   "outputs": [
    {
     "name": "stderr",
     "output_type": "stream",
     "text": [
      "\u001b[34m\u001b[1mwandb\u001b[0m: Agent Starting Run: xplu2su7 with config:\n",
      "\u001b[34m\u001b[1mwandb\u001b[0m: \tbatch_size: 27\n",
      "\u001b[34m\u001b[1mwandb\u001b[0m: \tclasses: ['1_cumulus', '2_altocumulus', '3_cirrus', '4_clearsky', '5_stratocumulus', '6_cumulonimbus', '7_mixed']\n",
      "\u001b[34m\u001b[1mwandb\u001b[0m: \tcriterion: cross_entropy\n",
      "\u001b[34m\u001b[1mwandb\u001b[0m: \tdevice: cuda:2\n",
      "\u001b[34m\u001b[1mwandb\u001b[0m: \tepochs: 30\n",
      "\u001b[34m\u001b[1mwandb\u001b[0m: \thidden_dim: 512\n",
      "\u001b[34m\u001b[1mwandb\u001b[0m: \tlearning_rate: 2.8292267808489245e-05\n",
      "\u001b[34m\u001b[1mwandb\u001b[0m: \tnum_heads: 1\n",
      "\u001b[34m\u001b[1mwandb\u001b[0m: \tnum_hidden: 2\n",
      "\u001b[34m\u001b[1mwandb\u001b[0m: \toptimizer: nadam\n",
      "\u001b[34m\u001b[1mwandb\u001b[0m: \tsimilarity_threshold: 0.65\n"
     ]
    },
    {
     "data": {
      "text/html": [
       "Tracking run with wandb version 0.12.11"
      ],
      "text/plain": [
       "<IPython.core.display.HTML object>"
      ]
     },
     "metadata": {},
     "output_type": "display_data"
    },
    {
     "data": {
      "text/html": [
       "Run data is saved locally in <code>/home/ltorres/leo/tesis/cloud-classification/code/wandb/run-20220331_132034-xplu2su7</code>"
      ],
      "text/plain": [
       "<IPython.core.display.HTML object>"
      ]
     },
     "metadata": {},
     "output_type": "display_data"
    },
    {
     "data": {
      "text/html": [
       "Syncing run <strong><a href=\"https://wandb.ai/leonardtd/cloud%20classification/runs/xplu2su7\" target=\"_blank\">pretty-sweep-1</a></strong> to <a href=\"https://wandb.ai/leonardtd/cloud%20classification\" target=\"_blank\">Weights & Biases</a> (<a href=\"https://wandb.me/run\" target=\"_blank\">docs</a>)<br/>Sweep page:  <a href=\"https://wandb.ai/leonardtd/cloud%20classification/sweeps/bwpa1fhk\" target=\"_blank\">https://wandb.ai/leonardtd/cloud%20classification/sweeps/bwpa1fhk</a>"
      ],
      "text/plain": [
       "<IPython.core.display.HTML object>"
      ]
     },
     "metadata": {},
     "output_type": "display_data"
    },
    {
     "name": "stderr",
     "output_type": "stream",
     "text": [
      "100%|██████████| 371/371 [00:59<00:00,  6.20it/s]\n",
      "100%|██████████| 371/371 [00:58<00:00,  6.30it/s]\n",
      "100%|██████████| 371/371 [00:58<00:00,  6.30it/s]\n",
      "100%|██████████| 371/371 [00:58<00:00,  6.29it/s]\n",
      "100%|██████████| 371/371 [00:58<00:00,  6.31it/s]\n",
      "100%|██████████| 334/334 [00:18<00:00, 17.99it/s]\n"
     ]
    },
    {
     "name": "stdout",
     "output_type": "stream",
     "text": [
      "EPOCH 1: Train acc: 81.29% Train Loss: 1.0310 Test acc: 79.52% Test Loss: 1.4211\n"
     ]
    },
    {
     "name": "stderr",
     "output_type": "stream",
     "text": [
      "100%|██████████| 371/371 [01:00<00:00,  6.16it/s]\n",
      "100%|██████████| 371/371 [00:58<00:00,  6.29it/s]\n",
      "100%|██████████| 371/371 [00:59<00:00,  6.28it/s]\n",
      "100%|██████████| 371/371 [00:59<00:00,  6.28it/s]\n",
      "100%|██████████| 371/371 [00:58<00:00,  6.30it/s]\n",
      "100%|██████████| 334/334 [00:18<00:00, 18.17it/s]\n"
     ]
    },
    {
     "name": "stdout",
     "output_type": "stream",
     "text": [
      "EPOCH 2: Train acc: 94.27% Train Loss: 0.3038 Test acc: 73.94% Test Loss: 1.7912\n"
     ]
    },
    {
     "name": "stderr",
     "output_type": "stream",
     "text": [
      "100%|██████████| 371/371 [01:00<00:00,  6.18it/s]\n",
      "100%|██████████| 371/371 [00:59<00:00,  6.28it/s]\n",
      "100%|██████████| 371/371 [00:58<00:00,  6.29it/s]\n",
      "100%|██████████| 371/371 [00:58<00:00,  6.29it/s]\n",
      "100%|██████████| 371/371 [00:58<00:00,  6.29it/s]\n",
      "100%|██████████| 334/334 [00:18<00:00, 18.17it/s]\n"
     ]
    },
    {
     "name": "stdout",
     "output_type": "stream",
     "text": [
      "EPOCH 3: Train acc: 97.34% Train Loss: 0.1562 Test acc: 79.18% Test Loss: 1.8882\n"
     ]
    },
    {
     "name": "stderr",
     "output_type": "stream",
     "text": [
      "100%|██████████| 371/371 [01:00<00:00,  6.14it/s]\n",
      "100%|██████████| 371/371 [00:59<00:00,  6.28it/s]\n",
      "100%|██████████| 371/371 [00:58<00:00,  6.29it/s]\n",
      "100%|██████████| 371/371 [00:59<00:00,  6.28it/s]\n",
      "100%|██████████| 371/371 [00:58<00:00,  6.30it/s]\n",
      "100%|██████████| 334/334 [00:18<00:00, 18.04it/s]\n"
     ]
    },
    {
     "name": "stdout",
     "output_type": "stream",
     "text": [
      "EPOCH 4: Train acc: 98.88% Train Loss: 0.0733 Test acc: 80.34% Test Loss: 1.8030\n"
     ]
    },
    {
     "name": "stderr",
     "output_type": "stream",
     "text": [
      "100%|██████████| 371/371 [01:00<00:00,  6.16it/s]\n",
      "100%|██████████| 371/371 [00:59<00:00,  6.28it/s]\n",
      "100%|██████████| 371/371 [00:58<00:00,  6.29it/s]\n",
      "100%|██████████| 371/371 [00:59<00:00,  6.28it/s]\n",
      "100%|██████████| 371/371 [00:58<00:00,  6.30it/s]\n",
      "100%|██████████| 334/334 [00:18<00:00, 18.15it/s]\n"
     ]
    },
    {
     "name": "stdout",
     "output_type": "stream",
     "text": [
      "EPOCH 5: Train acc: 99.25% Train Loss: 0.0532 Test acc: 79.46% Test Loss: 1.7672\n"
     ]
    },
    {
     "name": "stderr",
     "output_type": "stream",
     "text": [
      "100%|██████████| 371/371 [01:00<00:00,  6.15it/s]\n",
      "100%|██████████| 371/371 [00:59<00:00,  6.28it/s]\n",
      "100%|██████████| 371/371 [00:59<00:00,  6.29it/s]\n",
      "100%|██████████| 371/371 [00:59<00:00,  6.27it/s]\n",
      "100%|██████████| 371/371 [00:58<00:00,  6.30it/s]\n",
      "100%|██████████| 334/334 [00:18<00:00, 18.03it/s]\n"
     ]
    },
    {
     "name": "stdout",
     "output_type": "stream",
     "text": [
      "EPOCH 6: Train acc: 99.61% Train Loss: 0.0364 Test acc: 76.37% Test Loss: 2.1270\n"
     ]
    },
    {
     "name": "stderr",
     "output_type": "stream",
     "text": [
      "100%|██████████| 371/371 [01:00<00:00,  6.16it/s]\n",
      "100%|██████████| 371/371 [00:58<00:00,  6.29it/s]\n",
      "100%|██████████| 371/371 [00:58<00:00,  6.29it/s]\n",
      "100%|██████████| 371/371 [00:59<00:00,  6.29it/s]\n",
      "100%|██████████| 371/371 [00:58<00:00,  6.29it/s]\n",
      "100%|██████████| 334/334 [00:18<00:00, 18.17it/s]\n"
     ]
    },
    {
     "name": "stdout",
     "output_type": "stream",
     "text": [
      "EPOCH 7: Train acc: 99.68% Train Loss: 0.0303 Test acc: 78.26% Test Loss: 2.0286\n"
     ]
    },
    {
     "name": "stderr",
     "output_type": "stream",
     "text": [
      "100%|██████████| 371/371 [01:00<00:00,  6.16it/s]\n",
      "100%|██████████| 371/371 [00:59<00:00,  6.28it/s]\n",
      "100%|██████████| 371/371 [00:59<00:00,  6.28it/s]\n",
      "100%|██████████| 371/371 [00:58<00:00,  6.29it/s]\n",
      "100%|██████████| 371/371 [00:58<00:00,  6.29it/s]\n",
      "100%|██████████| 334/334 [00:18<00:00, 18.09it/s]\n"
     ]
    },
    {
     "name": "stdout",
     "output_type": "stream",
     "text": [
      "EPOCH 8: Train acc: 99.66% Train Loss: 0.0302 Test acc: 77.60% Test Loss: 2.0348\n"
     ]
    },
    {
     "name": "stderr",
     "output_type": "stream",
     "text": [
      "100%|██████████| 371/371 [01:00<00:00,  6.15it/s]\n",
      "100%|██████████| 371/371 [00:59<00:00,  6.28it/s]\n",
      "100%|██████████| 371/371 [00:58<00:00,  6.29it/s]\n",
      "100%|██████████| 371/371 [00:59<00:00,  6.28it/s]\n",
      "100%|██████████| 371/371 [00:58<00:00,  6.30it/s]\n",
      "100%|██████████| 334/334 [00:18<00:00, 18.21it/s]\n"
     ]
    },
    {
     "name": "stdout",
     "output_type": "stream",
     "text": [
      "EPOCH 9: Train acc: 99.70% Train Loss: 0.0275 Test acc: 77.11% Test Loss: 2.2524\n"
     ]
    },
    {
     "name": "stderr",
     "output_type": "stream",
     "text": [
      "100%|██████████| 371/371 [01:00<00:00,  6.15it/s]\n",
      "100%|██████████| 371/371 [00:59<00:00,  6.27it/s]\n",
      "100%|██████████| 371/371 [00:59<00:00,  6.28it/s]\n",
      "100%|██████████| 371/371 [00:59<00:00,  6.28it/s]\n",
      "100%|██████████| 371/371 [00:59<00:00,  6.29it/s]\n",
      "100%|██████████| 334/334 [00:18<00:00, 18.21it/s]\n"
     ]
    },
    {
     "name": "stdout",
     "output_type": "stream",
     "text": [
      "EPOCH 10: Train acc: 99.81% Train Loss: 0.0189 Test acc: 78.48% Test Loss: 2.0679\n"
     ]
    },
    {
     "name": "stderr",
     "output_type": "stream",
     "text": [
      "100%|██████████| 371/371 [01:00<00:00,  6.16it/s]\n",
      "100%|██████████| 371/371 [00:59<00:00,  6.29it/s]\n",
      "100%|██████████| 371/371 [00:59<00:00,  6.28it/s]\n",
      "100%|██████████| 371/371 [00:59<00:00,  6.27it/s]\n",
      "100%|██████████| 371/371 [00:58<00:00,  6.29it/s]\n",
      "100%|██████████| 334/334 [00:18<00:00, 18.15it/s]\n"
     ]
    },
    {
     "name": "stdout",
     "output_type": "stream",
     "text": [
      "EPOCH 11: Train acc: 99.81% Train Loss: 0.0186 Test acc: 77.59% Test Loss: 2.3958\n"
     ]
    },
    {
     "name": "stderr",
     "output_type": "stream",
     "text": [
      "100%|██████████| 371/371 [01:00<00:00,  6.15it/s]\n",
      "100%|██████████| 371/371 [00:59<00:00,  6.29it/s]\n",
      "100%|██████████| 371/371 [00:59<00:00,  6.27it/s]\n",
      "100%|██████████| 371/371 [00:59<00:00,  6.28it/s]\n",
      "100%|██████████| 371/371 [00:59<00:00,  6.28it/s]\n",
      "100%|██████████| 334/334 [00:18<00:00, 18.26it/s]\n"
     ]
    },
    {
     "name": "stdout",
     "output_type": "stream",
     "text": [
      "EPOCH 12: Train acc: 99.76% Train Loss: 0.0215 Test acc: 78.89% Test Loss: 2.2037\n"
     ]
    },
    {
     "name": "stderr",
     "output_type": "stream",
     "text": [
      "100%|██████████| 371/371 [01:00<00:00,  6.15it/s]\n",
      "100%|██████████| 371/371 [00:59<00:00,  6.28it/s]\n",
      "100%|██████████| 371/371 [00:59<00:00,  6.27it/s]\n",
      "100%|██████████| 371/371 [00:59<00:00,  6.28it/s]\n",
      "100%|██████████| 371/371 [00:58<00:00,  6.30it/s]\n",
      "100%|██████████| 334/334 [00:18<00:00, 18.20it/s]\n"
     ]
    },
    {
     "name": "stdout",
     "output_type": "stream",
     "text": [
      "EPOCH 13: Train acc: 99.80% Train Loss: 0.0164 Test acc: 74.68% Test Loss: 2.2511\n"
     ]
    },
    {
     "name": "stderr",
     "output_type": "stream",
     "text": [
      "100%|██████████| 371/371 [01:00<00:00,  6.17it/s]\n",
      "100%|██████████| 371/371 [00:59<00:00,  6.28it/s]\n",
      "100%|██████████| 371/371 [00:59<00:00,  6.28it/s]\n",
      "100%|██████████| 371/371 [00:58<00:00,  6.29it/s]\n",
      "100%|██████████| 371/371 [00:59<00:00,  6.29it/s]\n",
      "100%|██████████| 334/334 [00:18<00:00, 18.18it/s]\n"
     ]
    },
    {
     "name": "stdout",
     "output_type": "stream",
     "text": [
      "EPOCH 14: Train acc: 99.81% Train Loss: 0.0164 Test acc: 77.78% Test Loss: 2.7928\n"
     ]
    },
    {
     "name": "stderr",
     "output_type": "stream",
     "text": [
      "100%|██████████| 371/371 [01:00<00:00,  6.16it/s]\n",
      "100%|██████████| 371/371 [00:58<00:00,  6.30it/s]\n",
      "100%|██████████| 371/371 [00:59<00:00,  6.28it/s]\n",
      "100%|██████████| 371/371 [00:59<00:00,  6.28it/s]\n",
      "100%|██████████| 371/371 [00:58<00:00,  6.30it/s]\n",
      "100%|██████████| 334/334 [00:18<00:00, 18.11it/s]\n"
     ]
    },
    {
     "name": "stdout",
     "output_type": "stream",
     "text": [
      "EPOCH 15: Train acc: 99.94% Train Loss: 0.0116 Test acc: 77.72% Test Loss: 2.2120\n"
     ]
    },
    {
     "name": "stderr",
     "output_type": "stream",
     "text": [
      "100%|██████████| 371/371 [01:00<00:00,  6.15it/s]\n",
      "100%|██████████| 371/371 [00:59<00:00,  6.27it/s]\n",
      "100%|██████████| 371/371 [00:59<00:00,  6.28it/s]\n",
      "100%|██████████| 371/371 [00:59<00:00,  6.28it/s]\n",
      "100%|██████████| 371/371 [00:58<00:00,  6.30it/s]\n",
      "100%|██████████| 334/334 [00:18<00:00, 18.16it/s]\n"
     ]
    },
    {
     "name": "stdout",
     "output_type": "stream",
     "text": [
      "EPOCH 16: Train acc: 99.78% Train Loss: 0.0173 Test acc: 79.18% Test Loss: 2.2704\n"
     ]
    },
    {
     "name": "stderr",
     "output_type": "stream",
     "text": [
      "100%|██████████| 371/371 [01:00<00:00,  6.16it/s]\n",
      "100%|██████████| 371/371 [00:59<00:00,  6.28it/s]\n",
      "100%|██████████| 371/371 [00:59<00:00,  6.28it/s]\n",
      "100%|██████████| 371/371 [00:59<00:00,  6.28it/s]\n",
      "100%|██████████| 371/371 [00:58<00:00,  6.29it/s]\n",
      "100%|██████████| 334/334 [00:18<00:00, 18.39it/s]\n"
     ]
    },
    {
     "name": "stdout",
     "output_type": "stream",
     "text": [
      "EPOCH 17: Train acc: 99.82% Train Loss: 0.0175 Test acc: 76.33% Test Loss: 2.6178\n"
     ]
    },
    {
     "name": "stderr",
     "output_type": "stream",
     "text": [
      "100%|██████████| 371/371 [01:00<00:00,  6.17it/s]\n",
      "100%|██████████| 371/371 [00:58<00:00,  6.29it/s]\n",
      "100%|██████████| 371/371 [00:59<00:00,  6.29it/s]\n",
      "100%|██████████| 371/371 [00:59<00:00,  6.27it/s]\n",
      "100%|██████████| 371/371 [00:59<00:00,  6.28it/s]\n",
      "100%|██████████| 334/334 [00:18<00:00, 17.98it/s]\n"
     ]
    },
    {
     "name": "stdout",
     "output_type": "stream",
     "text": [
      "EPOCH 18: Train acc: 99.79% Train Loss: 0.0154 Test acc: 79.00% Test Loss: 2.3181\n"
     ]
    },
    {
     "name": "stderr",
     "output_type": "stream",
     "text": [
      "100%|██████████| 371/371 [01:00<00:00,  6.16it/s]\n",
      "100%|██████████| 371/371 [00:59<00:00,  6.28it/s]\n",
      "100%|██████████| 371/371 [00:58<00:00,  6.29it/s]\n",
      "100%|██████████| 371/371 [00:59<00:00,  6.27it/s]\n",
      "100%|██████████| 371/371 [00:58<00:00,  6.29it/s]\n",
      "100%|██████████| 334/334 [00:18<00:00, 18.17it/s]\n"
     ]
    },
    {
     "name": "stdout",
     "output_type": "stream",
     "text": [
      "EPOCH 19: Train acc: 99.79% Train Loss: 0.0152 Test acc: 77.93% Test Loss: 2.6459\n"
     ]
    },
    {
     "name": "stderr",
     "output_type": "stream",
     "text": [
      "100%|██████████| 371/371 [01:00<00:00,  6.16it/s]\n",
      "100%|██████████| 371/371 [00:59<00:00,  6.27it/s]\n",
      "100%|██████████| 371/371 [00:59<00:00,  6.28it/s]\n",
      "100%|██████████| 371/371 [00:59<00:00,  6.28it/s]\n",
      "100%|██████████| 371/371 [00:59<00:00,  6.29it/s]\n",
      "100%|██████████| 334/334 [00:18<00:00, 18.13it/s]\n"
     ]
    },
    {
     "name": "stdout",
     "output_type": "stream",
     "text": [
      "EPOCH 20: Train acc: 99.87% Train Loss: 0.0117 Test acc: 78.58% Test Loss: 2.3965\n"
     ]
    },
    {
     "name": "stderr",
     "output_type": "stream",
     "text": [
      "100%|██████████| 371/371 [01:00<00:00,  6.16it/s]\n",
      "100%|██████████| 371/371 [00:58<00:00,  6.29it/s]\n",
      "100%|██████████| 371/371 [00:59<00:00,  6.27it/s]\n",
      "100%|██████████| 371/371 [00:58<00:00,  6.29it/s]\n",
      "100%|██████████| 371/371 [00:58<00:00,  6.29it/s]\n",
      "100%|██████████| 334/334 [00:18<00:00, 18.15it/s]\n"
     ]
    },
    {
     "name": "stdout",
     "output_type": "stream",
     "text": [
      "EPOCH 21: Train acc: 99.92% Train Loss: 0.0090 Test acc: 76.97% Test Loss: 2.4308\n"
     ]
    },
    {
     "name": "stderr",
     "output_type": "stream",
     "text": [
      "100%|██████████| 371/371 [01:00<00:00,  6.17it/s]\n",
      "100%|██████████| 371/371 [00:58<00:00,  6.29it/s]\n",
      "100%|██████████| 371/371 [00:59<00:00,  6.27it/s]\n",
      "100%|██████████| 371/371 [00:59<00:00,  6.28it/s]\n",
      "100%|██████████| 371/371 [00:58<00:00,  6.29it/s]\n",
      "100%|██████████| 334/334 [00:18<00:00, 18.00it/s]\n"
     ]
    },
    {
     "name": "stdout",
     "output_type": "stream",
     "text": [
      "EPOCH 22: Train acc: 99.92% Train Loss: 0.0102 Test acc: 79.70% Test Loss: 2.2265\n"
     ]
    },
    {
     "name": "stderr",
     "output_type": "stream",
     "text": [
      "100%|██████████| 371/371 [01:00<00:00,  6.16it/s]\n",
      "100%|██████████| 371/371 [00:59<00:00,  6.29it/s]\n",
      "100%|██████████| 371/371 [00:58<00:00,  6.29it/s]\n",
      "100%|██████████| 371/371 [00:59<00:00,  6.27it/s]\n",
      "100%|██████████| 371/371 [00:59<00:00,  6.29it/s]\n",
      "100%|██████████| 334/334 [00:18<00:00, 18.17it/s]\n"
     ]
    },
    {
     "name": "stdout",
     "output_type": "stream",
     "text": [
      "EPOCH 23: Train acc: 99.91% Train Loss: 0.0092 Test acc: 78.23% Test Loss: 2.5143\n"
     ]
    },
    {
     "name": "stderr",
     "output_type": "stream",
     "text": [
      "100%|██████████| 371/371 [01:00<00:00,  6.16it/s]\n",
      "100%|██████████| 371/371 [00:59<00:00,  6.27it/s]\n",
      "100%|██████████| 371/371 [00:59<00:00,  6.28it/s]\n",
      "100%|██████████| 371/371 [00:58<00:00,  6.29it/s]\n",
      "100%|██████████| 371/371 [00:59<00:00,  6.28it/s]\n",
      "100%|██████████| 334/334 [00:18<00:00, 18.17it/s]\n"
     ]
    },
    {
     "name": "stdout",
     "output_type": "stream",
     "text": [
      "EPOCH 24: Train acc: 99.90% Train Loss: 0.0106 Test acc: 77.79% Test Loss: 2.6161\n"
     ]
    },
    {
     "name": "stderr",
     "output_type": "stream",
     "text": [
      "100%|██████████| 371/371 [01:00<00:00,  6.16it/s]\n",
      "100%|██████████| 371/371 [00:59<00:00,  6.28it/s]\n",
      "100%|██████████| 371/371 [00:59<00:00,  6.27it/s]\n",
      "100%|██████████| 371/371 [00:58<00:00,  6.29it/s]\n",
      "100%|██████████| 371/371 [00:58<00:00,  6.29it/s]\n",
      "100%|██████████| 334/334 [00:18<00:00, 18.10it/s]\n"
     ]
    },
    {
     "name": "stdout",
     "output_type": "stream",
     "text": [
      "EPOCH 25: Train acc: 99.83% Train Loss: 0.0115 Test acc: 78.33% Test Loss: 2.2025\n"
     ]
    },
    {
     "name": "stderr",
     "output_type": "stream",
     "text": [
      "100%|██████████| 371/371 [01:00<00:00,  6.16it/s]\n",
      "100%|██████████| 371/371 [00:59<00:00,  6.28it/s]\n",
      "100%|██████████| 371/371 [00:59<00:00,  6.28it/s]\n",
      "100%|██████████| 371/371 [00:59<00:00,  6.29it/s]\n",
      "100%|██████████| 371/371 [00:58<00:00,  6.29it/s]\n",
      "100%|██████████| 334/334 [00:18<00:00, 18.16it/s]\n"
     ]
    },
    {
     "name": "stdout",
     "output_type": "stream",
     "text": [
      "EPOCH 26: Train acc: 99.82% Train Loss: 0.0154 Test acc: 77.16% Test Loss: 2.7766\n"
     ]
    },
    {
     "name": "stderr",
     "output_type": "stream",
     "text": [
      "100%|██████████| 371/371 [01:00<00:00,  6.18it/s]\n",
      "100%|██████████| 371/371 [00:59<00:00,  6.28it/s]\n",
      "100%|██████████| 371/371 [00:59<00:00,  6.28it/s]\n",
      "100%|██████████| 371/371 [00:59<00:00,  6.27it/s]\n",
      "100%|██████████| 371/371 [00:59<00:00,  6.28it/s]\n",
      "100%|██████████| 334/334 [00:18<00:00, 18.16it/s]\n"
     ]
    },
    {
     "name": "stdout",
     "output_type": "stream",
     "text": [
      "EPOCH 27: Train acc: 99.94% Train Loss: 0.0077 Test acc: 77.91% Test Loss: 2.7033\n"
     ]
    },
    {
     "name": "stderr",
     "output_type": "stream",
     "text": [
      "100%|██████████| 371/371 [01:00<00:00,  6.16it/s]\n",
      "100%|██████████| 371/371 [00:59<00:00,  6.28it/s]\n",
      "100%|██████████| 371/371 [00:59<00:00,  6.28it/s]\n",
      "100%|██████████| 371/371 [00:58<00:00,  6.29it/s]\n",
      "100%|██████████| 371/371 [00:58<00:00,  6.30it/s]\n",
      "100%|██████████| 334/334 [00:18<00:00, 18.01it/s]\n"
     ]
    },
    {
     "name": "stdout",
     "output_type": "stream",
     "text": [
      "EPOCH 28: Train acc: 99.83% Train Loss: 0.0148 Test acc: 79.33% Test Loss: 2.2635\n"
     ]
    },
    {
     "name": "stderr",
     "output_type": "stream",
     "text": [
      "100%|██████████| 371/371 [01:00<00:00,  6.18it/s]\n",
      "100%|██████████| 371/371 [00:59<00:00,  6.28it/s]\n",
      "100%|██████████| 371/371 [00:59<00:00,  6.28it/s]\n",
      "100%|██████████| 371/371 [00:59<00:00,  6.28it/s]\n",
      "100%|██████████| 371/371 [00:58<00:00,  6.29it/s]\n",
      "100%|██████████| 334/334 [00:18<00:00, 18.18it/s]\n"
     ]
    },
    {
     "name": "stdout",
     "output_type": "stream",
     "text": [
      "EPOCH 29: Train acc: 99.94% Train Loss: 0.0086 Test acc: 77.74% Test Loss: 2.7646\n"
     ]
    },
    {
     "name": "stderr",
     "output_type": "stream",
     "text": [
      "100%|██████████| 371/371 [01:00<00:00,  6.17it/s]\n",
      "100%|██████████| 371/371 [00:59<00:00,  6.29it/s]\n",
      "100%|██████████| 371/371 [00:59<00:00,  6.28it/s]\n",
      "100%|██████████| 371/371 [00:59<00:00,  6.26it/s]\n",
      "100%|██████████| 371/371 [00:58<00:00,  6.29it/s]\n",
      "100%|██████████| 334/334 [00:18<00:00, 18.02it/s]\n"
     ]
    },
    {
     "name": "stdout",
     "output_type": "stream",
     "text": [
      "EPOCH 30: Train acc: 99.89% Train Loss: 0.0082 Test acc: 78.27% Test Loss: 2.8093\n",
      "\n"
     ]
    },
    {
     "data": {
      "text/html": [
       "Waiting for W&B process to finish... <strong style=\"color:green\">(success).</strong>"
      ],
      "text/plain": [
       "<IPython.core.display.HTML object>"
      ]
     },
     "metadata": {},
     "output_type": "display_data"
    },
    {
     "data": {
      "application/vnd.jupyter.widget-view+json": {
       "model_id": "",
       "version_major": 2,
       "version_minor": 0
      },
      "text/plain": [
       "VBox(children=(Label(value='0.003 MB of 0.005 MB uploaded (0.000 MB deduped)\\r'), FloatProgress(value=0.630987…"
      ]
     },
     "metadata": {},
     "output_type": "display_data"
    },
    {
     "data": {
      "text/html": [
       "<style>\n",
       "    table.wandb td:nth-child(1) { padding: 0 10px; text-align: right }\n",
       "    .wandb-row { display: flex; flex-direction: row; flex-wrap: wrap; width: 100% }\n",
       "    .wandb-col { display: flex; flex-direction: column; flex-basis: 100%; flex: 1; padding: 10px; }\n",
       "    </style>\n",
       "<div class=\"wandb-row\"><div class=\"wandb-col\"><h3>Run history:</h3><br/><table class=\"wandb\"><tr><td>epoch</td><td>▁▁▁▂▂▂▂▃▃▃▃▄▄▄▄▅▅▅▅▆▆▆▆▇▇▇▇███</td></tr><tr><td>test/test_accuracy</td><td>▇▁▇█▇▄▆▅▄▆▅▆▂▅▅▇▄▇▅▆▄▇▆▅▆▅▅▇▅▆</td></tr><tr><td>test/test_loss</td><td>▁▃▃▃▃▅▄▄▅▄▆▅▅█▅▅▇▆▇▆▆▅▇▇▅█▇▅██</td></tr><tr><td>test_accuracy</td><td>▇▁▇█▇▄▆▅▄▆▅▆▂▅▅▇▄▇▅▆▄▇▆▅▆▅▅▇▅▆</td></tr><tr><td>train/train_accuracy</td><td>▁▆▇███████████████████████████</td></tr><tr><td>train/train_loss</td><td>█▃▂▁▁▁▁▁▁▁▁▁▁▁▁▁▁▁▁▁▁▁▁▁▁▁▁▁▁▁</td></tr></table><br/></div><div class=\"wandb-col\"><h3>Run summary:</h3><br/><table class=\"wandb\"><tr><td>epoch</td><td>30</td></tr><tr><td>test/test_accuracy</td><td>0.78267</td></tr><tr><td>test/test_loss</td><td>2.80931</td></tr><tr><td>test_accuracy</td><td>0.78267</td></tr><tr><td>train/train_accuracy</td><td>0.9989</td></tr><tr><td>train/train_loss</td><td>0.00819</td></tr></table><br/></div></div>"
      ],
      "text/plain": [
       "<IPython.core.display.HTML object>"
      ]
     },
     "metadata": {},
     "output_type": "display_data"
    },
    {
     "data": {
      "text/html": [
       "Synced <strong style=\"color:#cdcd00\">pretty-sweep-1</strong>: <a href=\"https://wandb.ai/leonardtd/cloud%20classification/runs/xplu2su7\" target=\"_blank\">https://wandb.ai/leonardtd/cloud%20classification/runs/xplu2su7</a><br/>Synced 6 W&B file(s), 1 media file(s), 1 artifact file(s) and 0 other file(s)"
      ],
      "text/plain": [
       "<IPython.core.display.HTML object>"
      ]
     },
     "metadata": {},
     "output_type": "display_data"
    },
    {
     "data": {
      "text/html": [
       "Find logs at: <code>./wandb/run-20220331_132034-xplu2su7/logs</code>"
      ],
      "text/plain": [
       "<IPython.core.display.HTML object>"
      ]
     },
     "metadata": {},
     "output_type": "display_data"
    },
    {
     "name": "stderr",
     "output_type": "stream",
     "text": [
      "\u001b[34m\u001b[1mwandb\u001b[0m: Agent Starting Run: ebm7d5sn with config:\n",
      "\u001b[34m\u001b[1mwandb\u001b[0m: \tbatch_size: 34\n",
      "\u001b[34m\u001b[1mwandb\u001b[0m: \tclasses: ['1_cumulus', '2_altocumulus', '3_cirrus', '4_clearsky', '5_stratocumulus', '6_cumulonimbus', '7_mixed']\n",
      "\u001b[34m\u001b[1mwandb\u001b[0m: \tcriterion: loge\n",
      "\u001b[34m\u001b[1mwandb\u001b[0m: \tdevice: cuda:2\n",
      "\u001b[34m\u001b[1mwandb\u001b[0m: \tepochs: 30\n",
      "\u001b[34m\u001b[1mwandb\u001b[0m: \thidden_dim: 1024\n",
      "\u001b[34m\u001b[1mwandb\u001b[0m: \tlearning_rate: 2.615394348174655e-05\n",
      "\u001b[34m\u001b[1mwandb\u001b[0m: \tnum_heads: 4\n",
      "\u001b[34m\u001b[1mwandb\u001b[0m: \tnum_hidden: 4\n",
      "\u001b[34m\u001b[1mwandb\u001b[0m: \toptimizer: nadam\n",
      "\u001b[34m\u001b[1mwandb\u001b[0m: \tsimilarity_threshold: 0.8\n"
     ]
    },
    {
     "data": {
      "text/html": [
       "Tracking run with wandb version 0.12.11"
      ],
      "text/plain": [
       "<IPython.core.display.HTML object>"
      ]
     },
     "metadata": {},
     "output_type": "display_data"
    },
    {
     "data": {
      "text/html": [
       "Run data is saved locally in <code>/home/ltorres/leo/tesis/cloud-classification/code/wandb/run-20220331_155815-ebm7d5sn</code>"
      ],
      "text/plain": [
       "<IPython.core.display.HTML object>"
      ]
     },
     "metadata": {},
     "output_type": "display_data"
    },
    {
     "data": {
      "text/html": [
       "Syncing run <strong><a href=\"https://wandb.ai/leonardtd/cloud%20classification/runs/ebm7d5sn\" target=\"_blank\">expert-sweep-2</a></strong> to <a href=\"https://wandb.ai/leonardtd/cloud%20classification\" target=\"_blank\">Weights & Biases</a> (<a href=\"https://wandb.me/run\" target=\"_blank\">docs</a>)<br/>Sweep page:  <a href=\"https://wandb.ai/leonardtd/cloud%20classification/sweeps/bwpa1fhk\" target=\"_blank\">https://wandb.ai/leonardtd/cloud%20classification/sweeps/bwpa1fhk</a>"
      ],
      "text/plain": [
       "<IPython.core.display.HTML object>"
      ]
     },
     "metadata": {},
     "output_type": "display_data"
    },
    {
     "name": "stderr",
     "output_type": "stream",
     "text": [
      "100%|██████████| 295/295 [01:02<00:00,  4.76it/s]\n",
      "100%|██████████| 295/295 [01:01<00:00,  4.82it/s]\n",
      "100%|██████████| 295/295 [01:01<00:00,  4.82it/s]\n",
      "100%|██████████| 295/295 [01:01<00:00,  4.83it/s]\n",
      "100%|██████████| 295/295 [01:01<00:00,  4.83it/s]\n",
      "100%|██████████| 265/265 [00:19<00:00, 13.94it/s]\n"
     ]
    },
    {
     "name": "stdout",
     "output_type": "stream",
     "text": [
      "EPOCH 1: Train acc: 81.77% Train Loss: 1.2784 Test acc: 78.04% Test Loss: 1.4052\n"
     ]
    },
    {
     "name": "stderr",
     "output_type": "stream",
     "text": [
      "100%|██████████| 295/295 [01:02<00:00,  4.74it/s]\n",
      "100%|██████████| 295/295 [01:01<00:00,  4.83it/s]\n",
      "100%|██████████| 295/295 [01:01<00:00,  4.82it/s]\n",
      "100%|██████████| 295/295 [01:00<00:00,  4.88it/s]\n",
      "100%|██████████| 295/295 [01:00<00:00,  4.88it/s]\n",
      "100%|██████████| 265/265 [00:18<00:00, 14.08it/s]\n"
     ]
    },
    {
     "name": "stdout",
     "output_type": "stream",
     "text": [
      "EPOCH 2: Train acc: 92.45% Train Loss: 0.4551 Test acc: 78.23% Test Loss: 1.3870\n"
     ]
    },
    {
     "name": "stderr",
     "output_type": "stream",
     "text": [
      "100%|██████████| 295/295 [01:02<00:00,  4.75it/s]\n",
      "100%|██████████| 295/295 [01:00<00:00,  4.84it/s]\n",
      "100%|██████████| 295/295 [01:00<00:00,  4.84it/s]\n",
      "100%|██████████| 295/295 [01:00<00:00,  4.84it/s]\n",
      "100%|██████████| 295/295 [01:01<00:00,  4.83it/s]\n",
      "100%|██████████| 265/265 [00:18<00:00, 14.17it/s]\n"
     ]
    },
    {
     "name": "stdout",
     "output_type": "stream",
     "text": [
      "EPOCH 3: Train acc: 95.86% Train Loss: 0.2665 Test acc: 78.90% Test Loss: 1.3436\n"
     ]
    },
    {
     "name": "stderr",
     "output_type": "stream",
     "text": [
      "100%|██████████| 295/295 [01:01<00:00,  4.76it/s]\n",
      "100%|██████████| 295/295 [01:00<00:00,  4.84it/s]\n",
      "100%|██████████| 295/295 [01:00<00:00,  4.84it/s]\n",
      "100%|██████████| 295/295 [01:01<00:00,  4.83it/s]\n",
      "100%|██████████| 295/295 [01:00<00:00,  4.85it/s]\n",
      "100%|██████████| 265/265 [00:18<00:00, 14.14it/s]\n"
     ]
    },
    {
     "name": "stdout",
     "output_type": "stream",
     "text": [
      "EPOCH 4: Train acc: 97.06% Train Loss: 0.1918 Test acc: 78.29% Test Loss: 1.3976\n"
     ]
    },
    {
     "name": "stderr",
     "output_type": "stream",
     "text": [
      "100%|██████████| 295/295 [01:01<00:00,  4.77it/s]\n",
      "100%|██████████| 295/295 [01:00<00:00,  4.84it/s]\n",
      "100%|██████████| 295/295 [01:00<00:00,  4.84it/s]\n",
      "100%|██████████| 295/295 [01:00<00:00,  4.85it/s]\n",
      "100%|██████████| 295/295 [01:00<00:00,  4.84it/s]\n",
      "100%|██████████| 265/265 [00:18<00:00, 14.23it/s]\n"
     ]
    },
    {
     "name": "stdout",
     "output_type": "stream",
     "text": [
      "EPOCH 5: Train acc: 98.28% Train Loss: 0.1156 Test acc: 77.67% Test Loss: 1.4242\n"
     ]
    },
    {
     "name": "stderr",
     "output_type": "stream",
     "text": [
      "100%|██████████| 295/295 [01:01<00:00,  4.78it/s]\n",
      "100%|██████████| 295/295 [01:00<00:00,  4.85it/s]\n",
      "100%|██████████| 295/295 [01:00<00:00,  4.85it/s]\n",
      "100%|██████████| 295/295 [01:01<00:00,  4.84it/s]\n",
      "100%|██████████| 295/295 [01:00<00:00,  4.84it/s]\n",
      "100%|██████████| 265/265 [00:18<00:00, 14.13it/s]\n"
     ]
    },
    {
     "name": "stdout",
     "output_type": "stream",
     "text": [
      "EPOCH 6: Train acc: 98.57% Train Loss: 0.0965 Test acc: 77.56% Test Loss: 1.4226\n"
     ]
    },
    {
     "name": "stderr",
     "output_type": "stream",
     "text": [
      "100%|██████████| 295/295 [01:01<00:00,  4.77it/s]\n",
      "100%|██████████| 295/295 [01:00<00:00,  4.85it/s]\n",
      "100%|██████████| 295/295 [01:00<00:00,  4.85it/s]\n",
      "100%|██████████| 295/295 [01:01<00:00,  4.83it/s]\n",
      "100%|██████████| 295/295 [01:00<00:00,  4.86it/s]\n",
      "100%|██████████| 265/265 [00:18<00:00, 14.18it/s]\n"
     ]
    },
    {
     "name": "stdout",
     "output_type": "stream",
     "text": [
      "EPOCH 7: Train acc: 98.88% Train Loss: 0.0801 Test acc: 75.80% Test Loss: 1.5191\n"
     ]
    },
    {
     "name": "stderr",
     "output_type": "stream",
     "text": [
      "100%|██████████| 295/295 [01:01<00:00,  4.78it/s]\n",
      "100%|██████████| 295/295 [01:00<00:00,  4.85it/s]\n",
      "100%|██████████| 295/295 [01:00<00:00,  4.84it/s]\n",
      "100%|██████████| 295/295 [01:00<00:00,  4.84it/s]\n",
      "100%|██████████| 295/295 [01:00<00:00,  4.86it/s]\n",
      "100%|██████████| 265/265 [00:18<00:00, 14.18it/s]\n"
     ]
    },
    {
     "name": "stdout",
     "output_type": "stream",
     "text": [
      "EPOCH 8: Train acc: 99.06% Train Loss: 0.0631 Test acc: 77.51% Test Loss: 1.4951\n"
     ]
    },
    {
     "name": "stderr",
     "output_type": "stream",
     "text": [
      "100%|██████████| 295/295 [01:01<00:00,  4.77it/s]\n",
      "100%|██████████| 295/295 [01:00<00:00,  4.84it/s]\n",
      "100%|██████████| 295/295 [01:00<00:00,  4.84it/s]\n",
      "100%|██████████| 295/295 [01:01<00:00,  4.83it/s]\n",
      "100%|██████████| 295/295 [01:00<00:00,  4.85it/s]\n",
      "100%|██████████| 265/265 [00:18<00:00, 14.23it/s]\n"
     ]
    },
    {
     "name": "stdout",
     "output_type": "stream",
     "text": [
      "EPOCH 9: Train acc: 99.23% Train Loss: 0.0549 Test acc: 77.77% Test Loss: 1.4537\n"
     ]
    },
    {
     "name": "stderr",
     "output_type": "stream",
     "text": [
      "100%|██████████| 295/295 [01:01<00:00,  4.77it/s]\n",
      "100%|██████████| 295/295 [01:00<00:00,  4.84it/s]\n",
      "100%|██████████| 295/295 [01:00<00:00,  4.85it/s]\n",
      "100%|██████████| 295/295 [01:01<00:00,  4.83it/s]\n",
      "100%|██████████| 295/295 [01:00<00:00,  4.85it/s]\n",
      "100%|██████████| 265/265 [00:18<00:00, 14.13it/s]\n"
     ]
    },
    {
     "name": "stdout",
     "output_type": "stream",
     "text": [
      "EPOCH 10: Train acc: 99.50% Train Loss: 0.0368 Test acc: 75.90% Test Loss: 1.5764\n"
     ]
    },
    {
     "name": "stderr",
     "output_type": "stream",
     "text": [
      "100%|██████████| 295/295 [01:01<00:00,  4.77it/s]\n",
      "100%|██████████| 295/295 [01:00<00:00,  4.85it/s]\n",
      "100%|██████████| 295/295 [01:00<00:00,  4.85it/s]\n",
      "100%|██████████| 295/295 [01:00<00:00,  4.84it/s]\n",
      "100%|██████████| 295/295 [01:00<00:00,  4.85it/s]\n",
      "100%|██████████| 265/265 [00:18<00:00, 14.12it/s]\n"
     ]
    },
    {
     "name": "stdout",
     "output_type": "stream",
     "text": [
      "EPOCH 11: Train acc: 99.56% Train Loss: 0.0343 Test acc: 76.56% Test Loss: 1.6390\n"
     ]
    },
    {
     "name": "stderr",
     "output_type": "stream",
     "text": [
      "100%|██████████| 295/295 [01:01<00:00,  4.77it/s]\n",
      "100%|██████████| 295/295 [01:00<00:00,  4.85it/s]\n",
      "100%|██████████| 295/295 [01:00<00:00,  4.85it/s]\n",
      "100%|██████████| 295/295 [01:00<00:00,  4.84it/s]\n",
      "100%|██████████| 295/295 [01:00<00:00,  4.84it/s]\n",
      "100%|██████████| 265/265 [00:18<00:00, 14.18it/s]\n"
     ]
    },
    {
     "name": "stdout",
     "output_type": "stream",
     "text": [
      "EPOCH 12: Train acc: 99.28% Train Loss: 0.0463 Test acc: 74.19% Test Loss: 1.6872\n"
     ]
    },
    {
     "name": "stderr",
     "output_type": "stream",
     "text": [
      "100%|██████████| 295/295 [01:01<00:00,  4.78it/s]\n",
      "100%|██████████| 295/295 [01:00<00:00,  4.86it/s]\n",
      "100%|██████████| 295/295 [01:00<00:00,  4.85it/s]\n",
      "100%|██████████| 295/295 [01:01<00:00,  4.83it/s]\n",
      "100%|██████████| 295/295 [01:00<00:00,  4.85it/s]\n",
      "100%|██████████| 265/265 [00:18<00:00, 14.15it/s]\n"
     ]
    },
    {
     "name": "stdout",
     "output_type": "stream",
     "text": [
      "EPOCH 13: Train acc: 99.63% Train Loss: 0.0260 Test acc: 77.06% Test Loss: 1.5455\n"
     ]
    },
    {
     "name": "stderr",
     "output_type": "stream",
     "text": [
      "100%|██████████| 295/295 [01:01<00:00,  4.77it/s]\n",
      "100%|██████████| 295/295 [01:00<00:00,  4.85it/s]\n",
      "100%|██████████| 295/295 [01:00<00:00,  4.85it/s]\n",
      "100%|██████████| 295/295 [01:01<00:00,  4.83it/s]\n",
      "100%|██████████| 295/295 [01:00<00:00,  4.85it/s]\n",
      "100%|██████████| 265/265 [00:18<00:00, 14.16it/s]\n"
     ]
    },
    {
     "name": "stdout",
     "output_type": "stream",
     "text": [
      "EPOCH 14: Train acc: 99.58% Train Loss: 0.0453 Test acc: 74.94% Test Loss: 1.7802\n"
     ]
    },
    {
     "name": "stderr",
     "output_type": "stream",
     "text": [
      "100%|██████████| 295/295 [01:01<00:00,  4.78it/s]\n",
      "100%|██████████| 295/295 [01:00<00:00,  4.85it/s]\n",
      "100%|██████████| 295/295 [01:01<00:00,  4.84it/s]\n",
      "100%|██████████| 295/295 [01:00<00:00,  4.84it/s]\n",
      "100%|██████████| 295/295 [01:00<00:00,  4.85it/s]\n",
      "100%|██████████| 265/265 [00:18<00:00, 14.19it/s]\n"
     ]
    },
    {
     "name": "stdout",
     "output_type": "stream",
     "text": [
      "EPOCH 15: Train acc: 99.68% Train Loss: 0.0255 Test acc: 75.70% Test Loss: 1.5918\n"
     ]
    },
    {
     "name": "stderr",
     "output_type": "stream",
     "text": [
      "100%|██████████| 295/295 [01:01<00:00,  4.78it/s]\n",
      "100%|██████████| 295/295 [01:00<00:00,  4.85it/s]\n",
      "100%|██████████| 295/295 [01:00<00:00,  4.86it/s]\n",
      "100%|██████████| 295/295 [01:01<00:00,  4.83it/s]\n",
      "100%|██████████| 295/295 [01:00<00:00,  4.85it/s]\n",
      "100%|██████████| 265/265 [00:18<00:00, 14.20it/s]\n"
     ]
    },
    {
     "name": "stdout",
     "output_type": "stream",
     "text": [
      "EPOCH 16: Train acc: 99.86% Train Loss: 0.0126 Test acc: 75.84% Test Loss: 1.5946\n"
     ]
    },
    {
     "name": "stderr",
     "output_type": "stream",
     "text": [
      "100%|██████████| 295/295 [01:02<00:00,  4.76it/s]\n",
      "100%|██████████| 295/295 [01:00<00:00,  4.85it/s]\n",
      "100%|██████████| 295/295 [01:00<00:00,  4.84it/s]\n",
      "100%|██████████| 295/295 [01:01<00:00,  4.83it/s]\n",
      "100%|██████████| 295/295 [01:00<00:00,  4.84it/s]\n",
      "100%|██████████| 265/265 [00:18<00:00, 14.08it/s]\n"
     ]
    },
    {
     "name": "stdout",
     "output_type": "stream",
     "text": [
      "EPOCH 17: Train acc: 99.77% Train Loss: 0.0179 Test acc: 76.08% Test Loss: 1.6564\n"
     ]
    },
    {
     "name": "stderr",
     "output_type": "stream",
     "text": [
      "100%|██████████| 295/295 [01:01<00:00,  4.76it/s]\n",
      "100%|██████████| 295/295 [01:00<00:00,  4.84it/s]\n",
      "100%|██████████| 295/295 [01:00<00:00,  4.84it/s]\n",
      "100%|██████████| 295/295 [01:01<00:00,  4.83it/s]\n",
      "100%|██████████| 295/295 [01:00<00:00,  4.84it/s]\n",
      "100%|██████████| 265/265 [00:18<00:00, 14.14it/s]\n"
     ]
    },
    {
     "name": "stdout",
     "output_type": "stream",
     "text": [
      "EPOCH 18: Train acc: 99.64% Train Loss: 0.0250 Test acc: 75.92% Test Loss: 1.6366\n"
     ]
    },
    {
     "name": "stderr",
     "output_type": "stream",
     "text": [
      "100%|██████████| 295/295 [01:01<00:00,  4.77it/s]\n",
      "100%|██████████| 295/295 [01:00<00:00,  4.84it/s]\n",
      "100%|██████████| 295/295 [01:00<00:00,  4.86it/s]\n",
      "100%|██████████| 295/295 [01:01<00:00,  4.83it/s]\n",
      "100%|██████████| 295/295 [01:00<00:00,  4.84it/s]\n",
      "100%|██████████| 265/265 [00:18<00:00, 14.15it/s]\n"
     ]
    },
    {
     "name": "stdout",
     "output_type": "stream",
     "text": [
      "EPOCH 19: Train acc: 99.76% Train Loss: 0.0210 Test acc: 76.42% Test Loss: 1.5980\n"
     ]
    },
    {
     "name": "stderr",
     "output_type": "stream",
     "text": [
      "100%|██████████| 295/295 [01:01<00:00,  4.77it/s]\n",
      "100%|██████████| 295/295 [01:01<00:00,  4.83it/s]\n",
      "100%|██████████| 295/295 [01:01<00:00,  4.83it/s]\n",
      "100%|██████████| 295/295 [01:00<00:00,  4.85it/s]\n",
      "100%|██████████| 295/295 [01:00<00:00,  4.84it/s]\n",
      "100%|██████████| 265/265 [00:19<00:00, 13.95it/s]\n"
     ]
    },
    {
     "name": "stdout",
     "output_type": "stream",
     "text": [
      "EPOCH 20: Train acc: 99.73% Train Loss: 0.0204 Test acc: 76.30% Test Loss: 1.5947\n"
     ]
    },
    {
     "name": "stderr",
     "output_type": "stream",
     "text": [
      "100%|██████████| 295/295 [01:01<00:00,  4.76it/s]\n",
      "100%|██████████| 295/295 [01:00<00:00,  4.84it/s]\n",
      "100%|██████████| 295/295 [01:00<00:00,  4.84it/s]\n",
      "100%|██████████| 295/295 [01:00<00:00,  4.85it/s]\n",
      "100%|██████████| 295/295 [01:01<00:00,  4.83it/s]\n",
      "100%|██████████| 265/265 [00:18<00:00, 14.10it/s]\n"
     ]
    },
    {
     "name": "stdout",
     "output_type": "stream",
     "text": [
      "EPOCH 21: Train acc: 99.84% Train Loss: 0.0134 Test acc: 76.87% Test Loss: 1.5811\n"
     ]
    },
    {
     "name": "stderr",
     "output_type": "stream",
     "text": [
      "100%|██████████| 295/295 [01:01<00:00,  4.77it/s]\n",
      "100%|██████████| 295/295 [01:01<00:00,  4.84it/s]\n",
      "100%|██████████| 295/295 [01:00<00:00,  4.84it/s]\n",
      "100%|██████████| 295/295 [01:00<00:00,  4.84it/s]\n",
      "100%|██████████| 295/295 [01:01<00:00,  4.83it/s]\n",
      "100%|██████████| 265/265 [00:18<00:00, 14.01it/s]\n"
     ]
    },
    {
     "name": "stdout",
     "output_type": "stream",
     "text": [
      "EPOCH 22: Train acc: 99.73% Train Loss: 0.0184 Test acc: 76.84% Test Loss: 1.6009\n"
     ]
    },
    {
     "name": "stderr",
     "output_type": "stream",
     "text": [
      "100%|██████████| 295/295 [01:01<00:00,  4.77it/s]\n",
      "100%|██████████| 295/295 [01:01<00:00,  4.83it/s]\n",
      "100%|██████████| 295/295 [01:01<00:00,  4.83it/s]\n",
      "100%|██████████| 295/295 [01:00<00:00,  4.84it/s]\n",
      "100%|██████████| 295/295 [01:01<00:00,  4.83it/s]\n",
      "100%|██████████| 265/265 [00:18<00:00, 14.08it/s]\n"
     ]
    },
    {
     "name": "stdout",
     "output_type": "stream",
     "text": [
      "EPOCH 23: Train acc: 99.79% Train Loss: 0.0145 Test acc: 77.09% Test Loss: 1.5759\n"
     ]
    },
    {
     "name": "stderr",
     "output_type": "stream",
     "text": [
      "100%|██████████| 295/295 [01:02<00:00,  4.75it/s]\n",
      "100%|██████████| 295/295 [01:00<00:00,  4.84it/s]\n",
      "100%|██████████| 295/295 [01:01<00:00,  4.83it/s]\n",
      "100%|██████████| 295/295 [01:00<00:00,  4.85it/s]\n",
      "100%|██████████| 295/295 [01:01<00:00,  4.83it/s]\n",
      "100%|██████████| 265/265 [00:18<00:00, 14.12it/s]\n"
     ]
    },
    {
     "name": "stdout",
     "output_type": "stream",
     "text": [
      "EPOCH 24: Train acc: 99.81% Train Loss: 0.0156 Test acc: 75.87% Test Loss: 1.6952\n"
     ]
    },
    {
     "name": "stderr",
     "output_type": "stream",
     "text": [
      "100%|██████████| 295/295 [01:01<00:00,  4.78it/s]\n",
      "100%|██████████| 295/295 [01:01<00:00,  4.83it/s]\n",
      "100%|██████████| 295/295 [01:01<00:00,  4.83it/s]\n",
      "100%|██████████| 295/295 [01:01<00:00,  4.84it/s]\n",
      "100%|██████████| 295/295 [01:00<00:00,  4.84it/s]\n",
      "100%|██████████| 265/265 [00:18<00:00, 14.00it/s]\n"
     ]
    },
    {
     "name": "stdout",
     "output_type": "stream",
     "text": [
      "EPOCH 25: Train acc: 99.58% Train Loss: 0.0307 Test acc: 78.31% Test Loss: 1.4631\n"
     ]
    },
    {
     "name": "stderr",
     "output_type": "stream",
     "text": [
      "100%|██████████| 295/295 [01:02<00:00,  4.76it/s]\n",
      "100%|██████████| 295/295 [01:01<00:00,  4.83it/s]\n",
      "100%|██████████| 295/295 [01:00<00:00,  4.84it/s]\n",
      "100%|██████████| 295/295 [01:00<00:00,  4.84it/s]\n",
      "100%|██████████| 295/295 [01:01<00:00,  4.83it/s]\n",
      "100%|██████████| 265/265 [00:18<00:00, 14.09it/s]\n"
     ]
    },
    {
     "name": "stdout",
     "output_type": "stream",
     "text": [
      "EPOCH 26: Train acc: 99.89% Train Loss: 0.0148 Test acc: 75.54% Test Loss: 1.6587\n"
     ]
    },
    {
     "name": "stderr",
     "output_type": "stream",
     "text": [
      "100%|██████████| 295/295 [01:01<00:00,  4.78it/s]\n",
      "100%|██████████| 295/295 [01:00<00:00,  4.84it/s]\n",
      "100%|██████████| 295/295 [01:01<00:00,  4.83it/s]\n",
      "100%|██████████| 295/295 [01:00<00:00,  4.85it/s]\n",
      "100%|██████████| 295/295 [01:00<00:00,  4.84it/s]\n",
      "100%|██████████| 265/265 [00:18<00:00, 14.08it/s]\n"
     ]
    },
    {
     "name": "stdout",
     "output_type": "stream",
     "text": [
      "EPOCH 27: Train acc: 99.77% Train Loss: 0.0196 Test acc: 76.98% Test Loss: 1.5427\n"
     ]
    },
    {
     "name": "stderr",
     "output_type": "stream",
     "text": [
      "100%|██████████| 295/295 [01:01<00:00,  4.77it/s]\n",
      "100%|██████████| 295/295 [01:01<00:00,  4.83it/s]\n",
      "100%|██████████| 295/295 [01:01<00:00,  4.84it/s]\n",
      "100%|██████████| 295/295 [01:00<00:00,  4.85it/s]\n",
      "100%|██████████| 295/295 [01:01<00:00,  4.82it/s]\n",
      "100%|██████████| 265/265 [00:18<00:00, 14.21it/s]\n"
     ]
    },
    {
     "name": "stdout",
     "output_type": "stream",
     "text": [
      "EPOCH 28: Train acc: 99.80% Train Loss: 0.0138 Test acc: 77.63% Test Loss: 1.4764\n"
     ]
    },
    {
     "name": "stderr",
     "output_type": "stream",
     "text": [
      "100%|██████████| 295/295 [01:02<00:00,  4.75it/s]\n",
      "100%|██████████| 295/295 [01:01<00:00,  4.83it/s]\n",
      "100%|██████████| 295/295 [01:01<00:00,  4.82it/s]\n",
      "100%|██████████| 295/295 [01:01<00:00,  4.83it/s]\n",
      "100%|██████████| 295/295 [01:01<00:00,  4.83it/s]\n",
      "100%|██████████| 265/265 [00:19<00:00, 13.93it/s]\n"
     ]
    },
    {
     "name": "stdout",
     "output_type": "stream",
     "text": [
      "EPOCH 29: Train acc: 99.77% Train Loss: 0.0172 Test acc: 78.69% Test Loss: 1.4432\n"
     ]
    },
    {
     "name": "stderr",
     "output_type": "stream",
     "text": [
      "100%|██████████| 295/295 [01:00<00:00,  4.85it/s]\n",
      "100%|██████████| 295/295 [01:00<00:00,  4.88it/s]\n",
      "100%|██████████| 295/295 [01:01<00:00,  4.83it/s]\n",
      "100%|██████████| 295/295 [01:01<00:00,  4.82it/s]\n",
      "100%|██████████| 295/295 [01:00<00:00,  4.86it/s]\n",
      "100%|██████████| 265/265 [00:18<00:00, 14.22it/s]\n"
     ]
    },
    {
     "name": "stdout",
     "output_type": "stream",
     "text": [
      "EPOCH 30: Train acc: 99.77% Train Loss: 0.0203 Test acc: 75.90% Test Loss: 1.6280\n",
      "\n"
     ]
    },
    {
     "data": {
      "text/html": [
       "Waiting for W&B process to finish... <strong style=\"color:green\">(success).</strong>"
      ],
      "text/plain": [
       "<IPython.core.display.HTML object>"
      ]
     },
     "metadata": {},
     "output_type": "display_data"
    },
    {
     "data": {
      "application/vnd.jupyter.widget-view+json": {
       "model_id": "",
       "version_major": 2,
       "version_minor": 0
      },
      "text/plain": [
       "VBox(children=(Label(value='0.003 MB of 0.005 MB uploaded (0.000 MB deduped)\\r'), FloatProgress(value=0.630987…"
      ]
     },
     "metadata": {},
     "output_type": "display_data"
    },
    {
     "data": {
      "text/html": [
       "<style>\n",
       "    table.wandb td:nth-child(1) { padding: 0 10px; text-align: right }\n",
       "    .wandb-row { display: flex; flex-direction: row; flex-wrap: wrap; width: 100% }\n",
       "    .wandb-col { display: flex; flex-direction: column; flex-basis: 100%; flex: 1; padding: 10px; }\n",
       "    </style>\n",
       "<div class=\"wandb-row\"><div class=\"wandb-col\"><h3>Run history:</h3><br/><table class=\"wandb\"><tr><td>epoch</td><td>▁▁▁▂▂▂▂▃▃▃▃▄▄▄▄▅▅▅▅▆▆▆▆▇▇▇▇███</td></tr><tr><td>test/test_accuracy</td><td>▇▇█▇▆▆▃▆▆▄▅▁▅▂▃▃▄▄▄▄▅▅▅▃▇▃▅▆█▄</td></tr><tr><td>test/test_loss</td><td>▂▂▁▂▂▂▄▃▃▅▆▇▄█▅▅▆▆▅▅▅▅▅▇▃▆▄▃▃▆</td></tr><tr><td>test_accuracy</td><td>▇▇█▇▆▆▃▆▆▄▅▁▅▂▃▃▄▄▄▄▅▅▅▃▇▃▅▆█▄</td></tr><tr><td>train/train_accuracy</td><td>▁▅▆▇▇▇████████████████████████</td></tr><tr><td>train/train_loss</td><td>█▃▂▂▂▁▁▁▁▁▁▁▁▁▁▁▁▁▁▁▁▁▁▁▁▁▁▁▁▁</td></tr></table><br/></div><div class=\"wandb-col\"><h3>Run summary:</h3><br/><table class=\"wandb\"><tr><td>epoch</td><td>30</td></tr><tr><td>test/test_accuracy</td><td>0.759</td></tr><tr><td>test/test_loss</td><td>1.62805</td></tr><tr><td>test_accuracy</td><td>0.759</td></tr><tr><td>train/train_accuracy</td><td>0.9977</td></tr><tr><td>train/train_loss</td><td>0.02031</td></tr></table><br/></div></div>"
      ],
      "text/plain": [
       "<IPython.core.display.HTML object>"
      ]
     },
     "metadata": {},
     "output_type": "display_data"
    },
    {
     "data": {
      "text/html": [
       "Synced <strong style=\"color:#cdcd00\">expert-sweep-2</strong>: <a href=\"https://wandb.ai/leonardtd/cloud%20classification/runs/ebm7d5sn\" target=\"_blank\">https://wandb.ai/leonardtd/cloud%20classification/runs/ebm7d5sn</a><br/>Synced 6 W&B file(s), 1 media file(s), 1 artifact file(s) and 0 other file(s)"
      ],
      "text/plain": [
       "<IPython.core.display.HTML object>"
      ]
     },
     "metadata": {},
     "output_type": "display_data"
    },
    {
     "data": {
      "text/html": [
       "Find logs at: <code>./wandb/run-20220331_155815-ebm7d5sn/logs</code>"
      ],
      "text/plain": [
       "<IPython.core.display.HTML object>"
      ]
     },
     "metadata": {},
     "output_type": "display_data"
    },
    {
     "name": "stderr",
     "output_type": "stream",
     "text": [
      "\u001b[34m\u001b[1mwandb\u001b[0m: Agent Starting Run: jk3kugdr with config:\n",
      "\u001b[34m\u001b[1mwandb\u001b[0m: \tbatch_size: 22\n",
      "\u001b[34m\u001b[1mwandb\u001b[0m: \tclasses: ['1_cumulus', '2_altocumulus', '3_cirrus', '4_clearsky', '5_stratocumulus', '6_cumulonimbus', '7_mixed']\n",
      "\u001b[34m\u001b[1mwandb\u001b[0m: \tcriterion: cross_entropy\n",
      "\u001b[34m\u001b[1mwandb\u001b[0m: \tdevice: cuda:2\n",
      "\u001b[34m\u001b[1mwandb\u001b[0m: \tepochs: 30\n",
      "\u001b[34m\u001b[1mwandb\u001b[0m: \thidden_dim: 512\n",
      "\u001b[34m\u001b[1mwandb\u001b[0m: \tlearning_rate: 1.5110926567456746e-05\n",
      "\u001b[34m\u001b[1mwandb\u001b[0m: \tnum_heads: 1\n",
      "\u001b[34m\u001b[1mwandb\u001b[0m: \tnum_hidden: 4\n",
      "\u001b[34m\u001b[1mwandb\u001b[0m: \toptimizer: sgd\n",
      "\u001b[34m\u001b[1mwandb\u001b[0m: \tsimilarity_threshold: 0.7\n"
     ]
    },
    {
     "data": {
      "text/html": [
       "Tracking run with wandb version 0.12.11"
      ],
      "text/plain": [
       "<IPython.core.display.HTML object>"
      ]
     },
     "metadata": {},
     "output_type": "display_data"
    },
    {
     "data": {
      "text/html": [
       "Run data is saved locally in <code>/home/ltorres/leo/tesis/cloud-classification/code/wandb/run-20220331_184040-jk3kugdr</code>"
      ],
      "text/plain": [
       "<IPython.core.display.HTML object>"
      ]
     },
     "metadata": {},
     "output_type": "display_data"
    },
    {
     "data": {
      "text/html": [
       "Syncing run <strong><a href=\"https://wandb.ai/leonardtd/cloud%20classification/runs/jk3kugdr\" target=\"_blank\">effortless-sweep-3</a></strong> to <a href=\"https://wandb.ai/leonardtd/cloud%20classification\" target=\"_blank\">Weights & Biases</a> (<a href=\"https://wandb.me/run\" target=\"_blank\">docs</a>)<br/>Sweep page:  <a href=\"https://wandb.ai/leonardtd/cloud%20classification/sweeps/bwpa1fhk\" target=\"_blank\">https://wandb.ai/leonardtd/cloud%20classification/sweeps/bwpa1fhk</a>"
      ],
      "text/plain": [
       "<IPython.core.display.HTML object>"
      ]
     },
     "metadata": {},
     "output_type": "display_data"
    },
    {
     "name": "stderr",
     "output_type": "stream",
     "text": [
      "100%|██████████| 455/455 [01:00<00:00,  7.47it/s]\n",
      "100%|██████████| 455/455 [00:58<00:00,  7.72it/s]\n",
      "100%|██████████| 455/455 [00:58<00:00,  7.71it/s]\n",
      "100%|██████████| 455/455 [00:59<00:00,  7.66it/s]\n",
      "100%|██████████| 455/455 [00:59<00:00,  7.64it/s]\n",
      "100%|██████████| 410/410 [00:19<00:00, 20.67it/s]\n"
     ]
    },
    {
     "name": "stdout",
     "output_type": "stream",
     "text": [
      "EPOCH 1: Train acc: 50.04% Train Loss: 2.9366 Test acc: 75.69% Test Loss: 1.6513\n"
     ]
    },
    {
     "name": "stderr",
     "output_type": "stream",
     "text": [
      "100%|██████████| 455/455 [01:00<00:00,  7.46it/s]\n",
      "100%|██████████| 455/455 [00:59<00:00,  7.65it/s]\n",
      "100%|██████████| 455/455 [00:59<00:00,  7.69it/s]\n",
      "100%|██████████| 455/455 [00:59<00:00,  7.66it/s]\n",
      "100%|██████████| 455/455 [00:59<00:00,  7.66it/s]\n",
      "100%|██████████| 410/410 [00:19<00:00, 20.70it/s]\n"
     ]
    },
    {
     "name": "stdout",
     "output_type": "stream",
     "text": [
      "EPOCH 2: Train acc: 77.12% Train Loss: 1.2971 Test acc: 83.59% Test Loss: 1.2527\n"
     ]
    },
    {
     "name": "stderr",
     "output_type": "stream",
     "text": [
      "100%|██████████| 455/455 [01:01<00:00,  7.45it/s]\n",
      "100%|██████████| 455/455 [00:59<00:00,  7.69it/s]\n",
      "100%|██████████| 455/455 [00:59<00:00,  7.70it/s]\n",
      "100%|██████████| 455/455 [00:59<00:00,  7.64it/s]\n",
      "100%|██████████| 455/455 [00:59<00:00,  7.65it/s]\n",
      "100%|██████████| 410/410 [00:19<00:00, 20.73it/s]\n"
     ]
    },
    {
     "name": "stdout",
     "output_type": "stream",
     "text": [
      "EPOCH 3: Train acc: 83.53% Train Loss: 0.9420 Test acc: 81.43% Test Loss: 1.2953\n"
     ]
    },
    {
     "name": "stderr",
     "output_type": "stream",
     "text": [
      "100%|██████████| 455/455 [01:00<00:00,  7.47it/s]\n",
      "100%|██████████| 455/455 [00:58<00:00,  7.72it/s]\n",
      "100%|██████████| 455/455 [00:59<00:00,  7.71it/s]\n",
      "100%|██████████| 455/455 [00:59<00:00,  7.66it/s]\n",
      "100%|██████████| 455/455 [00:59<00:00,  7.67it/s]\n",
      "100%|██████████| 410/410 [00:19<00:00, 20.71it/s]\n"
     ]
    },
    {
     "name": "stdout",
     "output_type": "stream",
     "text": [
      "EPOCH 4: Train acc: 85.10% Train Loss: 0.8327 Test acc: 82.77% Test Loss: 1.1857\n"
     ]
    },
    {
     "name": "stderr",
     "output_type": "stream",
     "text": [
      "100%|██████████| 455/455 [01:00<00:00,  7.47it/s]\n",
      "100%|██████████| 455/455 [00:59<00:00,  7.71it/s]\n",
      "100%|██████████| 455/455 [00:59<00:00,  7.65it/s]\n",
      "100%|██████████| 455/455 [00:59<00:00,  7.59it/s]\n",
      "100%|██████████| 455/455 [00:59<00:00,  7.59it/s]\n",
      "100%|██████████| 410/410 [00:19<00:00, 20.64it/s]\n"
     ]
    },
    {
     "name": "stdout",
     "output_type": "stream",
     "text": [
      "EPOCH 5: Train acc: 86.61% Train Loss: 0.7344 Test acc: 83.09% Test Loss: 1.2672\n"
     ]
    },
    {
     "name": "stderr",
     "output_type": "stream",
     "text": [
      "100%|██████████| 455/455 [01:01<00:00,  7.37it/s]\n",
      "100%|██████████| 455/455 [00:59<00:00,  7.58it/s]\n",
      "100%|██████████| 455/455 [00:59<00:00,  7.69it/s]\n",
      "100%|██████████| 455/455 [01:00<00:00,  7.58it/s]\n",
      "100%|██████████| 455/455 [01:00<00:00,  7.58it/s]\n",
      "100%|██████████| 410/410 [00:20<00:00, 20.40it/s]\n"
     ]
    },
    {
     "name": "stdout",
     "output_type": "stream",
     "text": [
      "EPOCH 6: Train acc: 87.53% Train Loss: 0.6742 Test acc: 79.10% Test Loss: 1.3659\n"
     ]
    },
    {
     "name": "stderr",
     "output_type": "stream",
     "text": [
      "100%|██████████| 455/455 [01:01<00:00,  7.34it/s]\n",
      "100%|██████████| 455/455 [01:00<00:00,  7.57it/s]\n",
      "100%|██████████| 455/455 [01:00<00:00,  7.56it/s]\n",
      "100%|██████████| 455/455 [01:00<00:00,  7.51it/s]\n",
      "100%|██████████| 455/455 [01:00<00:00,  7.51it/s]\n",
      "100%|██████████| 410/410 [00:20<00:00, 20.41it/s]\n"
     ]
    },
    {
     "name": "stdout",
     "output_type": "stream",
     "text": [
      "EPOCH 7: Train acc: 88.45% Train Loss: 0.6384 Test acc: 80.59% Test Loss: 1.2972\n"
     ]
    },
    {
     "name": "stderr",
     "output_type": "stream",
     "text": [
      "100%|██████████| 455/455 [01:02<00:00,  7.34it/s]\n",
      "100%|██████████| 455/455 [01:00<00:00,  7.55it/s]\n",
      "100%|██████████| 455/455 [01:00<00:00,  7.58it/s]\n",
      "100%|██████████| 455/455 [00:59<00:00,  7.60it/s]\n",
      "100%|██████████| 455/455 [00:59<00:00,  7.65it/s]\n",
      "100%|██████████| 410/410 [00:19<00:00, 20.79it/s]\n"
     ]
    },
    {
     "name": "stdout",
     "output_type": "stream",
     "text": [
      "EPOCH 8: Train acc: 89.09% Train Loss: 0.5968 Test acc: 81.61% Test Loss: 1.2975\n"
     ]
    },
    {
     "name": "stderr",
     "output_type": "stream",
     "text": [
      "100%|██████████| 455/455 [01:00<00:00,  7.46it/s]\n",
      "100%|██████████| 455/455 [00:58<00:00,  7.72it/s]\n",
      "100%|██████████| 455/455 [00:59<00:00,  7.64it/s]\n",
      "100%|██████████| 455/455 [00:59<00:00,  7.61it/s]\n",
      "100%|██████████| 455/455 [00:59<00:00,  7.59it/s]\n",
      "100%|██████████| 410/410 [00:20<00:00, 20.33it/s]\n"
     ]
    },
    {
     "name": "stdout",
     "output_type": "stream",
     "text": [
      "EPOCH 9: Train acc: 89.84% Train Loss: 0.5537 Test acc: 82.47% Test Loss: 1.2784\n"
     ]
    },
    {
     "name": "stderr",
     "output_type": "stream",
     "text": [
      "100%|██████████| 455/455 [01:01<00:00,  7.34it/s]\n",
      "100%|██████████| 455/455 [01:00<00:00,  7.51it/s]\n",
      "100%|██████████| 455/455 [01:00<00:00,  7.53it/s]\n",
      "100%|██████████| 455/455 [01:00<00:00,  7.51it/s]\n",
      "100%|██████████| 455/455 [01:00<00:00,  7.52it/s]\n",
      "100%|██████████| 410/410 [00:20<00:00, 20.11it/s]\n"
     ]
    },
    {
     "name": "stdout",
     "output_type": "stream",
     "text": [
      "EPOCH 10: Train acc: 90.89% Train Loss: 0.5225 Test acc: 81.83% Test Loss: 1.2712\n"
     ]
    },
    {
     "name": "stderr",
     "output_type": "stream",
     "text": [
      "100%|██████████| 455/455 [01:02<00:00,  7.34it/s]\n",
      "100%|██████████| 455/455 [01:00<00:00,  7.52it/s]\n",
      "100%|██████████| 455/455 [01:00<00:00,  7.54it/s]\n",
      "100%|██████████| 455/455 [01:00<00:00,  7.51it/s]\n",
      "100%|██████████| 455/455 [01:00<00:00,  7.51it/s]\n",
      "100%|██████████| 410/410 [00:19<00:00, 20.67it/s]\n"
     ]
    },
    {
     "name": "stdout",
     "output_type": "stream",
     "text": [
      "EPOCH 11: Train acc: 90.68% Train Loss: 0.5149 Test acc: 83.24% Test Loss: 1.1895\n"
     ]
    },
    {
     "name": "stderr",
     "output_type": "stream",
     "text": [
      "100%|██████████| 455/455 [01:01<00:00,  7.44it/s]\n",
      "100%|██████████| 455/455 [00:59<00:00,  7.70it/s]\n",
      "100%|██████████| 455/455 [00:59<00:00,  7.70it/s]\n",
      "100%|██████████| 455/455 [00:59<00:00,  7.63it/s]\n",
      "100%|██████████| 455/455 [00:59<00:00,  7.63it/s]\n",
      "100%|██████████| 410/410 [00:19<00:00, 20.73it/s]\n"
     ]
    },
    {
     "name": "stdout",
     "output_type": "stream",
     "text": [
      "EPOCH 12: Train acc: 91.90% Train Loss: 0.4634 Test acc: 83.68% Test Loss: 1.2060\n"
     ]
    },
    {
     "name": "stderr",
     "output_type": "stream",
     "text": [
      "100%|██████████| 455/455 [01:01<00:00,  7.42it/s]\n",
      "100%|██████████| 455/455 [00:59<00:00,  7.69it/s]\n",
      "100%|██████████| 455/455 [00:59<00:00,  7.68it/s]\n",
      "100%|██████████| 455/455 [00:59<00:00,  7.59it/s]\n",
      "100%|██████████| 455/455 [01:00<00:00,  7.58it/s]\n",
      "100%|██████████| 410/410 [00:19<00:00, 20.57it/s]\n"
     ]
    },
    {
     "name": "stdout",
     "output_type": "stream",
     "text": [
      "EPOCH 13: Train acc: 91.92% Train Loss: 0.4545 Test acc: 79.92% Test Loss: 1.4564\n"
     ]
    },
    {
     "name": "stderr",
     "output_type": "stream",
     "text": [
      "100%|██████████| 455/455 [01:01<00:00,  7.38it/s]\n",
      "100%|██████████| 455/455 [01:00<00:00,  7.54it/s]\n",
      "100%|██████████| 455/455 [01:00<00:00,  7.54it/s]\n",
      "100%|██████████| 455/455 [01:00<00:00,  7.54it/s]\n",
      "100%|██████████| 455/455 [01:00<00:00,  7.56it/s]\n",
      "100%|██████████| 410/410 [00:20<00:00, 20.45it/s]\n"
     ]
    },
    {
     "name": "stdout",
     "output_type": "stream",
     "text": [
      "EPOCH 14: Train acc: 92.56% Train Loss: 0.4126 Test acc: 80.89% Test Loss: 1.3412\n"
     ]
    },
    {
     "name": "stderr",
     "output_type": "stream",
     "text": [
      "100%|██████████| 455/455 [01:02<00:00,  7.33it/s]\n",
      "100%|██████████| 455/455 [01:00<00:00,  7.57it/s]\n",
      "100%|██████████| 455/455 [01:00<00:00,  7.55it/s]\n",
      "100%|██████████| 455/455 [01:00<00:00,  7.54it/s]\n",
      "100%|██████████| 455/455 [01:00<00:00,  7.55it/s]\n",
      "100%|██████████| 410/410 [00:20<00:00, 20.42it/s]\n"
     ]
    },
    {
     "name": "stdout",
     "output_type": "stream",
     "text": [
      "EPOCH 15: Train acc: 93.21% Train Loss: 0.3894 Test acc: 82.08% Test Loss: 1.3082\n"
     ]
    },
    {
     "name": "stderr",
     "output_type": "stream",
     "text": [
      "100%|██████████| 455/455 [01:02<00:00,  7.34it/s]\n",
      "100%|██████████| 455/455 [01:00<00:00,  7.54it/s]\n",
      "100%|██████████| 455/455 [01:00<00:00,  7.56it/s]\n",
      "100%|██████████| 455/455 [01:00<00:00,  7.54it/s]\n",
      "100%|██████████| 455/455 [01:00<00:00,  7.52it/s]\n",
      "100%|██████████| 410/410 [00:19<00:00, 20.58it/s]\n"
     ]
    },
    {
     "name": "stdout",
     "output_type": "stream",
     "text": [
      "EPOCH 16: Train acc: 93.46% Train Loss: 0.3657 Test acc: 82.74% Test Loss: 1.3075\n"
     ]
    },
    {
     "name": "stderr",
     "output_type": "stream",
     "text": [
      "100%|██████████| 455/455 [01:02<00:00,  7.24it/s]\n",
      "100%|██████████| 455/455 [01:00<00:00,  7.50it/s]\n",
      "100%|██████████| 455/455 [01:00<00:00,  7.52it/s]\n",
      "100%|██████████| 455/455 [01:00<00:00,  7.48it/s]\n",
      "100%|██████████| 455/455 [01:00<00:00,  7.47it/s]\n",
      "100%|██████████| 410/410 [00:19<00:00, 20.64it/s]\n"
     ]
    },
    {
     "name": "stdout",
     "output_type": "stream",
     "text": [
      "EPOCH 17: Train acc: 93.82% Train Loss: 0.3538 Test acc: 81.74% Test Loss: 1.3175\n"
     ]
    },
    {
     "name": "stderr",
     "output_type": "stream",
     "text": [
      "100%|██████████| 455/455 [01:02<00:00,  7.23it/s]\n",
      "100%|██████████| 455/455 [01:00<00:00,  7.52it/s]\n",
      "100%|██████████| 455/455 [01:00<00:00,  7.51it/s]\n",
      "100%|██████████| 455/455 [01:00<00:00,  7.48it/s]\n",
      "100%|██████████| 455/455 [01:00<00:00,  7.48it/s]\n",
      "100%|██████████| 410/410 [00:19<00:00, 20.64it/s]\n"
     ]
    },
    {
     "name": "stdout",
     "output_type": "stream",
     "text": [
      "EPOCH 18: Train acc: 93.85% Train Loss: 0.3569 Test acc: 81.34% Test Loss: 1.3539\n"
     ]
    },
    {
     "name": "stderr",
     "output_type": "stream",
     "text": [
      "100%|██████████| 455/455 [01:02<00:00,  7.23it/s]\n",
      "100%|██████████| 455/455 [01:00<00:00,  7.54it/s]\n",
      "100%|██████████| 455/455 [01:00<00:00,  7.52it/s]\n",
      "100%|██████████| 455/455 [01:00<00:00,  7.47it/s]\n",
      "100%|██████████| 455/455 [01:00<00:00,  7.50it/s]\n",
      "100%|██████████| 410/410 [00:19<00:00, 20.60it/s]\n"
     ]
    },
    {
     "name": "stdout",
     "output_type": "stream",
     "text": [
      "EPOCH 19: Train acc: 94.29% Train Loss: 0.3335 Test acc: 80.94% Test Loss: 1.4248\n"
     ]
    },
    {
     "name": "stderr",
     "output_type": "stream",
     "text": [
      "100%|██████████| 455/455 [01:02<00:00,  7.25it/s]\n",
      "100%|██████████| 455/455 [01:00<00:00,  7.53it/s]\n",
      "100%|██████████| 455/455 [01:00<00:00,  7.49it/s]\n",
      "100%|██████████| 455/455 [01:00<00:00,  7.50it/s]\n",
      "100%|██████████| 455/455 [01:00<00:00,  7.50it/s]\n",
      "100%|██████████| 410/410 [00:20<00:00, 20.46it/s]\n"
     ]
    },
    {
     "name": "stdout",
     "output_type": "stream",
     "text": [
      "EPOCH 20: Train acc: 94.57% Train Loss: 0.3107 Test acc: 80.93% Test Loss: 1.3697\n"
     ]
    },
    {
     "name": "stderr",
     "output_type": "stream",
     "text": [
      "100%|██████████| 455/455 [01:02<00:00,  7.24it/s]\n",
      "100%|██████████| 455/455 [01:00<00:00,  7.52it/s]\n",
      "100%|██████████| 455/455 [01:00<00:00,  7.51it/s]\n",
      "100%|██████████| 455/455 [01:01<00:00,  7.45it/s]\n",
      "100%|██████████| 455/455 [01:00<00:00,  7.49it/s]\n",
      "100%|██████████| 410/410 [00:20<00:00, 20.50it/s]\n"
     ]
    },
    {
     "name": "stdout",
     "output_type": "stream",
     "text": [
      "EPOCH 21: Train acc: 94.89% Train Loss: 0.2982 Test acc: 80.83% Test Loss: 1.4340\n"
     ]
    },
    {
     "name": "stderr",
     "output_type": "stream",
     "text": [
      "100%|██████████| 455/455 [01:02<00:00,  7.24it/s]\n",
      "100%|██████████| 455/455 [01:00<00:00,  7.53it/s]\n",
      "100%|██████████| 455/455 [01:00<00:00,  7.49it/s]\n",
      "100%|██████████| 455/455 [01:01<00:00,  7.45it/s]\n",
      "100%|██████████| 455/455 [01:01<00:00,  7.45it/s]\n",
      "100%|██████████| 410/410 [00:19<00:00, 20.55it/s]\n"
     ]
    },
    {
     "name": "stdout",
     "output_type": "stream",
     "text": [
      "EPOCH 22: Train acc: 95.20% Train Loss: 0.2864 Test acc: 82.54% Test Loss: 1.2897\n"
     ]
    },
    {
     "name": "stderr",
     "output_type": "stream",
     "text": [
      "100%|██████████| 455/455 [01:02<00:00,  7.24it/s]\n",
      "100%|██████████| 455/455 [01:00<00:00,  7.51it/s]\n",
      "100%|██████████| 455/455 [01:00<00:00,  7.48it/s]\n",
      "100%|██████████| 455/455 [01:00<00:00,  7.50it/s]\n",
      "100%|██████████| 455/455 [01:00<00:00,  7.47it/s]\n",
      "100%|██████████| 410/410 [00:19<00:00, 20.54it/s]\n"
     ]
    },
    {
     "name": "stdout",
     "output_type": "stream",
     "text": [
      "EPOCH 23: Train acc: 95.43% Train Loss: 0.2673 Test acc: 79.40% Test Loss: 1.5060\n"
     ]
    },
    {
     "name": "stderr",
     "output_type": "stream",
     "text": [
      "100%|██████████| 455/455 [01:02<00:00,  7.23it/s]\n",
      "100%|██████████| 455/455 [01:01<00:00,  7.46it/s]\n",
      "100%|██████████| 455/455 [01:00<00:00,  7.48it/s]\n",
      "100%|██████████| 455/455 [01:00<00:00,  7.50it/s]\n",
      "100%|██████████| 455/455 [01:00<00:00,  7.52it/s]\n",
      "100%|██████████| 410/410 [00:19<00:00, 20.54it/s]\n"
     ]
    },
    {
     "name": "stdout",
     "output_type": "stream",
     "text": [
      "EPOCH 24: Train acc: 95.82% Train Loss: 0.2548 Test acc: 80.44% Test Loss: 1.3980\n"
     ]
    },
    {
     "name": "stderr",
     "output_type": "stream",
     "text": [
      "100%|██████████| 455/455 [01:02<00:00,  7.23it/s]\n",
      "100%|██████████| 455/455 [01:00<00:00,  7.47it/s]\n",
      "100%|██████████| 455/455 [01:00<00:00,  7.47it/s]\n",
      "100%|██████████| 455/455 [01:00<00:00,  7.49it/s]\n",
      "100%|██████████| 455/455 [01:00<00:00,  7.50it/s]\n",
      "100%|██████████| 410/410 [00:19<00:00, 20.67it/s]\n"
     ]
    },
    {
     "name": "stdout",
     "output_type": "stream",
     "text": [
      "EPOCH 25: Train acc: 96.23% Train Loss: 0.2400 Test acc: 79.78% Test Loss: 1.6087\n"
     ]
    },
    {
     "name": "stderr",
     "output_type": "stream",
     "text": [
      "100%|██████████| 455/455 [01:02<00:00,  7.23it/s]\n",
      "100%|██████████| 455/455 [01:00<00:00,  7.51it/s]\n",
      "100%|██████████| 455/455 [01:00<00:00,  7.49it/s]\n",
      "100%|██████████| 455/455 [01:00<00:00,  7.50it/s]\n",
      "100%|██████████| 455/455 [01:00<00:00,  7.49it/s]\n",
      "100%|██████████| 410/410 [00:19<00:00, 20.56it/s]\n"
     ]
    },
    {
     "name": "stdout",
     "output_type": "stream",
     "text": [
      "EPOCH 26: Train acc: 96.33% Train Loss: 0.2269 Test acc: 79.49% Test Loss: 1.5929\n"
     ]
    },
    {
     "name": "stderr",
     "output_type": "stream",
     "text": [
      "100%|██████████| 455/455 [01:02<00:00,  7.23it/s]\n",
      "100%|██████████| 455/455 [01:00<00:00,  7.50it/s]\n",
      "100%|██████████| 455/455 [01:00<00:00,  7.50it/s]\n",
      "100%|██████████| 455/455 [01:00<00:00,  7.51it/s]\n",
      "100%|██████████| 455/455 [01:00<00:00,  7.46it/s]\n",
      "100%|██████████| 410/410 [00:19<00:00, 20.65it/s]\n"
     ]
    },
    {
     "name": "stdout",
     "output_type": "stream",
     "text": [
      "EPOCH 27: Train acc: 96.70% Train Loss: 0.2111 Test acc: 79.41% Test Loss: 1.6272\n"
     ]
    },
    {
     "name": "stderr",
     "output_type": "stream",
     "text": [
      "100%|██████████| 455/455 [01:02<00:00,  7.24it/s]\n",
      "100%|██████████| 455/455 [01:00<00:00,  7.52it/s]\n",
      "100%|██████████| 455/455 [01:00<00:00,  7.46it/s]\n",
      "100%|██████████| 455/455 [01:00<00:00,  7.48it/s]\n",
      "100%|██████████| 455/455 [01:00<00:00,  7.48it/s]\n",
      "100%|██████████| 410/410 [00:19<00:00, 20.53it/s]\n"
     ]
    },
    {
     "name": "stdout",
     "output_type": "stream",
     "text": [
      "EPOCH 28: Train acc: 96.95% Train Loss: 0.1930 Test acc: 81.18% Test Loss: 1.4483\n"
     ]
    },
    {
     "name": "stderr",
     "output_type": "stream",
     "text": [
      "100%|██████████| 455/455 [01:02<00:00,  7.24it/s]\n",
      "100%|██████████| 455/455 [01:00<00:00,  7.48it/s]\n",
      "100%|██████████| 455/455 [01:00<00:00,  7.52it/s]\n",
      "100%|██████████| 455/455 [01:00<00:00,  7.51it/s]\n",
      "100%|██████████| 455/455 [01:00<00:00,  7.47it/s]\n",
      "100%|██████████| 410/410 [00:19<00:00, 20.51it/s]\n"
     ]
    },
    {
     "name": "stdout",
     "output_type": "stream",
     "text": [
      "EPOCH 29: Train acc: 97.08% Train Loss: 0.1868 Test acc: 78.91% Test Loss: 1.7271\n"
     ]
    },
    {
     "name": "stderr",
     "output_type": "stream",
     "text": [
      "100%|██████████| 455/455 [01:02<00:00,  7.23it/s]\n",
      "100%|██████████| 455/455 [01:00<00:00,  7.51it/s]\n",
      "100%|██████████| 455/455 [01:00<00:00,  7.51it/s]\n",
      "100%|██████████| 455/455 [01:00<00:00,  7.49it/s]\n",
      "100%|██████████| 455/455 [01:00<00:00,  7.49it/s]\n",
      "100%|██████████| 410/410 [00:19<00:00, 20.56it/s]\n"
     ]
    },
    {
     "name": "stdout",
     "output_type": "stream",
     "text": [
      "EPOCH 30: Train acc: 97.43% Train Loss: 0.1722 Test acc: 79.58% Test Loss: 1.6030\n",
      "\n"
     ]
    },
    {
     "data": {
      "text/html": [
       "Waiting for W&B process to finish... <strong style=\"color:green\">(success).</strong>"
      ],
      "text/plain": [
       "<IPython.core.display.HTML object>"
      ]
     },
     "metadata": {},
     "output_type": "display_data"
    },
    {
     "data": {
      "application/vnd.jupyter.widget-view+json": {
       "model_id": "",
       "version_major": 2,
       "version_minor": 0
      },
      "text/plain": [
       "VBox(children=(Label(value='0.003 MB of 0.005 MB uploaded (0.000 MB deduped)\\r'), FloatProgress(value=0.631241…"
      ]
     },
     "metadata": {},
     "output_type": "display_data"
    },
    {
     "data": {
      "text/html": [
       "<style>\n",
       "    table.wandb td:nth-child(1) { padding: 0 10px; text-align: right }\n",
       "    .wandb-row { display: flex; flex-direction: row; flex-wrap: wrap; width: 100% }\n",
       "    .wandb-col { display: flex; flex-direction: column; flex-basis: 100%; flex: 1; padding: 10px; }\n",
       "    </style>\n",
       "<div class=\"wandb-row\"><div class=\"wandb-col\"><h3>Run history:</h3><br/><table class=\"wandb\"><tr><td>epoch</td><td>▁▁▁▂▂▂▂▃▃▃▃▄▄▄▄▅▅▅▅▆▆▆▆▇▇▇▇███</td></tr><tr><td>test/test_accuracy</td><td>▁█▆▇▇▄▅▆▇▆██▅▆▇▇▆▆▆▆▆▇▄▅▅▄▄▆▄▄</td></tr><tr><td>test/test_loss</td><td>▇▂▂▁▂▃▂▂▂▂▁▁▄▃▃▃▃▃▄▃▄▂▅▄▆▆▇▄█▆</td></tr><tr><td>test_accuracy</td><td>▁█▆▇▇▄▅▆▇▆██▅▆▇▇▆▆▆▆▆▇▄▅▅▄▄▆▄▄</td></tr><tr><td>train/train_accuracy</td><td>▁▅▆▆▆▇▇▇▇▇▇▇▇▇▇▇▇▇████████████</td></tr><tr><td>train/train_loss</td><td>█▄▃▃▂▂▂▂▂▂▂▂▂▂▂▁▁▁▁▁▁▁▁▁▁▁▁▁▁▁</td></tr></table><br/></div><div class=\"wandb-col\"><h3>Run summary:</h3><br/><table class=\"wandb\"><tr><td>epoch</td><td>30</td></tr><tr><td>test/test_accuracy</td><td>0.79578</td></tr><tr><td>test/test_loss</td><td>1.60297</td></tr><tr><td>test_accuracy</td><td>0.79578</td></tr><tr><td>train/train_accuracy</td><td>0.9743</td></tr><tr><td>train/train_loss</td><td>0.17222</td></tr></table><br/></div></div>"
      ],
      "text/plain": [
       "<IPython.core.display.HTML object>"
      ]
     },
     "metadata": {},
     "output_type": "display_data"
    },
    {
     "data": {
      "text/html": [
       "Synced <strong style=\"color:#cdcd00\">effortless-sweep-3</strong>: <a href=\"https://wandb.ai/leonardtd/cloud%20classification/runs/jk3kugdr\" target=\"_blank\">https://wandb.ai/leonardtd/cloud%20classification/runs/jk3kugdr</a><br/>Synced 6 W&B file(s), 1 media file(s), 1 artifact file(s) and 0 other file(s)"
      ],
      "text/plain": [
       "<IPython.core.display.HTML object>"
      ]
     },
     "metadata": {},
     "output_type": "display_data"
    },
    {
     "data": {
      "text/html": [
       "Find logs at: <code>./wandb/run-20220331_184040-jk3kugdr/logs</code>"
      ],
      "text/plain": [
       "<IPython.core.display.HTML object>"
      ]
     },
     "metadata": {},
     "output_type": "display_data"
    },
    {
     "name": "stderr",
     "output_type": "stream",
     "text": [
      "\u001b[34m\u001b[1mwandb\u001b[0m: Agent Starting Run: gemj7hwo with config:\n",
      "\u001b[34m\u001b[1mwandb\u001b[0m: \tbatch_size: 24\n",
      "\u001b[34m\u001b[1mwandb\u001b[0m: \tclasses: ['1_cumulus', '2_altocumulus', '3_cirrus', '4_clearsky', '5_stratocumulus', '6_cumulonimbus', '7_mixed']\n",
      "\u001b[34m\u001b[1mwandb\u001b[0m: \tcriterion: loge\n",
      "\u001b[34m\u001b[1mwandb\u001b[0m: \tdevice: cuda:2\n",
      "\u001b[34m\u001b[1mwandb\u001b[0m: \tepochs: 30\n",
      "\u001b[34m\u001b[1mwandb\u001b[0m: \thidden_dim: 512\n",
      "\u001b[34m\u001b[1mwandb\u001b[0m: \tlearning_rate: 2.626768646965135e-05\n",
      "\u001b[34m\u001b[1mwandb\u001b[0m: \tnum_heads: 4\n",
      "\u001b[34m\u001b[1mwandb\u001b[0m: \tnum_hidden: 4\n",
      "\u001b[34m\u001b[1mwandb\u001b[0m: \toptimizer: nadam\n",
      "\u001b[34m\u001b[1mwandb\u001b[0m: \tsimilarity_threshold: 0.75\n"
     ]
    },
    {
     "data": {
      "text/html": [
       "Tracking run with wandb version 0.12.11"
      ],
      "text/plain": [
       "<IPython.core.display.HTML object>"
      ]
     },
     "metadata": {},
     "output_type": "display_data"
    },
    {
     "data": {
      "text/html": [
       "Run data is saved locally in <code>/home/ltorres/leo/tesis/cloud-classification/code/wandb/run-20220331_212231-gemj7hwo</code>"
      ],
      "text/plain": [
       "<IPython.core.display.HTML object>"
      ]
     },
     "metadata": {},
     "output_type": "display_data"
    },
    {
     "data": {
      "text/html": [
       "Syncing run <strong><a href=\"https://wandb.ai/leonardtd/cloud%20classification/runs/gemj7hwo\" target=\"_blank\">efficient-sweep-4</a></strong> to <a href=\"https://wandb.ai/leonardtd/cloud%20classification\" target=\"_blank\">Weights & Biases</a> (<a href=\"https://wandb.me/run\" target=\"_blank\">docs</a>)<br/>Sweep page:  <a href=\"https://wandb.ai/leonardtd/cloud%20classification/sweeps/bwpa1fhk\" target=\"_blank\">https://wandb.ai/leonardtd/cloud%20classification/sweeps/bwpa1fhk</a>"
      ],
      "text/plain": [
       "<IPython.core.display.HTML object>"
      ]
     },
     "metadata": {},
     "output_type": "display_data"
    },
    {
     "name": "stderr",
     "output_type": "stream",
     "text": [
      "100%|██████████| 417/417 [01:03<00:00,  6.60it/s]\n",
      "100%|██████████| 417/417 [01:01<00:00,  6.77it/s]\n",
      "100%|██████████| 417/417 [01:01<00:00,  6.77it/s]\n",
      "100%|██████████| 417/417 [01:01<00:00,  6.73it/s]\n",
      "100%|██████████| 417/417 [01:01<00:00,  6.76it/s]\n",
      "100%|██████████| 375/375 [00:19<00:00, 19.25it/s]\n"
     ]
    },
    {
     "name": "stdout",
     "output_type": "stream",
     "text": [
      "EPOCH 1: Train acc: 80.43% Train Loss: 1.2807 Test acc: 80.96% Test Loss: 1.2648\n"
     ]
    },
    {
     "name": "stderr",
     "output_type": "stream",
     "text": [
      "100%|██████████| 417/417 [01:03<00:00,  6.60it/s]\n",
      "100%|██████████| 417/417 [01:01<00:00,  6.73it/s]\n",
      "100%|██████████| 417/417 [01:01<00:00,  6.74it/s]\n",
      "100%|██████████| 417/417 [01:01<00:00,  6.74it/s]\n",
      "100%|██████████| 417/417 [01:01<00:00,  6.75it/s]\n",
      "100%|██████████| 375/375 [00:19<00:00, 19.10it/s]\n"
     ]
    },
    {
     "name": "stdout",
     "output_type": "stream",
     "text": [
      "EPOCH 2: Train acc: 92.24% Train Loss: 0.4636 Test acc: 80.31% Test Loss: 1.2938\n"
     ]
    },
    {
     "name": "stderr",
     "output_type": "stream",
     "text": [
      "100%|██████████| 417/417 [01:02<00:00,  6.62it/s]\n",
      "100%|██████████| 417/417 [01:01<00:00,  6.74it/s]\n",
      "100%|██████████| 417/417 [01:01<00:00,  6.74it/s]\n",
      "100%|██████████| 417/417 [01:01<00:00,  6.73it/s]\n",
      "100%|██████████| 417/417 [01:01<00:00,  6.74it/s]\n",
      "100%|██████████| 375/375 [00:19<00:00, 19.43it/s]\n"
     ]
    },
    {
     "name": "stdout",
     "output_type": "stream",
     "text": [
      "EPOCH 3: Train acc: 95.96% Train Loss: 0.2563 Test acc: 79.88% Test Loss: 1.3175\n"
     ]
    },
    {
     "name": "stderr",
     "output_type": "stream",
     "text": [
      "100%|██████████| 417/417 [01:03<00:00,  6.60it/s]\n",
      "100%|██████████| 417/417 [01:01<00:00,  6.75it/s]\n",
      "100%|██████████| 417/417 [01:01<00:00,  6.73it/s]\n",
      "100%|██████████| 417/417 [01:02<00:00,  6.71it/s]\n",
      "100%|██████████| 417/417 [01:02<00:00,  6.72it/s]\n",
      "100%|██████████| 375/375 [00:19<00:00, 19.35it/s]\n"
     ]
    },
    {
     "name": "stdout",
     "output_type": "stream",
     "text": [
      "EPOCH 4: Train acc: 97.60% Train Loss: 0.1514 Test acc: 82.34% Test Loss: 1.2669\n"
     ]
    },
    {
     "name": "stderr",
     "output_type": "stream",
     "text": [
      "100%|██████████| 417/417 [01:03<00:00,  6.59it/s]\n",
      "100%|██████████| 417/417 [01:01<00:00,  6.73it/s]\n",
      "100%|██████████| 417/417 [01:02<00:00,  6.72it/s]\n",
      "100%|██████████| 417/417 [01:02<00:00,  6.72it/s]\n",
      "100%|██████████| 417/417 [01:01<00:00,  6.75it/s]\n",
      "100%|██████████| 375/375 [00:19<00:00, 19.34it/s]\n"
     ]
    },
    {
     "name": "stdout",
     "output_type": "stream",
     "text": [
      "EPOCH 5: Train acc: 98.50% Train Loss: 0.0966 Test acc: 79.27% Test Loss: 1.3798\n"
     ]
    },
    {
     "name": "stderr",
     "output_type": "stream",
     "text": [
      "100%|██████████| 417/417 [01:03<00:00,  6.61it/s]\n",
      "100%|██████████| 417/417 [01:01<00:00,  6.73it/s]\n",
      "100%|██████████| 417/417 [01:01<00:00,  6.74it/s]\n",
      "100%|██████████| 417/417 [01:02<00:00,  6.72it/s]\n",
      "100%|██████████| 417/417 [01:01<00:00,  6.76it/s]\n",
      "100%|██████████| 375/375 [00:19<00:00, 19.27it/s]\n"
     ]
    },
    {
     "name": "stdout",
     "output_type": "stream",
     "text": [
      "EPOCH 6: Train acc: 98.90% Train Loss: 0.0773 Test acc: 78.03% Test Loss: 1.4319\n"
     ]
    },
    {
     "name": "stderr",
     "output_type": "stream",
     "text": [
      "100%|██████████| 417/417 [01:03<00:00,  6.59it/s]\n",
      "100%|██████████| 417/417 [01:02<00:00,  6.73it/s]\n",
      "100%|██████████| 417/417 [01:02<00:00,  6.72it/s]\n",
      "100%|██████████| 417/417 [01:01<00:00,  6.74it/s]\n",
      "100%|██████████| 417/417 [01:01<00:00,  6.76it/s]\n",
      "100%|██████████| 375/375 [00:19<00:00, 19.37it/s]\n"
     ]
    },
    {
     "name": "stdout",
     "output_type": "stream",
     "text": [
      "EPOCH 7: Train acc: 99.26% Train Loss: 0.0517 Test acc: 79.23% Test Loss: 1.4325\n"
     ]
    },
    {
     "name": "stderr",
     "output_type": "stream",
     "text": [
      "100%|██████████| 417/417 [01:03<00:00,  6.59it/s]\n",
      "100%|██████████| 417/417 [01:01<00:00,  6.74it/s]\n",
      "100%|██████████| 417/417 [01:02<00:00,  6.72it/s]\n",
      "100%|██████████| 417/417 [01:02<00:00,  6.72it/s]\n",
      "100%|██████████| 417/417 [01:01<00:00,  6.74it/s]\n",
      "100%|██████████| 375/375 [00:19<00:00, 19.24it/s]\n"
     ]
    },
    {
     "name": "stdout",
     "output_type": "stream",
     "text": [
      "EPOCH 8: Train acc: 99.33% Train Loss: 0.0494 Test acc: 78.91% Test Loss: 1.4420\n"
     ]
    },
    {
     "name": "stderr",
     "output_type": "stream",
     "text": [
      "100%|██████████| 417/417 [01:03<00:00,  6.59it/s]\n",
      "100%|██████████| 417/417 [01:02<00:00,  6.70it/s]\n",
      "100%|██████████| 417/417 [01:01<00:00,  6.76it/s]\n",
      "100%|██████████| 417/417 [01:01<00:00,  6.76it/s]\n",
      "100%|██████████| 417/417 [01:01<00:00,  6.74it/s]\n",
      "100%|██████████| 375/375 [00:19<00:00, 19.30it/s]\n"
     ]
    },
    {
     "name": "stdout",
     "output_type": "stream",
     "text": [
      "EPOCH 9: Train acc: 99.46% Train Loss: 0.0367 Test acc: 76.66% Test Loss: 1.5643\n"
     ]
    },
    {
     "name": "stderr",
     "output_type": "stream",
     "text": [
      "100%|██████████| 417/417 [01:03<00:00,  6.60it/s]\n",
      "100%|██████████| 417/417 [01:01<00:00,  6.73it/s]\n",
      "100%|██████████| 417/417 [01:01<00:00,  6.75it/s]\n",
      "100%|██████████| 417/417 [01:02<00:00,  6.72it/s]\n",
      "100%|██████████| 417/417 [01:01<00:00,  6.73it/s]\n",
      "100%|██████████| 375/375 [00:19<00:00, 19.28it/s]\n"
     ]
    },
    {
     "name": "stdout",
     "output_type": "stream",
     "text": [
      "EPOCH 10: Train acc: 99.52% Train Loss: 0.0334 Test acc: 78.92% Test Loss: 1.4404\n"
     ]
    },
    {
     "name": "stderr",
     "output_type": "stream",
     "text": [
      "100%|██████████| 417/417 [01:03<00:00,  6.57it/s]\n",
      "100%|██████████| 417/417 [01:01<00:00,  6.74it/s]\n",
      "100%|██████████| 417/417 [01:01<00:00,  6.82it/s]\n",
      "100%|██████████| 417/417 [01:00<00:00,  6.93it/s]\n",
      "100%|██████████| 417/417 [01:00<00:00,  6.88it/s]\n",
      "100%|██████████| 375/375 [00:19<00:00, 19.47it/s]\n"
     ]
    },
    {
     "name": "stdout",
     "output_type": "stream",
     "text": [
      "EPOCH 11: Train acc: 99.63% Train Loss: 0.0262 Test acc: 79.06% Test Loss: 1.4242\n"
     ]
    },
    {
     "name": "stderr",
     "output_type": "stream",
     "text": [
      "100%|██████████| 417/417 [01:01<00:00,  6.78it/s]\n",
      "100%|██████████| 417/417 [01:00<00:00,  6.86it/s]\n",
      "100%|██████████| 417/417 [01:00<00:00,  6.85it/s]\n",
      "100%|██████████| 417/417 [01:00<00:00,  6.87it/s]\n",
      "100%|██████████| 417/417 [01:00<00:00,  6.85it/s]\n",
      "100%|██████████| 375/375 [00:19<00:00, 19.44it/s]\n"
     ]
    },
    {
     "name": "stdout",
     "output_type": "stream",
     "text": [
      "EPOCH 12: Train acc: 99.54% Train Loss: 0.0321 Test acc: 78.49% Test Loss: 1.4920\n"
     ]
    },
    {
     "name": "stderr",
     "output_type": "stream",
     "text": [
      "100%|██████████| 417/417 [01:01<00:00,  6.78it/s]\n",
      "100%|██████████| 417/417 [01:00<00:00,  6.89it/s]\n",
      "100%|██████████| 417/417 [01:00<00:00,  6.84it/s]\n",
      "100%|██████████| 417/417 [01:00<00:00,  6.90it/s]\n",
      "100%|██████████| 417/417 [01:00<00:00,  6.91it/s]\n",
      "100%|██████████| 375/375 [00:19<00:00, 19.38it/s]\n"
     ]
    },
    {
     "name": "stdout",
     "output_type": "stream",
     "text": [
      "EPOCH 13: Train acc: 99.68% Train Loss: 0.0224 Test acc: 77.67% Test Loss: 1.5267\n"
     ]
    },
    {
     "name": "stderr",
     "output_type": "stream",
     "text": [
      "100%|██████████| 417/417 [01:01<00:00,  6.77it/s]\n",
      "100%|██████████| 417/417 [01:00<00:00,  6.88it/s]\n",
      "100%|██████████| 417/417 [01:00<00:00,  6.86it/s]\n",
      "100%|██████████| 417/417 [01:00<00:00,  6.88it/s]\n",
      "100%|██████████| 417/417 [01:00<00:00,  6.89it/s]\n",
      "100%|██████████| 375/375 [00:19<00:00, 19.42it/s]\n"
     ]
    },
    {
     "name": "stdout",
     "output_type": "stream",
     "text": [
      "EPOCH 14: Train acc: 99.70% Train Loss: 0.0214 Test acc: 78.36% Test Loss: 1.4213\n"
     ]
    },
    {
     "name": "stderr",
     "output_type": "stream",
     "text": [
      "100%|██████████| 417/417 [01:01<00:00,  6.79it/s]\n",
      "100%|██████████| 417/417 [01:00<00:00,  6.86it/s]\n",
      "100%|██████████| 417/417 [01:00<00:00,  6.86it/s]\n",
      "100%|██████████| 417/417 [01:00<00:00,  6.93it/s]\n",
      "100%|██████████| 417/417 [01:00<00:00,  6.90it/s]\n",
      "100%|██████████| 375/375 [00:19<00:00, 19.26it/s]\n"
     ]
    },
    {
     "name": "stdout",
     "output_type": "stream",
     "text": [
      "EPOCH 15: Train acc: 99.70% Train Loss: 0.0212 Test acc: 78.52% Test Loss: 1.5217\n"
     ]
    },
    {
     "name": "stderr",
     "output_type": "stream",
     "text": [
      "100%|██████████| 417/417 [01:01<00:00,  6.73it/s]\n",
      "100%|██████████| 417/417 [01:00<00:00,  6.87it/s]\n",
      "100%|██████████| 417/417 [01:00<00:00,  6.86it/s]\n",
      "100%|██████████| 417/417 [01:00<00:00,  6.87it/s]\n",
      "100%|██████████| 417/417 [01:00<00:00,  6.89it/s]\n",
      "100%|██████████| 375/375 [00:19<00:00, 19.42it/s]\n"
     ]
    },
    {
     "name": "stdout",
     "output_type": "stream",
     "text": [
      "EPOCH 16: Train acc: 99.78% Train Loss: 0.0169 Test acc: 75.82% Test Loss: 1.6315\n"
     ]
    },
    {
     "name": "stderr",
     "output_type": "stream",
     "text": [
      "100%|██████████| 417/417 [01:01<00:00,  6.78it/s]\n",
      "100%|██████████| 417/417 [01:00<00:00,  6.88it/s]\n",
      "100%|██████████| 417/417 [01:00<00:00,  6.91it/s]\n",
      "100%|██████████| 417/417 [01:00<00:00,  6.90it/s]\n",
      "100%|██████████| 417/417 [01:01<00:00,  6.79it/s]\n",
      "100%|██████████| 375/375 [00:19<00:00, 19.52it/s]\n"
     ]
    },
    {
     "name": "stdout",
     "output_type": "stream",
     "text": [
      "EPOCH 17: Train acc: 99.76% Train Loss: 0.0169 Test acc: 76.52% Test Loss: 1.5997\n"
     ]
    },
    {
     "name": "stderr",
     "output_type": "stream",
     "text": [
      "100%|██████████| 417/417 [01:02<00:00,  6.63it/s]\n",
      "100%|██████████| 417/417 [01:01<00:00,  6.74it/s]\n",
      "100%|██████████| 417/417 [01:01<00:00,  6.73it/s]\n",
      "100%|██████████| 417/417 [01:02<00:00,  6.72it/s]\n",
      "100%|██████████| 417/417 [01:01<00:00,  6.75it/s]\n",
      "100%|██████████| 375/375 [00:19<00:00, 19.43it/s]\n"
     ]
    },
    {
     "name": "stdout",
     "output_type": "stream",
     "text": [
      "EPOCH 18: Train acc: 99.80% Train Loss: 0.0163 Test acc: 75.79% Test Loss: 1.7178\n"
     ]
    },
    {
     "name": "stderr",
     "output_type": "stream",
     "text": [
      "100%|██████████| 417/417 [01:03<00:00,  6.60it/s]\n",
      "100%|██████████| 417/417 [01:01<00:00,  6.74it/s]\n",
      "100%|██████████| 417/417 [01:01<00:00,  6.74it/s]\n",
      "100%|██████████| 417/417 [01:02<00:00,  6.71it/s]\n",
      "100%|██████████| 417/417 [01:01<00:00,  6.74it/s]\n",
      "100%|██████████| 375/375 [00:19<00:00, 19.45it/s]\n"
     ]
    },
    {
     "name": "stdout",
     "output_type": "stream",
     "text": [
      "EPOCH 19: Train acc: 99.87% Train Loss: 0.0132 Test acc: 77.19% Test Loss: 1.5690\n"
     ]
    },
    {
     "name": "stderr",
     "output_type": "stream",
     "text": [
      "100%|██████████| 417/417 [01:03<00:00,  6.59it/s]\n",
      "100%|██████████| 417/417 [01:01<00:00,  6.75it/s]\n",
      "100%|██████████| 417/417 [01:01<00:00,  6.73it/s]\n",
      "100%|██████████| 417/417 [01:01<00:00,  6.74it/s]\n",
      "100%|██████████| 417/417 [01:01<00:00,  6.73it/s]\n",
      "100%|██████████| 375/375 [00:19<00:00, 19.57it/s]\n"
     ]
    },
    {
     "name": "stdout",
     "output_type": "stream",
     "text": [
      "EPOCH 20: Train acc: 99.81% Train Loss: 0.0144 Test acc: 77.27% Test Loss: 1.5835\n"
     ]
    },
    {
     "name": "stderr",
     "output_type": "stream",
     "text": [
      "100%|██████████| 417/417 [01:03<00:00,  6.59it/s]\n",
      "100%|██████████| 417/417 [01:01<00:00,  6.74it/s]\n",
      "100%|██████████| 417/417 [01:01<00:00,  6.73it/s]\n",
      "100%|██████████| 417/417 [01:02<00:00,  6.72it/s]\n",
      "100%|██████████| 417/417 [01:01<00:00,  6.74it/s]\n",
      "100%|██████████| 375/375 [00:19<00:00, 19.30it/s]\n"
     ]
    },
    {
     "name": "stdout",
     "output_type": "stream",
     "text": [
      "EPOCH 21: Train acc: 99.86% Train Loss: 0.0133 Test acc: 77.43% Test Loss: 1.5734\n"
     ]
    },
    {
     "name": "stderr",
     "output_type": "stream",
     "text": [
      "100%|██████████| 417/417 [01:02<00:00,  6.67it/s]\n",
      "100%|██████████| 417/417 [01:00<00:00,  6.84it/s]\n",
      "100%|██████████| 417/417 [01:00<00:00,  6.86it/s]\n",
      "100%|██████████| 417/417 [01:00<00:00,  6.90it/s]\n",
      "100%|██████████| 417/417 [01:01<00:00,  6.77it/s]\n",
      "100%|██████████| 375/375 [00:19<00:00, 19.64it/s]\n"
     ]
    },
    {
     "name": "stdout",
     "output_type": "stream",
     "text": [
      "EPOCH 22: Train acc: 99.88% Train Loss: 0.0105 Test acc: 77.17% Test Loss: 1.5575\n"
     ]
    },
    {
     "name": "stderr",
     "output_type": "stream",
     "text": [
      "100%|██████████| 417/417 [01:03<00:00,  6.62it/s]\n",
      "100%|██████████| 417/417 [01:01<00:00,  6.73it/s]\n",
      "100%|██████████| 417/417 [01:01<00:00,  6.73it/s]\n",
      "100%|██████████| 417/417 [01:01<00:00,  6.76it/s]\n",
      "100%|██████████| 417/417 [01:01<00:00,  6.73it/s]\n",
      "100%|██████████| 375/375 [00:19<00:00, 19.39it/s]\n"
     ]
    },
    {
     "name": "stdout",
     "output_type": "stream",
     "text": [
      "EPOCH 23: Train acc: 99.85% Train Loss: 0.0125 Test acc: 79.37% Test Loss: 1.4684\n"
     ]
    },
    {
     "name": "stderr",
     "output_type": "stream",
     "text": [
      "100%|██████████| 417/417 [01:03<00:00,  6.59it/s]\n",
      "100%|██████████| 417/417 [01:01<00:00,  6.76it/s]\n",
      "100%|██████████| 417/417 [01:01<00:00,  6.74it/s]\n",
      "100%|██████████| 417/417 [01:02<00:00,  6.72it/s]\n",
      "100%|██████████| 417/417 [01:01<00:00,  6.74it/s]\n",
      "100%|██████████| 375/375 [00:19<00:00, 19.39it/s]\n"
     ]
    },
    {
     "name": "stdout",
     "output_type": "stream",
     "text": [
      "EPOCH 24: Train acc: 99.82% Train Loss: 0.0111 Test acc: 77.52% Test Loss: 1.6037\n"
     ]
    },
    {
     "name": "stderr",
     "output_type": "stream",
     "text": [
      "100%|██████████| 417/417 [01:03<00:00,  6.59it/s]\n",
      "100%|██████████| 417/417 [01:01<00:00,  6.73it/s]\n",
      "100%|██████████| 417/417 [01:01<00:00,  6.74it/s]\n",
      "100%|██████████| 417/417 [01:02<00:00,  6.72it/s]\n",
      "100%|██████████| 417/417 [01:01<00:00,  6.73it/s]\n",
      "100%|██████████| 375/375 [00:19<00:00, 19.42it/s]\n"
     ]
    },
    {
     "name": "stdout",
     "output_type": "stream",
     "text": [
      "EPOCH 25: Train acc: 99.86% Train Loss: 0.0098 Test acc: 78.74% Test Loss: 1.5136\n"
     ]
    },
    {
     "name": "stderr",
     "output_type": "stream",
     "text": [
      "100%|██████████| 417/417 [01:03<00:00,  6.61it/s]\n",
      "100%|██████████| 417/417 [01:01<00:00,  6.75it/s]\n",
      "100%|██████████| 417/417 [01:02<00:00,  6.71it/s]\n",
      "100%|██████████| 417/417 [01:02<00:00,  6.71it/s]\n",
      "100%|██████████| 417/417 [01:01<00:00,  6.75it/s]\n",
      "100%|██████████| 375/375 [00:19<00:00, 19.29it/s]\n"
     ]
    },
    {
     "name": "stdout",
     "output_type": "stream",
     "text": [
      "EPOCH 26: Train acc: 99.85% Train Loss: 0.0128 Test acc: 77.70% Test Loss: 1.5443\n"
     ]
    },
    {
     "name": "stderr",
     "output_type": "stream",
     "text": [
      "100%|██████████| 417/417 [01:03<00:00,  6.58it/s]\n",
      "100%|██████████| 417/417 [01:01<00:00,  6.75it/s]\n",
      "100%|██████████| 417/417 [01:01<00:00,  6.74it/s]\n",
      "100%|██████████| 417/417 [01:02<00:00,  6.72it/s]\n",
      "100%|██████████| 417/417 [01:01<00:00,  6.73it/s]\n",
      "100%|██████████| 375/375 [00:19<00:00, 19.29it/s]\n"
     ]
    },
    {
     "name": "stdout",
     "output_type": "stream",
     "text": [
      "EPOCH 27: Train acc: 99.83% Train Loss: 0.0113 Test acc: 78.17% Test Loss: 1.5891\n"
     ]
    },
    {
     "name": "stderr",
     "output_type": "stream",
     "text": [
      "100%|██████████| 417/417 [01:03<00:00,  6.60it/s]\n",
      "100%|██████████| 417/417 [01:01<00:00,  6.73it/s]\n",
      "100%|██████████| 417/417 [01:01<00:00,  6.73it/s]\n",
      "100%|██████████| 417/417 [01:01<00:00,  6.73it/s]\n",
      "100%|██████████| 417/417 [01:01<00:00,  6.75it/s]\n",
      "100%|██████████| 375/375 [00:19<00:00, 19.47it/s]\n"
     ]
    },
    {
     "name": "stdout",
     "output_type": "stream",
     "text": [
      "EPOCH 28: Train acc: 99.87% Train Loss: 0.0096 Test acc: 76.78% Test Loss: 1.6204\n"
     ]
    },
    {
     "name": "stderr",
     "output_type": "stream",
     "text": [
      "100%|██████████| 417/417 [01:03<00:00,  6.58it/s]\n",
      "100%|██████████| 417/417 [01:01<00:00,  6.75it/s]\n",
      "100%|██████████| 417/417 [01:01<00:00,  6.73it/s]\n",
      "100%|██████████| 417/417 [01:02<00:00,  6.72it/s]\n",
      "100%|██████████| 417/417 [01:01<00:00,  6.75it/s]\n",
      "100%|██████████| 375/375 [00:19<00:00, 19.46it/s]\n"
     ]
    },
    {
     "name": "stdout",
     "output_type": "stream",
     "text": [
      "EPOCH 29: Train acc: 99.88% Train Loss: 0.0099 Test acc: 76.37% Test Loss: 1.6703\n"
     ]
    },
    {
     "name": "stderr",
     "output_type": "stream",
     "text": [
      "100%|██████████| 417/417 [01:03<00:00,  6.61it/s]\n",
      "100%|██████████| 417/417 [01:01<00:00,  6.73it/s]\n",
      "100%|██████████| 417/417 [01:01<00:00,  6.74it/s]\n",
      "100%|██████████| 417/417 [01:01<00:00,  6.73it/s]\n",
      "100%|██████████| 417/417 [01:01<00:00,  6.74it/s]\n",
      "100%|██████████| 375/375 [00:19<00:00, 19.29it/s]\n"
     ]
    },
    {
     "name": "stdout",
     "output_type": "stream",
     "text": [
      "EPOCH 30: Train acc: 99.78% Train Loss: 0.0124 Test acc: 77.21% Test Loss: 1.5915\n",
      "\n"
     ]
    },
    {
     "data": {
      "text/html": [
       "Waiting for W&B process to finish... <strong style=\"color:green\">(success).</strong>"
      ],
      "text/plain": [
       "<IPython.core.display.HTML object>"
      ]
     },
     "metadata": {},
     "output_type": "display_data"
    },
    {
     "data": {
      "application/vnd.jupyter.widget-view+json": {
       "model_id": "",
       "version_major": 2,
       "version_minor": 0
      },
      "text/plain": [
       "VBox(children=(Label(value='0.003 MB of 0.005 MB uploaded (0.000 MB deduped)\\r'), FloatProgress(value=0.630834…"
      ]
     },
     "metadata": {},
     "output_type": "display_data"
    },
    {
     "data": {
      "text/html": [
       "<style>\n",
       "    table.wandb td:nth-child(1) { padding: 0 10px; text-align: right }\n",
       "    .wandb-row { display: flex; flex-direction: row; flex-wrap: wrap; width: 100% }\n",
       "    .wandb-col { display: flex; flex-direction: column; flex-basis: 100%; flex: 1; padding: 10px; }\n",
       "    </style>\n",
       "<div class=\"wandb-row\"><div class=\"wandb-col\"><h3>Run history:</h3><br/><table class=\"wandb\"><tr><td>epoch</td><td>▁▁▁▂▂▂▂▃▃▃▃▄▄▄▄▅▅▅▅▆▆▆▆▇▇▇▇███</td></tr><tr><td>test/test_accuracy</td><td>▇▆▅█▅▃▅▄▂▄▄▄▃▄▄▁▂▁▂▃▃▂▅▃▄▃▄▂▂▃</td></tr><tr><td>test/test_loss</td><td>▁▁▂▁▃▄▄▄▆▄▃▅▅▃▅▇▆█▆▆▆▆▄▆▅▅▆▆▇▆</td></tr><tr><td>test_accuracy</td><td>▇▆▅█▅▃▅▄▂▄▄▄▃▄▄▁▂▁▂▃▃▂▅▃▄▃▄▂▂▃</td></tr><tr><td>train/train_accuracy</td><td>▁▅▇▇██████████████████████████</td></tr><tr><td>train/train_loss</td><td>█▄▂▂▁▁▁▁▁▁▁▁▁▁▁▁▁▁▁▁▁▁▁▁▁▁▁▁▁▁</td></tr></table><br/></div><div class=\"wandb-col\"><h3>Run summary:</h3><br/><table class=\"wandb\"><tr><td>epoch</td><td>30</td></tr><tr><td>test/test_accuracy</td><td>0.77211</td></tr><tr><td>test/test_loss</td><td>1.59155</td></tr><tr><td>test_accuracy</td><td>0.77211</td></tr><tr><td>train/train_accuracy</td><td>0.9978</td></tr><tr><td>train/train_loss</td><td>0.01236</td></tr></table><br/></div></div>"
      ],
      "text/plain": [
       "<IPython.core.display.HTML object>"
      ]
     },
     "metadata": {},
     "output_type": "display_data"
    },
    {
     "data": {
      "text/html": [
       "Synced <strong style=\"color:#cdcd00\">efficient-sweep-4</strong>: <a href=\"https://wandb.ai/leonardtd/cloud%20classification/runs/gemj7hwo\" target=\"_blank\">https://wandb.ai/leonardtd/cloud%20classification/runs/gemj7hwo</a><br/>Synced 6 W&B file(s), 1 media file(s), 1 artifact file(s) and 0 other file(s)"
      ],
      "text/plain": [
       "<IPython.core.display.HTML object>"
      ]
     },
     "metadata": {},
     "output_type": "display_data"
    },
    {
     "data": {
      "text/html": [
       "Find logs at: <code>./wandb/run-20220331_212231-gemj7hwo/logs</code>"
      ],
      "text/plain": [
       "<IPython.core.display.HTML object>"
      ]
     },
     "metadata": {},
     "output_type": "display_data"
    },
    {
     "name": "stderr",
     "output_type": "stream",
     "text": [
      "\u001b[34m\u001b[1mwandb\u001b[0m: Agent Starting Run: 77jyc002 with config:\n",
      "\u001b[34m\u001b[1mwandb\u001b[0m: \tbatch_size: 31\n",
      "\u001b[34m\u001b[1mwandb\u001b[0m: \tclasses: ['1_cumulus', '2_altocumulus', '3_cirrus', '4_clearsky', '5_stratocumulus', '6_cumulonimbus', '7_mixed']\n",
      "\u001b[34m\u001b[1mwandb\u001b[0m: \tcriterion: cross_entropy\n",
      "\u001b[34m\u001b[1mwandb\u001b[0m: \tdevice: cuda:2\n",
      "\u001b[34m\u001b[1mwandb\u001b[0m: \tepochs: 30\n",
      "\u001b[34m\u001b[1mwandb\u001b[0m: \thidden_dim: 1024\n",
      "\u001b[34m\u001b[1mwandb\u001b[0m: \tlearning_rate: 1.7352097427725687e-05\n",
      "\u001b[34m\u001b[1mwandb\u001b[0m: \tnum_heads: 4\n",
      "\u001b[34m\u001b[1mwandb\u001b[0m: \tnum_hidden: 4\n",
      "\u001b[34m\u001b[1mwandb\u001b[0m: \toptimizer: nadam\n",
      "\u001b[34m\u001b[1mwandb\u001b[0m: \tsimilarity_threshold: 0.65\n"
     ]
    },
    {
     "data": {
      "text/html": [
       "Tracking run with wandb version 0.12.11"
      ],
      "text/plain": [
       "<IPython.core.display.HTML object>"
      ]
     },
     "metadata": {},
     "output_type": "display_data"
    },
    {
     "data": {
      "text/html": [
       "Run data is saved locally in <code>/home/ltorres/leo/tesis/cloud-classification/code/wandb/run-20220401_000708-77jyc002</code>"
      ],
      "text/plain": [
       "<IPython.core.display.HTML object>"
      ]
     },
     "metadata": {},
     "output_type": "display_data"
    },
    {
     "data": {
      "text/html": [
       "Syncing run <strong><a href=\"https://wandb.ai/leonardtd/cloud%20classification/runs/77jyc002\" target=\"_blank\">colorful-sweep-5</a></strong> to <a href=\"https://wandb.ai/leonardtd/cloud%20classification\" target=\"_blank\">Weights & Biases</a> (<a href=\"https://wandb.me/run\" target=\"_blank\">docs</a>)<br/>Sweep page:  <a href=\"https://wandb.ai/leonardtd/cloud%20classification/sweeps/bwpa1fhk\" target=\"_blank\">https://wandb.ai/leonardtd/cloud%20classification/sweeps/bwpa1fhk</a>"
      ],
      "text/plain": [
       "<IPython.core.display.HTML object>"
      ]
     },
     "metadata": {},
     "output_type": "display_data"
    },
    {
     "name": "stderr",
     "output_type": "stream",
     "text": [
      "100%|██████████| 323/323 [01:02<00:00,  5.18it/s]\n",
      "100%|██████████| 323/323 [01:01<00:00,  5.28it/s]\n",
      "100%|██████████| 323/323 [01:01<00:00,  5.25it/s]\n",
      "100%|██████████| 323/323 [01:01<00:00,  5.25it/s]\n",
      "100%|██████████| 323/323 [01:01<00:00,  5.27it/s]\n",
      "100%|██████████| 291/291 [00:18<00:00, 15.91it/s]\n"
     ]
    },
    {
     "name": "stdout",
     "output_type": "stream",
     "text": [
      "EPOCH 1: Train acc: 78.36% Train Loss: 1.2450 Test acc: 82.49% Test Loss: 1.1930\n"
     ]
    },
    {
     "name": "stderr",
     "output_type": "stream",
     "text": [
      "100%|██████████| 323/323 [01:02<00:00,  5.16it/s]\n",
      "100%|██████████| 323/323 [01:01<00:00,  5.25it/s]\n",
      "100%|██████████| 323/323 [01:01<00:00,  5.25it/s]\n",
      "100%|██████████| 323/323 [01:01<00:00,  5.25it/s]\n",
      "100%|██████████| 323/323 [01:01<00:00,  5.25it/s]\n",
      "100%|██████████| 291/291 [00:18<00:00, 15.82it/s]\n"
     ]
    },
    {
     "name": "stdout",
     "output_type": "stream",
     "text": [
      "EPOCH 2: Train acc: 94.13% Train Loss: 0.3276 Test acc: 83.20% Test Loss: 1.3364\n"
     ]
    },
    {
     "name": "stderr",
     "output_type": "stream",
     "text": [
      "100%|██████████| 323/323 [01:02<00:00,  5.17it/s]\n",
      "100%|██████████| 323/323 [01:01<00:00,  5.25it/s]\n",
      "100%|██████████| 323/323 [01:01<00:00,  5.25it/s]\n",
      "100%|██████████| 323/323 [01:01<00:00,  5.25it/s]\n",
      "100%|██████████| 323/323 [01:01<00:00,  5.25it/s]\n",
      "100%|██████████| 291/291 [00:18<00:00, 15.79it/s]\n"
     ]
    },
    {
     "name": "stdout",
     "output_type": "stream",
     "text": [
      "EPOCH 3: Train acc: 97.86% Train Loss: 0.1391 Test acc: 80.89% Test Loss: 1.6608\n"
     ]
    },
    {
     "name": "stderr",
     "output_type": "stream",
     "text": [
      "100%|██████████| 323/323 [01:02<00:00,  5.15it/s]\n",
      "100%|██████████| 323/323 [01:01<00:00,  5.26it/s]\n",
      "100%|██████████| 323/323 [01:01<00:00,  5.26it/s]\n",
      "100%|██████████| 323/323 [01:01<00:00,  5.24it/s]\n",
      "100%|██████████| 323/323 [01:01<00:00,  5.25it/s]\n",
      "100%|██████████| 291/291 [00:18<00:00, 15.79it/s]\n"
     ]
    },
    {
     "name": "stdout",
     "output_type": "stream",
     "text": [
      "EPOCH 4: Train acc: 98.88% Train Loss: 0.0797 Test acc: 81.58% Test Loss: 1.6621\n"
     ]
    },
    {
     "name": "stderr",
     "output_type": "stream",
     "text": [
      "100%|██████████| 323/323 [01:02<00:00,  5.16it/s]\n",
      "100%|██████████| 323/323 [01:01<00:00,  5.25it/s]\n",
      "100%|██████████| 323/323 [01:01<00:00,  5.25it/s]\n",
      "100%|██████████| 323/323 [01:01<00:00,  5.25it/s]\n",
      "100%|██████████| 323/323 [01:01<00:00,  5.26it/s]\n",
      "100%|██████████| 291/291 [00:18<00:00, 15.82it/s]\n"
     ]
    },
    {
     "name": "stdout",
     "output_type": "stream",
     "text": [
      "EPOCH 5: Train acc: 99.30% Train Loss: 0.0551 Test acc: 80.64% Test Loss: 1.9289\n"
     ]
    },
    {
     "name": "stderr",
     "output_type": "stream",
     "text": [
      "100%|██████████| 323/323 [01:02<00:00,  5.16it/s]\n",
      "100%|██████████| 323/323 [01:01<00:00,  5.29it/s]\n",
      "100%|██████████| 323/323 [01:00<00:00,  5.31it/s]\n",
      "100%|██████████| 323/323 [01:01<00:00,  5.27it/s]\n",
      "100%|██████████| 323/323 [01:01<00:00,  5.24it/s]\n",
      "100%|██████████| 291/291 [00:18<00:00, 15.87it/s]\n"
     ]
    },
    {
     "name": "stdout",
     "output_type": "stream",
     "text": [
      "EPOCH 6: Train acc: 99.49% Train Loss: 0.0390 Test acc: 77.36% Test Loss: 2.0479\n"
     ]
    },
    {
     "name": "stderr",
     "output_type": "stream",
     "text": [
      "100%|██████████| 323/323 [01:02<00:00,  5.20it/s]\n",
      "100%|██████████| 323/323 [01:00<00:00,  5.30it/s]\n",
      "100%|██████████| 323/323 [01:01<00:00,  5.27it/s]\n",
      "100%|██████████| 323/323 [01:01<00:00,  5.24it/s]\n",
      "100%|██████████| 323/323 [01:01<00:00,  5.26it/s]\n",
      "100%|██████████| 291/291 [00:18<00:00, 15.96it/s]\n"
     ]
    },
    {
     "name": "stdout",
     "output_type": "stream",
     "text": [
      "EPOCH 7: Train acc: 99.65% Train Loss: 0.0309 Test acc: 79.89% Test Loss: 1.8187\n"
     ]
    },
    {
     "name": "stderr",
     "output_type": "stream",
     "text": [
      "100%|██████████| 323/323 [01:02<00:00,  5.16it/s]\n",
      "100%|██████████| 323/323 [01:01<00:00,  5.25it/s]\n",
      "100%|██████████| 323/323 [01:01<00:00,  5.25it/s]\n",
      "100%|██████████| 323/323 [01:01<00:00,  5.25it/s]\n",
      "100%|██████████| 323/323 [01:01<00:00,  5.24it/s]\n",
      "100%|██████████| 291/291 [00:18<00:00, 15.86it/s]\n"
     ]
    },
    {
     "name": "stdout",
     "output_type": "stream",
     "text": [
      "EPOCH 8: Train acc: 99.78% Train Loss: 0.0245 Test acc: 77.98% Test Loss: 2.1330\n"
     ]
    },
    {
     "name": "stderr",
     "output_type": "stream",
     "text": [
      "100%|██████████| 323/323 [01:02<00:00,  5.16it/s]\n",
      "100%|██████████| 323/323 [01:01<00:00,  5.25it/s]\n",
      "100%|██████████| 323/323 [01:01<00:00,  5.25it/s]\n",
      "100%|██████████| 323/323 [01:01<00:00,  5.25it/s]\n",
      "100%|██████████| 323/323 [01:01<00:00,  5.26it/s]\n",
      "100%|██████████| 291/291 [00:18<00:00, 15.72it/s]\n"
     ]
    },
    {
     "name": "stdout",
     "output_type": "stream",
     "text": [
      "EPOCH 9: Train acc: 99.71% Train Loss: 0.0238 Test acc: 78.80% Test Loss: 2.3369\n"
     ]
    },
    {
     "name": "stderr",
     "output_type": "stream",
     "text": [
      "100%|██████████| 323/323 [01:02<00:00,  5.15it/s]\n",
      "100%|██████████| 323/323 [01:01<00:00,  5.25it/s]\n",
      "100%|██████████| 323/323 [01:01<00:00,  5.25it/s]\n",
      "100%|██████████| 323/323 [01:01<00:00,  5.24it/s]\n",
      "100%|██████████| 323/323 [01:01<00:00,  5.25it/s]\n",
      "100%|██████████| 291/291 [00:18<00:00, 15.84it/s]\n"
     ]
    },
    {
     "name": "stdout",
     "output_type": "stream",
     "text": [
      "EPOCH 10: Train acc: 99.72% Train Loss: 0.0224 Test acc: 78.67% Test Loss: 2.1632\n"
     ]
    },
    {
     "name": "stderr",
     "output_type": "stream",
     "text": [
      "100%|██████████| 323/323 [01:02<00:00,  5.16it/s]\n",
      "100%|██████████| 323/323 [01:01<00:00,  5.26it/s]\n",
      "100%|██████████| 323/323 [01:01<00:00,  5.24it/s]\n",
      "100%|██████████| 323/323 [01:01<00:00,  5.25it/s]\n",
      "100%|██████████| 323/323 [01:01<00:00,  5.25it/s]\n",
      "100%|██████████| 291/291 [00:18<00:00, 15.88it/s]\n"
     ]
    },
    {
     "name": "stdout",
     "output_type": "stream",
     "text": [
      "EPOCH 11: Train acc: 99.86% Train Loss: 0.0156 Test acc: 78.47% Test Loss: 2.2644\n"
     ]
    },
    {
     "name": "stderr",
     "output_type": "stream",
     "text": [
      "100%|██████████| 323/323 [01:02<00:00,  5.14it/s]\n",
      "100%|██████████| 323/323 [01:01<00:00,  5.25it/s]\n",
      "100%|██████████| 323/323 [01:01<00:00,  5.25it/s]\n",
      "100%|██████████| 323/323 [01:01<00:00,  5.25it/s]\n",
      "100%|██████████| 323/323 [01:01<00:00,  5.26it/s]\n",
      "100%|██████████| 291/291 [00:18<00:00, 15.72it/s]\n"
     ]
    },
    {
     "name": "stdout",
     "output_type": "stream",
     "text": [
      "EPOCH 12: Train acc: 99.83% Train Loss: 0.0162 Test acc: 76.79% Test Loss: 2.3977\n"
     ]
    },
    {
     "name": "stderr",
     "output_type": "stream",
     "text": [
      "100%|██████████| 323/323 [01:02<00:00,  5.15it/s]\n",
      "100%|██████████| 323/323 [01:01<00:00,  5.25it/s]\n",
      "100%|██████████| 323/323 [01:01<00:00,  5.24it/s]\n",
      "100%|██████████| 323/323 [01:01<00:00,  5.25it/s]\n",
      "100%|██████████| 323/323 [01:01<00:00,  5.26it/s]\n",
      "100%|██████████| 291/291 [00:18<00:00, 15.80it/s]\n"
     ]
    },
    {
     "name": "stdout",
     "output_type": "stream",
     "text": [
      "EPOCH 13: Train acc: 99.86% Train Loss: 0.0145 Test acc: 80.33% Test Loss: 2.1064\n"
     ]
    },
    {
     "name": "stderr",
     "output_type": "stream",
     "text": [
      "100%|██████████| 323/323 [01:02<00:00,  5.16it/s]\n",
      "100%|██████████| 323/323 [01:01<00:00,  5.25it/s]\n",
      "100%|██████████| 323/323 [01:01<00:00,  5.25it/s]\n",
      "100%|██████████| 323/323 [01:01<00:00,  5.24it/s]\n",
      "100%|██████████| 323/323 [01:01<00:00,  5.24it/s]\n",
      "100%|██████████| 291/291 [00:18<00:00, 15.73it/s]\n"
     ]
    },
    {
     "name": "stdout",
     "output_type": "stream",
     "text": [
      "EPOCH 14: Train acc: 99.85% Train Loss: 0.0127 Test acc: 78.72% Test Loss: 2.1336\n"
     ]
    },
    {
     "name": "stderr",
     "output_type": "stream",
     "text": [
      "100%|██████████| 323/323 [01:02<00:00,  5.16it/s]\n",
      "100%|██████████| 323/323 [01:01<00:00,  5.25it/s]\n",
      "100%|██████████| 323/323 [01:01<00:00,  5.25it/s]\n",
      "100%|██████████| 323/323 [01:01<00:00,  5.24it/s]\n",
      "100%|██████████| 323/323 [01:01<00:00,  5.25it/s]\n",
      "100%|██████████| 291/291 [00:18<00:00, 15.76it/s]\n"
     ]
    },
    {
     "name": "stdout",
     "output_type": "stream",
     "text": [
      "EPOCH 15: Train acc: 99.88% Train Loss: 0.0119 Test acc: 78.17% Test Loss: 2.3524\n"
     ]
    },
    {
     "name": "stderr",
     "output_type": "stream",
     "text": [
      "100%|██████████| 323/323 [01:02<00:00,  5.15it/s]\n",
      "100%|██████████| 323/323 [01:01<00:00,  5.25it/s]\n",
      "100%|██████████| 323/323 [01:01<00:00,  5.25it/s]\n",
      "100%|██████████| 323/323 [01:01<00:00,  5.24it/s]\n",
      "100%|██████████| 323/323 [01:01<00:00,  5.25it/s]\n",
      "100%|██████████| 291/291 [00:18<00:00, 15.90it/s]\n"
     ]
    },
    {
     "name": "stdout",
     "output_type": "stream",
     "text": [
      "EPOCH 16: Train acc: 99.91% Train Loss: 0.0087 Test acc: 78.99% Test Loss: 2.4192\n"
     ]
    },
    {
     "name": "stderr",
     "output_type": "stream",
     "text": [
      "100%|██████████| 323/323 [01:02<00:00,  5.16it/s]\n",
      "100%|██████████| 323/323 [01:01<00:00,  5.26it/s]\n",
      "100%|██████████| 323/323 [01:01<00:00,  5.25it/s]\n",
      "100%|██████████| 323/323 [01:01<00:00,  5.24it/s]\n",
      "100%|██████████| 323/323 [01:01<00:00,  5.25it/s]\n",
      "100%|██████████| 291/291 [00:18<00:00, 15.79it/s]\n"
     ]
    },
    {
     "name": "stdout",
     "output_type": "stream",
     "text": [
      "EPOCH 17: Train acc: 99.88% Train Loss: 0.0111 Test acc: 78.08% Test Loss: 2.4416\n"
     ]
    },
    {
     "name": "stderr",
     "output_type": "stream",
     "text": [
      "100%|██████████| 323/323 [01:02<00:00,  5.16it/s]\n",
      "100%|██████████| 323/323 [01:01<00:00,  5.25it/s]\n",
      "100%|██████████| 323/323 [01:01<00:00,  5.25it/s]\n",
      "100%|██████████| 323/323 [01:01<00:00,  5.24it/s]\n",
      "100%|██████████| 323/323 [01:01<00:00,  5.25it/s]\n",
      "100%|██████████| 291/291 [00:18<00:00, 15.83it/s]\n"
     ]
    },
    {
     "name": "stdout",
     "output_type": "stream",
     "text": [
      "EPOCH 18: Train acc: 99.93% Train Loss: 0.0081 Test acc: 77.12% Test Loss: 2.3936\n"
     ]
    },
    {
     "name": "stderr",
     "output_type": "stream",
     "text": [
      "100%|██████████| 323/323 [01:02<00:00,  5.16it/s]\n",
      "100%|██████████| 323/323 [01:01<00:00,  5.24it/s]\n",
      "100%|██████████| 323/323 [01:01<00:00,  5.25it/s]\n",
      "100%|██████████| 323/323 [01:01<00:00,  5.24it/s]\n",
      "100%|██████████| 323/323 [01:01<00:00,  5.25it/s]\n",
      "100%|██████████| 291/291 [00:18<00:00, 15.92it/s]\n"
     ]
    },
    {
     "name": "stdout",
     "output_type": "stream",
     "text": [
      "EPOCH 19: Train acc: 99.86% Train Loss: 0.0118 Test acc: 77.96% Test Loss: 2.4676\n"
     ]
    },
    {
     "name": "stderr",
     "output_type": "stream",
     "text": [
      "100%|██████████| 323/323 [01:02<00:00,  5.16it/s]\n",
      "100%|██████████| 323/323 [01:01<00:00,  5.25it/s]\n",
      "100%|██████████| 323/323 [01:01<00:00,  5.24it/s]\n",
      "100%|██████████| 323/323 [01:01<00:00,  5.25it/s]\n",
      "100%|██████████| 323/323 [01:01<00:00,  5.24it/s]\n",
      "100%|██████████| 291/291 [00:18<00:00, 15.65it/s]\n"
     ]
    },
    {
     "name": "stdout",
     "output_type": "stream",
     "text": [
      "EPOCH 20: Train acc: 99.86% Train Loss: 0.0106 Test acc: 77.99% Test Loss: 2.4931\n"
     ]
    },
    {
     "name": "stderr",
     "output_type": "stream",
     "text": [
      "100%|██████████| 323/323 [01:02<00:00,  5.16it/s]\n",
      "100%|██████████| 323/323 [01:01<00:00,  5.24it/s]\n",
      "100%|██████████| 323/323 [01:01<00:00,  5.25it/s]\n",
      "100%|██████████| 323/323 [01:01<00:00,  5.25it/s]\n",
      "100%|██████████| 323/323 [01:01<00:00,  5.25it/s]\n",
      "100%|██████████| 291/291 [00:18<00:00, 15.89it/s]\n"
     ]
    },
    {
     "name": "stdout",
     "output_type": "stream",
     "text": [
      "EPOCH 21: Train acc: 99.89% Train Loss: 0.0093 Test acc: 77.46% Test Loss: 2.3892\n"
     ]
    },
    {
     "name": "stderr",
     "output_type": "stream",
     "text": [
      "100%|██████████| 323/323 [01:02<00:00,  5.16it/s]\n",
      "100%|██████████| 323/323 [01:01<00:00,  5.25it/s]\n",
      "100%|██████████| 323/323 [01:01<00:00,  5.26it/s]\n",
      "100%|██████████| 323/323 [01:01<00:00,  5.24it/s]\n",
      "100%|██████████| 323/323 [01:01<00:00,  5.26it/s]\n",
      "100%|██████████| 291/291 [00:18<00:00, 15.87it/s]\n"
     ]
    },
    {
     "name": "stdout",
     "output_type": "stream",
     "text": [
      "EPOCH 22: Train acc: 99.93% Train Loss: 0.0080 Test acc: 78.77% Test Loss: 2.3397\n"
     ]
    },
    {
     "name": "stderr",
     "output_type": "stream",
     "text": [
      " 85%|████████▌ | 276/323 [00:53<00:09,  5.19it/s]"
     ]
    }
   ],
   "source": [
    "wandb.agent(sweep_id, train, count=10)"
   ]
  },
  {
   "cell_type": "code",
   "execution_count": null,
   "id": "206bc4fc-52b1-48f2-b269-2bb28cab40db",
   "metadata": {},
   "outputs": [],
   "source": []
  }
 ],
 "metadata": {
  "kernelspec": {
   "display_name": "Python 3",
   "language": "python",
   "name": "python3"
  },
  "language_info": {
   "codemirror_mode": {
    "name": "ipython",
    "version": 3
   },
   "file_extension": ".py",
   "mimetype": "text/x-python",
   "name": "python",
   "nbconvert_exporter": "python",
   "pygments_lexer": "ipython3",
   "version": "3.9.7"
  }
 },
 "nbformat": 4,
 "nbformat_minor": 5
}
