{
 "cells": [
  {
   "cell_type": "code",
   "execution_count": 1,
   "id": "e77ccc5d-e07e-406a-aac0-a8ae99ffedae",
   "metadata": {},
   "outputs": [
    {
     "name": "stdout",
     "output_type": "stream",
     "text": [
      "/home/ltorres/leo/tesis/cloud-classification/code\n"
     ]
    }
   ],
   "source": [
    "%cd .."
   ]
  },
  {
   "cell_type": "code",
   "execution_count": 2,
   "id": "df066a8e-ed76-4b62-b9be-b3e8e3379b8b",
   "metadata": {},
   "outputs": [],
   "source": [
    "%load_ext autoreload\n",
    "%autoreload 2"
   ]
  },
  {
   "cell_type": "code",
   "execution_count": 3,
   "id": "2269032f-7a40-428d-85ca-62af9f156370",
   "metadata": {},
   "outputs": [],
   "source": [
    "device = 'cuda:3'"
   ]
  },
  {
   "cell_type": "code",
   "execution_count": 4,
   "id": "36811c7d-0c3b-4845-a702-4de962035cb9",
   "metadata": {},
   "outputs": [],
   "source": [
    "from torchvision.io import read_image\n",
    "import glob\n",
    "import os\n",
    "import numpy as np\n",
    "import pandas as pd\n",
    "import matplotlib.pyplot as plt\n",
    "import seaborn as sns\n",
    "from sklearn import preprocessing\n",
    "from sklearn.model_selection import train_test_split\n",
    "\n",
    "from random import sample\n",
    "import torch\n",
    "import torch.nn as nn"
   ]
  },
  {
   "cell_type": "code",
   "execution_count": 5,
   "id": "a2cfa629-84c4-45ab-84ff-f8a4bdeacf75",
   "metadata": {},
   "outputs": [],
   "source": [
    "from src.dataset import CCSN\n",
    "from src import config\n",
    "from src import engine\n",
    "from src import utils\n",
    "\n",
    "from src.models.conv_nets import ResNet50"
   ]
  },
  {
   "cell_type": "code",
   "execution_count": 6,
   "id": "d4e1acb2-496d-45e5-9e66-92dda51e7888",
   "metadata": {},
   "outputs": [],
   "source": [
    "from sklearn.metrics import accuracy_score"
   ]
  },
  {
   "cell_type": "markdown",
   "id": "0261f5e1-e6d9-453a-8d44-8f3202368c9f",
   "metadata": {},
   "source": [
    "#### Data loaders"
   ]
  },
  {
   "cell_type": "code",
   "execution_count": 7,
   "id": "38fde725-5100-4b57-903f-161c66a03b16",
   "metadata": {},
   "outputs": [],
   "source": [
    "path_images = utils.get_ccsn_paths(config.DATA_DIR)"
   ]
  },
  {
   "cell_type": "code",
   "execution_count": 8,
   "id": "d0dd9a46-a601-45d7-9ac5-348488999455",
   "metadata": {},
   "outputs": [],
   "source": [
    "targets = utils.get_targets_ccsn(path_images)"
   ]
  },
  {
   "cell_type": "code",
   "execution_count": 9,
   "id": "c4900e3a-75b5-4411-8fea-cda9b51063ca",
   "metadata": {},
   "outputs": [],
   "source": [
    "le = preprocessing.LabelEncoder()\n",
    "encoded_targets = le.fit_transform(targets)"
   ]
  },
  {
   "cell_type": "code",
   "execution_count": 10,
   "id": "c2eb85f5-da16-4c28-88a9-16e63f45a2ff",
   "metadata": {},
   "outputs": [],
   "source": [
    "dataset = pd.DataFrame(data={'image_paths': path_images, 'target':encoded_targets})"
   ]
  },
  {
   "cell_type": "code",
   "execution_count": 11,
   "id": "43321dcd-1595-4b5f-b1d1-9965d106542c",
   "metadata": {},
   "outputs": [],
   "source": [
    "df_train, df_test = train_test_split(dataset, stratify=dataset.target.values, test_size=0.1)"
   ]
  },
  {
   "cell_type": "code",
   "execution_count": 12,
   "id": "1dc3d187-e1f5-41ed-8d82-7c96fb57abdf",
   "metadata": {},
   "outputs": [],
   "source": [
    "train_dataset = CCSN(df_train.image_paths.values, df_train.target.values, resize=256)\n",
    "\n",
    "train_loader = torch.utils.data.DataLoader(\n",
    "        train_dataset,\n",
    "        batch_size=config.BATCH_SIZE,\n",
    "        num_workers=4,\n",
    "        shuffle=True,\n",
    "    )"
   ]
  },
  {
   "cell_type": "code",
   "execution_count": 13,
   "id": "e6dde255-d33b-4843-a0dd-b95272ad6a35",
   "metadata": {},
   "outputs": [],
   "source": [
    "test_dataset = CCSN(df_test.image_paths.values, df_test.target.values, resize=256)\n",
    "\n",
    "test_loader = torch.utils.data.DataLoader(\n",
    "        test_dataset,\n",
    "        batch_size=config.BATCH_SIZE,\n",
    "        num_workers=4,\n",
    "        shuffle=False,\n",
    "    )"
   ]
  },
  {
   "cell_type": "markdown",
   "id": "b600c484-fc76-4d47-bf2e-e7826ca1dc04",
   "metadata": {},
   "source": [
    "### Data augmentation data loaders"
   ]
  },
  {
   "cell_type": "code",
   "execution_count": 14,
   "id": "f0ed9cf9-7b4c-4378-8732-9c397fe3bc45",
   "metadata": {},
   "outputs": [],
   "source": [
    "df_sample = df_train.sample(frac=0.5)\n",
    "augmentation_datasets = [\n",
    "    CCSN(df_sample.image_paths.values, df_sample.target.values, resize=256, aug_types= atype)\n",
    "    for atype in config.AUGMENTATION_TYPES\n",
    "    ]"
   ]
  },
  {
   "cell_type": "code",
   "execution_count": 15,
   "id": "a0127b64-0ac5-4560-aec2-2785cc50f5bd",
   "metadata": {},
   "outputs": [],
   "source": [
    "augmentation_loaders = [\n",
    "    torch.utils.data.DataLoader(\n",
    "            aug_dataset,\n",
    "            batch_size=config.BATCH_SIZE,\n",
    "            num_workers=4,\n",
    "            shuffle=True,\n",
    "        )\n",
    "for aug_dataset in augmentation_datasets\n",
    "]"
   ]
  },
  {
   "cell_type": "markdown",
   "id": "95707389-de47-4914-8b87-edc394cb4202",
   "metadata": {},
   "source": [
    "#### Model"
   ]
  },
  {
   "cell_type": "code",
   "execution_count": 16,
   "id": "b0757e6e-31f1-461a-a21d-496f7f98bcff",
   "metadata": {},
   "outputs": [],
   "source": [
    "from torchvision import models"
   ]
  },
  {
   "cell_type": "code",
   "execution_count": 17,
   "id": "4b3e7ae9-681e-4806-85d9-c9b37164da11",
   "metadata": {},
   "outputs": [],
   "source": [
    "torch.cuda.empty_cache()"
   ]
  },
  {
   "cell_type": "code",
   "execution_count": 18,
   "id": "afe7e632-6f51-4ae5-ab71-bae05960cf78",
   "metadata": {},
   "outputs": [],
   "source": [
    "num_classes = dataset.target.nunique()\n",
    "model = ResNet50(num_classes).to(device)"
   ]
  },
  {
   "cell_type": "code",
   "execution_count": 22,
   "id": "19f68d2a-96ac-4801-ba11-9614058a98ea",
   "metadata": {},
   "outputs": [],
   "source": [
    "criterion = nn.CrossEntropyLoss()\n",
    "optimizer = optimizer = torch.optim.SGD(model.parameters(), lr=3e-3)"
   ]
  },
  {
   "cell_type": "code",
   "execution_count": 33,
   "id": "52819030-77e0-4312-b0c6-b786da2fc2f8",
   "metadata": {},
   "outputs": [
    {
     "name": "stderr",
     "output_type": "stream",
     "text": [
      "100%|██████████| 36/36 [00:12<00:00,  2.95it/s]\n",
      "100%|██████████| 4/4 [00:01<00:00,  3.70it/s]\n"
     ]
    },
    {
     "name": "stdout",
     "output_type": "stream",
     "text": [
      "EPOCH 1: Train acc: 97.47% Train Loss: 0.0990 Test acc: 50.59% Test Loss: 1.7447\n"
     ]
    },
    {
     "name": "stderr",
     "output_type": "stream",
     "text": [
      "100%|██████████| 36/36 [00:12<00:00,  2.93it/s]\n",
      "100%|██████████| 4/4 [00:01<00:00,  3.70it/s]\n"
     ]
    },
    {
     "name": "stdout",
     "output_type": "stream",
     "text": [
      "EPOCH 2: Train acc: 97.38% Train Loss: 0.0932 Test acc: 50.98% Test Loss: 1.7822\n"
     ]
    },
    {
     "name": "stderr",
     "output_type": "stream",
     "text": [
      "100%|██████████| 36/36 [00:12<00:00,  2.91it/s]\n",
      "100%|██████████| 4/4 [00:01<00:00,  3.69it/s]\n"
     ]
    },
    {
     "name": "stdout",
     "output_type": "stream",
     "text": [
      "EPOCH 3: Train acc: 97.95% Train Loss: 0.0869 Test acc: 49.41% Test Loss: 1.7951\n"
     ]
    },
    {
     "name": "stderr",
     "output_type": "stream",
     "text": [
      "100%|██████████| 36/36 [00:12<00:00,  2.91it/s]\n",
      "100%|██████████| 4/4 [00:01<00:00,  3.58it/s]\n"
     ]
    },
    {
     "name": "stdout",
     "output_type": "stream",
     "text": [
      "EPOCH 4: Train acc: 97.55% Train Loss: 0.0862 Test acc: 51.76% Test Loss: 1.7980\n"
     ]
    },
    {
     "name": "stderr",
     "output_type": "stream",
     "text": [
      "100%|██████████| 36/36 [00:12<00:00,  2.90it/s]\n",
      "100%|██████████| 4/4 [00:01<00:00,  3.43it/s]\n"
     ]
    },
    {
     "name": "stdout",
     "output_type": "stream",
     "text": [
      "EPOCH 5: Train acc: 97.73% Train Loss: 0.0785 Test acc: 49.02% Test Loss: 1.8094\n"
     ]
    },
    {
     "name": "stderr",
     "output_type": "stream",
     "text": [
      "100%|██████████| 36/36 [00:12<00:00,  2.88it/s]\n",
      "100%|██████████| 4/4 [00:01<00:00,  3.67it/s]\n"
     ]
    },
    {
     "name": "stdout",
     "output_type": "stream",
     "text": [
      "EPOCH 6: Train acc: 97.86% Train Loss: 0.0722 Test acc: 50.59% Test Loss: 1.8322\n"
     ]
    },
    {
     "name": "stderr",
     "output_type": "stream",
     "text": [
      "100%|██████████| 36/36 [00:12<00:00,  2.91it/s]\n",
      "100%|██████████| 4/4 [00:01<00:00,  3.63it/s]\n"
     ]
    },
    {
     "name": "stdout",
     "output_type": "stream",
     "text": [
      "EPOCH 7: Train acc: 98.16% Train Loss: 0.0686 Test acc: 50.59% Test Loss: 1.8619\n"
     ]
    },
    {
     "name": "stderr",
     "output_type": "stream",
     "text": [
      "100%|██████████| 36/36 [00:12<00:00,  2.91it/s]\n",
      "100%|██████████| 4/4 [00:01<00:00,  3.64it/s]\n"
     ]
    },
    {
     "name": "stdout",
     "output_type": "stream",
     "text": [
      "EPOCH 8: Train acc: 98.12% Train Loss: 0.0659 Test acc: 50.20% Test Loss: 1.8551\n"
     ]
    },
    {
     "name": "stderr",
     "output_type": "stream",
     "text": [
      "100%|██████████| 36/36 [00:12<00:00,  2.91it/s]\n",
      "100%|██████████| 4/4 [00:01<00:00,  3.65it/s]\n"
     ]
    },
    {
     "name": "stdout",
     "output_type": "stream",
     "text": [
      "EPOCH 9: Train acc: 98.43% Train Loss: 0.0598 Test acc: 50.20% Test Loss: 1.8743\n"
     ]
    },
    {
     "name": "stderr",
     "output_type": "stream",
     "text": [
      "100%|██████████| 36/36 [00:12<00:00,  2.90it/s]\n",
      "100%|██████████| 4/4 [00:01<00:00,  3.72it/s]"
     ]
    },
    {
     "name": "stdout",
     "output_type": "stream",
     "text": [
      "EPOCH 10: Train acc: 98.30% Train Loss: 0.0628 Test acc: 51.37% Test Loss: 1.8782\n"
     ]
    },
    {
     "name": "stderr",
     "output_type": "stream",
     "text": [
      "\n"
     ]
    }
   ],
   "source": [
    "for e in range(config.EPOCHS):\n",
    "    ### TRAIN DATASET\n",
    "    preds, targets, loss = engine.train_fn(model, train_loader, criterion, optimizer, device=device)\n",
    "    train_acc = accuracy_score(targets, preds)\n",
    "    \n",
    "    ### AUGMENTATION IMAGES\n",
    "    # for _loader in augmentation_loaders:\n",
    "    #     engine.forward_backward_pass(model, _loader, criterion, optimizer, device=device)\n",
    "    \n",
    "    test_preds, test_targets, test_loss = engine.eval_fn(model, test_loader, criterion, device=device)\n",
    "    test_acc = accuracy_score(test_targets, test_preds)\n",
    "    print(\"EPOCH {}: Train acc: {:.2%} Train Loss: {:.4f} Test acc: {:.2%} Test Loss: {:.4f}\".format(\n",
    "        e+1,\n",
    "        train_acc,\n",
    "        loss,\n",
    "        test_acc,\n",
    "        test_loss\n",
    "    ))\n"
   ]
  },
  {
   "cell_type": "code",
   "execution_count": 31,
   "id": "c49d971c-7e97-4326-b1ec-dffb96e89baa",
   "metadata": {},
   "outputs": [
    {
     "name": "stderr",
     "output_type": "stream",
     "text": [
      "100%|██████████| 4/4 [00:01<00:00,  3.58it/s]\n"
     ]
    }
   ],
   "source": [
    "test_preds, test_targets, test_loss = engine.eval_fn(model, test_loader, criterion, device=device)"
   ]
  },
  {
   "cell_type": "code",
   "execution_count": 34,
   "id": "3caf4e20-e50a-49bf-9308-71969545dc1b",
   "metadata": {},
   "outputs": [
    {
     "data": {
      "text/plain": [
       "0.5137254901960784"
      ]
     },
     "execution_count": 34,
     "metadata": {},
     "output_type": "execute_result"
    }
   ],
   "source": [
    "accuracy_score(test_targets, test_preds)"
   ]
  },
  {
   "cell_type": "code",
   "execution_count": 35,
   "id": "63900a4d-0fda-417f-9ed0-e471005c65c4",
   "metadata": {},
   "outputs": [],
   "source": [
    "torch.save(model.state_dict(), config.SAVE_PATH+'/ccsn_resnet/model_params_25_03_22.pt')"
   ]
  },
  {
   "cell_type": "markdown",
   "id": "23545e85-0d80-4361-8517-17f059952909",
   "metadata": {},
   "source": [
    "---"
   ]
  },
  {
   "cell_type": "markdown",
   "id": "abb58d00-a42c-48e2-88b4-fd4640f4c90d",
   "metadata": {},
   "source": [
    "### Accuracy per class and confusion matrix"
   ]
  },
  {
   "cell_type": "code",
   "execution_count": 36,
   "id": "27dda4e5-665b-4cf0-b6c1-0fd1be50c33e",
   "metadata": {},
   "outputs": [],
   "source": [
    "class_acc = dict()\n",
    "matrix = np.zeros((num_classes,num_classes), dtype=int)\n",
    "\n",
    "for i in range(num_classes):\n",
    "    pred_index = np.where(test_targets==i)[0]\n",
    "    class_acc[le.inverse_transform([i])[0]] = accuracy_score(test_targets[pred_index], test_preds[pred_index])\n",
    "    \n",
    "    for j in test_preds[pred_index]:\n",
    "        matrix[i,j]+=1 "
   ]
  },
  {
   "cell_type": "code",
   "execution_count": 37,
   "id": "0ffd6bfa-6949-4775-ab5b-c0746bfa8a64",
   "metadata": {},
   "outputs": [
    {
     "data": {
      "text/plain": [
       "'St'"
      ]
     },
     "execution_count": 37,
     "metadata": {},
     "output_type": "execute_result"
    }
   ],
   "source": [
    "le.inverse_transform([i])[0]"
   ]
  },
  {
   "cell_type": "code",
   "execution_count": 38,
   "id": "9e70f591-6821-40d9-aca6-b91e80ae1eb0",
   "metadata": {},
   "outputs": [
    {
     "data": {
      "text/plain": [
       "<AxesSubplot:title={'center':'Confusion Matrix (Accuracy %)'}>"
      ]
     },
     "execution_count": 38,
     "metadata": {},
     "output_type": "execute_result"
    },
    {
     "data": {
      "image/png": "[encoded data removed]",
      "text/plain": [
       "<Figure size 576x360 with 2 Axes>"
      ]
     },
     "metadata": {
      "needs_background": "light"
     },
     "output_type": "display_data"
    }
   ],
   "source": [
    "sum_of_rows = matrix.sum(axis=1)\n",
    "conf_mat = 100*matrix / sum_of_rows[:, np.newaxis]\n",
    "\n",
    "df_cm = pd.DataFrame(conf_mat, index = class_acc.keys(),\n",
    "                  columns = class_acc.keys())\n",
    "\n",
    "plt.figure(figsize = (8,5))\n",
    "plt.title(\"Confusion Matrix (Accuracy %)\")\n",
    "sns.heatmap(df_cm, annot=True)"
   ]
  },
  {
   "cell_type": "code",
   "execution_count": null,
   "id": "58d120b4-789f-4261-ac93-226d20b2289c",
   "metadata": {},
   "outputs": [],
   "source": []
  },
  {
   "cell_type": "code",
   "execution_count": null,
   "id": "2837b546-e68b-4d80-8971-e4c90f9716d7",
   "metadata": {},
   "outputs": [],
   "source": []
  }
 ],
 "metadata": {
  "kernelspec": {
   "display_name": "Python 3",
   "language": "python",
   "name": "python3"
  },
  "language_info": {
   "codemirror_mode": {
    "name": "ipython",
    "version": 3
   },
   "file_extension": ".py",
   "mimetype": "text/x-python",
   "name": "python",
   "nbconvert_exporter": "python",
   "pygments_lexer": "ipython3",
   "version": "3.9.7"
  }
 },
 "nbformat": 4,
 "nbformat_minor": 5
}
